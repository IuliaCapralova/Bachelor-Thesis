{
 "cells": [
  {
   "cell_type": "code",
   "execution_count": 8,
   "metadata": {},
   "outputs": [],
   "source": [
    "import os\n",
    "from shapely import wkt\n",
    "import pandas as pd\n",
    "import geopandas as gpd\n",
    "import json"
   ]
  },
  {
   "cell_type": "code",
   "execution_count": 17,
   "metadata": {},
   "outputs": [],
   "source": [
    "json_path = \"/Users/Administrator/Documents/University/Year 3/2b/Thesis/Bachelor-Thesis/data/raw/Elevation/kaartbladindex.json\"\n",
    "\n",
    "nitrate_dir = \"/Users/Administrator/Documents/University/Year 3/2b/Thesis/Bachelor-Thesis/data/clean/well_chem_data/for_Alignment/utrecht_well_chem_combined_1.csv\"\n",
    "nitrate_df = pd.read_csv(nitrate_dir, parse_dates=['Date'])"
   ]
  },
  {
   "cell_type": "code",
   "execution_count": 18,
   "metadata": {},
   "outputs": [],
   "source": [
    "nitrate_df['geometry'] = nitrate_df['geometry'].apply(wkt.loads)\n",
    "nitrate_gdf = gpd.GeoDataFrame(nitrate_df, geometry='geometry', crs=\"EPSG:4326\")"
   ]
  },
  {
   "cell_type": "code",
   "execution_count": 19,
   "metadata": {},
   "outputs": [
    {
     "name": "stdout",
     "output_type": "stream",
     "text": [
      "            name                                                url\n",
      "699  M_31HN2.tif  https://service.pdok.nl/rws/ahn/atom/downloads...\n",
      "702  M_32AZ2.tif  https://service.pdok.nl/rws/ahn/atom/downloads...\n",
      "703  M_32CN2.tif  https://service.pdok.nl/rws/ahn/atom/downloads...\n",
      "708  M_32AN2.tif  https://service.pdok.nl/rws/ahn/atom/downloads...\n",
      "710  M_32BZ1.tif  https://service.pdok.nl/rws/ahn/atom/downloads...\n",
      "711  M_32CZ1.tif  https://service.pdok.nl/rws/ahn/atom/downloads...\n",
      "712  M_32DZ2.tif  https://service.pdok.nl/rws/ahn/atom/downloads...\n",
      "713  M_32DN1.tif  https://service.pdok.nl/rws/ahn/atom/downloads...\n",
      "714  M_32DN2.tif  https://service.pdok.nl/rws/ahn/atom/downloads...\n",
      "716  M_32CZ2.tif  https://service.pdok.nl/rws/ahn/atom/downloads...\n",
      "717  M_32CN1.tif  https://service.pdok.nl/rws/ahn/atom/downloads...\n",
      "718  M_32DZ1.tif  https://service.pdok.nl/rws/ahn/atom/downloads...\n",
      "724  M_32GZ2.tif  https://service.pdok.nl/rws/ahn/atom/downloads...\n",
      "726  M_32GN1.tif  https://service.pdok.nl/rws/ahn/atom/downloads...\n",
      "727  M_32GZ1.tif  https://service.pdok.nl/rws/ahn/atom/downloads...\n",
      "862  M_39AN2.tif  https://service.pdok.nl/rws/ahn/atom/downloads...\n",
      "868  M_39BN2.tif  https://service.pdok.nl/rws/ahn/atom/downloads...\n",
      "871  M_39BN1.tif  https://service.pdok.nl/rws/ahn/atom/downloads...\n",
      "872  M_39BZ1.tif  https://service.pdok.nl/rws/ahn/atom/downloads...\n",
      "885  M_39EN1.tif  https://service.pdok.nl/rws/ahn/atom/downloads...\n",
      "886  M_39EN2.tif  https://service.pdok.nl/rws/ahn/atom/downloads...\n",
      "890  M_39EZ2.tif  https://service.pdok.nl/rws/ahn/atom/downloads...\n"
     ]
    }
   ],
   "source": [
    "# 2. Reproject nitrate points to AHN tile CRS\n",
    "nitrate_gdf = nitrate_gdf.to_crs(\"EPSG:28992\")\n",
    "\n",
    "# 3. Load kaartbladindex (tile polygons)\n",
    "with open(json_path) as f:\n",
    "    data = json.load(f)\n",
    "\n",
    "tiles_gdf = gpd.GeoDataFrame.from_features(data[\"features\"], crs=\"EPSG:28992\")\n",
    "\n",
    "# 4. Spatial join — keep only AHN tiles that intersect nitrate wells\n",
    "intersecting_tiles = gpd.sjoin(tiles_gdf, nitrate_gdf, how=\"inner\", predicate=\"intersects\")\n",
    "\n",
    "# 5. Drop duplicates (same tile may intersect multiple wells)\n",
    "intersecting_tiles = intersecting_tiles.drop_duplicates(subset=[\"name\"])\n",
    "\n",
    "# 6. Get URLs for download (you can modify to switch DSM to DTM if needed)\n",
    "print(intersecting_tiles[[\"name\", \"url\"]])\n"
   ]
  }
 ],
 "metadata": {
  "kernelspec": {
   "display_name": "spacial_env",
   "language": "python",
   "name": "python3"
  },
  "language_info": {
   "codemirror_mode": {
    "name": "ipython",
    "version": 3
   },
   "file_extension": ".py",
   "mimetype": "text/x-python",
   "name": "python",
   "nbconvert_exporter": "python",
   "pygments_lexer": "ipython3",
   "version": "3.9.6"
  }
 },
 "nbformat": 4,
 "nbformat_minor": 2
}
