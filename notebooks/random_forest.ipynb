{
 "cells": [
  {
   "cell_type": "code",
   "execution_count": 1,
   "metadata": {},
   "outputs": [],
   "source": [
    "import pandas as pd\n",
    "import numpy as np\n",
    "import geopandas as gpd\n",
    "import matplotlib.pyplot as plt\n",
    "from sklearn.ensemble import RandomForestRegressor\n",
    "from sklearn.model_selection import train_test_split\n",
    "from sklearn.metrics import mean_squared_error, r2_score\n",
    "from sklearn.preprocessing import OneHotEncoder\n",
    "from sklearn.impute import SimpleImputer\n",
    "from sklearn.pipeline import Pipeline\n",
    "from sklearn.compose import ColumnTransformer\n",
    "from sklearn.preprocessing import StandardScaler\n",
    "from sklearn.model_selection import GridSearchCV"
   ]
  },
  {
   "cell_type": "markdown",
   "metadata": {},
   "source": [
    "### Load data"
   ]
  },
  {
   "cell_type": "code",
   "execution_count": 42,
   "metadata": {},
   "outputs": [],
   "source": [
    "path = \"/Users/Administrator/Documents/University/Year 3/2b/Thesis/Bachelor-Thesis/data/clean/merged_dataset_1.csv\"\n",
    "df = pd.read_csv(path)"
   ]
  },
  {
   "cell_type": "code",
   "execution_count": 43,
   "metadata": {},
   "outputs": [],
   "source": [
    "df = df[df[\"Year\"] == 2018].copy()"
   ]
  },
  {
   "cell_type": "code",
   "execution_count": 44,
   "metadata": {},
   "outputs": [],
   "source": [
    "df = df.drop(columns=[\n",
    "    \"Well_ID\", \"BRO-ID\", \"Filter\", \"Date\", \"geometry\", \"distance_m\", \"Year\", \"Unnamed: 0\"\n",
    "])"
   ]
  },
  {
   "cell_type": "code",
   "execution_count": 45,
   "metadata": {},
   "outputs": [],
   "source": [
    "categorical_cols = [\"HGRnaam\", \"Landuse_Code\"]\n",
    "numerical_cols = [col for col in df.columns if col not in categorical_cols + [\"Nitrate\"]]"
   ]
  },
  {
   "cell_type": "code",
   "execution_count": 46,
   "metadata": {},
   "outputs": [],
   "source": [
    "X = df.drop(columns=[\"Nitrate\"])  # drop both targets\n",
    "y_log = np.log1p(df[\"Nitrate\"].values.reshape(-1, 1)).ravel()  # log(1 + nitrate)"
   ]
  },
  {
   "cell_type": "code",
   "execution_count": 34,
   "metadata": {},
   "outputs": [],
   "source": [
    "target_scaler = StandardScaler()\n",
    "y_scaled = target_scaler.fit_transform(y_log).ravel()"
   ]
  },
  {
   "cell_type": "code",
   "execution_count": 182,
   "metadata": {},
   "outputs": [],
   "source": [
    "# X = df.drop(columns=\"Nitrate\")\n",
    "# y = df[\"Nitrate\"]"
   ]
  },
  {
   "cell_type": "code",
   "execution_count": 102,
   "metadata": {},
   "outputs": [],
   "source": [
    "# combined = pd.concat([X, pd.DataFrame(y, columns=[\"avg_depth_m\"])], axis=1)\n",
    "# combined_clean = combined.dropna(subset=[\"avg_depth_m\"])\n",
    "\n",
    "# # Now separate back\n",
    "# X = combined_clean.drop(columns=[\"avg_depth_m\"])\n",
    "# y = combined_clean[\"avg_depth_m\"].values.reshape(-1, 1)"
   ]
  },
  {
   "cell_type": "code",
   "execution_count": 47,
   "metadata": {},
   "outputs": [],
   "source": [
    "# preprocessing pipelines\n",
    "numerical_pipeline = Pipeline([\n",
    "    ('imputer', SimpleImputer(strategy='mean'))\n",
    "])\n",
    "\n",
    "categorical_pipeline = Pipeline([\n",
    "    ('imputer', SimpleImputer(strategy='most_frequent')),\n",
    "    ('onehot', OneHotEncoder(handle_unknown='ignore'))\n",
    "])\n",
    "\n",
    "preprocessor = ColumnTransformer([\n",
    "    ('num', numerical_pipeline, numerical_cols),\n",
    "    ('cat', categorical_pipeline, categorical_cols)\n",
    "])\n"
   ]
  },
  {
   "cell_type": "code",
   "execution_count": 48,
   "metadata": {},
   "outputs": [],
   "source": [
    "# full pipeline\n",
    "model = Pipeline([\n",
    "    ('preprocessor', preprocessor),\n",
    "    ('regressor', RandomForestRegressor(n_estimators=100, random_state=42))\n",
    "])"
   ]
  },
  {
   "cell_type": "code",
   "execution_count": 49,
   "metadata": {},
   "outputs": [
    {
     "name": "stdout",
     "output_type": "stream",
     "text": [
      "MSE: 82.23808969909368\n",
      "R2 Score: 0.30460248733660433\n"
     ]
    }
   ],
   "source": [
    "# Split and train\n",
    "X_train, X_test, y_train, y_test = train_test_split(X, y_log, test_size=0.2, random_state=42)\n",
    "model.fit(X_train, y_train)\n",
    "\n",
    "# Predict on test set\n",
    "y_pred_scaled = model.predict(X_test)\n",
    "\n",
    "# Inverse transform predictions back to log scale, then original nitrate units\n",
    "y_pred_log = target_scaler.inverse_transform(y_pred_scaled.reshape(-1, 1))\n",
    "y_test_log = target_scaler.inverse_transform(y_test.reshape(-1, 1))\n",
    "\n",
    "y_pred_original = np.expm1(y_pred_log)  # reverse log1p\n",
    "y_test_original = np.expm1(y_test_log)\n",
    "\n",
    "# evaluate\n",
    "print(\"MSE:\", mean_squared_error(y_test_original, y_pred_original))\n",
    "print(\"R2 Score:\", r2_score(y_test_original, y_pred_original))"
   ]
  },
  {
   "cell_type": "code",
   "execution_count": 51,
   "metadata": {},
   "outputs": [
    {
     "name": "stdout",
     "output_type": "stream",
     "text": [
      "Fitting 5 folds for each of 192 candidates, totalling 960 fits\n",
      "Best parameters: {'regressor__max_depth': 10, 'regressor__max_features': 'sqrt', 'regressor__min_samples_leaf': 1, 'regressor__min_samples_split': 2, 'regressor__n_estimators': 101}\n",
      "Best R² score (CV): 0.19127501013017192\n"
     ]
    }
   ],
   "source": [
    "param_grid = {\n",
    "    'regressor__n_estimators': [50, 70, 99, 100, 101, 200],\n",
    "    'regressor__max_depth': [5, 10, 11, 20],\n",
    "    'regressor__min_samples_split': [2, 5],\n",
    "    'regressor__min_samples_leaf': [1, 2],\n",
    "    'regressor__max_features': ['sqrt', 'log2']\n",
    "}\n",
    "\n",
    "grid_search = GridSearchCV(model, param_grid, cv=5, scoring='r2', n_jobs=-1, verbose=1)\n",
    "grid_search.fit(X_train, y_train)\n",
    "\n",
    "print(\"Best parameters:\", grid_search.best_params_)\n",
    "print(\"Best R² score (CV):\", grid_search.best_score_)"
   ]
  },
  {
   "cell_type": "code",
   "execution_count": 52,
   "metadata": {},
   "outputs": [
    {
     "name": "stdout",
     "output_type": "stream",
     "text": [
      "Test MSE: 72.18856864833673\n",
      "Test R²: 0.38958028737701345\n"
     ]
    }
   ],
   "source": [
    "from sklearn.metrics import mean_squared_error, r2_score\n",
    "import numpy as np\n",
    "\n",
    "# Get the best model\n",
    "best_model = grid_search.best_estimator_\n",
    "\n",
    "# Predict on test set (still in scaled log space)\n",
    "y_pred_scaled = best_model.predict(X_test)\n",
    "\n",
    "# Inverse the scaling and log1p transform to get original nitrate values\n",
    "y_pred_log = target_scaler.inverse_transform(y_pred_scaled.reshape(-1, 1))\n",
    "y_test_log = target_scaler.inverse_transform(y_test.reshape(-1, 1))\n",
    "\n",
    "y_pred_original = np.expm1(y_pred_log)\n",
    "y_test_original = np.expm1(y_test_log)\n",
    "\n",
    "# Evaluate\n",
    "print(\"Test MSE:\", mean_squared_error(y_test_original, y_pred_original))\n",
    "print(\"Test R²:\", r2_score(y_test_original, y_pred_original))\n"
   ]
  },
  {
   "cell_type": "code",
   "execution_count": 39,
   "metadata": {},
   "outputs": [],
   "source": [
    "# extract trained Random Forest from pipeline\n",
    "rf = model.named_steps[\"regressor\"]\n",
    "\n",
    "numerical_cols = preprocessor.transformers_[0][2]\n",
    "categorical_cols = preprocessor.transformers_[1][2]\n",
    "\n",
    "ohe = preprocessor.transformers_[1][1].named_steps[\"onehot\"]\n",
    "ohe_feature_names = list(ohe.get_feature_names_out(categorical_cols))\n",
    "\n",
    "all_feature_names = numerical_cols + ohe_feature_names"
   ]
  },
  {
   "cell_type": "code",
   "execution_count": 193,
   "metadata": {},
   "outputs": [
    {
     "name": "stdout",
     "output_type": "stream",
     "text": [
      "                                              Feature  Importance\n",
      "0                                         Elevation_m    0.506746\n",
      "1                                          Population    0.160869\n",
      "2                                                 lon    0.094939\n",
      "3                                                 lat    0.089761\n",
      "4                                         avg_depth_m    0.050155\n",
      "5                                       avg_temp_mean    0.020816\n",
      "6                                      avg_precip_sum    0.014235\n",
      "7                                        HGRnaam_klei    0.013855\n",
      "8                                        HGRnaam_zand    0.011276\n",
      "9                                   Landuse_Code_25.0    0.008921\n",
      "10                                    Total Livestock    0.004801\n",
      "11                      Mineral fertiliser N/ha in kg    0.002725\n",
      "12  Municipal waste (1000 tonnes)/Total municipal ...    0.002674\n",
      "13                                  Landuse_Code_28.0    0.002495\n",
      "14                                  Landuse_Code_11.0    0.002360\n"
     ]
    }
   ],
   "source": [
    "# importances\n",
    "importances = rf.feature_importances_\n",
    "sorted_idx = np.argsort(importances)[::-1]\n",
    "\n",
    "feat_imp_df = pd.DataFrame({\n",
    "    \"Feature\": np.array(all_feature_names)[sorted_idx],\n",
    "    \"Importance\": importances[sorted_idx]\n",
    "})\n",
    "\n",
    "print(feat_imp_df.head(15))\n"
   ]
  },
  {
   "cell_type": "code",
   "execution_count": 194,
   "metadata": {},
   "outputs": [
    {
     "data": {
      "image/png": "[encoded data removed]",
      "text/plain": [
       "<Figure size 1000x600 with 1 Axes>"
      ]
     },
     "metadata": {},
     "output_type": "display_data"
    }
   ],
   "source": [
    "plt.figure(figsize=(10, 6))\n",
    "plt.barh(feat_imp_df[\"Feature\"][:15][::-1], feat_imp_df[\"Importance\"][:15][::-1])\n",
    "plt.title(\"Top 15 Most Important Features for Nitrate Prediction\")\n",
    "plt.xlabel(\"Feature Importance\")\n",
    "plt.tight_layout()\n",
    "plt.show()"
   ]
  }
 ],
 "metadata": {
  "kernelspec": {
   "display_name": "spatial_env",
   "language": "python",
   "name": "python3"
  },
  "language_info": {
   "codemirror_mode": {
    "name": "ipython",
    "version": 3
   },
   "file_extension": ".py",
   "mimetype": "text/x-python",
   "name": "python",
   "nbconvert_exporter": "python",
   "pygments_lexer": "ipython3",
   "version": "3.9.6"
  }
 },
 "nbformat": 4,
 "nbformat_minor": 2
}
