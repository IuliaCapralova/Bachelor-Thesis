{
 "cells": [
  {
   "cell_type": "markdown",
   "metadata": {},
   "source": [
    "## Spacial Feature engineering\n",
    "\n",
    "--> Embed locations through features\n",
    "\n",
    "--> Model stays the same\n",
    "\n",
    "--> Take into account where you are with relation with everyone else"
   ]
  },
  {
   "cell_type": "markdown",
   "metadata": {},
   "source": [
    "Counting nearby features:\n",
    "\n",
    "1. Make a buffer (circle) around a datapoint and count number of restaurants, for instance --> New feature column"
   ]
  },
  {
   "cell_type": "markdown",
   "metadata": {},
   "source": [
    "Assigning point values from surfaces\n",
    "\n",
    "1. Assign values from a surface (like a raster) to specific points"
   ]
  },
  {
   "cell_type": "markdown",
   "metadata": {},
   "source": [
    "Point intropolation\n",
    "\n",
    "1. In case we have only 3 meteorological stations but we need temperature in the middle we can do spacial intropolation and get value in the point we need"
   ]
  },
  {
   "cell_type": "markdown",
   "metadata": {},
   "source": [
    "Feature engineering using map synthesis\n",
    "\n",
    "1. Counting neighbors - how many other observations are nearby\n",
    "2. Spatial lag (numeric) - compute the average number of bedrooms of nearby listings\n",
    "3. Spatial lag (categorical) - most common value\n",
    "4. Ring buffer features (between 500m and 1km)\n",
    "5. Spatial clustering to group observations based on their location (We can also use cluster labels as: A categorical variable in regression)"
   ]
  }
 ],
 "metadata": {
  "language_info": {
   "name": "python"
  }
 },
 "nbformat": 4,
 "nbformat_minor": 2
}
