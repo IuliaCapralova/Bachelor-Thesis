{
 "cells": [
  {
   "cell_type": "code",
   "execution_count": 12,
   "metadata": {},
   "outputs": [],
   "source": [
    "import fiona\n",
    "import pandas as pd\n",
    "import geopandas as gpd\n",
    "import matplotlib.pyplot as plt"
   ]
  },
  {
   "cell_type": "code",
   "execution_count": 13,
   "metadata": {},
   "outputs": [
    {
     "data": {
      "text/plain": [
       "['gm_gmw',\n",
       " 'gm_gmw_monitoringtube',\n",
       " 'gm_gld',\n",
       " 'gm_gar',\n",
       " 'gm_gmn',\n",
       " 'gm_gmn_measuringpoint',\n",
       " 'gm_gmn_reference']"
      ]
     },
     "execution_count": 13,
     "metadata": {},
     "output_type": "execute_result"
    }
   ],
   "source": [
    "path = '/Users/Administrator/Downloads/brogmkenset.gpkg'\n",
    "fiona.listlayers(path)"
   ]
  },
  {
   "cell_type": "code",
   "execution_count": 18,
   "metadata": {},
   "outputs": [],
   "source": [
    "gdf = gpd.read_file('/Users/Administrator/Downloads/brogmkenset.gpkg', layer='gm_gar')"
   ]
  },
  {
   "cell_type": "code",
   "execution_count": 19,
   "metadata": {},
   "outputs": [
    {
     "data": {
      "text/html": [
       "<div>\n",
       "<style scoped>\n",
       "    .dataframe tbody tr th:only-of-type {\n",
       "        vertical-align: middle;\n",
       "    }\n",
       "\n",
       "    .dataframe tbody tr th {\n",
       "        vertical-align: top;\n",
       "    }\n",
       "\n",
       "    .dataframe thead th {\n",
       "        text-align: right;\n",
       "    }\n",
       "</style>\n",
       "<table border=\"1\" class=\"dataframe\">\n",
       "  <thead>\n",
       "    <tr style=\"text-align: right;\">\n",
       "      <th></th>\n",
       "      <th>gm_gmw_monitoringtube_fk</th>\n",
       "      <th>bro_id</th>\n",
       "      <th>delivery_accountable_party</th>\n",
       "      <th>quality_regime</th>\n",
       "      <th>object_registration_time</th>\n",
       "      <th>latest_addition_time</th>\n",
       "      <th>registration_completion_time</th>\n",
       "      <th>latest_correction_time</th>\n",
       "      <th>under_review_time</th>\n",
       "      <th>sampling_date_time</th>\n",
       "      <th>imbro_xml_url</th>\n",
       "      <th>geometry</th>\n",
       "    </tr>\n",
       "  </thead>\n",
       "  <tbody>\n",
       "    <tr>\n",
       "      <th>0</th>\n",
       "      <td>204</td>\n",
       "      <td>GAR000000000001</td>\n",
       "      <td>30277172</td>\n",
       "      <td>IMBRO/A</td>\n",
       "      <td>2022-06-29T12:38:19+02:00</td>\n",
       "      <td>None</td>\n",
       "      <td>2022-06-29T12:38:19+02:00</td>\n",
       "      <td>None</td>\n",
       "      <td>None</td>\n",
       "      <td>2003-01-01T11:00:00+01:00</td>\n",
       "      <td>https://publiek.broservices.nl/gm/gar/v1/objec...</td>\n",
       "      <td>POINT (5.256 52.0481)</td>\n",
       "    </tr>\n",
       "    <tr>\n",
       "      <th>1</th>\n",
       "      <td>144</td>\n",
       "      <td>GAR000000000102</td>\n",
       "      <td>30277172</td>\n",
       "      <td>IMBRO/A</td>\n",
       "      <td>2022-11-25T10:23:08+01:00</td>\n",
       "      <td>None</td>\n",
       "      <td>2022-11-25T10:23:08+01:00</td>\n",
       "      <td>None</td>\n",
       "      <td>None</td>\n",
       "      <td>2007-09-01T12:00:00+02:00</td>\n",
       "      <td>https://publiek.broservices.nl/gm/gar/v1/objec...</td>\n",
       "      <td>POINT (4.91121 52.15693)</td>\n",
       "    </tr>\n",
       "    <tr>\n",
       "      <th>2</th>\n",
       "      <td>144</td>\n",
       "      <td>GAR000000000103</td>\n",
       "      <td>30277172</td>\n",
       "      <td>IMBRO/A</td>\n",
       "      <td>2022-11-25T10:23:10+01:00</td>\n",
       "      <td>None</td>\n",
       "      <td>2022-11-25T10:23:10+01:00</td>\n",
       "      <td>None</td>\n",
       "      <td>None</td>\n",
       "      <td>2008-09-16T12:00:00+02:00</td>\n",
       "      <td>https://publiek.broservices.nl/gm/gar/v1/objec...</td>\n",
       "      <td>POINT (4.91121 52.15693)</td>\n",
       "    </tr>\n",
       "    <tr>\n",
       "      <th>3</th>\n",
       "      <td>145</td>\n",
       "      <td>GAR000000000104</td>\n",
       "      <td>30277172</td>\n",
       "      <td>IMBRO/A</td>\n",
       "      <td>2022-11-25T10:23:12+01:00</td>\n",
       "      <td>None</td>\n",
       "      <td>2022-11-25T10:23:12+01:00</td>\n",
       "      <td>None</td>\n",
       "      <td>None</td>\n",
       "      <td>2007-09-01T12:00:00+02:00</td>\n",
       "      <td>https://publiek.broservices.nl/gm/gar/v1/objec...</td>\n",
       "      <td>POINT (4.91121 52.15693)</td>\n",
       "    </tr>\n",
       "    <tr>\n",
       "      <th>4</th>\n",
       "      <td>145</td>\n",
       "      <td>GAR000000000105</td>\n",
       "      <td>30277172</td>\n",
       "      <td>IMBRO/A</td>\n",
       "      <td>2022-11-25T10:23:14+01:00</td>\n",
       "      <td>None</td>\n",
       "      <td>2022-11-25T10:23:14+01:00</td>\n",
       "      <td>None</td>\n",
       "      <td>None</td>\n",
       "      <td>2008-09-16T12:00:00+02:00</td>\n",
       "      <td>https://publiek.broservices.nl/gm/gar/v1/objec...</td>\n",
       "      <td>POINT (4.91121 52.15693)</td>\n",
       "    </tr>\n",
       "    <tr>\n",
       "      <th>...</th>\n",
       "      <td>...</td>\n",
       "      <td>...</td>\n",
       "      <td>...</td>\n",
       "      <td>...</td>\n",
       "      <td>...</td>\n",
       "      <td>...</td>\n",
       "      <td>...</td>\n",
       "      <td>...</td>\n",
       "      <td>...</td>\n",
       "      <td>...</td>\n",
       "      <td>...</td>\n",
       "      <td>...</td>\n",
       "    </tr>\n",
       "    <tr>\n",
       "      <th>57185</th>\n",
       "      <td>100774</td>\n",
       "      <td>GAR000000061703</td>\n",
       "      <td>20168636</td>\n",
       "      <td>IMBRO/A</td>\n",
       "      <td>2025-04-11T03:44:49+02:00</td>\n",
       "      <td>None</td>\n",
       "      <td>2025-04-11T03:44:49+02:00</td>\n",
       "      <td>None</td>\n",
       "      <td>None</td>\n",
       "      <td>1995-01-01T11:00:00+01:00</td>\n",
       "      <td>https://publiek.broservices.nl/gm/gar/v1/objec...</td>\n",
       "      <td>POINT (3.5414 51.33384)</td>\n",
       "    </tr>\n",
       "    <tr>\n",
       "      <th>57186</th>\n",
       "      <td>100665</td>\n",
       "      <td>GAR000000061704</td>\n",
       "      <td>20168636</td>\n",
       "      <td>IMBRO/A</td>\n",
       "      <td>2025-04-11T03:44:51+02:00</td>\n",
       "      <td>None</td>\n",
       "      <td>2025-04-11T03:44:51+02:00</td>\n",
       "      <td>None</td>\n",
       "      <td>None</td>\n",
       "      <td>1995-01-01T11:00:00+01:00</td>\n",
       "      <td>https://publiek.broservices.nl/gm/gar/v1/objec...</td>\n",
       "      <td>POINT (3.48841 51.31366)</td>\n",
       "    </tr>\n",
       "    <tr>\n",
       "      <th>57187</th>\n",
       "      <td>100775</td>\n",
       "      <td>GAR000000061706</td>\n",
       "      <td>20168636</td>\n",
       "      <td>IMBRO/A</td>\n",
       "      <td>2025-04-11T03:44:55+02:00</td>\n",
       "      <td>None</td>\n",
       "      <td>2025-04-11T03:44:55+02:00</td>\n",
       "      <td>None</td>\n",
       "      <td>None</td>\n",
       "      <td>1995-01-01T11:00:00+01:00</td>\n",
       "      <td>https://publiek.broservices.nl/gm/gar/v1/objec...</td>\n",
       "      <td>POINT (3.5414 51.33384)</td>\n",
       "    </tr>\n",
       "    <tr>\n",
       "      <th>57188</th>\n",
       "      <td>100480</td>\n",
       "      <td>GAR000000061710</td>\n",
       "      <td>20168636</td>\n",
       "      <td>IMBRO/A</td>\n",
       "      <td>2025-04-11T03:45:03+02:00</td>\n",
       "      <td>None</td>\n",
       "      <td>2025-04-11T03:45:03+02:00</td>\n",
       "      <td>None</td>\n",
       "      <td>None</td>\n",
       "      <td>1995-01-01T11:00:00+01:00</td>\n",
       "      <td>https://publiek.broservices.nl/gm/gar/v1/objec...</td>\n",
       "      <td>POINT (3.6917 51.31545)</td>\n",
       "    </tr>\n",
       "    <tr>\n",
       "      <th>57189</th>\n",
       "      <td>100257</td>\n",
       "      <td>GAR000000061713</td>\n",
       "      <td>20168636</td>\n",
       "      <td>IMBRO/A</td>\n",
       "      <td>2025-04-11T03:45:09+02:00</td>\n",
       "      <td>None</td>\n",
       "      <td>2025-04-11T03:45:09+02:00</td>\n",
       "      <td>None</td>\n",
       "      <td>None</td>\n",
       "      <td>1993-09-07T12:00:00+02:00</td>\n",
       "      <td>https://publiek.broservices.nl/gm/gar/v1/objec...</td>\n",
       "      <td>POINT (3.96322 51.29364)</td>\n",
       "    </tr>\n",
       "  </tbody>\n",
       "</table>\n",
       "<p>57190 rows × 12 columns</p>\n",
       "</div>"
      ],
      "text/plain": [
       "       gm_gmw_monitoringtube_fk           bro_id delivery_accountable_party  \\\n",
       "0                           204  GAR000000000001                   30277172   \n",
       "1                           144  GAR000000000102                   30277172   \n",
       "2                           144  GAR000000000103                   30277172   \n",
       "3                           145  GAR000000000104                   30277172   \n",
       "4                           145  GAR000000000105                   30277172   \n",
       "...                         ...              ...                        ...   \n",
       "57185                    100774  GAR000000061703                   20168636   \n",
       "57186                    100665  GAR000000061704                   20168636   \n",
       "57187                    100775  GAR000000061706                   20168636   \n",
       "57188                    100480  GAR000000061710                   20168636   \n",
       "57189                    100257  GAR000000061713                   20168636   \n",
       "\n",
       "      quality_regime   object_registration_time latest_addition_time  \\\n",
       "0            IMBRO/A  2022-06-29T12:38:19+02:00                 None   \n",
       "1            IMBRO/A  2022-11-25T10:23:08+01:00                 None   \n",
       "2            IMBRO/A  2022-11-25T10:23:10+01:00                 None   \n",
       "3            IMBRO/A  2022-11-25T10:23:12+01:00                 None   \n",
       "4            IMBRO/A  2022-11-25T10:23:14+01:00                 None   \n",
       "...              ...                        ...                  ...   \n",
       "57185        IMBRO/A  2025-04-11T03:44:49+02:00                 None   \n",
       "57186        IMBRO/A  2025-04-11T03:44:51+02:00                 None   \n",
       "57187        IMBRO/A  2025-04-11T03:44:55+02:00                 None   \n",
       "57188        IMBRO/A  2025-04-11T03:45:03+02:00                 None   \n",
       "57189        IMBRO/A  2025-04-11T03:45:09+02:00                 None   \n",
       "\n",
       "      registration_completion_time latest_correction_time under_review_time  \\\n",
       "0        2022-06-29T12:38:19+02:00                   None              None   \n",
       "1        2022-11-25T10:23:08+01:00                   None              None   \n",
       "2        2022-11-25T10:23:10+01:00                   None              None   \n",
       "3        2022-11-25T10:23:12+01:00                   None              None   \n",
       "4        2022-11-25T10:23:14+01:00                   None              None   \n",
       "...                            ...                    ...               ...   \n",
       "57185    2025-04-11T03:44:49+02:00                   None              None   \n",
       "57186    2025-04-11T03:44:51+02:00                   None              None   \n",
       "57187    2025-04-11T03:44:55+02:00                   None              None   \n",
       "57188    2025-04-11T03:45:03+02:00                   None              None   \n",
       "57189    2025-04-11T03:45:09+02:00                   None              None   \n",
       "\n",
       "              sampling_date_time  \\\n",
       "0      2003-01-01T11:00:00+01:00   \n",
       "1      2007-09-01T12:00:00+02:00   \n",
       "2      2008-09-16T12:00:00+02:00   \n",
       "3      2007-09-01T12:00:00+02:00   \n",
       "4      2008-09-16T12:00:00+02:00   \n",
       "...                          ...   \n",
       "57185  1995-01-01T11:00:00+01:00   \n",
       "57186  1995-01-01T11:00:00+01:00   \n",
       "57187  1995-01-01T11:00:00+01:00   \n",
       "57188  1995-01-01T11:00:00+01:00   \n",
       "57189  1993-09-07T12:00:00+02:00   \n",
       "\n",
       "                                           imbro_xml_url  \\\n",
       "0      https://publiek.broservices.nl/gm/gar/v1/objec...   \n",
       "1      https://publiek.broservices.nl/gm/gar/v1/objec...   \n",
       "2      https://publiek.broservices.nl/gm/gar/v1/objec...   \n",
       "3      https://publiek.broservices.nl/gm/gar/v1/objec...   \n",
       "4      https://publiek.broservices.nl/gm/gar/v1/objec...   \n",
       "...                                                  ...   \n",
       "57185  https://publiek.broservices.nl/gm/gar/v1/objec...   \n",
       "57186  https://publiek.broservices.nl/gm/gar/v1/objec...   \n",
       "57187  https://publiek.broservices.nl/gm/gar/v1/objec...   \n",
       "57188  https://publiek.broservices.nl/gm/gar/v1/objec...   \n",
       "57189  https://publiek.broservices.nl/gm/gar/v1/objec...   \n",
       "\n",
       "                       geometry  \n",
       "0         POINT (5.256 52.0481)  \n",
       "1      POINT (4.91121 52.15693)  \n",
       "2      POINT (4.91121 52.15693)  \n",
       "3      POINT (4.91121 52.15693)  \n",
       "4      POINT (4.91121 52.15693)  \n",
       "...                         ...  \n",
       "57185   POINT (3.5414 51.33384)  \n",
       "57186  POINT (3.48841 51.31366)  \n",
       "57187   POINT (3.5414 51.33384)  \n",
       "57188   POINT (3.6917 51.31545)  \n",
       "57189  POINT (3.96322 51.29364)  \n",
       "\n",
       "[57190 rows x 12 columns]"
      ]
     },
     "execution_count": 19,
     "metadata": {},
     "output_type": "execute_result"
    }
   ],
   "source": [
    "gdf"
   ]
  },
  {
   "cell_type": "code",
   "execution_count": 10,
   "metadata": {},
   "outputs": [
    {
     "name": "stderr",
     "output_type": "stream",
     "text": [
      "/Users/Administrator/Documents/University/Year 3/2b/Thesis/Bachelor-Thesis/spatial_env/lib/python3.9/site-packages/pyogrio/geopandas.py:275: UserWarning: More than one layer found in 'brogmkenset.gpkg': 'gm_gmw' (default), 'gm_gmw_monitoringtube', 'gm_gld', 'gm_gar', 'gm_gmn', 'gm_gmn_measuringpoint', 'gm_gmn_reference'. Specify layer parameter to avoid this warning.\n",
      "  result = read_func(\n"
     ]
    },
    {
     "name": "stdout",
     "output_type": "stream",
     "text": [
      "            bro_id delivery_accountable_party quality_regime  \\\n",
      "0  GMW000000003622                   73552208        IMBRO/A   \n",
      "1  GMW000000003623                   73552208        IMBRO/A   \n",
      "2  GMW000000003624                   73552208        IMBRO/A   \n",
      "3  GMW000000003625                   73552208        IMBRO/A   \n",
      "4  GMW000000003626                   73552208        IMBRO/A   \n",
      "\n",
      "    object_registration_time latest_addition_time  \\\n",
      "0  2017-12-20T16:59:33+01:00                 None   \n",
      "1  2017-12-20T16:59:34+01:00                 None   \n",
      "2  2017-12-20T16:59:35+01:00                 None   \n",
      "3  2017-12-20T16:59:36+01:00                 None   \n",
      "4  2017-12-20T16:59:37+01:00                 None   \n",
      "\n",
      "  registration_completion_time latest_correction_time under_review_time  \\\n",
      "0                         None                   None              None   \n",
      "1                         None                   None              None   \n",
      "2                         None                   None              None   \n",
      "3                         None                   None              None   \n",
      "4                         None                   None              None   \n",
      "\n",
      "  deregistration_time  number_of_monitoring_tubes  ... well_construction_date  \\\n",
      "0                None                         1.0  ...             2011-06-06   \n",
      "1                None                         1.0  ...             2011-06-06   \n",
      "2                None                         1.0  ...             2011-06-06   \n",
      "3                None                         2.0  ...             2011-07-06   \n",
      "4                None                         1.0  ...             2011-06-06   \n",
      "\n",
      "  well_removal_date construction_standard initial_function  \\\n",
      "0              None              onbekend            stand   \n",
      "1              None              onbekend            stand   \n",
      "2              None              onbekend            stand   \n",
      "3              None              onbekend            stand   \n",
      "4              None              onbekend            stand   \n",
      "\n",
      "  well_head_protector local_vertical_reference_point ground_level_position  \\\n",
      "0            onbekend                            NAP                  1.65   \n",
      "1            onbekend                            NAP                  0.39   \n",
      "2            onbekend                            NAP                 -0.19   \n",
      "3            onbekend                            NAP                 -0.44   \n",
      "4            onbekend                            NAP                  1.06   \n",
      "\n",
      "                                       imbro_xml_url  \\\n",
      "0  https://publiek.broservices.nl/gm/gmw/v1/objec...   \n",
      "1  https://publiek.broservices.nl/gm/gmw/v1/objec...   \n",
      "2  https://publiek.broservices.nl/gm/gmw/v1/objec...   \n",
      "3  https://publiek.broservices.nl/gm/gmw/v1/objec...   \n",
      "4  https://publiek.broservices.nl/gm/gmw/v1/objec...   \n",
      "\n",
      "                                  delivered_location                  geometry  \n",
      "0  <gml:Point xmlns:gml=\"http://www.opengis.net/g...  POINT (6.41021 53.24583)  \n",
      "1  <gml:Point xmlns:gml=\"http://www.opengis.net/g...  POINT (6.40014 53.24378)  \n",
      "2  <gml:Point xmlns:gml=\"http://www.opengis.net/g...  POINT (6.39278 53.24048)  \n",
      "3  <gml:Point xmlns:gml=\"http://www.opengis.net/g...  POINT (6.38941 53.24695)  \n",
      "4  <gml:Point xmlns:gml=\"http://www.opengis.net/g...  POINT (6.39802 53.24798)  \n",
      "\n",
      "[5 rows x 23 columns]\n",
      "EPSG:4258\n"
     ]
    },
    {
     "data": {
      "image/png": "[encoded data removed]",
      "text/plain": [
       "<Figure size 640x480 with 1 Axes>"
      ]
     },
     "metadata": {},
     "output_type": "display_data"
    }
   ],
   "source": [
    "gdf = gpd.read_file('/Users/Administrator/Downloads/brogmkenset.gpkg')\n",
    "\n",
    "# 2. Check the contents\n",
    "print(gdf.head())\n",
    "print(gdf.crs)\n",
    "\n",
    "# 3. Plot it\n",
    "gdf.plot()\n",
    "plt.title(\"GeoPackage Data\")\n",
    "plt.show()"
   ]
  },
  {
   "cell_type": "code",
   "execution_count": 16,
   "metadata": {},
   "outputs": [
    {
     "name": "stderr",
     "output_type": "stream",
     "text": [
      "/Users/Administrator/Documents/University/Year 3/2b/Thesis/Bachelor-Thesis/spatial_env/lib/python3.9/site-packages/urllib3/__init__.py:35: NotOpenSSLWarning: urllib3 v2 only supports OpenSSL 1.1.1+, currently the 'ssl' module is compiled with 'LibreSSL 2.8.3'. See: https://github.com/urllib3/urllib3/issues/3020\n",
      "  warnings.warn(\n"
     ]
    },
    {
     "name": "stdout",
     "output_type": "stream",
     "text": [
      "{'De Bilt': (5.1737773, 52.1445592), 'Schiphol': (4.7621975, 52.3080392), 'Ell': (5.7949461, 51.2197788), 'Rotterdam Geulhaven': (4.3124116, 51.8895294)}\n"
     ]
    }
   ],
   "source": [
    "from geopy.geocoders import Nominatim\n",
    "geolocator = Nominatim(user_agent=\"knmi_locator\")\n",
    "\n",
    "stations = [\"De Bilt\", \"Schiphol\", \"Ell\", \"Rotterdam Geulhaven\"]\n",
    "coords = {}\n",
    "\n",
    "for name in stations:\n",
    "    location = geolocator.geocode(f\"{name}, Netherlands\")\n",
    "    if location:\n",
    "        coords[name] = (location.longitude, location.latitude)\n",
    "\n",
    "print(coords)"
   ]
  },
  {
   "cell_type": "code",
   "execution_count": 20,
   "metadata": {},
   "outputs": [],
   "source": [
    "depth_temp_path = '/Users/Administrator/Documents/University/Year 3/2b/Thesis/Bachelor-Thesis/src/depth_temp.csv'\n",
    "merged_data_path = '/Users/Administrator/Documents/University/Year 3/2b/Thesis/Bachelor-Thesis/data/aligned/merged_dataset_1.csv'"
   ]
  },
  {
   "cell_type": "code",
   "execution_count": 27,
   "metadata": {},
   "outputs": [],
   "source": [
    "depth_temp = pd.read_csv(depth_temp_path)\n",
    "merged_data = pd.read_csv(merged_data_path)"
   ]
  },
  {
   "cell_type": "code",
   "execution_count": 26,
   "metadata": {},
   "outputs": [
    {
     "data": {
      "text/plain": [
       "51"
      ]
     },
     "execution_count": 26,
     "metadata": {},
     "output_type": "execute_result"
    }
   ],
   "source": [
    "depth_temp[\"groundwater depth\"].isna().sum()"
   ]
  },
  {
   "cell_type": "code",
   "execution_count": 29,
   "metadata": {},
   "outputs": [
    {
     "data": {
      "text/plain": [
       "70"
      ]
     },
     "execution_count": 29,
     "metadata": {},
     "output_type": "execute_result"
    }
   ],
   "source": [
    "merged_data[\"groundwater depth\"].isna().sum()"
   ]
  },
  {
   "cell_type": "code",
   "execution_count": 3,
   "metadata": {},
   "outputs": [
    {
     "name": "stdout",
     "output_type": "stream",
     "text": [
      "Total logical CPUs: 11\n",
      "Process ID: 1476\n"
     ]
    }
   ],
   "source": [
    "import os\n",
    "import multiprocessing\n",
    "\n",
    "print(f\"Total logical CPUs: {multiprocessing.cpu_count()}\")\n",
    "print(f\"Process ID: {os.getpid()}\")"
   ]
  }
 ],
 "metadata": {
  "kernelspec": {
   "display_name": "spatial_env",
   "language": "python",
   "name": "python3"
  },
  "language_info": {
   "codemirror_mode": {
    "name": "ipython",
    "version": 3
   },
   "file_extension": ".py",
   "mimetype": "text/x-python",
   "name": "python",
   "nbconvert_exporter": "python",
   "pygments_lexer": "ipython3",
   "version": "3.9.6"
  }
 },
 "nbformat": 4,
 "nbformat_minor": 2
}
