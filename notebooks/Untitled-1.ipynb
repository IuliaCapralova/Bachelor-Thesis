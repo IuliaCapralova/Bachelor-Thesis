{
 "cells": [
  {
   "cell_type": "code",
   "execution_count": 2,
   "metadata": {},
   "outputs": [],
   "source": [
    "import pandas as pd"
   ]
  },
  {
   "cell_type": "markdown",
   "metadata": {},
   "source": [
    "# Utrecht"
   ]
  },
  {
   "cell_type": "markdown",
   "metadata": {},
   "source": [
    "Original, filtered Depth data"
   ]
  },
  {
   "cell_type": "code",
   "execution_count": 4,
   "metadata": {},
   "outputs": [],
   "source": [
    "path = \"/Users/Administrator/Documents/University/Year 3/2b/Thesis/Bachelor-Thesis/data/clean/well_depth_data/utrecht_well_depth_combined.csv\""
   ]
  },
  {
   "cell_type": "code",
   "execution_count": 17,
   "metadata": {},
   "outputs": [],
   "source": [
    "df = pd.read_csv(path)"
   ]
  },
  {
   "cell_type": "code",
   "execution_count": 13,
   "metadata": {},
   "outputs": [
    {
     "data": {
      "text/plain": [
       "28075717"
      ]
     },
     "execution_count": 13,
     "metadata": {},
     "output_type": "execute_result"
    }
   ],
   "source": [
    "len(df)"
   ]
  },
  {
   "cell_type": "code",
   "execution_count": 12,
   "metadata": {},
   "outputs": [
    {
     "data": {
      "text/plain": [
       "Well_ID               0\n",
       "BRO-ID                0\n",
       "Filter                0\n",
       "Date                  0\n",
       "Depth             48895\n",
       "geometry              0\n",
       "Ground Level     366140\n",
       "Bottom Screen         0\n",
       "Top Screen            0\n",
       "Year                  0\n",
       "dtype: int64"
      ]
     },
     "execution_count": 12,
     "metadata": {},
     "output_type": "execute_result"
    }
   ],
   "source": [
    "df.isna().sum()"
   ]
  },
  {
   "cell_type": "code",
   "execution_count": 10,
   "metadata": {},
   "outputs": [
    {
     "name": "stdout",
     "output_type": "stream",
     "text": [
      "The longest consecutive gap of NaNs in 'Depth' is 6526 rows.\n"
     ]
    }
   ],
   "source": [
    "is_nan = df[\"Depth\"].isna()\n",
    "\n",
    "# Calculate lengths of consecutive NaN runs\n",
    "max_gap = (is_nan != is_nan.shift()).cumsum()  # Label each group\n",
    "nan_groups = is_nan.groupby(max_gap).sum()     # Sum the sizes of NaN groups\n",
    "longest_gap = nan_groups.max()                 # Get the max NaN run\n",
    "\n",
    "print(f\"The longest consecutive gap of NaNs in 'Depth' is {int(longest_gap)} rows.\")"
   ]
  },
  {
   "cell_type": "markdown",
   "metadata": {},
   "source": [
    "Remove partial duplicates"
   ]
  },
  {
   "cell_type": "code",
   "execution_count": 20,
   "metadata": {},
   "outputs": [],
   "source": [
    "df_no_dupes = df.drop_duplicates(subset=[\"Well_ID\", \"BRO-ID\", \"Filter\", \"Date\", \"geometry\", \"Ground Level\",\"Bottom Screen\",\"Top Screen\",\"Year\"], keep=\"first\")"
   ]
  },
  {
   "cell_type": "code",
   "execution_count": 21,
   "metadata": {},
   "outputs": [
    {
     "data": {
      "text/plain": [
       "Well_ID               0\n",
       "BRO-ID                0\n",
       "Filter                0\n",
       "Date                  0\n",
       "Depth             45674\n",
       "geometry              0\n",
       "Ground Level     366011\n",
       "Bottom Screen         0\n",
       "Top Screen            0\n",
       "Year                  0\n",
       "dtype: int64"
      ]
     },
     "execution_count": 21,
     "metadata": {},
     "output_type": "execute_result"
    }
   ],
   "source": [
    "df_no_dupes.isna().sum()"
   ]
  },
  {
   "cell_type": "code",
   "execution_count": 23,
   "metadata": {},
   "outputs": [
    {
     "name": "stdout",
     "output_type": "stream",
     "text": [
      "The longest consecutive gap of NaNs in 'Depth' is 6526 rows.\n"
     ]
    }
   ],
   "source": [
    "is_nan = df_no_dupes[\"Depth\"].isna()\n",
    "\n",
    "# Calculate lengths of consecutive NaN runs\n",
    "max_gap = (is_nan != is_nan.shift()).cumsum()  # Label each group\n",
    "nan_groups = is_nan.groupby(max_gap).sum()     # Sum the sizes of NaN groups\n",
    "longest_gap = nan_groups.max()                 # Get the max NaN run\n",
    "\n",
    "print(f\"The longest consecutive gap of NaNs in 'Depth' is {int(longest_gap)} rows.\")"
   ]
  },
  {
   "cell_type": "code",
   "execution_count": 24,
   "metadata": {},
   "outputs": [
    {
     "name": "stdout",
     "output_type": "stream",
     "text": [
      "Largest NaN gap: 6526 rows\n",
      "                  Well_ID           BRO-ID  Filter                       Date  \\\n",
      "27012133  GMW000000062547  GLD000000026522       1  2023-06-20 18:00:00+00:00   \n",
      "27012134  GMW000000062547  GLD000000026522       1  2023-06-20 19:00:00+00:00   \n",
      "27012135  GMW000000062547  GLD000000026522       1  2023-06-20 20:00:00+00:00   \n",
      "27012136  GMW000000062547  GLD000000026522       1  2023-06-20 21:00:00+00:00   \n",
      "27012137  GMW000000062547  GLD000000026522       1  2023-06-20 22:00:00+00:00   \n",
      "...                   ...              ...     ...                        ...   \n",
      "27018654  GMW000000062547  GLD000000026522       1  2024-05-11 06:00:00+00:00   \n",
      "27018655  GMW000000062547  GLD000000026522       1  2024-05-11 07:00:00+00:00   \n",
      "27018656  GMW000000062547  GLD000000026522       1  2024-05-11 08:00:00+00:00   \n",
      "27018657  GMW000000062547  GLD000000026522       1  2024-05-11 09:00:00+00:00   \n",
      "27018658  GMW000000062547  GLD000000026522       1  2024-05-11 10:00:00+00:00   \n",
      "\n",
      "          Depth                          geometry  Ground Level  \\\n",
      "27012133    NaN  POINT (5.410050746 52.215772045)          -0.4   \n",
      "27012134    NaN  POINT (5.410050746 52.215772045)          -0.4   \n",
      "27012135    NaN  POINT (5.410050746 52.215772045)          -0.4   \n",
      "27012136    NaN  POINT (5.410050746 52.215772045)          -0.4   \n",
      "27012137    NaN  POINT (5.410050746 52.215772045)          -0.4   \n",
      "...         ...                               ...           ...   \n",
      "27018654    NaN  POINT (5.410050746 52.215772045)          -0.4   \n",
      "27018655    NaN  POINT (5.410050746 52.215772045)          -0.4   \n",
      "27018656    NaN  POINT (5.410050746 52.215772045)          -0.4   \n",
      "27018657    NaN  POINT (5.410050746 52.215772045)          -0.4   \n",
      "27018658    NaN  POINT (5.410050746 52.215772045)          -0.4   \n",
      "\n",
      "          Bottom Screen  Top Screen  Year  \n",
      "27012133           -3.4        -2.4  2023  \n",
      "27012134           -3.4        -2.4  2023  \n",
      "27012135           -3.4        -2.4  2023  \n",
      "27012136           -3.4        -2.4  2023  \n",
      "27012137           -3.4        -2.4  2023  \n",
      "...                 ...         ...   ...  \n",
      "27018654           -3.4        -2.4  2024  \n",
      "27018655           -3.4        -2.4  2024  \n",
      "27018656           -3.4        -2.4  2024  \n",
      "27018657           -3.4        -2.4  2024  \n",
      "27018658           -3.4        -2.4  2024  \n",
      "\n",
      "[6526 rows x 10 columns]\n"
     ]
    }
   ],
   "source": [
    "# Label consecutive runs of NaNs (or not-NaNs)\n",
    "group_change = (is_nan != is_nan.shift()).cumsum()\n",
    "\n",
    "# Group by label and only keep groups where Depth is NaN\n",
    "nan_groups = df_no_dupes[is_nan].groupby(group_change)\n",
    "\n",
    "# Find the group with the largest number of rows\n",
    "largest_nan_group = max(nan_groups, key=lambda x: len(x[1]))\n",
    "\n",
    "# Extract rows\n",
    "rows_with_largest_gap = largest_nan_group[1]\n",
    "\n",
    "print(f\"Largest NaN gap: {len(rows_with_largest_gap)} rows\")\n",
    "print(rows_with_largest_gap)"
   ]
  }
 ],
 "metadata": {
  "kernelspec": {
   "display_name": "Python 3",
   "language": "python",
   "name": "python3"
  },
  "language_info": {
   "codemirror_mode": {
    "name": "ipython",
    "version": 3
   },
   "file_extension": ".py",
   "mimetype": "text/x-python",
   "name": "python",
   "nbconvert_exporter": "python",
   "pygments_lexer": "ipython3",
   "version": "3.9.6"
  }
 },
 "nbformat": 4,
 "nbformat_minor": 2
}
