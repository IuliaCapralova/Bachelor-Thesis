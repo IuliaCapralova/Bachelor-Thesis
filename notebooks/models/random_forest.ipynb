{
 "cells": [
  {
   "cell_type": "code",
   "execution_count": 283,
   "metadata": {},
   "outputs": [],
   "source": [
    "import os\n",
    "import seaborn as sns\n",
    "import pandas as pd\n",
    "import numpy as np\n",
    "from numpy import sqrt\n",
    "import matplotlib.pyplot as plt\n",
    "from sklearn.pipeline import Pipeline\n",
    "from sklearn.preprocessing import OneHotEncoder\n",
    "from sklearn.compose import ColumnTransformer\n",
    "from sklearn.ensemble import RandomForestRegressor\n",
    "from sklearn.model_selection import GridSearchCV\n",
    "from sklearn.metrics import r2_score, mean_squared_error, mean_absolute_error\n",
    "from sklearn.model_selection import RandomizedSearchCV, TimeSeriesSplit\n",
    "from sklearn.pipeline import Pipeline\n",
    "from sklearn.preprocessing import StandardScaler"
   ]
  },
  {
   "cell_type": "markdown",
   "metadata": {},
   "source": [
    "# Random Forest"
   ]
  },
  {
   "cell_type": "markdown",
   "metadata": {},
   "source": [
    "## Load data"
   ]
  },
  {
   "cell_type": "code",
   "execution_count": 284,
   "metadata": {},
   "outputs": [
    {
     "data": {
      "text/plain": [
       "192"
      ]
     },
     "execution_count": 284,
     "metadata": {},
     "output_type": "execute_result"
    }
   ],
   "source": [
    "well_filter = 1\n",
    "\n",
    "current_dir = os.getcwd()\n",
    "path = os.path.join(current_dir, '../../data/clean/aligned_data', f\"merged_dataset_{well_filter}.csv\")\n",
    "df = pd.read_csv(path)\n",
    "len(df)"
   ]
  },
  {
   "cell_type": "markdown",
   "metadata": {},
   "source": [
    "## Sort by date"
   ]
  },
  {
   "cell_type": "code",
   "execution_count": 285,
   "metadata": {},
   "outputs": [],
   "source": [
    "# sort by date\n",
    "df[\"date\"] = pd.to_datetime(df[\"date\"])\n",
    "df = df.sort_values(\"date\").reset_index(drop=True)"
   ]
  },
  {
   "cell_type": "markdown",
   "metadata": {},
   "source": [
    "## Remove some columns and rows"
   ]
  },
  {
   "cell_type": "markdown",
   "metadata": {},
   "source": [
    "--> By dropping Nan we exclude nitrate points that fall under city areas"
   ]
  },
  {
   "cell_type": "code",
   "execution_count": 286,
   "metadata": {},
   "outputs": [
    {
     "data": {
      "text/plain": [
       "132"
      ]
     },
     "execution_count": 286,
     "metadata": {},
     "output_type": "execute_result"
    }
   ],
   "source": [
    "df = df.drop(columns=['soil region', 'landuse code'])\n",
    "\n",
    "df = df.dropna()\n",
    "len(df)"
   ]
  },
  {
   "cell_type": "markdown",
   "metadata": {},
   "source": [
    "## Add month and year as a feature"
   ]
  },
  {
   "cell_type": "code",
   "execution_count": 287,
   "metadata": {},
   "outputs": [],
   "source": [
    "df[\"month\"] = df[\"date\"].dt.month\n",
    "df[\"year\"] = df[\"date\"].dt.year"
   ]
  },
  {
   "cell_type": "markdown",
   "metadata": {},
   "source": [
    "## Change column type"
   ]
  },
  {
   "cell_type": "code",
   "execution_count": 288,
   "metadata": {},
   "outputs": [],
   "source": [
    "for col in ['soil region', 'landuse code', 'soilunit_code_1']:\n",
    "    if col in df.columns:\n",
    "        df[col] = df[col].astype('category')"
   ]
  },
  {
   "cell_type": "code",
   "execution_count": 289,
   "metadata": {},
   "outputs": [
    {
     "data": {
      "text/plain": [
       "bro-id                                 object\n",
       "nitrate                               float64\n",
       "geometry                               object\n",
       "date                      datetime64[ns, UTC]\n",
       "population                            float64\n",
       "groundwater depth                     float64\n",
       "elevation                             float64\n",
       "lon                                   float64\n",
       "lat                                   float64\n",
       "precipitation                         float64\n",
       "temperature                           float64\n",
       "n deposition                          float64\n",
       "soilunit_code_1                      category\n",
       "organicmattercontent_1                float64\n",
       "density_1                             float64\n",
       "acidity_1                             float64\n",
       "month                                   int32\n",
       "year                                    int32\n",
       "dtype: object"
      ]
     },
     "execution_count": 289,
     "metadata": {},
     "output_type": "execute_result"
    }
   ],
   "source": [
    "df.dtypes"
   ]
  },
  {
   "cell_type": "markdown",
   "metadata": {},
   "source": [
    "## Remove nitrate outliers"
   ]
  },
  {
   "cell_type": "code",
   "execution_count": 290,
   "metadata": {},
   "outputs": [
    {
     "data": {
      "text/plain": [
       "<Axes: >"
      ]
     },
     "execution_count": 290,
     "metadata": {},
     "output_type": "execute_result"
    },
    {
     "data": {
      "image/png": "[encoded data removed]",
      "text/plain": [
       "<Figure size 640x480 with 1 Axes>"
      ]
     },
     "metadata": {},
     "output_type": "display_data"
    }
   ],
   "source": [
    "df[[\"nitrate\"]].plot(kind = \"box\")"
   ]
  },
  {
   "cell_type": "code",
   "execution_count": 291,
   "metadata": {},
   "outputs": [
    {
     "name": "stdout",
     "output_type": "stream",
     "text": [
      "Outliers found: 7\n"
     ]
    },
    {
     "data": {
      "text/html": [
       "<div>\n",
       "<style scoped>\n",
       "    .dataframe tbody tr th:only-of-type {\n",
       "        vertical-align: middle;\n",
       "    }\n",
       "\n",
       "    .dataframe tbody tr th {\n",
       "        vertical-align: top;\n",
       "    }\n",
       "\n",
       "    .dataframe thead th {\n",
       "        text-align: right;\n",
       "    }\n",
       "</style>\n",
       "<table border=\"1\" class=\"dataframe\">\n",
       "  <thead>\n",
       "    <tr style=\"text-align: right;\">\n",
       "      <th></th>\n",
       "      <th>bro-id</th>\n",
       "      <th>nitrate</th>\n",
       "      <th>geometry</th>\n",
       "      <th>date</th>\n",
       "      <th>population</th>\n",
       "      <th>groundwater depth</th>\n",
       "      <th>elevation</th>\n",
       "      <th>lon</th>\n",
       "      <th>lat</th>\n",
       "      <th>precipitation</th>\n",
       "      <th>temperature</th>\n",
       "      <th>n deposition</th>\n",
       "      <th>soilunit_code_1</th>\n",
       "      <th>organicmattercontent_1</th>\n",
       "      <th>density_1</th>\n",
       "      <th>acidity_1</th>\n",
       "      <th>month</th>\n",
       "      <th>year</th>\n",
       "    </tr>\n",
       "  </thead>\n",
       "  <tbody>\n",
       "    <tr>\n",
       "      <th>1</th>\n",
       "      <td>GAR000000000784</td>\n",
       "      <td>29.37</td>\n",
       "      <td>POINT (5.600793941 51.962453539)</td>\n",
       "      <td>2012-02-23 10:00:00+00:00</td>\n",
       "      <td>40.0</td>\n",
       "      <td>6.838178</td>\n",
       "      <td>12.048532</td>\n",
       "      <td>5.600794</td>\n",
       "      <td>51.962454</td>\n",
       "      <td>8.75</td>\n",
       "      <td>29.466667</td>\n",
       "      <td>27.383685</td>\n",
       "      <td>bEZ30</td>\n",
       "      <td>2.0</td>\n",
       "      <td>1.425</td>\n",
       "      <td>4.5</td>\n",
       "      <td>2</td>\n",
       "      <td>2012</td>\n",
       "    </tr>\n",
       "    <tr>\n",
       "      <th>33</th>\n",
       "      <td>GAR000000000826</td>\n",
       "      <td>13.17</td>\n",
       "      <td>POINT (5.580385464 51.97882674)</td>\n",
       "      <td>2012-04-05 10:00:00+00:00</td>\n",
       "      <td>10.0</td>\n",
       "      <td>9.198382</td>\n",
       "      <td>8.355708</td>\n",
       "      <td>5.580385</td>\n",
       "      <td>51.978827</td>\n",
       "      <td>1.75</td>\n",
       "      <td>59.083333</td>\n",
       "      <td>23.433711</td>\n",
       "      <td>pZg21</td>\n",
       "      <td>5.5</td>\n",
       "      <td>1.368</td>\n",
       "      <td>4.8</td>\n",
       "      <td>4</td>\n",
       "      <td>2012</td>\n",
       "    </tr>\n",
       "    <tr>\n",
       "      <th>78</th>\n",
       "      <td>GAR000000000785</td>\n",
       "      <td>20.00</td>\n",
       "      <td>POINT (5.600793941 51.962453539)</td>\n",
       "      <td>2015-06-16 10:00:00+00:00</td>\n",
       "      <td>35.0</td>\n",
       "      <td>6.634271</td>\n",
       "      <td>12.048532</td>\n",
       "      <td>5.600794</td>\n",
       "      <td>51.962454</td>\n",
       "      <td>1.00</td>\n",
       "      <td>125.166667</td>\n",
       "      <td>25.198593</td>\n",
       "      <td>bEZ30</td>\n",
       "      <td>2.0</td>\n",
       "      <td>1.425</td>\n",
       "      <td>4.5</td>\n",
       "      <td>6</td>\n",
       "      <td>2015</td>\n",
       "    </tr>\n",
       "    <tr>\n",
       "      <th>79</th>\n",
       "      <td>GAR000000000827</td>\n",
       "      <td>13.00</td>\n",
       "      <td>POINT (5.580385464 51.97882674)</td>\n",
       "      <td>2015-06-16 10:00:00+00:00</td>\n",
       "      <td>15.0</td>\n",
       "      <td>9.296806</td>\n",
       "      <td>8.355708</td>\n",
       "      <td>5.580385</td>\n",
       "      <td>51.978827</td>\n",
       "      <td>1.00</td>\n",
       "      <td>125.166667</td>\n",
       "      <td>21.654822</td>\n",
       "      <td>pZg21</td>\n",
       "      <td>5.5</td>\n",
       "      <td>1.368</td>\n",
       "      <td>4.8</td>\n",
       "      <td>6</td>\n",
       "      <td>2015</td>\n",
       "    </tr>\n",
       "    <tr>\n",
       "      <th>103</th>\n",
       "      <td>GAR000000000818</td>\n",
       "      <td>13.00</td>\n",
       "      <td>POINT (5.54652435 51.966979885)</td>\n",
       "      <td>2015-07-15 10:00:00+00:00</td>\n",
       "      <td>50.0</td>\n",
       "      <td>9.229444</td>\n",
       "      <td>16.680454</td>\n",
       "      <td>5.546524</td>\n",
       "      <td>51.966980</td>\n",
       "      <td>27.50</td>\n",
       "      <td>157.633333</td>\n",
       "      <td>26.025006</td>\n",
       "      <td>bEZ30</td>\n",
       "      <td>2.0</td>\n",
       "      <td>1.425</td>\n",
       "      <td>4.5</td>\n",
       "      <td>7</td>\n",
       "      <td>2015</td>\n",
       "    </tr>\n",
       "    <tr>\n",
       "      <th>147</th>\n",
       "      <td>GAR000000000786</td>\n",
       "      <td>17.00</td>\n",
       "      <td>POINT (5.600793941 51.962453539)</td>\n",
       "      <td>2018-05-18 10:00:00+00:00</td>\n",
       "      <td>40.0</td>\n",
       "      <td>6.654944</td>\n",
       "      <td>12.048532</td>\n",
       "      <td>5.600794</td>\n",
       "      <td>51.962454</td>\n",
       "      <td>0.25</td>\n",
       "      <td>115.566667</td>\n",
       "      <td>25.716852</td>\n",
       "      <td>bEZ30</td>\n",
       "      <td>2.0</td>\n",
       "      <td>1.425</td>\n",
       "      <td>4.5</td>\n",
       "      <td>5</td>\n",
       "      <td>2018</td>\n",
       "    </tr>\n",
       "    <tr>\n",
       "      <th>163</th>\n",
       "      <td>GAR000000000819</td>\n",
       "      <td>17.00</td>\n",
       "      <td>POINT (5.54652435 51.966979885)</td>\n",
       "      <td>2018-05-28 10:00:00+00:00</td>\n",
       "      <td>55.0</td>\n",
       "      <td>9.291444</td>\n",
       "      <td>16.680454</td>\n",
       "      <td>5.546524</td>\n",
       "      <td>51.966980</td>\n",
       "      <td>6.00</td>\n",
       "      <td>137.700000</td>\n",
       "      <td>28.616301</td>\n",
       "      <td>bEZ30</td>\n",
       "      <td>2.0</td>\n",
       "      <td>1.425</td>\n",
       "      <td>4.5</td>\n",
       "      <td>5</td>\n",
       "      <td>2018</td>\n",
       "    </tr>\n",
       "  </tbody>\n",
       "</table>\n",
       "</div>"
      ],
      "text/plain": [
       "              bro-id  nitrate                          geometry  \\\n",
       "1    GAR000000000784    29.37  POINT (5.600793941 51.962453539)   \n",
       "33   GAR000000000826    13.17   POINT (5.580385464 51.97882674)   \n",
       "78   GAR000000000785    20.00  POINT (5.600793941 51.962453539)   \n",
       "79   GAR000000000827    13.00   POINT (5.580385464 51.97882674)   \n",
       "103  GAR000000000818    13.00   POINT (5.54652435 51.966979885)   \n",
       "147  GAR000000000786    17.00  POINT (5.600793941 51.962453539)   \n",
       "163  GAR000000000819    17.00   POINT (5.54652435 51.966979885)   \n",
       "\n",
       "                         date  population  groundwater depth  elevation  \\\n",
       "1   2012-02-23 10:00:00+00:00        40.0           6.838178  12.048532   \n",
       "33  2012-04-05 10:00:00+00:00        10.0           9.198382   8.355708   \n",
       "78  2015-06-16 10:00:00+00:00        35.0           6.634271  12.048532   \n",
       "79  2015-06-16 10:00:00+00:00        15.0           9.296806   8.355708   \n",
       "103 2015-07-15 10:00:00+00:00        50.0           9.229444  16.680454   \n",
       "147 2018-05-18 10:00:00+00:00        40.0           6.654944  12.048532   \n",
       "163 2018-05-28 10:00:00+00:00        55.0           9.291444  16.680454   \n",
       "\n",
       "          lon        lat  precipitation  temperature  n deposition  \\\n",
       "1    5.600794  51.962454           8.75    29.466667     27.383685   \n",
       "33   5.580385  51.978827           1.75    59.083333     23.433711   \n",
       "78   5.600794  51.962454           1.00   125.166667     25.198593   \n",
       "79   5.580385  51.978827           1.00   125.166667     21.654822   \n",
       "103  5.546524  51.966980          27.50   157.633333     26.025006   \n",
       "147  5.600794  51.962454           0.25   115.566667     25.716852   \n",
       "163  5.546524  51.966980           6.00   137.700000     28.616301   \n",
       "\n",
       "    soilunit_code_1  organicmattercontent_1  density_1  acidity_1  month  year  \n",
       "1             bEZ30                     2.0      1.425        4.5      2  2012  \n",
       "33            pZg21                     5.5      1.368        4.8      4  2012  \n",
       "78            bEZ30                     2.0      1.425        4.5      6  2015  \n",
       "79            pZg21                     5.5      1.368        4.8      6  2015  \n",
       "103           bEZ30                     2.0      1.425        4.5      7  2015  \n",
       "147           bEZ30                     2.0      1.425        4.5      5  2018  \n",
       "163           bEZ30                     2.0      1.425        4.5      5  2018  "
      ]
     },
     "execution_count": 291,
     "metadata": {},
     "output_type": "execute_result"
    }
   ],
   "source": [
    "q1 = df[\"nitrate\"].quantile(0.25)\n",
    "q3 = df[\"nitrate\"].quantile(0.75)\n",
    "iqr = q3 - q1\n",
    "\n",
    "lower_bound = q1 - 1.5 * iqr\n",
    "upper_bound = q3 + 1.5 * iqr\n",
    "\n",
    "outliers = df[(df[\"nitrate\"] < lower_bound) | (df[\"nitrate\"] > upper_bound)]\n",
    "print(f\"Outliers found: {len(outliers)}\")\n",
    "outliers"
   ]
  },
  {
   "cell_type": "code",
   "execution_count": 292,
   "metadata": {},
   "outputs": [],
   "source": [
    "# top_nitrate_outliers = list(df[\"nitrate\"].sort_values()[-len(outliers):].index)\n",
    "# top_nitrate_outliers\n",
    "# df = df.drop(top_nitrate_outliers)\n",
    "# len(df)"
   ]
  },
  {
   "cell_type": "markdown",
   "metadata": {},
   "source": [
    "## Test / train split"
   ]
  },
  {
   "cell_type": "code",
   "execution_count": 293,
   "metadata": {},
   "outputs": [],
   "source": [
    "df[\"nitrate\"] = np.log1p(df[\"nitrate\"])"
   ]
  },
  {
   "cell_type": "code",
   "execution_count": 294,
   "metadata": {},
   "outputs": [
    {
     "name": "stdout",
     "output_type": "stream",
     "text": [
      "Train: 84\n",
      "Test: 48\n"
     ]
    }
   ],
   "source": [
    "train_df = df[df[\"year\"].isin([2012, 2013, 2014, 2015, 2016, 2017])]\n",
    "test_df  = df[df[\"year\"].isin([2018, 2019, 2020])]\n",
    "\n",
    "print(f\"Train: {len(train_df)}\")\n",
    "print(f\"Test: {len(test_df)}\")\n",
    "\n",
    "X_train = train_df.drop(columns=[\"nitrate\", \"bro-id\", \"date\", \"year\", \"geometry\", \"lon\", \"lat\", \"month\"])\n",
    "y_train = train_df[\"nitrate\"]\n",
    "\n",
    "X_test = test_df.drop(columns=[\"nitrate\", \"bro-id\", \"date\", \"year\", \"geometry\", \"lon\", \"lat\", \"month\"])\n",
    "y_test = test_df[\"nitrate\"]"
   ]
  },
  {
   "cell_type": "markdown",
   "metadata": {},
   "source": [
    "## Preprocess data"
   ]
  },
  {
   "cell_type": "code",
   "execution_count": 295,
   "metadata": {},
   "outputs": [],
   "source": [
    "categorical_cols = X_train.select_dtypes(include=\"category\").columns.tolist()\n",
    "numerical_cols = X_train.select_dtypes(include=[\"float64\", \"int64\"]).columns.tolist()"
   ]
  },
  {
   "cell_type": "code",
   "execution_count": 296,
   "metadata": {},
   "outputs": [
    {
     "name": "stdout",
     "output_type": "stream",
     "text": [
      "Categorical: ['soilunit_code_1']\n",
      "Numerical: ['population', 'groundwater depth', 'elevation', 'precipitation', 'temperature', 'n deposition', 'organicmattercontent_1', 'density_1', 'acidity_1']\n",
      "All X_train columns: ['population', 'groundwater depth', 'elevation', 'precipitation', 'temperature', 'n deposition', 'soilunit_code_1', 'organicmattercontent_1', 'density_1', 'acidity_1']\n"
     ]
    }
   ],
   "source": [
    "print(\"Categorical:\", categorical_cols)\n",
    "print(\"Numerical:\", numerical_cols)\n",
    "print(\"All X_train columns:\", X_train.columns.tolist())"
   ]
  },
  {
   "cell_type": "code",
   "execution_count": 297,
   "metadata": {},
   "outputs": [],
   "source": [
    "# preprocessor = ColumnTransformer([\n",
    "#     (\"cat_ohe\", OneHotEncoder(handle_unknown=\"ignore\", sparse_output=False), categorical_cols)\n",
    "# ], remainder=\"passthrough\")\n",
    "\n",
    "preprocessor = ColumnTransformer([\n",
    "    (\"cat_ohe\", OneHotEncoder(handle_unknown=\"ignore\", sparse_output=False), categorical_cols),\n",
    "    (\"num_scaler\", StandardScaler(), numerical_cols)\n",
    "])"
   ]
  },
  {
   "cell_type": "markdown",
   "metadata": {},
   "source": [
    "## Initialize model"
   ]
  },
  {
   "cell_type": "code",
   "execution_count": 298,
   "metadata": {},
   "outputs": [],
   "source": [
    "rf_model = RandomForestRegressor(random_state=4, oob_score=True)"
   ]
  },
  {
   "cell_type": "code",
   "execution_count": 299,
   "metadata": {},
   "outputs": [],
   "source": [
    "pipe = Pipeline([\n",
    "    (\"prep\", preprocessor),\n",
    "    (\"rf\", rf_model)\n",
    "])"
   ]
  },
  {
   "cell_type": "code",
   "execution_count": 300,
   "metadata": {},
   "outputs": [],
   "source": [
    "param_grid = {\n",
    "    \"rf__n_estimators\": [100, 150, 200],\n",
    "    \"rf__max_features\": [\"sqrt\", 0.5, 1],\n",
    "    \"rf__max_depth\": [None, 10],\n",
    "    \"rf__min_samples_split\": [2, 4, 6],\n",
    "    \"rf__min_samples_leaf\": [1, 2]\n",
    "}"
   ]
  },
  {
   "cell_type": "markdown",
   "metadata": {},
   "source": [
    "## Hyperparameter tuning"
   ]
  },
  {
   "cell_type": "code",
   "execution_count": 301,
   "metadata": {},
   "outputs": [
    {
     "name": "stdout",
     "output_type": "stream",
     "text": [
      "Fitting 5 folds for each of 30 candidates, totalling 150 fits\n"
     ]
    },
    {
     "data": {
      "text/html": [
       "<style>#sk-container-id-9 {\n",
       "  /* Definition of color scheme common for light and dark mode */\n",
       "  --sklearn-color-text: #000;\n",
       "  --sklearn-color-text-muted: #666;\n",
       "  --sklearn-color-line: gray;\n",
       "  /* Definition of color scheme for unfitted estimators */\n",
       "  --sklearn-color-unfitted-level-0: #fff5e6;\n",
       "  --sklearn-color-unfitted-level-1: #f6e4d2;\n",
       "  --sklearn-color-unfitted-level-2: #ffe0b3;\n",
       "  --sklearn-color-unfitted-level-3: chocolate;\n",
       "  /* Definition of color scheme for fitted estimators */\n",
       "  --sklearn-color-fitted-level-0: #f0f8ff;\n",
       "  --sklearn-color-fitted-level-1: #d4ebff;\n",
       "  --sklearn-color-fitted-level-2: #b3dbfd;\n",
       "  --sklearn-color-fitted-level-3: cornflowerblue;\n",
       "\n",
       "  /* Specific color for light theme */\n",
       "  --sklearn-color-text-on-default-background: var(--sg-text-color, var(--theme-code-foreground, var(--jp-content-font-color1, black)));\n",
       "  --sklearn-color-background: var(--sg-background-color, var(--theme-background, var(--jp-layout-color0, white)));\n",
       "  --sklearn-color-border-box: var(--sg-text-color, var(--theme-code-foreground, var(--jp-content-font-color1, black)));\n",
       "  --sklearn-color-icon: #696969;\n",
       "\n",
       "  @media (prefers-color-scheme: dark) {\n",
       "    /* Redefinition of color scheme for dark theme */\n",
       "    --sklearn-color-text-on-default-background: var(--sg-text-color, var(--theme-code-foreground, var(--jp-content-font-color1, white)));\n",
       "    --sklearn-color-background: var(--sg-background-color, var(--theme-background, var(--jp-layout-color0, #111)));\n",
       "    --sklearn-color-border-box: var(--sg-text-color, var(--theme-code-foreground, var(--jp-content-font-color1, white)));\n",
       "    --sklearn-color-icon: #878787;\n",
       "  }\n",
       "}\n",
       "\n",
       "#sk-container-id-9 {\n",
       "  color: var(--sklearn-color-text);\n",
       "}\n",
       "\n",
       "#sk-container-id-9 pre {\n",
       "  padding: 0;\n",
       "}\n",
       "\n",
       "#sk-container-id-9 input.sk-hidden--visually {\n",
       "  border: 0;\n",
       "  clip: rect(1px 1px 1px 1px);\n",
       "  clip: rect(1px, 1px, 1px, 1px);\n",
       "  height: 1px;\n",
       "  margin: -1px;\n",
       "  overflow: hidden;\n",
       "  padding: 0;\n",
       "  position: absolute;\n",
       "  width: 1px;\n",
       "}\n",
       "\n",
       "#sk-container-id-9 div.sk-dashed-wrapped {\n",
       "  border: 1px dashed var(--sklearn-color-line);\n",
       "  margin: 0 0.4em 0.5em 0.4em;\n",
       "  box-sizing: border-box;\n",
       "  padding-bottom: 0.4em;\n",
       "  background-color: var(--sklearn-color-background);\n",
       "}\n",
       "\n",
       "#sk-container-id-9 div.sk-container {\n",
       "  /* jupyter's `normalize.less` sets `[hidden] { display: none; }`\n",
       "     but bootstrap.min.css set `[hidden] { display: none !important; }`\n",
       "     so we also need the `!important` here to be able to override the\n",
       "     default hidden behavior on the sphinx rendered scikit-learn.org.\n",
       "     See: https://github.com/scikit-learn/scikit-learn/issues/21755 */\n",
       "  display: inline-block !important;\n",
       "  position: relative;\n",
       "}\n",
       "\n",
       "#sk-container-id-9 div.sk-text-repr-fallback {\n",
       "  display: none;\n",
       "}\n",
       "\n",
       "div.sk-parallel-item,\n",
       "div.sk-serial,\n",
       "div.sk-item {\n",
       "  /* draw centered vertical line to link estimators */\n",
       "  background-image: linear-gradient(var(--sklearn-color-text-on-default-background), var(--sklearn-color-text-on-default-background));\n",
       "  background-size: 2px 100%;\n",
       "  background-repeat: no-repeat;\n",
       "  background-position: center center;\n",
       "}\n",
       "\n",
       "/* Parallel-specific style estimator block */\n",
       "\n",
       "#sk-container-id-9 div.sk-parallel-item::after {\n",
       "  content: \"\";\n",
       "  width: 100%;\n",
       "  border-bottom: 2px solid var(--sklearn-color-text-on-default-background);\n",
       "  flex-grow: 1;\n",
       "}\n",
       "\n",
       "#sk-container-id-9 div.sk-parallel {\n",
       "  display: flex;\n",
       "  align-items: stretch;\n",
       "  justify-content: center;\n",
       "  background-color: var(--sklearn-color-background);\n",
       "  position: relative;\n",
       "}\n",
       "\n",
       "#sk-container-id-9 div.sk-parallel-item {\n",
       "  display: flex;\n",
       "  flex-direction: column;\n",
       "}\n",
       "\n",
       "#sk-container-id-9 div.sk-parallel-item:first-child::after {\n",
       "  align-self: flex-end;\n",
       "  width: 50%;\n",
       "}\n",
       "\n",
       "#sk-container-id-9 div.sk-parallel-item:last-child::after {\n",
       "  align-self: flex-start;\n",
       "  width: 50%;\n",
       "}\n",
       "\n",
       "#sk-container-id-9 div.sk-parallel-item:only-child::after {\n",
       "  width: 0;\n",
       "}\n",
       "\n",
       "/* Serial-specific style estimator block */\n",
       "\n",
       "#sk-container-id-9 div.sk-serial {\n",
       "  display: flex;\n",
       "  flex-direction: column;\n",
       "  align-items: center;\n",
       "  background-color: var(--sklearn-color-background);\n",
       "  padding-right: 1em;\n",
       "  padding-left: 1em;\n",
       "}\n",
       "\n",
       "\n",
       "/* Toggleable style: style used for estimator/Pipeline/ColumnTransformer box that is\n",
       "clickable and can be expanded/collapsed.\n",
       "- Pipeline and ColumnTransformer use this feature and define the default style\n",
       "- Estimators will overwrite some part of the style using the `sk-estimator` class\n",
       "*/\n",
       "\n",
       "/* Pipeline and ColumnTransformer style (default) */\n",
       "\n",
       "#sk-container-id-9 div.sk-toggleable {\n",
       "  /* Default theme specific background. It is overwritten whether we have a\n",
       "  specific estimator or a Pipeline/ColumnTransformer */\n",
       "  background-color: var(--sklearn-color-background);\n",
       "}\n",
       "\n",
       "/* Toggleable label */\n",
       "#sk-container-id-9 label.sk-toggleable__label {\n",
       "  cursor: pointer;\n",
       "  display: flex;\n",
       "  width: 100%;\n",
       "  margin-bottom: 0;\n",
       "  padding: 0.5em;\n",
       "  box-sizing: border-box;\n",
       "  text-align: center;\n",
       "  align-items: start;\n",
       "  justify-content: space-between;\n",
       "  gap: 0.5em;\n",
       "}\n",
       "\n",
       "#sk-container-id-9 label.sk-toggleable__label .caption {\n",
       "  font-size: 0.6rem;\n",
       "  font-weight: lighter;\n",
       "  color: var(--sklearn-color-text-muted);\n",
       "}\n",
       "\n",
       "#sk-container-id-9 label.sk-toggleable__label-arrow:before {\n",
       "  /* Arrow on the left of the label */\n",
       "  content: \"▸\";\n",
       "  float: left;\n",
       "  margin-right: 0.25em;\n",
       "  color: var(--sklearn-color-icon);\n",
       "}\n",
       "\n",
       "#sk-container-id-9 label.sk-toggleable__label-arrow:hover:before {\n",
       "  color: var(--sklearn-color-text);\n",
       "}\n",
       "\n",
       "/* Toggleable content - dropdown */\n",
       "\n",
       "#sk-container-id-9 div.sk-toggleable__content {\n",
       "  max-height: 0;\n",
       "  max-width: 0;\n",
       "  overflow: hidden;\n",
       "  text-align: left;\n",
       "  /* unfitted */\n",
       "  background-color: var(--sklearn-color-unfitted-level-0);\n",
       "}\n",
       "\n",
       "#sk-container-id-9 div.sk-toggleable__content.fitted {\n",
       "  /* fitted */\n",
       "  background-color: var(--sklearn-color-fitted-level-0);\n",
       "}\n",
       "\n",
       "#sk-container-id-9 div.sk-toggleable__content pre {\n",
       "  margin: 0.2em;\n",
       "  border-radius: 0.25em;\n",
       "  color: var(--sklearn-color-text);\n",
       "  /* unfitted */\n",
       "  background-color: var(--sklearn-color-unfitted-level-0);\n",
       "}\n",
       "\n",
       "#sk-container-id-9 div.sk-toggleable__content.fitted pre {\n",
       "  /* unfitted */\n",
       "  background-color: var(--sklearn-color-fitted-level-0);\n",
       "}\n",
       "\n",
       "#sk-container-id-9 input.sk-toggleable__control:checked~div.sk-toggleable__content {\n",
       "  /* Expand drop-down */\n",
       "  max-height: 200px;\n",
       "  max-width: 100%;\n",
       "  overflow: auto;\n",
       "}\n",
       "\n",
       "#sk-container-id-9 input.sk-toggleable__control:checked~label.sk-toggleable__label-arrow:before {\n",
       "  content: \"▾\";\n",
       "}\n",
       "\n",
       "/* Pipeline/ColumnTransformer-specific style */\n",
       "\n",
       "#sk-container-id-9 div.sk-label input.sk-toggleable__control:checked~label.sk-toggleable__label {\n",
       "  color: var(--sklearn-color-text);\n",
       "  background-color: var(--sklearn-color-unfitted-level-2);\n",
       "}\n",
       "\n",
       "#sk-container-id-9 div.sk-label.fitted input.sk-toggleable__control:checked~label.sk-toggleable__label {\n",
       "  background-color: var(--sklearn-color-fitted-level-2);\n",
       "}\n",
       "\n",
       "/* Estimator-specific style */\n",
       "\n",
       "/* Colorize estimator box */\n",
       "#sk-container-id-9 div.sk-estimator input.sk-toggleable__control:checked~label.sk-toggleable__label {\n",
       "  /* unfitted */\n",
       "  background-color: var(--sklearn-color-unfitted-level-2);\n",
       "}\n",
       "\n",
       "#sk-container-id-9 div.sk-estimator.fitted input.sk-toggleable__control:checked~label.sk-toggleable__label {\n",
       "  /* fitted */\n",
       "  background-color: var(--sklearn-color-fitted-level-2);\n",
       "}\n",
       "\n",
       "#sk-container-id-9 div.sk-label label.sk-toggleable__label,\n",
       "#sk-container-id-9 div.sk-label label {\n",
       "  /* The background is the default theme color */\n",
       "  color: var(--sklearn-color-text-on-default-background);\n",
       "}\n",
       "\n",
       "/* On hover, darken the color of the background */\n",
       "#sk-container-id-9 div.sk-label:hover label.sk-toggleable__label {\n",
       "  color: var(--sklearn-color-text);\n",
       "  background-color: var(--sklearn-color-unfitted-level-2);\n",
       "}\n",
       "\n",
       "/* Label box, darken color on hover, fitted */\n",
       "#sk-container-id-9 div.sk-label.fitted:hover label.sk-toggleable__label.fitted {\n",
       "  color: var(--sklearn-color-text);\n",
       "  background-color: var(--sklearn-color-fitted-level-2);\n",
       "}\n",
       "\n",
       "/* Estimator label */\n",
       "\n",
       "#sk-container-id-9 div.sk-label label {\n",
       "  font-family: monospace;\n",
       "  font-weight: bold;\n",
       "  display: inline-block;\n",
       "  line-height: 1.2em;\n",
       "}\n",
       "\n",
       "#sk-container-id-9 div.sk-label-container {\n",
       "  text-align: center;\n",
       "}\n",
       "\n",
       "/* Estimator-specific */\n",
       "#sk-container-id-9 div.sk-estimator {\n",
       "  font-family: monospace;\n",
       "  border: 1px dotted var(--sklearn-color-border-box);\n",
       "  border-radius: 0.25em;\n",
       "  box-sizing: border-box;\n",
       "  margin-bottom: 0.5em;\n",
       "  /* unfitted */\n",
       "  background-color: var(--sklearn-color-unfitted-level-0);\n",
       "}\n",
       "\n",
       "#sk-container-id-9 div.sk-estimator.fitted {\n",
       "  /* fitted */\n",
       "  background-color: var(--sklearn-color-fitted-level-0);\n",
       "}\n",
       "\n",
       "/* on hover */\n",
       "#sk-container-id-9 div.sk-estimator:hover {\n",
       "  /* unfitted */\n",
       "  background-color: var(--sklearn-color-unfitted-level-2);\n",
       "}\n",
       "\n",
       "#sk-container-id-9 div.sk-estimator.fitted:hover {\n",
       "  /* fitted */\n",
       "  background-color: var(--sklearn-color-fitted-level-2);\n",
       "}\n",
       "\n",
       "/* Specification for estimator info (e.g. \"i\" and \"?\") */\n",
       "\n",
       "/* Common style for \"i\" and \"?\" */\n",
       "\n",
       ".sk-estimator-doc-link,\n",
       "a:link.sk-estimator-doc-link,\n",
       "a:visited.sk-estimator-doc-link {\n",
       "  float: right;\n",
       "  font-size: smaller;\n",
       "  line-height: 1em;\n",
       "  font-family: monospace;\n",
       "  background-color: var(--sklearn-color-background);\n",
       "  border-radius: 1em;\n",
       "  height: 1em;\n",
       "  width: 1em;\n",
       "  text-decoration: none !important;\n",
       "  margin-left: 0.5em;\n",
       "  text-align: center;\n",
       "  /* unfitted */\n",
       "  border: var(--sklearn-color-unfitted-level-1) 1pt solid;\n",
       "  color: var(--sklearn-color-unfitted-level-1);\n",
       "}\n",
       "\n",
       ".sk-estimator-doc-link.fitted,\n",
       "a:link.sk-estimator-doc-link.fitted,\n",
       "a:visited.sk-estimator-doc-link.fitted {\n",
       "  /* fitted */\n",
       "  border: var(--sklearn-color-fitted-level-1) 1pt solid;\n",
       "  color: var(--sklearn-color-fitted-level-1);\n",
       "}\n",
       "\n",
       "/* On hover */\n",
       "div.sk-estimator:hover .sk-estimator-doc-link:hover,\n",
       ".sk-estimator-doc-link:hover,\n",
       "div.sk-label-container:hover .sk-estimator-doc-link:hover,\n",
       ".sk-estimator-doc-link:hover {\n",
       "  /* unfitted */\n",
       "  background-color: var(--sklearn-color-unfitted-level-3);\n",
       "  color: var(--sklearn-color-background);\n",
       "  text-decoration: none;\n",
       "}\n",
       "\n",
       "div.sk-estimator.fitted:hover .sk-estimator-doc-link.fitted:hover,\n",
       ".sk-estimator-doc-link.fitted:hover,\n",
       "div.sk-label-container:hover .sk-estimator-doc-link.fitted:hover,\n",
       ".sk-estimator-doc-link.fitted:hover {\n",
       "  /* fitted */\n",
       "  background-color: var(--sklearn-color-fitted-level-3);\n",
       "  color: var(--sklearn-color-background);\n",
       "  text-decoration: none;\n",
       "}\n",
       "\n",
       "/* Span, style for the box shown on hovering the info icon */\n",
       ".sk-estimator-doc-link span {\n",
       "  display: none;\n",
       "  z-index: 9999;\n",
       "  position: relative;\n",
       "  font-weight: normal;\n",
       "  right: .2ex;\n",
       "  padding: .5ex;\n",
       "  margin: .5ex;\n",
       "  width: min-content;\n",
       "  min-width: 20ex;\n",
       "  max-width: 50ex;\n",
       "  color: var(--sklearn-color-text);\n",
       "  box-shadow: 2pt 2pt 4pt #999;\n",
       "  /* unfitted */\n",
       "  background: var(--sklearn-color-unfitted-level-0);\n",
       "  border: .5pt solid var(--sklearn-color-unfitted-level-3);\n",
       "}\n",
       "\n",
       ".sk-estimator-doc-link.fitted span {\n",
       "  /* fitted */\n",
       "  background: var(--sklearn-color-fitted-level-0);\n",
       "  border: var(--sklearn-color-fitted-level-3);\n",
       "}\n",
       "\n",
       ".sk-estimator-doc-link:hover span {\n",
       "  display: block;\n",
       "}\n",
       "\n",
       "/* \"?\"-specific style due to the `<a>` HTML tag */\n",
       "\n",
       "#sk-container-id-9 a.estimator_doc_link {\n",
       "  float: right;\n",
       "  font-size: 1rem;\n",
       "  line-height: 1em;\n",
       "  font-family: monospace;\n",
       "  background-color: var(--sklearn-color-background);\n",
       "  border-radius: 1rem;\n",
       "  height: 1rem;\n",
       "  width: 1rem;\n",
       "  text-decoration: none;\n",
       "  /* unfitted */\n",
       "  color: var(--sklearn-color-unfitted-level-1);\n",
       "  border: var(--sklearn-color-unfitted-level-1) 1pt solid;\n",
       "}\n",
       "\n",
       "#sk-container-id-9 a.estimator_doc_link.fitted {\n",
       "  /* fitted */\n",
       "  border: var(--sklearn-color-fitted-level-1) 1pt solid;\n",
       "  color: var(--sklearn-color-fitted-level-1);\n",
       "}\n",
       "\n",
       "/* On hover */\n",
       "#sk-container-id-9 a.estimator_doc_link:hover {\n",
       "  /* unfitted */\n",
       "  background-color: var(--sklearn-color-unfitted-level-3);\n",
       "  color: var(--sklearn-color-background);\n",
       "  text-decoration: none;\n",
       "}\n",
       "\n",
       "#sk-container-id-9 a.estimator_doc_link.fitted:hover {\n",
       "  /* fitted */\n",
       "  background-color: var(--sklearn-color-fitted-level-3);\n",
       "}\n",
       "</style><div id=\"sk-container-id-9\" class=\"sk-top-container\"><div class=\"sk-text-repr-fallback\"><pre>RandomizedSearchCV(cv=TimeSeriesSplit(gap=0, max_train_size=None, n_splits=5, test_size=None),\n",
       "                   estimator=Pipeline(steps=[(&#x27;prep&#x27;,\n",
       "                                              ColumnTransformer(transformers=[(&#x27;cat_ohe&#x27;,\n",
       "                                                                               OneHotEncoder(handle_unknown=&#x27;ignore&#x27;,\n",
       "                                                                                             sparse_output=False),\n",
       "                                                                               [&#x27;soilunit_code_1&#x27;]),\n",
       "                                                                              (&#x27;num_scaler&#x27;,\n",
       "                                                                               StandardScaler(),\n",
       "                                                                               [&#x27;population&#x27;,\n",
       "                                                                                &#x27;groundwater &#x27;\n",
       "                                                                                &#x27;depth&#x27;,\n",
       "                                                                                &#x27;elevation&#x27;,\n",
       "                                                                                &#x27;precipitation&#x27;,\n",
       "                                                                                &#x27;tempera...\n",
       "                                                                                &#x27;organicmattercontent_1&#x27;,\n",
       "                                                                                &#x27;density_1&#x27;,\n",
       "                                                                                &#x27;acidity_1&#x27;])])),\n",
       "                                             (&#x27;rf&#x27;,\n",
       "                                              RandomForestRegressor(oob_score=True,\n",
       "                                                                    random_state=4))]),\n",
       "                   n_iter=30, n_jobs=-1,\n",
       "                   param_distributions={&#x27;rf__max_depth&#x27;: [None, 10],\n",
       "                                        &#x27;rf__max_features&#x27;: [&#x27;sqrt&#x27;, 0.5, 1],\n",
       "                                        &#x27;rf__min_samples_leaf&#x27;: [1, 2],\n",
       "                                        &#x27;rf__min_samples_split&#x27;: [2, 4, 6],\n",
       "                                        &#x27;rf__n_estimators&#x27;: [100, 150, 200]},\n",
       "                   random_state=9, scoring=&#x27;r2&#x27;, verbose=1)</pre><b>In a Jupyter environment, please rerun this cell to show the HTML representation or trust the notebook. <br />On GitHub, the HTML representation is unable to render, please try loading this page with nbviewer.org.</b></div><div class=\"sk-container\" hidden><div class=\"sk-item sk-dashed-wrapped\"><div class=\"sk-label-container\"><div class=\"sk-label fitted sk-toggleable\"><input class=\"sk-toggleable__control sk-hidden--visually\" id=\"sk-estimator-id-65\" type=\"checkbox\" ><label for=\"sk-estimator-id-65\" class=\"sk-toggleable__label fitted sk-toggleable__label-arrow\"><div><div>RandomizedSearchCV</div></div><div><a class=\"sk-estimator-doc-link fitted\" rel=\"noreferrer\" target=\"_blank\" href=\"https://scikit-learn.org/1.6/modules/generated/sklearn.model_selection.RandomizedSearchCV.html\">?<span>Documentation for RandomizedSearchCV</span></a><span class=\"sk-estimator-doc-link fitted\">i<span>Fitted</span></span></div></label><div class=\"sk-toggleable__content fitted\"><pre>RandomizedSearchCV(cv=TimeSeriesSplit(gap=0, max_train_size=None, n_splits=5, test_size=None),\n",
       "                   estimator=Pipeline(steps=[(&#x27;prep&#x27;,\n",
       "                                              ColumnTransformer(transformers=[(&#x27;cat_ohe&#x27;,\n",
       "                                                                               OneHotEncoder(handle_unknown=&#x27;ignore&#x27;,\n",
       "                                                                                             sparse_output=False),\n",
       "                                                                               [&#x27;soilunit_code_1&#x27;]),\n",
       "                                                                              (&#x27;num_scaler&#x27;,\n",
       "                                                                               StandardScaler(),\n",
       "                                                                               [&#x27;population&#x27;,\n",
       "                                                                                &#x27;groundwater &#x27;\n",
       "                                                                                &#x27;depth&#x27;,\n",
       "                                                                                &#x27;elevation&#x27;,\n",
       "                                                                                &#x27;precipitation&#x27;,\n",
       "                                                                                &#x27;tempera...\n",
       "                                                                                &#x27;organicmattercontent_1&#x27;,\n",
       "                                                                                &#x27;density_1&#x27;,\n",
       "                                                                                &#x27;acidity_1&#x27;])])),\n",
       "                                             (&#x27;rf&#x27;,\n",
       "                                              RandomForestRegressor(oob_score=True,\n",
       "                                                                    random_state=4))]),\n",
       "                   n_iter=30, n_jobs=-1,\n",
       "                   param_distributions={&#x27;rf__max_depth&#x27;: [None, 10],\n",
       "                                        &#x27;rf__max_features&#x27;: [&#x27;sqrt&#x27;, 0.5, 1],\n",
       "                                        &#x27;rf__min_samples_leaf&#x27;: [1, 2],\n",
       "                                        &#x27;rf__min_samples_split&#x27;: [2, 4, 6],\n",
       "                                        &#x27;rf__n_estimators&#x27;: [100, 150, 200]},\n",
       "                   random_state=9, scoring=&#x27;r2&#x27;, verbose=1)</pre></div> </div></div><div class=\"sk-parallel\"><div class=\"sk-parallel-item\"><div class=\"sk-item\"><div class=\"sk-label-container\"><div class=\"sk-label fitted sk-toggleable\"><input class=\"sk-toggleable__control sk-hidden--visually\" id=\"sk-estimator-id-66\" type=\"checkbox\" ><label for=\"sk-estimator-id-66\" class=\"sk-toggleable__label fitted sk-toggleable__label-arrow\"><div><div>best_estimator_: Pipeline</div></div></label><div class=\"sk-toggleable__content fitted\"><pre>Pipeline(steps=[(&#x27;prep&#x27;,\n",
       "                 ColumnTransformer(transformers=[(&#x27;cat_ohe&#x27;,\n",
       "                                                  OneHotEncoder(handle_unknown=&#x27;ignore&#x27;,\n",
       "                                                                sparse_output=False),\n",
       "                                                  [&#x27;soilunit_code_1&#x27;]),\n",
       "                                                 (&#x27;num_scaler&#x27;,\n",
       "                                                  StandardScaler(),\n",
       "                                                  [&#x27;population&#x27;,\n",
       "                                                   &#x27;groundwater depth&#x27;,\n",
       "                                                   &#x27;elevation&#x27;, &#x27;precipitation&#x27;,\n",
       "                                                   &#x27;temperature&#x27;,\n",
       "                                                   &#x27;n deposition&#x27;,\n",
       "                                                   &#x27;organicmattercontent_1&#x27;,\n",
       "                                                   &#x27;density_1&#x27;,\n",
       "                                                   &#x27;acidity_1&#x27;])])),\n",
       "                (&#x27;rf&#x27;,\n",
       "                 RandomForestRegressor(max_features=0.5, min_samples_split=4,\n",
       "                                       oob_score=True, random_state=4))])</pre></div> </div></div><div class=\"sk-serial\"><div class=\"sk-item\"><div class=\"sk-serial\"><div class=\"sk-item sk-dashed-wrapped\"><div class=\"sk-label-container\"><div class=\"sk-label fitted sk-toggleable\"><input class=\"sk-toggleable__control sk-hidden--visually\" id=\"sk-estimator-id-67\" type=\"checkbox\" ><label for=\"sk-estimator-id-67\" class=\"sk-toggleable__label fitted sk-toggleable__label-arrow\"><div><div>prep: ColumnTransformer</div></div><div><a class=\"sk-estimator-doc-link fitted\" rel=\"noreferrer\" target=\"_blank\" href=\"https://scikit-learn.org/1.6/modules/generated/sklearn.compose.ColumnTransformer.html\">?<span>Documentation for prep: ColumnTransformer</span></a></div></label><div class=\"sk-toggleable__content fitted\"><pre>ColumnTransformer(transformers=[(&#x27;cat_ohe&#x27;,\n",
       "                                 OneHotEncoder(handle_unknown=&#x27;ignore&#x27;,\n",
       "                                               sparse_output=False),\n",
       "                                 [&#x27;soilunit_code_1&#x27;]),\n",
       "                                (&#x27;num_scaler&#x27;, StandardScaler(),\n",
       "                                 [&#x27;population&#x27;, &#x27;groundwater depth&#x27;,\n",
       "                                  &#x27;elevation&#x27;, &#x27;precipitation&#x27;, &#x27;temperature&#x27;,\n",
       "                                  &#x27;n deposition&#x27;, &#x27;organicmattercontent_1&#x27;,\n",
       "                                  &#x27;density_1&#x27;, &#x27;acidity_1&#x27;])])</pre></div> </div></div><div class=\"sk-parallel\"><div class=\"sk-parallel-item\"><div class=\"sk-item\"><div class=\"sk-label-container\"><div class=\"sk-label fitted sk-toggleable\"><input class=\"sk-toggleable__control sk-hidden--visually\" id=\"sk-estimator-id-68\" type=\"checkbox\" ><label for=\"sk-estimator-id-68\" class=\"sk-toggleable__label fitted sk-toggleable__label-arrow\"><div><div>cat_ohe</div></div></label><div class=\"sk-toggleable__content fitted\"><pre>[&#x27;soilunit_code_1&#x27;]</pre></div> </div></div><div class=\"sk-serial\"><div class=\"sk-item\"><div class=\"sk-estimator fitted sk-toggleable\"><input class=\"sk-toggleable__control sk-hidden--visually\" id=\"sk-estimator-id-69\" type=\"checkbox\" ><label for=\"sk-estimator-id-69\" class=\"sk-toggleable__label fitted sk-toggleable__label-arrow\"><div><div>OneHotEncoder</div></div><div><a class=\"sk-estimator-doc-link fitted\" rel=\"noreferrer\" target=\"_blank\" href=\"https://scikit-learn.org/1.6/modules/generated/sklearn.preprocessing.OneHotEncoder.html\">?<span>Documentation for OneHotEncoder</span></a></div></label><div class=\"sk-toggleable__content fitted\"><pre>OneHotEncoder(handle_unknown=&#x27;ignore&#x27;, sparse_output=False)</pre></div> </div></div></div></div></div><div class=\"sk-parallel-item\"><div class=\"sk-item\"><div class=\"sk-label-container\"><div class=\"sk-label fitted sk-toggleable\"><input class=\"sk-toggleable__control sk-hidden--visually\" id=\"sk-estimator-id-70\" type=\"checkbox\" ><label for=\"sk-estimator-id-70\" class=\"sk-toggleable__label fitted sk-toggleable__label-arrow\"><div><div>num_scaler</div></div></label><div class=\"sk-toggleable__content fitted\"><pre>[&#x27;population&#x27;, &#x27;groundwater depth&#x27;, &#x27;elevation&#x27;, &#x27;precipitation&#x27;, &#x27;temperature&#x27;, &#x27;n deposition&#x27;, &#x27;organicmattercontent_1&#x27;, &#x27;density_1&#x27;, &#x27;acidity_1&#x27;]</pre></div> </div></div><div class=\"sk-serial\"><div class=\"sk-item\"><div class=\"sk-estimator fitted sk-toggleable\"><input class=\"sk-toggleable__control sk-hidden--visually\" id=\"sk-estimator-id-71\" type=\"checkbox\" ><label for=\"sk-estimator-id-71\" class=\"sk-toggleable__label fitted sk-toggleable__label-arrow\"><div><div>StandardScaler</div></div><div><a class=\"sk-estimator-doc-link fitted\" rel=\"noreferrer\" target=\"_blank\" href=\"https://scikit-learn.org/1.6/modules/generated/sklearn.preprocessing.StandardScaler.html\">?<span>Documentation for StandardScaler</span></a></div></label><div class=\"sk-toggleable__content fitted\"><pre>StandardScaler()</pre></div> </div></div></div></div></div></div></div><div class=\"sk-item\"><div class=\"sk-estimator fitted sk-toggleable\"><input class=\"sk-toggleable__control sk-hidden--visually\" id=\"sk-estimator-id-72\" type=\"checkbox\" ><label for=\"sk-estimator-id-72\" class=\"sk-toggleable__label fitted sk-toggleable__label-arrow\"><div><div>RandomForestRegressor</div></div><div><a class=\"sk-estimator-doc-link fitted\" rel=\"noreferrer\" target=\"_blank\" href=\"https://scikit-learn.org/1.6/modules/generated/sklearn.ensemble.RandomForestRegressor.html\">?<span>Documentation for RandomForestRegressor</span></a></div></label><div class=\"sk-toggleable__content fitted\"><pre>RandomForestRegressor(max_features=0.5, min_samples_split=4, oob_score=True,\n",
       "                      random_state=4)</pre></div> </div></div></div></div></div></div></div></div></div></div></div>"
      ],
      "text/plain": [
       "RandomizedSearchCV(cv=TimeSeriesSplit(gap=0, max_train_size=None, n_splits=5, test_size=None),\n",
       "                   estimator=Pipeline(steps=[('prep',\n",
       "                                              ColumnTransformer(transformers=[('cat_ohe',\n",
       "                                                                               OneHotEncoder(handle_unknown='ignore',\n",
       "                                                                                             sparse_output=False),\n",
       "                                                                               ['soilunit_code_1']),\n",
       "                                                                              ('num_scaler',\n",
       "                                                                               StandardScaler(),\n",
       "                                                                               ['population',\n",
       "                                                                                'groundwater '\n",
       "                                                                                'depth',\n",
       "                                                                                'elevation',\n",
       "                                                                                'precipitation',\n",
       "                                                                                'tempera...\n",
       "                                                                                'organicmattercontent_1',\n",
       "                                                                                'density_1',\n",
       "                                                                                'acidity_1'])])),\n",
       "                                             ('rf',\n",
       "                                              RandomForestRegressor(oob_score=True,\n",
       "                                                                    random_state=4))]),\n",
       "                   n_iter=30, n_jobs=-1,\n",
       "                   param_distributions={'rf__max_depth': [None, 10],\n",
       "                                        'rf__max_features': ['sqrt', 0.5, 1],\n",
       "                                        'rf__min_samples_leaf': [1, 2],\n",
       "                                        'rf__min_samples_split': [2, 4, 6],\n",
       "                                        'rf__n_estimators': [100, 150, 200]},\n",
       "                   random_state=9, scoring='r2', verbose=1)"
      ]
     },
     "execution_count": 301,
     "metadata": {},
     "output_type": "execute_result"
    }
   ],
   "source": [
    "tscv = TimeSeriesSplit(n_splits=5)\n",
    "\n",
    "search = RandomizedSearchCV(\n",
    "    pipe,\n",
    "    param_distributions=param_grid,\n",
    "    n_iter=30,\n",
    "    cv=tscv,\n",
    "    scoring=\"r2\",\n",
    "    n_jobs=-1,\n",
    "    random_state=9,\n",
    "    verbose=1\n",
    ")\n",
    "search.fit(X_train, y_train)"
   ]
  },
  {
   "cell_type": "markdown",
   "metadata": {},
   "source": [
    "## Train score"
   ]
  },
  {
   "cell_type": "code",
   "execution_count": 302,
   "metadata": {},
   "outputs": [
    {
     "name": "stdout",
     "output_type": "stream",
     "text": [
      "Train R2: 0.8798332185709257\n",
      "Train MAE: 0.7956426269655488\n",
      "Test RMSE: 1.800189702237288\n"
     ]
    }
   ],
   "source": [
    "pred_train = search.predict(X_train)\n",
    "print(\"Train R2:\", r2_score(np.expm1(y_train), np.expm1(pred_train)))\n",
    "print(\"Train MAE:\", mean_absolute_error(np.expm1(y_train), np.expm1(pred_train)))\n",
    "print(\"Test RMSE:\", sqrt(mean_squared_error(np.expm1(y_train), np.expm1(pred_train))))"
   ]
  },
  {
   "cell_type": "markdown",
   "metadata": {},
   "source": [
    "## Test score"
   ]
  },
  {
   "cell_type": "code",
   "execution_count": 303,
   "metadata": {},
   "outputs": [
    {
     "name": "stdout",
     "output_type": "stream",
     "text": [
      "Best CV R2: 0.6028422354582859\n",
      "Best params: {'rf__n_estimators': 100, 'rf__min_samples_split': 4, 'rf__min_samples_leaf': 1, 'rf__max_features': 0.5, 'rf__max_depth': None}\n",
      "OOB score: 0.8039791251493126\n",
      "\n",
      "\n",
      "Test R2: 0.788017889969499\n",
      "Test MAE: 1.0678840606334548\n",
      "Test RMSE: 1.8243293097913151\n"
     ]
    }
   ],
   "source": [
    "pred_nitrate = search.predict(X_test)\n",
    "\n",
    "print(\"Best CV R2:\", search.best_score_)\n",
    "print(\"Best params:\", search.best_params_)\n",
    "print(\"OOB score:\", search.best_estimator_.named_steps[\"rf\"].oob_score_)\n",
    "print(\"\\n\")\n",
    "\n",
    "print(\"Test R2:\", r2_score(np.expm1(y_test),  np.expm1(pred_nitrate)))\n",
    "print(\"Test MAE:\",mean_absolute_error(np.expm1(y_test), np.expm1(pred_nitrate)))\n",
    "print(\"Test RMSE:\", sqrt(mean_squared_error(np.expm1(y_test), np.expm1(pred_nitrate))))"
   ]
  },
  {
   "cell_type": "markdown",
   "metadata": {},
   "source": [
    "## Real vs Predicted"
   ]
  },
  {
   "cell_type": "code",
   "execution_count": 304,
   "metadata": {},
   "outputs": [
    {
     "data": {
      "text/plain": [
       "<Axes: xlabel='nitrate', ylabel='nitrate'>"
      ]
     },
     "execution_count": 304,
     "metadata": {},
     "output_type": "execute_result"
    },
    {
     "data": {
      "image/png": "[encoded data removed]",
      "text/plain": [
       "<Figure size 1000x500 with 1 Axes>"
      ]
     },
     "metadata": {},
     "output_type": "display_data"
    }
   ],
   "source": [
    "fix, ax = plt.subplots(figsize= (10,5))\n",
    "\n",
    "sns.scatterplot(x = np.expm1(y_test), y = np.expm1(y_test), ax = ax)\n",
    "sns.scatterplot(x = np.expm1(y_test), y = np.expm1(pred_nitrate), ax = ax)"
   ]
  },
  {
   "cell_type": "markdown",
   "metadata": {},
   "source": [
    "## Residuals"
   ]
  },
  {
   "cell_type": "code",
   "execution_count": 305,
   "metadata": {},
   "outputs": [
    {
     "data": {
      "text/plain": [
       "Text(0, 0.5, 'Residuals')"
      ]
     },
     "execution_count": 305,
     "metadata": {},
     "output_type": "execute_result"
    },
    {
     "data": {
      "image/png": "[encoded data removed]",
      "text/plain": [
       "<Figure size 640x480 with 1 Axes>"
      ]
     },
     "metadata": {},
     "output_type": "display_data"
    }
   ],
   "source": [
    "preds = search.predict(X_test)\n",
    "residuals = y_test - preds\n",
    "sns.scatterplot(x=preds, y=residuals)\n",
    "plt.axhline(0, color=\"red\", linestyle=\"--\")\n",
    "plt.xlabel(\"Predicted\"); plt.ylabel(\"Residuals\")"
   ]
  },
  {
   "cell_type": "markdown",
   "metadata": {},
   "source": [
    "## Feature importances"
   ]
  },
  {
   "cell_type": "markdown",
   "metadata": {},
   "source": [
    "--> Gain (by default) how much each feature, on average, reduces the impurity (MSE or Gini)"
   ]
  },
  {
   "cell_type": "code",
   "execution_count": 306,
   "metadata": {},
   "outputs": [
    {
     "data": {
      "image/png": "[encoded data removed]",
      "text/plain": [
       "<Figure size 1200x600 with 1 Axes>"
      ]
     },
     "metadata": {},
     "output_type": "display_data"
    }
   ],
   "source": [
    "best_pipe = search.best_estimator_\n",
    "\n",
    "feature_names = best_pipe.named_steps[\"prep\"].get_feature_names_out()\n",
    "\n",
    "rf_model = best_pipe.named_steps[\"rf\"]\n",
    "importances = rf_model.feature_importances_\n",
    "\n",
    "fi_df = pd.DataFrame({\n",
    "    \"Feature\": feature_names,\n",
    "    \"Importance\": importances\n",
    "}).sort_values(\"Importance\", ascending=False)\n",
    "\n",
    "plt.figure(figsize=(12, 6))\n",
    "sns.barplot(x=\"Feature\", y=\"Importance\", data=fi_df.head(15), color=\"mediumseagreen\")\n",
    "plt.xticks(rotation=45, ha='right')\n",
    "plt.title(\"top 15 feature importances\")\n",
    "plt.tight_layout()\n",
    "plt.show()"
   ]
  },
  {
   "cell_type": "code",
   "execution_count": 307,
   "metadata": {},
   "outputs": [],
   "source": [
    "# --- Keep:\n",
    "# organiccontent\n",
    "# elevation\n",
    "# soil code\n",
    "# acidity\n",
    "# groundwater depth\n",
    "# density\n",
    "# population\n",
    "# precipitation\n",
    "# n_deposition\n",
    "# temperature\n",
    "\n",
    "# --- Remove:\n",
    "# landuse\n",
    "# soil region\n",
    "# month"
   ]
  }
 ],
 "metadata": {
  "kernelspec": {
   "display_name": "spatial_env",
   "language": "python",
   "name": "python3"
  },
  "language_info": {
   "codemirror_mode": {
    "name": "ipython",
    "version": 3
   },
   "file_extension": ".py",
   "mimetype": "text/x-python",
   "name": "python",
   "nbconvert_exporter": "python",
   "pygments_lexer": "ipython3",
   "version": "3.9.6"
  }
 },
 "nbformat": 4,
 "nbformat_minor": 2
}
