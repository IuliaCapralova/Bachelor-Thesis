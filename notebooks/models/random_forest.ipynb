{
 "cells": [
  {
   "cell_type": "code",
   "execution_count": 335,
   "metadata": {},
   "outputs": [],
   "source": [
    "import os\n",
    "import seaborn as sns\n",
    "import pandas as pd\n",
    "import numpy as np\n",
    "import matplotlib.pyplot as plt\n",
    "from sklearn.pipeline import Pipeline\n",
    "from sklearn.preprocessing import OrdinalEncoder, LabelEncoder, OneHotEncoder\n",
    "from sklearn.compose import ColumnTransformer\n",
    "from sklearn.ensemble import RandomForestRegressor\n",
    "from sklearn.model_selection import GridSearchCV\n",
    "from sklearn.model_selection import train_test_split\n",
    "from sklearn.metrics import r2_score, mean_squared_error, mean_absolute_error\n",
    "from sklearn.model_selection import RepeatedKFold, cross_val_score\n",
    "from sklearn.model_selection import RandomizedSearchCV\n",
    "from sklearn.compose import TransformedTargetRegressor\n",
    "from sklearn.pipeline import Pipeline\n",
    "from sklearn.preprocessing import FunctionTransformer"
   ]
  },
  {
   "cell_type": "markdown",
   "metadata": {},
   "source": [
    "## Load data"
   ]
  },
  {
   "cell_type": "code",
   "execution_count": 336,
   "metadata": {},
   "outputs": [],
   "source": [
    "current_dir = os.getcwd()\n",
    "path = os.path.join(current_dir, '../data/clean', \"merged_dataset_1.csv\")\n",
    "df = pd.read_csv(path)"
   ]
  },
  {
   "cell_type": "markdown",
   "metadata": {},
   "source": [
    "## Select year"
   ]
  },
  {
   "cell_type": "code",
   "execution_count": 337,
   "metadata": {},
   "outputs": [],
   "source": [
    "# df = df[df[\"Year\"] == 2012].copy()\n",
    "# len(df)"
   ]
  },
  {
   "cell_type": "code",
   "execution_count": 338,
   "metadata": {},
   "outputs": [],
   "source": [
    "cols_to_drop = [\n",
    "    'Well_ID', 'BRO-ID', 'geometry', 'Filter', 'Date', 'distance_m',\n",
    "    'Unnamed: 0', 'Total Livestock', 'Excretion during grazing (million kg)', 'Municipal waste (1000 tonnes)/Total municipal waste (1 000 tonnes)',\n",
    "    'Nitrogen losses in housing and storages/Total nitrogen losses (N) (million kg)',\n",
    "    'Use of livestock manure in agriculture (million kg)', 'Mineral fertiliser N/ha in kg'\n",
    "]\n",
    "\n",
    "df = df.drop(columns=cols_to_drop, errors=\"ignore\")"
   ]
  },
  {
   "cell_type": "code",
   "execution_count": 339,
   "metadata": {},
   "outputs": [],
   "source": [
    "df['Landuse_Code'] = df['Landuse_Code'].fillna(-1).astype(int)\n",
    "\n",
    "df['HGRnaam'] = df['HGRnaam'].astype(\"category\")\n",
    "df['Landuse_Code'] = df['Landuse_Code'].astype(\"category\")"
   ]
  },
  {
   "cell_type": "code",
   "execution_count": 340,
   "metadata": {},
   "outputs": [
    {
     "data": {
      "text/plain": [
       "191"
      ]
     },
     "execution_count": 340,
     "metadata": {},
     "output_type": "execute_result"
    }
   ],
   "source": [
    "df = df.dropna()\n",
    "len(df)"
   ]
  },
  {
   "cell_type": "markdown",
   "metadata": {},
   "source": [
    "## Remove nitrate outliers"
   ]
  },
  {
   "cell_type": "code",
   "execution_count": 341,
   "metadata": {},
   "outputs": [
    {
     "data": {
      "text/plain": [
       "<Axes: >"
      ]
     },
     "execution_count": 341,
     "metadata": {},
     "output_type": "execute_result"
    },
    {
     "data": {
      "image/png": "[encoded data removed]",
      "text/plain": [
       "<Figure size 640x480 with 1 Axes>"
      ]
     },
     "metadata": {},
     "output_type": "display_data"
    }
   ],
   "source": [
    "df[[\"Nitrate\"]].plot(kind = \"box\")"
   ]
  },
  {
   "cell_type": "code",
   "execution_count": 342,
   "metadata": {},
   "outputs": [
    {
     "name": "stdout",
     "output_type": "stream",
     "text": [
      "Outliers found: 7\n"
     ]
    },
    {
     "data": {
      "text/html": [
       "<div>\n",
       "<style scoped>\n",
       "    .dataframe tbody tr th:only-of-type {\n",
       "        vertical-align: middle;\n",
       "    }\n",
       "\n",
       "    .dataframe tbody tr th {\n",
       "        vertical-align: top;\n",
       "    }\n",
       "\n",
       "    .dataframe thead th {\n",
       "        text-align: right;\n",
       "    }\n",
       "</style>\n",
       "<table border=\"1\" class=\"dataframe\">\n",
       "  <thead>\n",
       "    <tr style=\"text-align: right;\">\n",
       "      <th></th>\n",
       "      <th>Nitrate</th>\n",
       "      <th>avg_depth_m</th>\n",
       "      <th>Year</th>\n",
       "      <th>Population</th>\n",
       "      <th>HGRnaam</th>\n",
       "      <th>Landuse_Code</th>\n",
       "      <th>avg_temp_mean</th>\n",
       "      <th>avg_precip_sum</th>\n",
       "      <th>lon</th>\n",
       "      <th>lat</th>\n",
       "      <th>Elevation_m</th>\n",
       "    </tr>\n",
       "  </thead>\n",
       "  <tbody>\n",
       "    <tr>\n",
       "      <th>54</th>\n",
       "      <td>28.79</td>\n",
       "      <td>5.087486</td>\n",
       "      <td>2012</td>\n",
       "      <td>65.0</td>\n",
       "      <td>zand</td>\n",
       "      <td>26</td>\n",
       "      <td>34.000000</td>\n",
       "      <td>1.50</td>\n",
       "      <td>5.441417</td>\n",
       "      <td>52.007418</td>\n",
       "      <td>8.548440</td>\n",
       "    </tr>\n",
       "    <tr>\n",
       "      <th>55</th>\n",
       "      <td>28.00</td>\n",
       "      <td>4.858125</td>\n",
       "      <td>2015</td>\n",
       "      <td>65.0</td>\n",
       "      <td>zand</td>\n",
       "      <td>-1</td>\n",
       "      <td>126.333333</td>\n",
       "      <td>6.50</td>\n",
       "      <td>5.441417</td>\n",
       "      <td>52.007418</td>\n",
       "      <td>8.548440</td>\n",
       "    </tr>\n",
       "    <tr>\n",
       "      <th>56</th>\n",
       "      <td>27.00</td>\n",
       "      <td>5.061042</td>\n",
       "      <td>2018</td>\n",
       "      <td>65.0</td>\n",
       "      <td>zand</td>\n",
       "      <td>23</td>\n",
       "      <td>122.883333</td>\n",
       "      <td>2.00</td>\n",
       "      <td>5.441417</td>\n",
       "      <td>52.007418</td>\n",
       "      <td>8.548440</td>\n",
       "    </tr>\n",
       "    <tr>\n",
       "      <th>70</th>\n",
       "      <td>29.37</td>\n",
       "      <td>6.838178</td>\n",
       "      <td>2012</td>\n",
       "      <td>40.0</td>\n",
       "      <td>zand</td>\n",
       "      <td>11</td>\n",
       "      <td>29.466667</td>\n",
       "      <td>8.75</td>\n",
       "      <td>5.600794</td>\n",
       "      <td>51.962454</td>\n",
       "      <td>12.048532</td>\n",
       "    </tr>\n",
       "    <tr>\n",
       "      <th>71</th>\n",
       "      <td>20.00</td>\n",
       "      <td>6.634271</td>\n",
       "      <td>2015</td>\n",
       "      <td>35.0</td>\n",
       "      <td>zand</td>\n",
       "      <td>-1</td>\n",
       "      <td>125.166667</td>\n",
       "      <td>1.00</td>\n",
       "      <td>5.600794</td>\n",
       "      <td>51.962454</td>\n",
       "      <td>12.048532</td>\n",
       "    </tr>\n",
       "    <tr>\n",
       "      <th>72</th>\n",
       "      <td>17.00</td>\n",
       "      <td>6.654944</td>\n",
       "      <td>2018</td>\n",
       "      <td>40.0</td>\n",
       "      <td>zand</td>\n",
       "      <td>27</td>\n",
       "      <td>115.566667</td>\n",
       "      <td>0.25</td>\n",
       "      <td>5.600794</td>\n",
       "      <td>51.962454</td>\n",
       "      <td>12.048532</td>\n",
       "    </tr>\n",
       "    <tr>\n",
       "      <th>78</th>\n",
       "      <td>17.00</td>\n",
       "      <td>9.291444</td>\n",
       "      <td>2018</td>\n",
       "      <td>55.0</td>\n",
       "      <td>zand</td>\n",
       "      <td>27</td>\n",
       "      <td>137.700000</td>\n",
       "      <td>6.00</td>\n",
       "      <td>5.546524</td>\n",
       "      <td>51.966980</td>\n",
       "      <td>16.680454</td>\n",
       "    </tr>\n",
       "  </tbody>\n",
       "</table>\n",
       "</div>"
      ],
      "text/plain": [
       "    Nitrate  avg_depth_m  Year  Population HGRnaam Landuse_Code  \\\n",
       "54    28.79     5.087486  2012        65.0    zand           26   \n",
       "55    28.00     4.858125  2015        65.0    zand           -1   \n",
       "56    27.00     5.061042  2018        65.0    zand           23   \n",
       "70    29.37     6.838178  2012        40.0    zand           11   \n",
       "71    20.00     6.634271  2015        35.0    zand           -1   \n",
       "72    17.00     6.654944  2018        40.0    zand           27   \n",
       "78    17.00     9.291444  2018        55.0    zand           27   \n",
       "\n",
       "    avg_temp_mean  avg_precip_sum       lon        lat  Elevation_m  \n",
       "54      34.000000            1.50  5.441417  52.007418     8.548440  \n",
       "55     126.333333            6.50  5.441417  52.007418     8.548440  \n",
       "56     122.883333            2.00  5.441417  52.007418     8.548440  \n",
       "70      29.466667            8.75  5.600794  51.962454    12.048532  \n",
       "71     125.166667            1.00  5.600794  51.962454    12.048532  \n",
       "72     115.566667            0.25  5.600794  51.962454    12.048532  \n",
       "78     137.700000            6.00  5.546524  51.966980    16.680454  "
      ]
     },
     "execution_count": 342,
     "metadata": {},
     "output_type": "execute_result"
    }
   ],
   "source": [
    "q1 = df[\"Nitrate\"].quantile(0.25)\n",
    "q3 = df[\"Nitrate\"].quantile(0.75)\n",
    "iqr = q3 - q1\n",
    "\n",
    "lower_bound = q1 - 1.5 * iqr\n",
    "upper_bound = q3 + 1.5 * iqr\n",
    "\n",
    "outliers = df[(df[\"Nitrate\"] < lower_bound) | (df[\"Nitrate\"] > upper_bound)]\n",
    "print(f\"Outliers found: {len(outliers)}\")\n",
    "outliers"
   ]
  },
  {
   "cell_type": "code",
   "execution_count": 343,
   "metadata": {},
   "outputs": [],
   "source": [
    "# top_nitrate_outliers = list(df[\"Nitrate\"].sort_values()[-len(outliers):].index)\n",
    "# top_nitrate_outliers\n",
    "# df = df.drop(top_nitrate_outliers)\n",
    "# len(df)"
   ]
  },
  {
   "cell_type": "markdown",
   "metadata": {},
   "source": [
    "## Preprocess data"
   ]
  },
  {
   "cell_type": "code",
   "execution_count": 344,
   "metadata": {},
   "outputs": [],
   "source": [
    "categorical_cols = [\"HGRnaam\", \"Landuse_Code\"]\n",
    "numerical_cols = [col for col in df.columns if col not in categorical_cols + [\"Nitrate\"]]"
   ]
  },
  {
   "cell_type": "code",
   "execution_count": 345,
   "metadata": {},
   "outputs": [],
   "source": [
    "preprocessor = ColumnTransformer([\n",
    "    (\"cat_ohe\", OneHotEncoder(handle_unknown=\"ignore\", sparse_output=False), categorical_cols)\n",
    "], remainder=\"passthrough\")"
   ]
  },
  {
   "cell_type": "code",
   "execution_count": 346,
   "metadata": {},
   "outputs": [],
   "source": [
    "rf_model = RandomForestRegressor(random_state=4, oob_score=True)"
   ]
  },
  {
   "cell_type": "code",
   "execution_count": 347,
   "metadata": {},
   "outputs": [],
   "source": [
    "pipe = Pipeline([\n",
    "    (\"prep\", preprocessor),\n",
    "    (\"rf\", RandomForestRegressor(oob_score=True, random_state=4))\n",
    "])"
   ]
  },
  {
   "cell_type": "code",
   "execution_count": 348,
   "metadata": {},
   "outputs": [],
   "source": [
    "X = df[categorical_cols + numerical_cols]\n",
    "\n",
    "y = df[\"Nitrate\"].values"
   ]
  },
  {
   "cell_type": "markdown",
   "metadata": {},
   "source": [
    "## Test / train split"
   ]
  },
  {
   "cell_type": "code",
   "execution_count": 349,
   "metadata": {},
   "outputs": [],
   "source": [
    "X_train, X_test, y_train, y_test = train_test_split(\n",
    "    X, y, test_size=0.2, random_state=27)"
   ]
  },
  {
   "cell_type": "code",
   "execution_count": 350,
   "metadata": {},
   "outputs": [],
   "source": [
    "param_grid = {\n",
    "    \"rf__n_estimators\": [100, 150],\n",
    "    \"rf__max_features\": [\"sqrt\", 0.5],\n",
    "    \"rf__max_depth\": [None, 10],\n",
    "    \"rf__min_samples_split\": [2, 4],\n",
    "    \"rf__min_samples_leaf\": [1, 2]\n",
    "}"
   ]
  },
  {
   "cell_type": "code",
   "execution_count": 351,
   "metadata": {},
   "outputs": [],
   "source": [
    "search = RandomizedSearchCV(\n",
    "    pipe,\n",
    "    param_distributions=param_grid,\n",
    "    n_iter=30,\n",
    "    cv=5,\n",
    "    scoring=\"r2\",\n",
    "    n_jobs=-1,\n",
    "    random_state=9,\n",
    "    verbose=1\n",
    ")"
   ]
  },
  {
   "cell_type": "code",
   "execution_count": 352,
   "metadata": {},
   "outputs": [
    {
     "name": "stdout",
     "output_type": "stream",
     "text": [
      "Fitting 5 folds for each of 30 candidates, totalling 150 fits\n"
     ]
    },
    {
     "name": "stdout",
     "output_type": "stream",
     "text": [
      "Best CV R2: 0.6202103866813335\n",
      "Best params: {'rf__n_estimators': 150, 'rf__min_samples_split': 2, 'rf__min_samples_leaf': 2, 'rf__max_features': 0.5, 'rf__max_depth': None}\n",
      "OOB score: 0.6809278634710252\n",
      "Test   R2: 0.8393749078140809\n",
      "Test   MAE: 1.4963866493506497\n",
      "Test   MSE: 5.6353010206374705\n"
     ]
    }
   ],
   "source": [
    "search.fit(X_train, y_train)\n",
    "pred_nitrate = search.predict(X_test)\n",
    "\n",
    "print(\"Best CV R2:\", search.best_score_)\n",
    "print(\"Best params:\", search.best_params_)\n",
    "print(\"OOB score:\", search.best_estimator_.named_steps[\"rf\"].oob_score_)\n",
    "print(\"Test R2:\", r2_score(y_test,  pred_nitrate))\n",
    "print(\"Test MAE:\",mean_absolute_error(y_test, pred_nitrate))\n",
    "print(\"Test MSE:\", mean_squared_error(y_test, pred_nitrate))"
   ]
  },
  {
   "cell_type": "markdown",
   "metadata": {},
   "source": [
    "## Real vs Predicted"
   ]
  },
  {
   "cell_type": "code",
   "execution_count": 353,
   "metadata": {},
   "outputs": [
    {
     "data": {
      "text/plain": [
       "<Axes: >"
      ]
     },
     "execution_count": 353,
     "metadata": {},
     "output_type": "execute_result"
    },
    {
     "data": {
      "image/png": "[encoded data removed]",
      "text/plain": [
       "<Figure size 1000x500 with 1 Axes>"
      ]
     },
     "metadata": {},
     "output_type": "display_data"
    }
   ],
   "source": [
    "fix, ax = plt.subplots(figsize= (10,5))\n",
    "\n",
    "sns.scatterplot(x = y_test, y = y_test, ax = ax)\n",
    "sns.scatterplot(x = y_test, y = pred_nitrate, ax = ax)"
   ]
  },
  {
   "cell_type": "markdown",
   "metadata": {},
   "source": [
    "## Residuals"
   ]
  },
  {
   "cell_type": "code",
   "execution_count": 354,
   "metadata": {},
   "outputs": [
    {
     "data": {
      "text/plain": [
       "Text(0, 0.5, 'Residuals')"
      ]
     },
     "execution_count": 354,
     "metadata": {},
     "output_type": "execute_result"
    },
    {
     "data": {
      "image/png": "[encoded data removed]",
      "text/plain": [
       "<Figure size 640x480 with 1 Axes>"
      ]
     },
     "metadata": {},
     "output_type": "display_data"
    }
   ],
   "source": [
    "preds = search.predict(X_test)\n",
    "residuals = y_test - preds\n",
    "sns.scatterplot(x=preds, y=residuals)\n",
    "plt.axhline(0, color=\"red\", linestyle=\"--\")\n",
    "plt.xlabel(\"Predicted\"); plt.ylabel(\"Residuals\")"
   ]
  },
  {
   "cell_type": "markdown",
   "metadata": {},
   "source": [
    "## Feature importances"
   ]
  },
  {
   "cell_type": "markdown",
   "metadata": {},
   "source": [
    "--> Gain (by default) how much each feature, on average, reduces the impurity (MSE or Gini)"
   ]
  },
  {
   "cell_type": "code",
   "execution_count": 357,
   "metadata": {},
   "outputs": [
    {
     "data": {
      "image/png": "[encoded data removed]",
      "text/plain": [
       "<Figure size 1200x600 with 1 Axes>"
      ]
     },
     "metadata": {},
     "output_type": "display_data"
    }
   ],
   "source": [
    "best_pipe = search.best_estimator_\n",
    "\n",
    "feature_names = best_pipe.named_steps[\"prep\"].get_feature_names_out()\n",
    "\n",
    "rf_model = best_pipe.named_steps[\"rf\"]\n",
    "importances = rf_model.feature_importances_\n",
    "\n",
    "fi_df = pd.DataFrame({\n",
    "    \"Feature\": feature_names,\n",
    "    \"Importance\": importances\n",
    "}).sort_values(\"Importance\", ascending=False)\n",
    "\n",
    "# plt.figure(figsize=(10, 6))\n",
    "# sns.barplot(x=\"Importance\", y=\"Feature\", data=fi_df.head(15))\n",
    "# plt.title(\"top 15 feature importances\")\n",
    "# plt.tight_layout()\n",
    "# plt.show()\n",
    "\n",
    "plt.figure(figsize=(12, 6))\n",
    "sns.barplot(x=\"Feature\", y=\"Importance\", data=fi_df.head(15), color=\"mediumseagreen\")\n",
    "plt.xticks(rotation=45, ha='right')\n",
    "plt.title(\"top 15 feature importances\")\n",
    "plt.tight_layout()\n",
    "plt.show()"
   ]
  }
 ],
 "metadata": {
  "kernelspec": {
   "display_name": "spatial_env",
   "language": "python",
   "name": "python3"
  },
  "language_info": {
   "codemirror_mode": {
    "name": "ipython",
    "version": 3
   },
   "file_extension": ".py",
   "mimetype": "text/x-python",
   "name": "python",
   "nbconvert_exporter": "python",
   "pygments_lexer": "ipython3",
   "version": "3.9.6"
  }
 },
 "nbformat": 4,
 "nbformat_minor": 2
}
