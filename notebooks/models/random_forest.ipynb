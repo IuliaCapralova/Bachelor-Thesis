{
 "cells": [
  {
   "cell_type": "code",
   "execution_count": 1776,
   "metadata": {},
   "outputs": [],
   "source": [
    "import os\n",
    "import seaborn as sns\n",
    "import pandas as pd\n",
    "import numpy as np\n",
    "import matplotlib.pyplot as plt\n",
    "from sklearn.pipeline import Pipeline\n",
    "from sklearn.preprocessing import OrdinalEncoder, LabelEncoder, OneHotEncoder\n",
    "from sklearn.compose import ColumnTransformer\n",
    "from sklearn.ensemble import RandomForestRegressor\n",
    "from sklearn.model_selection import GridSearchCV\n",
    "from sklearn.model_selection import train_test_split\n",
    "from sklearn.metrics import r2_score, mean_squared_error, mean_absolute_error\n",
    "from sklearn.model_selection import RepeatedKFold, cross_val_score\n",
    "from sklearn.model_selection import RandomizedSearchCV, TimeSeriesSplit\n",
    "from sklearn.compose import TransformedTargetRegressor\n",
    "from sklearn.pipeline import Pipeline\n",
    "from sklearn.preprocessing import FunctionTransformer\n",
    "from sklearn.preprocessing import StandardScaler"
   ]
  },
  {
   "cell_type": "markdown",
   "metadata": {},
   "source": [
    "## Load data"
   ]
  },
  {
   "cell_type": "code",
   "execution_count": 1777,
   "metadata": {},
   "outputs": [
    {
     "data": {
      "text/plain": [
       "192"
      ]
     },
     "execution_count": 1777,
     "metadata": {},
     "output_type": "execute_result"
    }
   ],
   "source": [
    "well_filter = 1\n",
    "\n",
    "current_dir = os.getcwd()\n",
    "path = os.path.join(current_dir, '../../data/clean/aligned_data', f\"merged_dataset_{well_filter}.csv\")\n",
    "df = pd.read_csv(path)\n",
    "len(df)"
   ]
  },
  {
   "cell_type": "markdown",
   "metadata": {},
   "source": [
    "## Sort by date"
   ]
  },
  {
   "cell_type": "code",
   "execution_count": 1778,
   "metadata": {},
   "outputs": [],
   "source": [
    "# sort by date\n",
    "df[\"date\"] = pd.to_datetime(df[\"date\"])\n",
    "df = df.sort_values(\"date\").reset_index(drop=True)"
   ]
  },
  {
   "cell_type": "markdown",
   "metadata": {},
   "source": [
    "## Remove columns"
   ]
  },
  {
   "cell_type": "code",
   "execution_count": 1779,
   "metadata": {},
   "outputs": [],
   "source": [
    "df = df.drop(columns=['soil region', 'landuse code'])"
   ]
  },
  {
   "cell_type": "code",
   "execution_count": 1780,
   "metadata": {},
   "outputs": [
    {
     "data": {
      "text/plain": [
       "132"
      ]
     },
     "execution_count": 1780,
     "metadata": {},
     "output_type": "execute_result"
    }
   ],
   "source": [
    "df = df.dropna()\n",
    "len(df)"
   ]
  },
  {
   "cell_type": "markdown",
   "metadata": {},
   "source": [
    "## Add month and year as a feature"
   ]
  },
  {
   "cell_type": "code",
   "execution_count": 1781,
   "metadata": {},
   "outputs": [],
   "source": [
    "df[\"month\"] = df[\"date\"].dt.month\n",
    "df[\"year\"] = df[\"date\"].dt.year"
   ]
  },
  {
   "cell_type": "code",
   "execution_count": 1782,
   "metadata": {},
   "outputs": [
    {
     "name": "stdout",
     "output_type": "stream",
     "text": [
      "2012: [2, 3, 4, 6, 10]\n",
      "2013: [10]\n",
      "2014: [9]\n",
      "2015: [6, 7, 8, 9]\n",
      "2016: [9]\n",
      "2017: [8, 11, 12]\n",
      "2018: [5, 6, 8]\n",
      "2019: [7]\n",
      "2020: [5, 7, 8]\n"
     ]
    }
   ],
   "source": [
    "months_per_year = df.groupby('year')['month'].unique().sort_index()\n",
    "\n",
    "for year, months in months_per_year.items():\n",
    "    print(f\"{year}: {sorted(months)}\")"
   ]
  },
  {
   "cell_type": "code",
   "execution_count": 1783,
   "metadata": {},
   "outputs": [
    {
     "data": {
      "text/plain": [
       "array([ 2,  3,  4,  6, 10,  9,  7,  8, 11, 12,  5], dtype=int32)"
      ]
     },
     "execution_count": 1783,
     "metadata": {},
     "output_type": "execute_result"
    }
   ],
   "source": [
    "df[\"month\"].unique()"
   ]
  },
  {
   "cell_type": "markdown",
   "metadata": {},
   "source": [
    "## Change column type"
   ]
  },
  {
   "cell_type": "code",
   "execution_count": 1784,
   "metadata": {},
   "outputs": [],
   "source": [
    "for col in ['soil region', 'landuse code', 'soilunit_code_1']:\n",
    "    if col in df.columns:\n",
    "        df[col] = df[col].astype('category')"
   ]
  },
  {
   "cell_type": "code",
   "execution_count": 1785,
   "metadata": {},
   "outputs": [
    {
     "data": {
      "text/plain": [
       "bro-id                                 object\n",
       "nitrate                               float64\n",
       "geometry                               object\n",
       "date                      datetime64[ns, UTC]\n",
       "population                            float64\n",
       "groundwater depth                     float64\n",
       "elevation                             float64\n",
       "lon                                   float64\n",
       "lat                                   float64\n",
       "precipitation                         float64\n",
       "temperature                           float64\n",
       "n deposition                          float64\n",
       "soilunit_code_1                      category\n",
       "organicmattercontent_1                float64\n",
       "density_1                             float64\n",
       "acidity_1                             float64\n",
       "month                                   int32\n",
       "year                                    int32\n",
       "dtype: object"
      ]
     },
     "execution_count": 1785,
     "metadata": {},
     "output_type": "execute_result"
    }
   ],
   "source": [
    "df.dtypes"
   ]
  },
  {
   "cell_type": "markdown",
   "metadata": {},
   "source": [
    "## Drop NaN"
   ]
  },
  {
   "cell_type": "markdown",
   "metadata": {},
   "source": [
    "--> By dropping Nan we exclude nitrate points that fall under city areas"
   ]
  },
  {
   "cell_type": "markdown",
   "metadata": {},
   "source": [
    "## Remove nitrate outliers"
   ]
  },
  {
   "cell_type": "code",
   "execution_count": 1786,
   "metadata": {},
   "outputs": [
    {
     "data": {
      "text/plain": [
       "<Axes: >"
      ]
     },
     "execution_count": 1786,
     "metadata": {},
     "output_type": "execute_result"
    },
    {
     "data": {
      "image/png": "[encoded data removed]",
      "text/plain": [
       "<Figure size 640x480 with 1 Axes>"
      ]
     },
     "metadata": {},
     "output_type": "display_data"
    }
   ],
   "source": [
    "df[[\"nitrate\"]].plot(kind = \"box\")"
   ]
  },
  {
   "cell_type": "code",
   "execution_count": 1787,
   "metadata": {},
   "outputs": [
    {
     "name": "stdout",
     "output_type": "stream",
     "text": [
      "Outliers found: 7\n"
     ]
    },
    {
     "data": {
      "text/html": [
       "<div>\n",
       "<style scoped>\n",
       "    .dataframe tbody tr th:only-of-type {\n",
       "        vertical-align: middle;\n",
       "    }\n",
       "\n",
       "    .dataframe tbody tr th {\n",
       "        vertical-align: top;\n",
       "    }\n",
       "\n",
       "    .dataframe thead th {\n",
       "        text-align: right;\n",
       "    }\n",
       "</style>\n",
       "<table border=\"1\" class=\"dataframe\">\n",
       "  <thead>\n",
       "    <tr style=\"text-align: right;\">\n",
       "      <th></th>\n",
       "      <th>bro-id</th>\n",
       "      <th>nitrate</th>\n",
       "      <th>geometry</th>\n",
       "      <th>date</th>\n",
       "      <th>population</th>\n",
       "      <th>groundwater depth</th>\n",
       "      <th>elevation</th>\n",
       "      <th>lon</th>\n",
       "      <th>lat</th>\n",
       "      <th>precipitation</th>\n",
       "      <th>temperature</th>\n",
       "      <th>n deposition</th>\n",
       "      <th>soilunit_code_1</th>\n",
       "      <th>organicmattercontent_1</th>\n",
       "      <th>density_1</th>\n",
       "      <th>acidity_1</th>\n",
       "      <th>month</th>\n",
       "      <th>year</th>\n",
       "    </tr>\n",
       "  </thead>\n",
       "  <tbody>\n",
       "    <tr>\n",
       "      <th>1</th>\n",
       "      <td>GAR000000000784</td>\n",
       "      <td>29.37</td>\n",
       "      <td>POINT (5.600793941 51.962453539)</td>\n",
       "      <td>2012-02-23 10:00:00+00:00</td>\n",
       "      <td>40.0</td>\n",
       "      <td>6.838178</td>\n",
       "      <td>12.048532</td>\n",
       "      <td>5.600794</td>\n",
       "      <td>51.962454</td>\n",
       "      <td>8.75</td>\n",
       "      <td>29.466667</td>\n",
       "      <td>27.383685</td>\n",
       "      <td>bEZ30</td>\n",
       "      <td>2.0</td>\n",
       "      <td>1.425</td>\n",
       "      <td>4.5</td>\n",
       "      <td>2</td>\n",
       "      <td>2012</td>\n",
       "    </tr>\n",
       "    <tr>\n",
       "      <th>33</th>\n",
       "      <td>GAR000000000826</td>\n",
       "      <td>13.17</td>\n",
       "      <td>POINT (5.580385464 51.97882674)</td>\n",
       "      <td>2012-04-05 10:00:00+00:00</td>\n",
       "      <td>10.0</td>\n",
       "      <td>9.198382</td>\n",
       "      <td>8.355708</td>\n",
       "      <td>5.580385</td>\n",
       "      <td>51.978827</td>\n",
       "      <td>1.75</td>\n",
       "      <td>59.083333</td>\n",
       "      <td>23.433711</td>\n",
       "      <td>pZg21</td>\n",
       "      <td>5.5</td>\n",
       "      <td>1.368</td>\n",
       "      <td>4.8</td>\n",
       "      <td>4</td>\n",
       "      <td>2012</td>\n",
       "    </tr>\n",
       "    <tr>\n",
       "      <th>78</th>\n",
       "      <td>GAR000000000785</td>\n",
       "      <td>20.00</td>\n",
       "      <td>POINT (5.600793941 51.962453539)</td>\n",
       "      <td>2015-06-16 10:00:00+00:00</td>\n",
       "      <td>35.0</td>\n",
       "      <td>6.634271</td>\n",
       "      <td>12.048532</td>\n",
       "      <td>5.600794</td>\n",
       "      <td>51.962454</td>\n",
       "      <td>1.00</td>\n",
       "      <td>125.166667</td>\n",
       "      <td>25.198593</td>\n",
       "      <td>bEZ30</td>\n",
       "      <td>2.0</td>\n",
       "      <td>1.425</td>\n",
       "      <td>4.5</td>\n",
       "      <td>6</td>\n",
       "      <td>2015</td>\n",
       "    </tr>\n",
       "    <tr>\n",
       "      <th>79</th>\n",
       "      <td>GAR000000000827</td>\n",
       "      <td>13.00</td>\n",
       "      <td>POINT (5.580385464 51.97882674)</td>\n",
       "      <td>2015-06-16 10:00:00+00:00</td>\n",
       "      <td>15.0</td>\n",
       "      <td>9.296806</td>\n",
       "      <td>8.355708</td>\n",
       "      <td>5.580385</td>\n",
       "      <td>51.978827</td>\n",
       "      <td>1.00</td>\n",
       "      <td>125.166667</td>\n",
       "      <td>21.654822</td>\n",
       "      <td>pZg21</td>\n",
       "      <td>5.5</td>\n",
       "      <td>1.368</td>\n",
       "      <td>4.8</td>\n",
       "      <td>6</td>\n",
       "      <td>2015</td>\n",
       "    </tr>\n",
       "    <tr>\n",
       "      <th>103</th>\n",
       "      <td>GAR000000000818</td>\n",
       "      <td>13.00</td>\n",
       "      <td>POINT (5.54652435 51.966979885)</td>\n",
       "      <td>2015-07-15 10:00:00+00:00</td>\n",
       "      <td>50.0</td>\n",
       "      <td>9.229444</td>\n",
       "      <td>16.680454</td>\n",
       "      <td>5.546524</td>\n",
       "      <td>51.966980</td>\n",
       "      <td>27.50</td>\n",
       "      <td>157.633333</td>\n",
       "      <td>26.025006</td>\n",
       "      <td>bEZ30</td>\n",
       "      <td>2.0</td>\n",
       "      <td>1.425</td>\n",
       "      <td>4.5</td>\n",
       "      <td>7</td>\n",
       "      <td>2015</td>\n",
       "    </tr>\n",
       "    <tr>\n",
       "      <th>147</th>\n",
       "      <td>GAR000000000786</td>\n",
       "      <td>17.00</td>\n",
       "      <td>POINT (5.600793941 51.962453539)</td>\n",
       "      <td>2018-05-18 10:00:00+00:00</td>\n",
       "      <td>40.0</td>\n",
       "      <td>6.654944</td>\n",
       "      <td>12.048532</td>\n",
       "      <td>5.600794</td>\n",
       "      <td>51.962454</td>\n",
       "      <td>0.25</td>\n",
       "      <td>115.566667</td>\n",
       "      <td>25.716852</td>\n",
       "      <td>bEZ30</td>\n",
       "      <td>2.0</td>\n",
       "      <td>1.425</td>\n",
       "      <td>4.5</td>\n",
       "      <td>5</td>\n",
       "      <td>2018</td>\n",
       "    </tr>\n",
       "    <tr>\n",
       "      <th>163</th>\n",
       "      <td>GAR000000000819</td>\n",
       "      <td>17.00</td>\n",
       "      <td>POINT (5.54652435 51.966979885)</td>\n",
       "      <td>2018-05-28 10:00:00+00:00</td>\n",
       "      <td>55.0</td>\n",
       "      <td>9.291444</td>\n",
       "      <td>16.680454</td>\n",
       "      <td>5.546524</td>\n",
       "      <td>51.966980</td>\n",
       "      <td>6.00</td>\n",
       "      <td>137.700000</td>\n",
       "      <td>28.616301</td>\n",
       "      <td>bEZ30</td>\n",
       "      <td>2.0</td>\n",
       "      <td>1.425</td>\n",
       "      <td>4.5</td>\n",
       "      <td>5</td>\n",
       "      <td>2018</td>\n",
       "    </tr>\n",
       "  </tbody>\n",
       "</table>\n",
       "</div>"
      ],
      "text/plain": [
       "              bro-id  nitrate                          geometry  \\\n",
       "1    GAR000000000784    29.37  POINT (5.600793941 51.962453539)   \n",
       "33   GAR000000000826    13.17   POINT (5.580385464 51.97882674)   \n",
       "78   GAR000000000785    20.00  POINT (5.600793941 51.962453539)   \n",
       "79   GAR000000000827    13.00   POINT (5.580385464 51.97882674)   \n",
       "103  GAR000000000818    13.00   POINT (5.54652435 51.966979885)   \n",
       "147  GAR000000000786    17.00  POINT (5.600793941 51.962453539)   \n",
       "163  GAR000000000819    17.00   POINT (5.54652435 51.966979885)   \n",
       "\n",
       "                         date  population  groundwater depth  elevation  \\\n",
       "1   2012-02-23 10:00:00+00:00        40.0           6.838178  12.048532   \n",
       "33  2012-04-05 10:00:00+00:00        10.0           9.198382   8.355708   \n",
       "78  2015-06-16 10:00:00+00:00        35.0           6.634271  12.048532   \n",
       "79  2015-06-16 10:00:00+00:00        15.0           9.296806   8.355708   \n",
       "103 2015-07-15 10:00:00+00:00        50.0           9.229444  16.680454   \n",
       "147 2018-05-18 10:00:00+00:00        40.0           6.654944  12.048532   \n",
       "163 2018-05-28 10:00:00+00:00        55.0           9.291444  16.680454   \n",
       "\n",
       "          lon        lat  precipitation  temperature  n deposition  \\\n",
       "1    5.600794  51.962454           8.75    29.466667     27.383685   \n",
       "33   5.580385  51.978827           1.75    59.083333     23.433711   \n",
       "78   5.600794  51.962454           1.00   125.166667     25.198593   \n",
       "79   5.580385  51.978827           1.00   125.166667     21.654822   \n",
       "103  5.546524  51.966980          27.50   157.633333     26.025006   \n",
       "147  5.600794  51.962454           0.25   115.566667     25.716852   \n",
       "163  5.546524  51.966980           6.00   137.700000     28.616301   \n",
       "\n",
       "    soilunit_code_1  organicmattercontent_1  density_1  acidity_1  month  year  \n",
       "1             bEZ30                     2.0      1.425        4.5      2  2012  \n",
       "33            pZg21                     5.5      1.368        4.8      4  2012  \n",
       "78            bEZ30                     2.0      1.425        4.5      6  2015  \n",
       "79            pZg21                     5.5      1.368        4.8      6  2015  \n",
       "103           bEZ30                     2.0      1.425        4.5      7  2015  \n",
       "147           bEZ30                     2.0      1.425        4.5      5  2018  \n",
       "163           bEZ30                     2.0      1.425        4.5      5  2018  "
      ]
     },
     "execution_count": 1787,
     "metadata": {},
     "output_type": "execute_result"
    }
   ],
   "source": [
    "q1 = df[\"nitrate\"].quantile(0.25)\n",
    "q3 = df[\"nitrate\"].quantile(0.75)\n",
    "iqr = q3 - q1\n",
    "\n",
    "lower_bound = q1 - 1.5 * iqr\n",
    "upper_bound = q3 + 1.5 * iqr\n",
    "\n",
    "outliers = df[(df[\"nitrate\"] < lower_bound) | (df[\"nitrate\"] > upper_bound)]\n",
    "print(f\"Outliers found: {len(outliers)}\")\n",
    "outliers"
   ]
  },
  {
   "cell_type": "code",
   "execution_count": 1788,
   "metadata": {},
   "outputs": [],
   "source": [
    "# top_nitrate_outliers = list(df[\"nitrate\"].sort_values()[-len(outliers):].index)\n",
    "# top_nitrate_outliers\n",
    "# df = df.drop(top_nitrate_outliers)\n",
    "# len(df)"
   ]
  },
  {
   "cell_type": "markdown",
   "metadata": {},
   "source": [
    "## Test / train split"
   ]
  },
  {
   "cell_type": "code",
   "execution_count": 1789,
   "metadata": {},
   "outputs": [],
   "source": [
    "df[\"nitrate\"] = np.log1p(df[\"nitrate\"])"
   ]
  },
  {
   "cell_type": "code",
   "execution_count": 1790,
   "metadata": {},
   "outputs": [
    {
     "name": "stdout",
     "output_type": "stream",
     "text": [
      "Train: 38\n",
      "Test: 10\n"
     ]
    }
   ],
   "source": [
    "train_df = df[df[\"year\"].isin([2018])]  # [2012, 2013, 2015, 2018]\n",
    "test_df  = df[df[\"year\"].isin([2019, 2020])]  # [2014, 2016, 2019, 2020]\n",
    "\n",
    "print(f\"Train: {len(train_df)}\")\n",
    "print(f\"Test: {len(test_df)}\")\n",
    "\n",
    "X_train = train_df.drop(columns=[\"nitrate\", \"bro-id\", \"date\", \"year\", \"geometry\", \"lon\", \"lat\", \"month\"])\n",
    "y_train = train_df[\"nitrate\"]\n",
    "\n",
    "X_test = test_df.drop(columns=[\"nitrate\", \"bro-id\", \"date\", \"year\", \"geometry\", \"lon\", \"lat\", \"month\"])\n",
    "y_test = test_df[\"nitrate\"]"
   ]
  },
  {
   "cell_type": "markdown",
   "metadata": {},
   "source": [
    "## Preprocess data"
   ]
  },
  {
   "cell_type": "code",
   "execution_count": 1791,
   "metadata": {},
   "outputs": [],
   "source": [
    "categorical_cols = X_train.select_dtypes(include=\"category\").columns.tolist()\n",
    "numerical_cols = X_train.select_dtypes(include=[\"float64\", \"int64\"]).columns.tolist()"
   ]
  },
  {
   "cell_type": "code",
   "execution_count": 1792,
   "metadata": {},
   "outputs": [
    {
     "name": "stdout",
     "output_type": "stream",
     "text": [
      "Categorical: ['soilunit_code_1']\n",
      "Numerical: ['population', 'groundwater depth', 'elevation', 'precipitation', 'temperature', 'n deposition', 'organicmattercontent_1', 'density_1', 'acidity_1']\n",
      "All X_train columns: ['population', 'groundwater depth', 'elevation', 'precipitation', 'temperature', 'n deposition', 'soilunit_code_1', 'organicmattercontent_1', 'density_1', 'acidity_1']\n"
     ]
    }
   ],
   "source": [
    "print(\"Categorical:\", categorical_cols)\n",
    "print(\"Numerical:\", numerical_cols)\n",
    "print(\"All X_train columns:\", X_train.columns.tolist())"
   ]
  },
  {
   "cell_type": "code",
   "execution_count": 1793,
   "metadata": {},
   "outputs": [],
   "source": [
    "# preprocessor = ColumnTransformer([\n",
    "#     (\"cat_ohe\", OneHotEncoder(handle_unknown=\"ignore\", sparse_output=False), categorical_cols)\n",
    "# ], remainder=\"passthrough\")\n",
    "\n",
    "preprocessor = ColumnTransformer([\n",
    "    (\"cat_ohe\", OneHotEncoder(handle_unknown=\"ignore\", sparse_output=False), categorical_cols),\n",
    "    (\"num_scaler\", StandardScaler(), numerical_cols)\n",
    "])"
   ]
  },
  {
   "cell_type": "code",
   "execution_count": 1794,
   "metadata": {},
   "outputs": [],
   "source": [
    "rf_model = RandomForestRegressor(random_state=4, oob_score=True)"
   ]
  },
  {
   "cell_type": "code",
   "execution_count": 1795,
   "metadata": {},
   "outputs": [],
   "source": [
    "pipe = Pipeline([\n",
    "    (\"prep\", preprocessor),\n",
    "    (\"rf\", RandomForestRegressor(oob_score=True, random_state=4))\n",
    "])"
   ]
  },
  {
   "cell_type": "code",
   "execution_count": 1796,
   "metadata": {},
   "outputs": [],
   "source": [
    "param_grid = {\n",
    "    \"rf__n_estimators\": [100, 150, 200],\n",
    "    \"rf__max_features\": [\"sqrt\", 0.5, 1],\n",
    "    \"rf__max_depth\": [None, 10],\n",
    "    \"rf__min_samples_split\": [2, 4, 6],\n",
    "    \"rf__min_samples_leaf\": [1, 2]\n",
    "}"
   ]
  },
  {
   "cell_type": "code",
   "execution_count": 1797,
   "metadata": {},
   "outputs": [],
   "source": [
    "tscv = TimeSeriesSplit(n_splits=5)\n",
    "\n",
    "search = RandomizedSearchCV(\n",
    "    pipe,\n",
    "    param_distributions=param_grid,\n",
    "    n_iter=30,\n",
    "    cv=tscv,\n",
    "    scoring=\"r2\",\n",
    "    n_jobs=-1,\n",
    "    random_state=9,\n",
    "    verbose=1\n",
    ")"
   ]
  },
  {
   "cell_type": "code",
   "execution_count": 1798,
   "metadata": {},
   "outputs": [
    {
     "name": "stdout",
     "output_type": "stream",
     "text": [
      "Fitting 5 folds for each of 30 candidates, totalling 150 fits\n",
      "Best CV R2: 0.23174294472435425\n",
      "Best params: {'rf__n_estimators': 150, 'rf__min_samples_split': 6, 'rf__min_samples_leaf': 1, 'rf__max_features': 0.5, 'rf__max_depth': None}\n",
      "OOB score: 0.4918990191732031\n",
      "Test R2: 0.8190968488879502\n",
      "Test MAE: 0.3890046349472188\n",
      "Test MSE: 0.48733258372368365\n"
     ]
    }
   ],
   "source": [
    "search.fit(X_train, y_train)\n",
    "pred_nitrate = search.predict(X_test)\n",
    "\n",
    "print(\"Best CV R2:\", search.best_score_)\n",
    "print(\"Best params:\", search.best_params_)\n",
    "print(\"OOB score:\", search.best_estimator_.named_steps[\"rf\"].oob_score_)\n",
    "print(\"Test R2:\", r2_score(np.expm1(y_test),  np.expm1(pred_nitrate)))\n",
    "print(\"Test MAE:\",mean_absolute_error(np.expm1(y_test), np.expm1(pred_nitrate)))\n",
    "print(\"Test MSE:\", mean_squared_error(np.expm1(y_test), np.expm1(pred_nitrate)))"
   ]
  },
  {
   "cell_type": "markdown",
   "metadata": {},
   "source": [
    "## Real vs Predicted"
   ]
  },
  {
   "cell_type": "code",
   "execution_count": 1799,
   "metadata": {},
   "outputs": [
    {
     "data": {
      "text/plain": [
       "<Axes: xlabel='nitrate', ylabel='nitrate'>"
      ]
     },
     "execution_count": 1799,
     "metadata": {},
     "output_type": "execute_result"
    },
    {
     "data": {
      "image/png": "[encoded data removed]",
      "text/plain": [
       "<Figure size 1000x500 with 1 Axes>"
      ]
     },
     "metadata": {},
     "output_type": "display_data"
    }
   ],
   "source": [
    "fix, ax = plt.subplots(figsize= (10,5))\n",
    "\n",
    "sns.scatterplot(x = np.expm1(y_test), y = np.expm1(y_test), ax = ax)\n",
    "sns.scatterplot(x = np.expm1(y_test), y = np.expm1(pred_nitrate), ax = ax)"
   ]
  },
  {
   "cell_type": "markdown",
   "metadata": {},
   "source": [
    "## Residuals"
   ]
  },
  {
   "cell_type": "code",
   "execution_count": 1800,
   "metadata": {},
   "outputs": [
    {
     "data": {
      "text/plain": [
       "Text(0, 0.5, 'Residuals')"
      ]
     },
     "execution_count": 1800,
     "metadata": {},
     "output_type": "execute_result"
    },
    {
     "data": {
      "image/png": "[encoded data removed]",
      "text/plain": [
       "<Figure size 640x480 with 1 Axes>"
      ]
     },
     "metadata": {},
     "output_type": "display_data"
    }
   ],
   "source": [
    "preds = search.predict(X_test)\n",
    "residuals = y_test - preds\n",
    "sns.scatterplot(x=preds, y=residuals)\n",
    "plt.axhline(0, color=\"red\", linestyle=\"--\")\n",
    "plt.xlabel(\"Predicted\"); plt.ylabel(\"Residuals\")"
   ]
  },
  {
   "cell_type": "markdown",
   "metadata": {},
   "source": [
    "## Feature importances"
   ]
  },
  {
   "cell_type": "markdown",
   "metadata": {},
   "source": [
    "--> Gain (by default) how much each feature, on average, reduces the impurity (MSE or Gini)"
   ]
  },
  {
   "cell_type": "code",
   "execution_count": 1801,
   "metadata": {},
   "outputs": [
    {
     "data": {
      "image/png": "[encoded data removed]",
      "text/plain": [
       "<Figure size 1200x600 with 1 Axes>"
      ]
     },
     "metadata": {},
     "output_type": "display_data"
    }
   ],
   "source": [
    "best_pipe = search.best_estimator_\n",
    "\n",
    "feature_names = best_pipe.named_steps[\"prep\"].get_feature_names_out()\n",
    "\n",
    "rf_model = best_pipe.named_steps[\"rf\"]\n",
    "importances = rf_model.feature_importances_\n",
    "\n",
    "fi_df = pd.DataFrame({\n",
    "    \"Feature\": feature_names,\n",
    "    \"Importance\": importances\n",
    "}).sort_values(\"Importance\", ascending=False)\n",
    "\n",
    "plt.figure(figsize=(12, 6))\n",
    "sns.barplot(x=\"Feature\", y=\"Importance\", data=fi_df.head(15), color=\"mediumseagreen\")\n",
    "plt.xticks(rotation=45, ha='right')\n",
    "plt.title(\"top 15 feature importances\")\n",
    "plt.tight_layout()\n",
    "plt.show()"
   ]
  },
  {
   "cell_type": "code",
   "execution_count": 1802,
   "metadata": {},
   "outputs": [],
   "source": [
    "# --- Keep:\n",
    "# organiccontent\n",
    "# elevation\n",
    "# soil code\n",
    "# acidity\n",
    "# groundwater depth\n",
    "# density\n",
    "# population\n",
    "# precipitation\n",
    "# n_deposition\n",
    "# temperature\n",
    "\n",
    "# --- Remove:\n",
    "# landuse\n",
    "# soil region\n",
    "# month"
   ]
  }
 ],
 "metadata": {
  "kernelspec": {
   "display_name": "spatial_env",
   "language": "python",
   "name": "python3"
  },
  "language_info": {
   "codemirror_mode": {
    "name": "ipython",
    "version": 3
   },
   "file_extension": ".py",
   "mimetype": "text/x-python",
   "name": "python",
   "nbconvert_exporter": "python",
   "pygments_lexer": "ipython3",
   "version": "3.9.6"
  }
 },
 "nbformat": 4,
 "nbformat_minor": 2
}
