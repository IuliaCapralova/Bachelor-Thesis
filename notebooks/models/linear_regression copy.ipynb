{
 "cells": [
  {
   "cell_type": "code",
   "execution_count": 1,
   "metadata": {},
   "outputs": [
    {
     "name": "stderr",
     "output_type": "stream",
     "text": [
      "/Users/Administrator/Documents/University/Year 3/2b/Thesis/Bachelor-Thesis/spatial_env/lib/python3.9/site-packages/urllib3/__init__.py:35: NotOpenSSLWarning: urllib3 v2 only supports OpenSSL 1.1.1+, currently the 'ssl' module is compiled with 'LibreSSL 2.8.3'. See: https://github.com/urllib3/urllib3/issues/3020\n",
      "  warnings.warn(\n",
      "/Users/Administrator/Documents/University/Year 3/2b/Thesis/Bachelor-Thesis/spatial_env/lib/python3.9/site-packages/spaghetti/network.py:40: FutureWarning: The next major release of pysal/spaghetti (2.0.0) will drop support for all ``libpysal.cg`` geometries. This change is a first step in refactoring ``spaghetti`` that is expected to result in dramatically reduced runtimes for network instantiation and operations. Users currently requiring network and point pattern input as ``libpysal.cg`` geometries should prepare for this simply by converting to ``shapely`` geometries.\n",
      "  warnings.warn(dep_msg, FutureWarning, stacklevel=1)\n"
     ]
    }
   ],
   "source": [
    "import os\n",
    "import re\n",
    "from math import sqrt\n",
    "import pandas as pd\n",
    "import numpy as np\n",
    "import geopandas as gpd\n",
    "from shapely import wkt\n",
    "from pysal.lib import weights\n",
    "from pysal.explore import esda\n",
    "import matplotlib.pyplot as plt\n",
    "import seaborn as sns\n",
    "import contextily\n",
    "from spreg import OLS_Regimes\n",
    "from pysal.model import spreg\n",
    "import statsmodels.formula.api as smf\n",
    "import contextily as ctx\n",
    "from libpysal.weights import KNN\n",
    "from spreg import OLS\n",
    "from libpysal.weights import lag_spatial\n",
    "from spreg import GM_Lag\n",
    "from libpysal.weights import Kernel\n",
    "from sklearn.compose import ColumnTransformer\n",
    "from sklearn.model_selection import RandomizedSearchCV, TimeSeriesSplit\n",
    "from sklearn.preprocessing import StandardScaler, OneHotEncoder\n",
    "from sklearn.metrics import mean_squared_error, r2_score, mean_absolute_error"
   ]
  },
  {
   "cell_type": "markdown",
   "metadata": {},
   "source": [
    "# Spacial Regression\n",
    "\n",
    "--> Embed location through the model"
   ]
  },
  {
   "cell_type": "markdown",
   "metadata": {},
   "source": [
    "## Load data"
   ]
  },
  {
   "cell_type": "code",
   "execution_count": 2,
   "metadata": {},
   "outputs": [
    {
     "data": {
      "text/plain": [
       "378"
      ]
     },
     "execution_count": 2,
     "metadata": {},
     "output_type": "execute_result"
    }
   ],
   "source": [
    "well_filter = 1\n",
    "\n",
    "current_dir = os.getcwd()\n",
    "path = os.path.join(current_dir, '../../data/aligned', f\"merged_dataset_{well_filter}.csv\")\n",
    "df = pd.read_csv(path)\n",
    "len(df)"
   ]
  },
  {
   "cell_type": "code",
   "execution_count": 3,
   "metadata": {},
   "outputs": [],
   "source": [
    "# df = df[df[\"soil region\"] != \"veen\"]\n",
    "# len(df)"
   ]
  },
  {
   "cell_type": "markdown",
   "metadata": {},
   "source": [
    "## Sort by date"
   ]
  },
  {
   "cell_type": "code",
   "execution_count": 4,
   "metadata": {},
   "outputs": [],
   "source": [
    "# sort by date\n",
    "df[\"date\"] = pd.to_datetime(df[\"date\"])\n",
    "df = df.sort_values(\"date\").reset_index(drop=True)"
   ]
  },
  {
   "cell_type": "code",
   "execution_count": 5,
   "metadata": {},
   "outputs": [
    {
     "name": "stdout",
     "output_type": "stream",
     "text": [
      "year_month\n",
      "2008-08     6\n",
      "2008-09    39\n",
      "2009-06     9\n",
      "2010-03    48\n",
      "2010-08     7\n",
      "2011-01     8\n",
      "2011-05     6\n",
      "2012-02     8\n",
      "2012-03    25\n",
      "2012-04     4\n",
      "2012-06     8\n",
      "2012-10     2\n",
      "2013-10     9\n",
      "2014-09     7\n",
      "2015-06    40\n",
      "2015-07     1\n",
      "2015-08     1\n",
      "2015-09     1\n",
      "2016-09     7\n",
      "2017-08     2\n",
      "2017-11     1\n",
      "2017-12     6\n",
      "2018-05    43\n",
      "2018-06     4\n",
      "2018-08     7\n",
      "2019-07     9\n",
      "2020-05     2\n",
      "2020-07     4\n",
      "2020-08     1\n",
      "2021-03    10\n",
      "2021-04    13\n",
      "2021-05    23\n",
      "2022-07     3\n",
      "2022-08     4\n",
      "2023-07     8\n",
      "2023-08     2\n",
      "Freq: M, Name: count, dtype: int64\n"
     ]
    },
    {
     "name": "stderr",
     "output_type": "stream",
     "text": [
      "/var/folders/fr/h0n611t55y51b_mts5q50l540000gn/T/ipykernel_25930/2666782288.py:1: UserWarning: Converting to PeriodArray/Index representation will drop timezone information.\n",
      "  df['year_month'] = df['date'].dt.to_period('M')  # year + month (e.g., 2012-03)\n"
     ]
    }
   ],
   "source": [
    "df['year_month'] = df['date'].dt.to_period('M')  # year + month (e.g., 2012-03)\n",
    "\n",
    "# Count number of data points per year-month\n",
    "counts = df['year_month'].value_counts().sort_index()\n",
    "print(counts)"
   ]
  },
  {
   "cell_type": "markdown",
   "metadata": {},
   "source": [
    "## Remove outlier based on \"Soil region\""
   ]
  },
  {
   "cell_type": "code",
   "execution_count": 6,
   "metadata": {},
   "outputs": [
    {
     "name": "stdout",
     "output_type": "stream",
     "text": [
      "soil region\n",
      "zand    263\n",
      "klei     82\n",
      "veen     33\n",
      "Name: count, dtype: int64\n"
     ]
    }
   ],
   "source": [
    "print(df[\"soil region\"].value_counts())"
   ]
  },
  {
   "cell_type": "markdown",
   "metadata": {},
   "source": [
    "## Add month and year as features"
   ]
  },
  {
   "cell_type": "code",
   "execution_count": 7,
   "metadata": {},
   "outputs": [],
   "source": [
    "# df[\"month\"] = df[\"date\"].dt.month\n",
    "df[\"year\"] = df[\"date\"].dt.year"
   ]
  },
  {
   "cell_type": "markdown",
   "metadata": {},
   "source": [
    "## Log transform"
   ]
  },
  {
   "cell_type": "code",
   "execution_count": 8,
   "metadata": {},
   "outputs": [],
   "source": [
    "df[\"nitrate\"] = np.log1p(df[\"nitrate\"])"
   ]
  },
  {
   "cell_type": "markdown",
   "metadata": {},
   "source": [
    "## Remove columns"
   ]
  },
  {
   "cell_type": "code",
   "execution_count": 9,
   "metadata": {},
   "outputs": [
    {
     "name": "stdout",
     "output_type": "stream",
     "text": [
      "Index(['nitrate', 'geometry', 'soil region', 'landuse code', 'population',\n",
      "       'groundwater depth', 'elevation', 'precipitation', 'temperature',\n",
      "       'n deposition', 'mainsoilclassification_1', 'organicmattercontent_1',\n",
      "       'density_1', 'acidity_1', 'year_month', 'year'],\n",
      "      dtype='object')\n"
     ]
    },
    {
     "data": {
      "text/plain": [
       "378"
      ]
     },
     "execution_count": 9,
     "metadata": {},
     "output_type": "execute_result"
    }
   ],
   "source": [
    "df = df.drop(columns=[\"date\", 'bro-id', 'lon', 'lat'])\n",
    "print(df.columns)\n",
    "len(df)"
   ]
  },
  {
   "cell_type": "markdown",
   "metadata": {},
   "source": [
    "## Change column type"
   ]
  },
  {
   "cell_type": "code",
   "execution_count": 10,
   "metadata": {},
   "outputs": [],
   "source": [
    "# convert to categorical\n",
    "predefined_categories = {\n",
    "    \"soil region\": None,\n",
    "    \"landuse code\": None,\n",
    "    \"mainsoilclassification_1\": None \n",
    "}\n",
    "\n",
    "\n",
    "for col, fixed_categories in predefined_categories.items():\n",
    "    if col in df.columns:\n",
    "        categories = sorted(df[col].dropna().unique().tolist())\n",
    "        \n",
    "        df[col] = pd.Categorical(df[col], categories=categories)"
   ]
  },
  {
   "cell_type": "code",
   "execution_count": 11,
   "metadata": {},
   "outputs": [
    {
     "data": {
      "text/plain": [
       "nitrate                       float64\n",
       "geometry                       object\n",
       "soil region                  category\n",
       "landuse code                 category\n",
       "population                    float64\n",
       "groundwater depth             float64\n",
       "elevation                     float64\n",
       "precipitation                 float64\n",
       "temperature                   float64\n",
       "n deposition                  float64\n",
       "mainsoilclassification_1     category\n",
       "organicmattercontent_1        float64\n",
       "density_1                     float64\n",
       "acidity_1                     float64\n",
       "year_month                  period[M]\n",
       "year                            int32\n",
       "dtype: object"
      ]
     },
     "execution_count": 11,
     "metadata": {},
     "output_type": "execute_result"
    }
   ],
   "source": [
    "df.dtypes"
   ]
  },
  {
   "cell_type": "markdown",
   "metadata": {},
   "source": [
    "## Remove spatial outlier"
   ]
  },
  {
   "cell_type": "code",
   "execution_count": 12,
   "metadata": {},
   "outputs": [],
   "source": [
    "# GMW000000024093\n",
    "\n",
    "# target_well = ['GAR000000000307', 'GAR000000000308', 'GAR000000000309']\n",
    "# df = df.drop(df[df[\"bro-id\"].isin(target_well)].index)\n",
    "# len(df)"
   ]
  },
  {
   "cell_type": "markdown",
   "metadata": {},
   "source": [
    "## Preprocess (alternative)"
   ]
  },
  {
   "cell_type": "code",
   "execution_count": 13,
   "metadata": {},
   "outputs": [],
   "source": [
    "def split_and_preprocess(df, cols_to_drop, holdout_cols = None):\n",
    "    if holdout_cols is None:\n",
    "        holdout_cols = []\n",
    "\n",
    "    df = df.drop(columns=cols_to_drop)\n",
    "    df = df.dropna()\n",
    "    len(df)\n",
    "\n",
    "    n = len(df)\n",
    "    train_size = int(n * 0.8)\n",
    "\n",
    "    train_df = df.iloc[:train_size]\n",
    "    test_df = df.iloc[train_size:]\n",
    "\n",
    "    print(f\"Train: {len(train_df)}\")\n",
    "    print(f\"Test: {len(test_df)}\")\n",
    "\n",
    "    holdout_train = train_df[holdout_cols].copy()\n",
    "    holdout_test = test_df[holdout_cols].copy()\n",
    "\n",
    "    X_train_raw = train_df.drop(columns=[\"nitrate\", \"year\"] + holdout_cols).copy()\n",
    "    y_train = train_df[\"nitrate\"].values.reshape(-1, 1)\n",
    "\n",
    "    X_test_raw = test_df.drop(columns=[\"nitrate\", \"year\"] + holdout_cols).copy()\n",
    "    y_test = test_df[\"nitrate\"].values.reshape(-1, 1)\n",
    "\n",
    "    categorical_cols = X_train_raw.select_dtypes(include=\"category\").columns.tolist()\n",
    "    numerical_cols = X_train_raw.select_dtypes(include=[\"float64\", \"int64\"]).columns.tolist()\n",
    "\n",
    "    # construct a transformer\n",
    "    transformers = []\n",
    "\n",
    "    if categorical_cols:\n",
    "        transformers.append(\n",
    "            (\"cat_ohe\", OneHotEncoder(handle_unknown=\"ignore\", drop='first', sparse_output=False), categorical_cols)\n",
    "        )\n",
    "\n",
    "    if numerical_cols:\n",
    "        transformers.append(\n",
    "            (\"num_scaler\", StandardScaler(), numerical_cols)\n",
    "        )\n",
    "\n",
    "    preprocessor = ColumnTransformer(transformers)\n",
    "\n",
    "    print(X_train_raw)\n",
    "    X_train = preprocessor.fit_transform(X_train_raw)\n",
    "    X_test = preprocessor.transform(X_test_raw)\n",
    "\n",
    "    # extract feature names\n",
    "    if categorical_cols:\n",
    "        cat_ohe = preprocessor.named_transformers_[\"cat_ohe\"]\n",
    "        ohe_feature_names = cat_ohe.get_feature_names_out(categorical_cols).tolist()\n",
    "    else:\n",
    "        ohe_feature_names = []\n",
    "\n",
    "    if numerical_cols:\n",
    "        num_feature_names = numerical_cols.copy()\n",
    "    else:\n",
    "        numerical_cols = []\n",
    "    \n",
    "    feature_names = ohe_feature_names + num_feature_names\n",
    "    print(feature_names)\n",
    "\n",
    "    # convert back to pd Dataframe\n",
    "    X_train = pd.DataFrame(X_train, columns=feature_names, index=X_train_raw.index)\n",
    "    X_test = pd.DataFrame(X_test, columns=feature_names, index=X_test_raw.index)\n",
    "    y_train = pd.DataFrame(y_train, columns=[\"nitrate\"], index=X_train_raw.index)\n",
    "    y_test = pd.DataFrame(y_test, columns=[\"nitrate\"], index=X_test_raw.index)\n",
    "\n",
    "    print(X_train.shape)\n",
    "\n",
    "    X_train = pd.concat([X_train, holdout_train], axis=1)\n",
    "    X_test = pd.concat([X_test, holdout_test], axis=1)\n",
    "\n",
    "    return X_train, y_train, X_test, y_test, feature_names, preprocessor"
   ]
  },
  {
   "cell_type": "markdown",
   "metadata": {},
   "source": [
    "## Simple OLS regression"
   ]
  },
  {
   "cell_type": "code",
   "execution_count": 14,
   "metadata": {},
   "outputs": [
    {
     "name": "stdout",
     "output_type": "stream",
     "text": [
      "Train: 191\n",
      "Test: 48\n",
      "                                          geometry soil region  population  \\\n",
      "3     POINT (4014966.1068907287 3225589.623440071)        zand         0.0   \n",
      "5      POINT (3997707.6233134544 3237167.74386636)        zand         0.0   \n",
      "9     POINT (4005247.963671945 3227908.7268077363)        zand         5.0   \n",
      "10   POINT (4003895.6499366937 3218837.4487597076)        klei        25.0   \n",
      "11    POINT (4010447.023226969 3224591.8496082774)        zand        10.0   \n",
      "..                                             ...         ...         ...   \n",
      "283      POINT (3999421.92552147 3217878.07804419)        klei        20.0   \n",
      "285    POINT (4001917.418034808 3229791.966176053)        zand         0.0   \n",
      "286   POINT (4008905.0068351263 3221211.301439656)        zand         0.0   \n",
      "287    POINT (4015139.3574900557 3215672.75246142)        zand        55.0   \n",
      "289    POINT (3998784.8558375193 3218938.01763749)        klei        10.0   \n",
      "\n",
      "     groundwater depth  elevation  precipitation  temperature  n deposition  \\\n",
      "3             5.154708   7.000000          34.50   174.733333     25.758873   \n",
      "5             2.917014   7.010535          14.00   175.450000     29.554770   \n",
      "9             2.641944   7.426850           2.25   173.216667     23.979984   \n",
      "10            3.075021   7.480150           2.25   173.216667     26.879433   \n",
      "11            4.675278  12.031865           2.25   173.216667     26.277132   \n",
      "..                 ...        ...            ...          ...           ...   \n",
      "283           2.117600   4.409471           7.25   129.733333     24.260124   \n",
      "285           5.209271  56.865055           6.00   137.700000     29.204595   \n",
      "286           5.991528  42.019218           6.00   137.700000     31.963974   \n",
      "287           9.291368  16.680454           6.00   137.700000     28.616301   \n",
      "289           2.597993   4.874994          58.25   146.483333     22.873431   \n",
      "\n",
      "    mainsoilclassification_1  organicmattercontent_1  density_1  acidity_1  \\\n",
      "3       Kalkloze zandgronden                     5.5      1.373        5.3   \n",
      "5       Kalkloze zandgronden                     3.0      1.473        4.2   \n",
      "9              Podzolgronden                     4.8      1.400        4.8   \n",
      "10         Rivierkleigronden                     9.0      0.992        4.4   \n",
      "11             Podzolgronden                     4.8      1.400        5.1   \n",
      "..                       ...                     ...        ...        ...   \n",
      "283        Rivierkleigronden                     5.0      1.291        6.9   \n",
      "285            Podzolgronden                     6.8      1.271        3.2   \n",
      "286            Podzolgronden                     4.0      1.341        3.5   \n",
      "287        Dikke eerdgronden                     2.0      1.425        4.5   \n",
      "289        Rivierkleigronden                     5.0      1.297        5.4   \n",
      "\n",
      "    year_month  \n",
      "3      2008-08  \n",
      "5      2008-08  \n",
      "9      2008-09  \n",
      "10     2008-09  \n",
      "11     2008-09  \n",
      "..         ...  \n",
      "283    2018-05  \n",
      "285    2018-05  \n",
      "286    2018-05  \n",
      "287    2018-05  \n",
      "289    2018-06  \n",
      "\n",
      "[191 rows x 13 columns]\n",
      "['soil region_veen', 'soil region_zand', 'mainsoilclassification_1_Kalkloze zandgronden', 'mainsoilclassification_1_Moerige gronden', 'mainsoilclassification_1_Podzolgronden', 'mainsoilclassification_1_Rivierkleigronden', 'mainsoilclassification_1_Veengronden', 'mainsoilclassification_1_Zeekleigronden', 'population', 'groundwater depth', 'elevation', 'precipitation', 'temperature', 'n deposition', 'organicmattercontent_1', 'density_1', 'acidity_1']\n",
      "(191, 17)\n"
     ]
    }
   ],
   "source": [
    "cols_to_drop_1 = ['landuse code'] # 'soil region'\n",
    "X_train, y_train, X_test, y_test, feature_names, preprocessor = split_and_preprocess(df, cols_to_drop_1)"
   ]
  },
  {
   "cell_type": "code",
   "execution_count": 15,
   "metadata": {},
   "outputs": [
    {
     "name": "stdout",
     "output_type": "stream",
     "text": [
      "['soil region_veen', 'soil region_zand', 'mainsoilclassification_1_Kalkloze zandgronden', 'mainsoilclassification_1_Moerige gronden', 'mainsoilclassification_1_Podzolgronden', 'mainsoilclassification_1_Rivierkleigronden', 'mainsoilclassification_1_Veengronden', 'mainsoilclassification_1_Zeekleigronden', 'population', 'groundwater depth', 'elevation', 'precipitation', 'temperature', 'n deposition', 'organicmattercontent_1', 'density_1', 'acidity_1']\n",
      "REGRESSION RESULTS\n",
      "------------------\n",
      "\n",
      "SUMMARY OF OUTPUT: ORDINARY LEAST SQUARES\n",
      "-----------------------------------------\n",
      "Data set            :     unknown\n",
      "Weights matrix      :        None\n",
      "Dependent Variable  :     nitrate                Number of Observations:         191\n",
      "Mean dependent var  :      0.8972                Number of Variables   :          18\n",
      "S.D. dependent var  :      0.9966                Degrees of Freedom    :         173\n",
      "R-squared           :      0.6393\n",
      "Adjusted R-squared  :      0.6039\n",
      "Sum squared residual:     68.0566                F-statistic           :     19.3868\n",
      "Sigma-square        :       0.393                Prob(F-statistic)     :   1.313e-31\n",
      "S.E. of regression  :       0.627                Log likelihood        :    -172.468\n",
      "Sigma-square ML     :       0.356                Akaike info criterion :     380.935\n",
      "S.E of regression ML:      0.5969                Schwarz criterion     :     439.476\n",
      "\n",
      "------------------------------------------------------------------------------------\n",
      "            Variable     Coefficient       Std.Error     t-Statistic     Probability\n",
      "------------------------------------------------------------------------------------\n",
      "            CONSTANT         1.93385         0.19195        10.07471         0.00000\n",
      "    soil region_veen        51.65816    20322370.63627         0.00000         1.00000\n",
      "    soil region_zand        -0.07944         0.18534        -0.42860         0.66875\n",
      "mainsoilclassification_1_Kalkloze zandgronden        -1.08562         0.15673        -6.92673         0.00000\n",
      "mainsoilclassification_1_Moerige gronden        -0.21210         0.59847        -0.35440         0.72347\n",
      "mainsoilclassification_1_Podzolgronden        -1.17292         0.18605        -6.30438         0.00000\n",
      "mainsoilclassification_1_Rivierkleigronden        -1.43223         0.29479        -4.85839         0.00000\n",
      "mainsoilclassification_1_Veengronden       -52.71181    20322370.63627        -0.00000         1.00000\n",
      "mainsoilclassification_1_Zeekleigronden       -52.69101    20322370.63627        -0.00000         1.00000\n",
      "          population        -0.14285         0.05370        -2.65999         0.00855\n",
      "   groundwater depth         0.23601         0.06790         3.47597         0.00064\n",
      "           elevation         0.06885         0.06443         1.06866         0.28671\n",
      "       precipitation         0.02674         0.04733         0.56493         0.57285\n",
      "         temperature        -0.14193         0.04816        -2.94728         0.00365\n",
      "        n deposition        -0.02617         0.06357        -0.41164         0.68111\n",
      "organicmattercontent_1        -0.56282         0.24844        -2.26547         0.02472\n",
      "           density_1        -0.27126         0.24119        -1.12466         0.26229\n",
      "           acidity_1        -0.40708         0.07273        -5.59720         0.00000\n",
      "------------------------------------------------------------------------------------\n",
      "\n",
      "REGRESSION DIAGNOSTICS\n",
      "MULTICOLLINEARITY CONDITION NUMBER   138488658.415\n",
      "\n",
      "TEST ON NORMALITY OF ERRORS\n",
      "TEST                             DF        VALUE           PROB\n",
      "Jarque-Bera                       2          5.095           0.0783\n",
      "\n",
      "DIAGNOSTICS FOR HETEROSKEDASTICITY\n",
      "RANDOM COEFFICIENTS\n",
      "TEST                             DF        VALUE           PROB\n",
      "Breusch-Pagan test               17         42.169           0.0006\n",
      "Koenker-Bassett test             17         37.984           0.0025\n",
      "================================ END OF REPORT =====================================\n"
     ]
    }
   ],
   "source": [
    "print(feature_names)\n",
    "\n",
    "ols_model = spreg.OLS(y_train, X_train, name_y='nitrate', name_x=feature_names)\n",
    "print(ols_model.summary)"
   ]
  },
  {
   "cell_type": "code",
   "execution_count": 16,
   "metadata": {},
   "outputs": [
    {
     "name": "stdout",
     "output_type": "stream",
     "text": [
      "Test R2: 0.6974415521579832\n",
      "Test MAE: 1.362882327601916\n",
      "Test RMSE: 2.0396793611984263\n"
     ]
    }
   ],
   "source": [
    "beta = ols_model.betas.flatten()\n",
    "\n",
    "X_test_with_const = np.hstack([np.ones((X_test.shape[0], 1)), X_test])\n",
    "\n",
    "y_pred = X_test_with_const @ beta\n",
    "\n",
    "print(\"Test R2:\", r2_score(np.expm1(y_test),  np.expm1(y_pred)))\n",
    "print(\"Test MAE:\",mean_absolute_error(np.expm1(y_test), np.expm1(y_pred)))\n",
    "print(\"Test RMSE:\", sqrt(mean_squared_error(np.expm1(y_test), np.expm1(y_pred))))"
   ]
  },
  {
   "cell_type": "markdown",
   "metadata": {},
   "source": [
    "## Learning Curve"
   ]
  },
  {
   "cell_type": "code",
   "execution_count": 17,
   "metadata": {},
   "outputs": [],
   "source": [
    "def learning_curve(X_train, y_train):\n",
    "    print(\"Creating learning curve...\")\n",
    "\n",
    "    n = len(X_train)\n",
    "\n",
    "    train_errors = []\n",
    "    val_errors = []\n",
    "\n",
    "    train_sizes = np.linspace(0.1, 1.0, 10)\n",
    "\n",
    "    for frac in train_sizes:\n",
    "        split_idx = int(n * frac)\n",
    "\n",
    "        X_subset = X_train.iloc[:split_idx]\n",
    "        y_subset = y_train.iloc[:split_idx]\n",
    "\n",
    "        tscv = TimeSeriesSplit(n_splits=7)\n",
    "        fold_train_scores = []\n",
    "        fold_val_scores = []\n",
    "\n",
    "        for train_idx, val_idx in tscv.split(X_subset):\n",
    "            X_tr, X_val = X_subset.iloc[train_idx], X_subset.iloc[val_idx]\n",
    "            y_tr, y_val = y_subset.iloc[train_idx], y_subset.iloc[val_idx]\n",
    "\n",
    "            X_tr = preprocessor.fit_transform(X_tr)\n",
    "            X_val = preprocessor.transform(X_val)\n",
    "\n",
    "            y_tr = y_tr.values.reshape(-1, 1)\n",
    "            y_val = y_val.values.reshape(-1, 1)\n",
    "            \n",
    "            # create fresh model\n",
    "            curr_model = OLS(y_tr, X_tr, name_y='nitrate', name_x=feature_names)\n",
    "\n",
    "            beta = curr_model.betas.flatten()\n",
    "            X_train_with_const = np.hstack([np.ones((X_tr.shape[0], 1)), X_tr])\n",
    "            X_val_with_const = np.hstack([np.ones((X_val.shape[0], 1)), X_val])\n",
    "\n",
    "            y_tr_pred = X_train_with_const @ beta\n",
    "            y_val_pred = X_val_with_const @ beta\n",
    "            \n",
    "            fold_train_scores.append(mean_absolute_error(np.expm1(y_tr), np.expm1(y_tr_pred)))\n",
    "            fold_val_scores.append(mean_absolute_error(np.expm1(y_val), np.expm1(y_val_pred)))\n",
    "\n",
    "        train_errors.append(np.mean(fold_train_scores))\n",
    "        val_errors.append(np.mean(fold_val_scores))\n",
    "\n",
    "    plt.plot(train_sizes * len(X_train), train_errors, label=\"Train MAE\")\n",
    "    plt.plot(train_sizes * len(X_train), val_errors, label=\"Validation MAE\")\n",
    "    plt.xlabel(\"Training Set Size\")\n",
    "    plt.ylabel(\"Train MAE\")\n",
    "    plt.title(\"learning curve\")\n",
    "    plt.legend()\n",
    "    plt.grid(True)\n",
    "    plt.show()\n",
    "\n",
    "# def get_feature_names():\n",
    "#     ohe = preprocessor.named_transformers_[\"cat_ohe\"]\n",
    "#     cat_features = ohe.get_feature_names_out()\n",
    "#     return list(cat_features) + preprocessor.transformers_[1][2]  # numerical feature names"
   ]
  },
  {
   "cell_type": "code",
   "execution_count": 18,
   "metadata": {},
   "outputs": [
    {
     "data": {
      "text/plain": [
       "['soil region_veen',\n",
       " 'soil region_zand',\n",
       " 'mainsoilclassification_1_Kalkloze zandgronden',\n",
       " 'mainsoilclassification_1_Moerige gronden',\n",
       " 'mainsoilclassification_1_Podzolgronden',\n",
       " 'mainsoilclassification_1_Rivierkleigronden',\n",
       " 'mainsoilclassification_1_Veengronden',\n",
       " 'mainsoilclassification_1_Zeekleigronden',\n",
       " 'population',\n",
       " 'groundwater depth',\n",
       " 'elevation',\n",
       " 'precipitation',\n",
       " 'temperature',\n",
       " 'n deposition',\n",
       " 'organicmattercontent_1',\n",
       " 'density_1',\n",
       " 'acidity_1']"
      ]
     },
     "execution_count": 18,
     "metadata": {},
     "output_type": "execute_result"
    }
   ],
   "source": [
    "feature_names"
   ]
  },
  {
   "cell_type": "code",
   "execution_count": 19,
   "metadata": {},
   "outputs": [
    {
     "name": "stdout",
     "output_type": "stream",
     "text": [
      "Creating learning curve...\n"
     ]
    },
    {
     "ename": "ValueError",
     "evalue": "A given column is not a column of the dataframe",
     "output_type": "error",
     "traceback": [
      "\u001b[0;31m---------------------------------------------------------------------------\u001b[0m",
      "\u001b[0;31mKeyError\u001b[0m                                  Traceback (most recent call last)",
      "File \u001b[0;32m~/Documents/University/Year 3/2b/Thesis/Bachelor-Thesis/spatial_env/lib/python3.9/site-packages/pandas/core/indexes/base.py:3805\u001b[0m, in \u001b[0;36mIndex.get_loc\u001b[0;34m(self, key)\u001b[0m\n\u001b[1;32m   3804\u001b[0m \u001b[38;5;28;01mtry\u001b[39;00m:\n\u001b[0;32m-> 3805\u001b[0m     \u001b[38;5;28;01mreturn\u001b[39;00m \u001b[38;5;28;43mself\u001b[39;49m\u001b[38;5;241;43m.\u001b[39;49m\u001b[43m_engine\u001b[49m\u001b[38;5;241;43m.\u001b[39;49m\u001b[43mget_loc\u001b[49m\u001b[43m(\u001b[49m\u001b[43mcasted_key\u001b[49m\u001b[43m)\u001b[49m\n\u001b[1;32m   3806\u001b[0m \u001b[38;5;28;01mexcept\u001b[39;00m \u001b[38;5;167;01mKeyError\u001b[39;00m \u001b[38;5;28;01mas\u001b[39;00m err:\n",
      "File \u001b[0;32mindex.pyx:167\u001b[0m, in \u001b[0;36mpandas._libs.index.IndexEngine.get_loc\u001b[0;34m()\u001b[0m\n",
      "File \u001b[0;32mindex.pyx:196\u001b[0m, in \u001b[0;36mpandas._libs.index.IndexEngine.get_loc\u001b[0;34m()\u001b[0m\n",
      "File \u001b[0;32mpandas/_libs/hashtable_class_helper.pxi:7081\u001b[0m, in \u001b[0;36mpandas._libs.hashtable.PyObjectHashTable.get_item\u001b[0;34m()\u001b[0m\n",
      "File \u001b[0;32mpandas/_libs/hashtable_class_helper.pxi:7089\u001b[0m, in \u001b[0;36mpandas._libs.hashtable.PyObjectHashTable.get_item\u001b[0;34m()\u001b[0m\n",
      "\u001b[0;31mKeyError\u001b[0m: 'soil region'",
      "\nThe above exception was the direct cause of the following exception:\n",
      "\u001b[0;31mKeyError\u001b[0m                                  Traceback (most recent call last)",
      "File \u001b[0;32m~/Documents/University/Year 3/2b/Thesis/Bachelor-Thesis/spatial_env/lib/python3.9/site-packages/sklearn/utils/_indexing.py:364\u001b[0m, in \u001b[0;36m_get_column_indices\u001b[0;34m(X, key)\u001b[0m\n\u001b[1;32m    363\u001b[0m \u001b[38;5;28;01mfor\u001b[39;00m col \u001b[38;5;129;01min\u001b[39;00m columns:\n\u001b[0;32m--> 364\u001b[0m     col_idx \u001b[38;5;241m=\u001b[39m \u001b[43mall_columns\u001b[49m\u001b[38;5;241;43m.\u001b[39;49m\u001b[43mget_loc\u001b[49m\u001b[43m(\u001b[49m\u001b[43mcol\u001b[49m\u001b[43m)\u001b[49m\n\u001b[1;32m    365\u001b[0m     \u001b[38;5;28;01mif\u001b[39;00m \u001b[38;5;129;01mnot\u001b[39;00m \u001b[38;5;28misinstance\u001b[39m(col_idx, numbers\u001b[38;5;241m.\u001b[39mIntegral):\n",
      "File \u001b[0;32m~/Documents/University/Year 3/2b/Thesis/Bachelor-Thesis/spatial_env/lib/python3.9/site-packages/pandas/core/indexes/base.py:3812\u001b[0m, in \u001b[0;36mIndex.get_loc\u001b[0;34m(self, key)\u001b[0m\n\u001b[1;32m   3811\u001b[0m         \u001b[38;5;28;01mraise\u001b[39;00m InvalidIndexError(key)\n\u001b[0;32m-> 3812\u001b[0m     \u001b[38;5;28;01mraise\u001b[39;00m \u001b[38;5;167;01mKeyError\u001b[39;00m(key) \u001b[38;5;28;01mfrom\u001b[39;00m\u001b[38;5;250m \u001b[39m\u001b[38;5;21;01merr\u001b[39;00m\n\u001b[1;32m   3813\u001b[0m \u001b[38;5;28;01mexcept\u001b[39;00m \u001b[38;5;167;01mTypeError\u001b[39;00m:\n\u001b[1;32m   3814\u001b[0m     \u001b[38;5;66;03m# If we have a listlike key, _check_indexing_error will raise\u001b[39;00m\n\u001b[1;32m   3815\u001b[0m     \u001b[38;5;66;03m#  InvalidIndexError. Otherwise we fall through and re-raise\u001b[39;00m\n\u001b[1;32m   3816\u001b[0m     \u001b[38;5;66;03m#  the TypeError.\u001b[39;00m\n",
      "\u001b[0;31mKeyError\u001b[0m: 'soil region'",
      "\nThe above exception was the direct cause of the following exception:\n",
      "\u001b[0;31mValueError\u001b[0m                                Traceback (most recent call last)",
      "Cell \u001b[0;32mIn[19], line 1\u001b[0m\n\u001b[0;32m----> 1\u001b[0m \u001b[43mlearning_curve\u001b[49m\u001b[43m(\u001b[49m\u001b[43mX_train\u001b[49m\u001b[43m,\u001b[49m\u001b[43m \u001b[49m\u001b[43my_train\u001b[49m\u001b[43m)\u001b[49m\n",
      "Cell \u001b[0;32mIn[17], line 25\u001b[0m, in \u001b[0;36mlearning_curve\u001b[0;34m(X_train, y_train)\u001b[0m\n\u001b[1;32m     22\u001b[0m X_tr, X_val \u001b[38;5;241m=\u001b[39m X_subset\u001b[38;5;241m.\u001b[39miloc[train_idx], X_subset\u001b[38;5;241m.\u001b[39miloc[val_idx]\n\u001b[1;32m     23\u001b[0m y_tr, y_val \u001b[38;5;241m=\u001b[39m y_subset\u001b[38;5;241m.\u001b[39miloc[train_idx], y_subset\u001b[38;5;241m.\u001b[39miloc[val_idx]\n\u001b[0;32m---> 25\u001b[0m X_tr \u001b[38;5;241m=\u001b[39m \u001b[43mpreprocessor\u001b[49m\u001b[38;5;241;43m.\u001b[39;49m\u001b[43mfit_transform\u001b[49m\u001b[43m(\u001b[49m\u001b[43mX_tr\u001b[49m\u001b[43m)\u001b[49m\n\u001b[1;32m     26\u001b[0m X_val \u001b[38;5;241m=\u001b[39m preprocessor\u001b[38;5;241m.\u001b[39mtransform(X_val)\n\u001b[1;32m     28\u001b[0m y_tr \u001b[38;5;241m=\u001b[39m y_tr\u001b[38;5;241m.\u001b[39mvalues\u001b[38;5;241m.\u001b[39mreshape(\u001b[38;5;241m-\u001b[39m\u001b[38;5;241m1\u001b[39m, \u001b[38;5;241m1\u001b[39m)\n",
      "File \u001b[0;32m~/Documents/University/Year 3/2b/Thesis/Bachelor-Thesis/spatial_env/lib/python3.9/site-packages/sklearn/utils/_set_output.py:319\u001b[0m, in \u001b[0;36m_wrap_method_output.<locals>.wrapped\u001b[0;34m(self, X, *args, **kwargs)\u001b[0m\n\u001b[1;32m    317\u001b[0m \u001b[38;5;129m@wraps\u001b[39m(f)\n\u001b[1;32m    318\u001b[0m \u001b[38;5;28;01mdef\u001b[39;00m\u001b[38;5;250m \u001b[39m\u001b[38;5;21mwrapped\u001b[39m(\u001b[38;5;28mself\u001b[39m, X, \u001b[38;5;241m*\u001b[39margs, \u001b[38;5;241m*\u001b[39m\u001b[38;5;241m*\u001b[39mkwargs):\n\u001b[0;32m--> 319\u001b[0m     data_to_wrap \u001b[38;5;241m=\u001b[39m \u001b[43mf\u001b[49m\u001b[43m(\u001b[49m\u001b[38;5;28;43mself\u001b[39;49m\u001b[43m,\u001b[49m\u001b[43m \u001b[49m\u001b[43mX\u001b[49m\u001b[43m,\u001b[49m\u001b[43m \u001b[49m\u001b[38;5;241;43m*\u001b[39;49m\u001b[43margs\u001b[49m\u001b[43m,\u001b[49m\u001b[43m \u001b[49m\u001b[38;5;241;43m*\u001b[39;49m\u001b[38;5;241;43m*\u001b[39;49m\u001b[43mkwargs\u001b[49m\u001b[43m)\u001b[49m\n\u001b[1;32m    320\u001b[0m     \u001b[38;5;28;01mif\u001b[39;00m \u001b[38;5;28misinstance\u001b[39m(data_to_wrap, \u001b[38;5;28mtuple\u001b[39m):\n\u001b[1;32m    321\u001b[0m         \u001b[38;5;66;03m# only wrap the first output for cross decomposition\u001b[39;00m\n\u001b[1;32m    322\u001b[0m         return_tuple \u001b[38;5;241m=\u001b[39m (\n\u001b[1;32m    323\u001b[0m             _wrap_data_with_container(method, data_to_wrap[\u001b[38;5;241m0\u001b[39m], X, \u001b[38;5;28mself\u001b[39m),\n\u001b[1;32m    324\u001b[0m             \u001b[38;5;241m*\u001b[39mdata_to_wrap[\u001b[38;5;241m1\u001b[39m:],\n\u001b[1;32m    325\u001b[0m         )\n",
      "File \u001b[0;32m~/Documents/University/Year 3/2b/Thesis/Bachelor-Thesis/spatial_env/lib/python3.9/site-packages/sklearn/base.py:1389\u001b[0m, in \u001b[0;36m_fit_context.<locals>.decorator.<locals>.wrapper\u001b[0;34m(estimator, *args, **kwargs)\u001b[0m\n\u001b[1;32m   1382\u001b[0m     estimator\u001b[38;5;241m.\u001b[39m_validate_params()\n\u001b[1;32m   1384\u001b[0m \u001b[38;5;28;01mwith\u001b[39;00m config_context(\n\u001b[1;32m   1385\u001b[0m     skip_parameter_validation\u001b[38;5;241m=\u001b[39m(\n\u001b[1;32m   1386\u001b[0m         prefer_skip_nested_validation \u001b[38;5;129;01mor\u001b[39;00m global_skip_validation\n\u001b[1;32m   1387\u001b[0m     )\n\u001b[1;32m   1388\u001b[0m ):\n\u001b[0;32m-> 1389\u001b[0m     \u001b[38;5;28;01mreturn\u001b[39;00m \u001b[43mfit_method\u001b[49m\u001b[43m(\u001b[49m\u001b[43mestimator\u001b[49m\u001b[43m,\u001b[49m\u001b[43m \u001b[49m\u001b[38;5;241;43m*\u001b[39;49m\u001b[43margs\u001b[49m\u001b[43m,\u001b[49m\u001b[43m \u001b[49m\u001b[38;5;241;43m*\u001b[39;49m\u001b[38;5;241;43m*\u001b[39;49m\u001b[43mkwargs\u001b[49m\u001b[43m)\u001b[49m\n",
      "File \u001b[0;32m~/Documents/University/Year 3/2b/Thesis/Bachelor-Thesis/spatial_env/lib/python3.9/site-packages/sklearn/compose/_column_transformer.py:993\u001b[0m, in \u001b[0;36mColumnTransformer.fit_transform\u001b[0;34m(self, X, y, **params)\u001b[0m\n\u001b[1;32m    990\u001b[0m \u001b[38;5;28mself\u001b[39m\u001b[38;5;241m.\u001b[39m_validate_transformers()\n\u001b[1;32m    991\u001b[0m n_samples \u001b[38;5;241m=\u001b[39m _num_samples(X)\n\u001b[0;32m--> 993\u001b[0m \u001b[38;5;28;43mself\u001b[39;49m\u001b[38;5;241;43m.\u001b[39;49m\u001b[43m_validate_column_callables\u001b[49m\u001b[43m(\u001b[49m\u001b[43mX\u001b[49m\u001b[43m)\u001b[49m\n\u001b[1;32m    994\u001b[0m \u001b[38;5;28mself\u001b[39m\u001b[38;5;241m.\u001b[39m_validate_remainder(X)\n\u001b[1;32m    996\u001b[0m \u001b[38;5;28;01mif\u001b[39;00m _routing_enabled():\n",
      "File \u001b[0;32m~/Documents/University/Year 3/2b/Thesis/Bachelor-Thesis/spatial_env/lib/python3.9/site-packages/sklearn/compose/_column_transformer.py:552\u001b[0m, in \u001b[0;36mColumnTransformer._validate_column_callables\u001b[0;34m(self, X)\u001b[0m\n\u001b[1;32m    550\u001b[0m         columns \u001b[38;5;241m=\u001b[39m columns(X)\n\u001b[1;32m    551\u001b[0m     all_columns\u001b[38;5;241m.\u001b[39mappend(columns)\n\u001b[0;32m--> 552\u001b[0m     transformer_to_input_indices[name] \u001b[38;5;241m=\u001b[39m \u001b[43m_get_column_indices\u001b[49m\u001b[43m(\u001b[49m\u001b[43mX\u001b[49m\u001b[43m,\u001b[49m\u001b[43m \u001b[49m\u001b[43mcolumns\u001b[49m\u001b[43m)\u001b[49m\n\u001b[1;32m    554\u001b[0m \u001b[38;5;28mself\u001b[39m\u001b[38;5;241m.\u001b[39m_columns \u001b[38;5;241m=\u001b[39m all_columns\n\u001b[1;32m    555\u001b[0m \u001b[38;5;28mself\u001b[39m\u001b[38;5;241m.\u001b[39m_transformer_to_input_indices \u001b[38;5;241m=\u001b[39m transformer_to_input_indices\n",
      "File \u001b[0;32m~/Documents/University/Year 3/2b/Thesis/Bachelor-Thesis/spatial_env/lib/python3.9/site-packages/sklearn/utils/_indexing.py:372\u001b[0m, in \u001b[0;36m_get_column_indices\u001b[0;34m(X, key)\u001b[0m\n\u001b[1;32m    369\u001b[0m         column_indices\u001b[38;5;241m.\u001b[39mappend(col_idx)\n\u001b[1;32m    371\u001b[0m \u001b[38;5;28;01mexcept\u001b[39;00m \u001b[38;5;167;01mKeyError\u001b[39;00m \u001b[38;5;28;01mas\u001b[39;00m e:\n\u001b[0;32m--> 372\u001b[0m     \u001b[38;5;28;01mraise\u001b[39;00m \u001b[38;5;167;01mValueError\u001b[39;00m(\u001b[38;5;124m\"\u001b[39m\u001b[38;5;124mA given column is not a column of the dataframe\u001b[39m\u001b[38;5;124m\"\u001b[39m) \u001b[38;5;28;01mfrom\u001b[39;00m\u001b[38;5;250m \u001b[39m\u001b[38;5;21;01me\u001b[39;00m\n\u001b[1;32m    374\u001b[0m \u001b[38;5;28;01mreturn\u001b[39;00m column_indices\n",
      "\u001b[0;31mValueError\u001b[0m: A given column is not a column of the dataframe"
     ]
    }
   ],
   "source": [
    "learning_curve(X_train, y_train)"
   ]
  },
  {
   "cell_type": "markdown",
   "metadata": {},
   "source": [
    "## Spatial fixed effects"
   ]
  },
  {
   "cell_type": "markdown",
   "metadata": {},
   "source": [
    "--> We influence constant term\n",
    "\n",
    "--> Instead of assuming the dependent variable behaves uniformly over space, there are systematic effects following a geographical pattern\n",
    "\n",
    "--> Constant term to vary geographically\n",
    "\n",
    "--> **Other** elements of the regression are left untouched and hence apply **uniformly** across space\n",
    "\n",
    "--> Each region gets its own intercept\n",
    "\n",
    "--> Control for spatial heterogeneity"
   ]
  },
  {
   "cell_type": "code",
   "execution_count": 22,
   "metadata": {},
   "outputs": [
    {
     "name": "stdout",
     "output_type": "stream",
     "text": [
      "Train: 152\n",
      "Test: 66\n",
      "                             geometry  population  groundwater depth  \\\n",
      "2     POINT (5.535157514 52.05581825)         0.0           5.154708   \n",
      "5    POINT (5.273031977 52.149856205)         0.0           2.917014   \n",
      "6    POINT (5.295321071 52.033349247)        20.0           2.267003   \n",
      "8    POINT (5.391578485 52.071179671)         5.0           2.641944   \n",
      "9    POINT (5.380287236 51.989073002)        25.0           3.075021   \n",
      "..                                ...         ...                ...   \n",
      "227  POINT (5.206717551 52.113087483)         0.0           2.137031   \n",
      "229  POINT (5.299047893 52.146637386)        40.0           3.058125   \n",
      "230  POINT (5.273031977 52.149856205)         0.0           3.058125   \n",
      "231  POINT (5.189137388 52.107199019)      1345.0           0.886458   \n",
      "232  POINT (5.209847732 52.100510748)        45.0           0.883819   \n",
      "\n",
      "     elevation  precipitation  temperature  n deposition  \\\n",
      "2     7.000000          34.50   174.733333     25.758873   \n",
      "5     7.010535          14.00   175.450000     29.554770   \n",
      "6     4.073599           2.25   173.216667     25.268628   \n",
      "8     7.426850           2.25   173.216667     23.979984   \n",
      "9     7.480150           2.25   173.216667     26.879433   \n",
      "..         ...            ...          ...           ...   \n",
      "227   4.656710           0.00    99.550000     25.688838   \n",
      "229  11.650369           0.00   100.633333     18.629310   \n",
      "230   7.010535           0.00   100.633333     27.649818   \n",
      "231   4.297389           0.00   100.633333     28.644315   \n",
      "232   5.265999           6.00   108.866667     27.285636   \n",
      "\n",
      "    mainsoilclassification_1  organicmattercontent_1  density_1  acidity_1  \\\n",
      "2       Kalkloze zandgronden                     5.5      1.373        4.8   \n",
      "5       Kalkloze zandgronden                     3.0      1.473        3.4   \n",
      "6       Kalkloze zandgronden                     5.5      1.368        4.8   \n",
      "8              Podzolgronden                     4.8      1.400        4.7   \n",
      "9          Rivierkleigronden                     9.0      0.992        5.3   \n",
      "..                       ...                     ...        ...        ...   \n",
      "227     Kalkloze zandgronden                     3.0      1.473        3.4   \n",
      "229            Podzolgronden                     4.6      1.408        3.4   \n",
      "230     Kalkloze zandgronden                     3.0      1.473        3.4   \n",
      "231        Dikke eerdgronden                     5.5      1.372        5.0   \n",
      "232        Dikke eerdgronden                     4.8      1.395        4.4   \n",
      "\n",
      "    year_month  \n",
      "2      2008-08  \n",
      "5      2008-08  \n",
      "6      2008-09  \n",
      "8      2008-09  \n",
      "9      2008-09  \n",
      "..         ...  \n",
      "227    2018-05  \n",
      "229    2018-05  \n",
      "230    2018-05  \n",
      "231    2018-05  \n",
      "232    2018-05  \n",
      "\n",
      "[152 rows x 12 columns]\n",
      "['mainsoilclassification_1_Kalkloze zandgronden', 'mainsoilclassification_1_Moerige gronden', 'mainsoilclassification_1_Podzolgronden', 'mainsoilclassification_1_Rivierkleigronden', 'population', 'groundwater depth', 'elevation', 'precipitation', 'temperature', 'n deposition', 'organicmattercontent_1', 'density_1', 'acidity_1']\n",
      "(152, 13)\n"
     ]
    }
   ],
   "source": [
    "cols_to_drop_2 = ['landuse code']\n",
    "holdout_cols = [\"soil region\"]\n",
    "\n",
    "X_train, y_train, X_test, y_test, feature_names, preprocessor = split_and_preprocess(df, cols_to_drop_2, holdout_cols)"
   ]
  },
  {
   "cell_type": "code",
   "execution_count": 23,
   "metadata": {},
   "outputs": [],
   "source": [
    "train_df_for_formula = X_train.copy()\n",
    "train_df_for_formula['nitrate'] = y_train\n",
    "\n",
    "test_df_for_formula = X_test.copy()\n",
    "test_df_for_formula['nitrate'] = y_test"
   ]
  },
  {
   "cell_type": "code",
   "execution_count": 24,
   "metadata": {},
   "outputs": [],
   "source": [
    "variable_names = ['population',\n",
    "'groundwater depth',\n",
    "'elevation',\n",
    "'precipitation',\n",
    "'temperature',\n",
    "'n deposition',\n",
    "'organicmattercontent_1',\n",
    "'density_1',\n",
    "'acidity_1']\n",
    "\n",
    "\n",
    "formula = \"nitrate ~ \" + \" + \".join([f\"Q('{col}')\" for col in variable_names]) + \" + C(Q('soil region')) - 1\""
   ]
  },
  {
   "cell_type": "code",
   "execution_count": 25,
   "metadata": {},
   "outputs": [],
   "source": [
    "model_2 = smf.ols(formula, data=train_df_for_formula).fit()"
   ]
  },
  {
   "cell_type": "code",
   "execution_count": 26,
   "metadata": {},
   "outputs": [
    {
     "name": "stdout",
     "output_type": "stream",
     "text": [
      "                            OLS Regression Results                            \n",
      "==============================================================================\n",
      "Dep. Variable:                nitrate   R-squared:                       0.517\n",
      "Model:                            OLS   Adj. R-squared:                  0.483\n",
      "Method:                 Least Squares   F-statistic:                     15.12\n",
      "Date:                Sat, 14 Jun 2025   Prob (F-statistic):           4.41e-18\n",
      "Time:                        16:13:31   Log-Likelihood:                -162.34\n",
      "No. Observations:                 152   AIC:                             346.7\n",
      "Df Residuals:                     141   BIC:                             379.9\n",
      "Df Model:                          10                                         \n",
      "Covariance Type:            nonrobust                                         \n",
      "===============================================================================================\n",
      "                                  coef    std err          t      P>|t|      [0.025      0.975]\n",
      "-----------------------------------------------------------------------------------------------\n",
      "C(Q('soil region'))[klei]       0.9770      0.163      5.978      0.000       0.654       1.300\n",
      "C(Q('soil region'))[zand]       0.9995      0.099     10.103      0.000       0.804       1.195\n",
      "Q('population')                 0.0526      0.066      0.803      0.423      -0.077       0.182\n",
      "Q('groundwater depth')          0.2676      0.075      3.558      0.001       0.119       0.416\n",
      "Q('elevation')                  0.1013      0.077      1.310      0.192      -0.052       0.254\n",
      "Q('precipitation')             -0.0646      0.061     -1.063      0.290      -0.185       0.056\n",
      "Q('temperature')               -0.1563      0.062     -2.538      0.012      -0.278      -0.035\n",
      "Q('n deposition')              -0.1296      0.074     -1.760      0.081      -0.275       0.016\n",
      "Q('organicmattercontent_1')    -0.2891      0.169     -1.715      0.088      -0.622       0.044\n",
      "Q('density_1')                 -0.0376      0.192     -0.196      0.845      -0.417       0.342\n",
      "Q('acidity_1')                 -0.4942      0.092     -5.356      0.000      -0.677      -0.312\n",
      "==============================================================================\n",
      "Omnibus:                        4.393   Durbin-Watson:                   1.686\n",
      "Prob(Omnibus):                  0.111   Jarque-Bera (JB):                4.233\n",
      "Skew:                           0.356   Prob(JB):                        0.120\n",
      "Kurtosis:                       2.599   Cond. No.                         7.75\n",
      "==============================================================================\n",
      "\n",
      "Notes:\n",
      "[1] Standard Errors assume that the covariance matrix of the errors is correctly specified.\n"
     ]
    }
   ],
   "source": [
    "print(model_2.summary())"
   ]
  },
  {
   "cell_type": "markdown",
   "metadata": {},
   "source": [
    "#### Wells on **zand** soils have significantly **higher nitrate** concentrations, even when controlling for depth, population, temperature"
   ]
  },
  {
   "cell_type": "markdown",
   "metadata": {},
   "source": [
    "--> The log nitrate concentration is, on average, 0.7 units lower in klei (clay) regions"
   ]
  },
  {
   "cell_type": "code",
   "execution_count": 27,
   "metadata": {},
   "outputs": [
    {
     "data": {
      "text/html": [
       "<div>\n",
       "<style scoped>\n",
       "    .dataframe tbody tr th:only-of-type {\n",
       "        vertical-align: middle;\n",
       "    }\n",
       "\n",
       "    .dataframe tbody tr th {\n",
       "        vertical-align: top;\n",
       "    }\n",
       "\n",
       "    .dataframe thead th {\n",
       "        text-align: right;\n",
       "    }\n",
       "</style>\n",
       "<table border=\"1\" class=\"dataframe\">\n",
       "  <thead>\n",
       "    <tr style=\"text-align: right;\">\n",
       "      <th></th>\n",
       "      <th>soil_region</th>\n",
       "      <th>Coef.</th>\n",
       "      <th>Std. Error</th>\n",
       "      <th>P-Value</th>\n",
       "    </tr>\n",
       "  </thead>\n",
       "  <tbody>\n",
       "    <tr>\n",
       "      <th>C(Q('soil region'))[klei]</th>\n",
       "      <td>C(Q('soil region'))[klei]</td>\n",
       "      <td>0.977049</td>\n",
       "      <td>0.163435</td>\n",
       "      <td>1.759688e-08</td>\n",
       "    </tr>\n",
       "    <tr>\n",
       "      <th>C(Q('soil region'))[zand]</th>\n",
       "      <td>C(Q('soil region'))[zand]</td>\n",
       "      <td>0.999472</td>\n",
       "      <td>0.098932</td>\n",
       "      <td>2.176484e-18</td>\n",
       "    </tr>\n",
       "  </tbody>\n",
       "</table>\n",
       "</div>"
      ],
      "text/plain": [
       "                                         soil_region     Coef.  Std. Error  \\\n",
       "C(Q('soil region'))[klei]  C(Q('soil region'))[klei]  0.977049    0.163435   \n",
       "C(Q('soil region'))[zand]  C(Q('soil region'))[zand]  0.999472    0.098932   \n",
       "\n",
       "                                P-Value  \n",
       "C(Q('soil region'))[klei]  1.759688e-08  \n",
       "C(Q('soil region'))[zand]  2.176484e-18  "
      ]
     },
     "execution_count": 27,
     "metadata": {},
     "output_type": "execute_result"
    }
   ],
   "source": [
    "# Step 1: Extract fixed effect names\n",
    "sfe_names = [i for i in model_2.params.index if \"C(Q('soil region'))\" in i]\n",
    "\n",
    "# Step 2: Extract soil region names using regex\n",
    "soil_region_labels = []\n",
    "for name in sfe_names:\n",
    "    match = re.search(r\"\\[T\\.(.*)\\]\", name)\n",
    "    if match:\n",
    "        soil_region_labels.append(match.group(1))\n",
    "    else:\n",
    "        # If no match, fallback to raw name (for safety)\n",
    "        soil_region_labels.append(name)\n",
    "\n",
    "# Step 3: Create DataFrame\n",
    "soil_fixed_effects = pd.DataFrame({\n",
    "    \"soil_region\": soil_region_labels,\n",
    "    \"Coef.\": model_2.params[sfe_names],\n",
    "    \"Std. Error\": model_2.bse[sfe_names],\n",
    "    \"P-Value\": model_2.pvalues[sfe_names],\n",
    "})\n",
    "\n",
    "soil_fixed_effects"
   ]
  },
  {
   "cell_type": "code",
   "execution_count": 28,
   "metadata": {},
   "outputs": [],
   "source": [
    "y_pred = model_2.predict(test_df_for_formula)"
   ]
  },
  {
   "cell_type": "code",
   "execution_count": 29,
   "metadata": {},
   "outputs": [
    {
     "name": "stdout",
     "output_type": "stream",
     "text": [
      "Test R2: 0.1130297918502795\n",
      "Test MAE: 0.6593966216265692\n",
      "Test RMSE: 4.049174734288938\n"
     ]
    }
   ],
   "source": [
    "print(\"Test R2:\", r2_score(np.expm1(y_test),  np.expm1(y_pred)))\n",
    "print(\"Test MAE:\",mean_absolute_error(y_test, y_pred))\n",
    "print(\"Test RMSE:\", sqrt(mean_squared_error(np.expm1(y_test), np.expm1(y_pred))))"
   ]
  },
  {
   "cell_type": "markdown",
   "metadata": {},
   "source": [
    "## Spatial Regimes"
   ]
  },
  {
   "cell_type": "markdown",
   "metadata": {},
   "source": [
    "--> We modify set of coeficients depending on the location\n",
    "\n",
    "--> Spatial regimes (SRs) is to generalize the spatial FE approach to allow not only the constant term to vary but also any other explanatory variable\n",
    "\n",
    "--> We want the whole model — intercept and slopes — to vary between geographic groups"
   ]
  },
  {
   "cell_type": "code",
   "execution_count": 31,
   "metadata": {},
   "outputs": [
    {
     "name": "stdout",
     "output_type": "stream",
     "text": [
      "Train: 152\n",
      "Test: 66\n",
      "                             geometry  population  groundwater depth  \\\n",
      "2     POINT (5.535157514 52.05581825)         0.0           5.154708   \n",
      "5    POINT (5.273031977 52.149856205)         0.0           2.917014   \n",
      "6    POINT (5.295321071 52.033349247)        20.0           2.267003   \n",
      "8    POINT (5.391578485 52.071179671)         5.0           2.641944   \n",
      "9    POINT (5.380287236 51.989073002)        25.0           3.075021   \n",
      "..                                ...         ...                ...   \n",
      "227  POINT (5.206717551 52.113087483)         0.0           2.137031   \n",
      "229  POINT (5.299047893 52.146637386)        40.0           3.058125   \n",
      "230  POINT (5.273031977 52.149856205)         0.0           3.058125   \n",
      "231  POINT (5.189137388 52.107199019)      1345.0           0.886458   \n",
      "232  POINT (5.209847732 52.100510748)        45.0           0.883819   \n",
      "\n",
      "     elevation  precipitation  temperature  n deposition  \\\n",
      "2     7.000000          34.50   174.733333     25.758873   \n",
      "5     7.010535          14.00   175.450000     29.554770   \n",
      "6     4.073599           2.25   173.216667     25.268628   \n",
      "8     7.426850           2.25   173.216667     23.979984   \n",
      "9     7.480150           2.25   173.216667     26.879433   \n",
      "..         ...            ...          ...           ...   \n",
      "227   4.656710           0.00    99.550000     25.688838   \n",
      "229  11.650369           0.00   100.633333     18.629310   \n",
      "230   7.010535           0.00   100.633333     27.649818   \n",
      "231   4.297389           0.00   100.633333     28.644315   \n",
      "232   5.265999           6.00   108.866667     27.285636   \n",
      "\n",
      "    mainsoilclassification_1  organicmattercontent_1  density_1  acidity_1  \\\n",
      "2       Kalkloze zandgronden                     5.5      1.373        4.8   \n",
      "5       Kalkloze zandgronden                     3.0      1.473        3.4   \n",
      "6       Kalkloze zandgronden                     5.5      1.368        4.8   \n",
      "8              Podzolgronden                     4.8      1.400        4.7   \n",
      "9          Rivierkleigronden                     9.0      0.992        5.3   \n",
      "..                       ...                     ...        ...        ...   \n",
      "227     Kalkloze zandgronden                     3.0      1.473        3.4   \n",
      "229            Podzolgronden                     4.6      1.408        3.4   \n",
      "230     Kalkloze zandgronden                     3.0      1.473        3.4   \n",
      "231        Dikke eerdgronden                     5.5      1.372        5.0   \n",
      "232        Dikke eerdgronden                     4.8      1.395        4.4   \n",
      "\n",
      "    year_month  \n",
      "2      2008-08  \n",
      "5      2008-08  \n",
      "6      2008-09  \n",
      "8      2008-09  \n",
      "9      2008-09  \n",
      "..         ...  \n",
      "227    2018-05  \n",
      "229    2018-05  \n",
      "230    2018-05  \n",
      "231    2018-05  \n",
      "232    2018-05  \n",
      "\n",
      "[152 rows x 12 columns]\n",
      "['mainsoilclassification_1_Kalkloze zandgronden', 'mainsoilclassification_1_Moerige gronden', 'mainsoilclassification_1_Podzolgronden', 'mainsoilclassification_1_Rivierkleigronden', 'population', 'groundwater depth', 'elevation', 'precipitation', 'temperature', 'n deposition', 'organicmattercontent_1', 'density_1', 'acidity_1']\n",
      "(152, 13)\n"
     ]
    }
   ],
   "source": [
    "cols_to_drop_3 = ['landuse code']\n",
    "holdout_cols = ['soil region']\n",
    "\n",
    "X_train, y_train, X_test, y_test, feature_names, preprocessor = split_and_preprocess(df, cols_to_drop_3, holdout_cols)"
   ]
  },
  {
   "cell_type": "code",
   "execution_count": 32,
   "metadata": {},
   "outputs": [],
   "source": [
    "variable_names = ['population',\n",
    "'groundwater depth',\n",
    "'elevation',\n",
    "'precipitation',\n",
    "'temperature',\n",
    "'n deposition',\n",
    "'organicmattercontent_1',\n",
    "'density_1',\n",
    "'acidity_1']"
   ]
  },
  {
   "cell_type": "code",
   "execution_count": 33,
   "metadata": {},
   "outputs": [],
   "source": [
    "m5 = spreg.OLS_Regimes(\n",
    "    # Dependent variable\n",
    "    y_train.values,\n",
    "    # Independent variables\n",
    "    X_train[variable_names].values,\n",
    "    # Variable specifying neighborhood membership\n",
    "    X_train[\"soil region\"].tolist(),\n",
    "    # Allow the constant term to vary by group/regime\n",
    "    constant_regi=\"many\",\n",
    "    # Allow separate sigma coefficients to be estimated\n",
    "    # by regime (False so a single sigma)\n",
    "    regime_err_sep=False,\n",
    "    # Dependent variable name\n",
    "    name_y=\"nitrate\",\n",
    "    # Independent variables names\n",
    "    name_x=variable_names\n",
    ")"
   ]
  },
  {
   "cell_type": "code",
   "execution_count": 34,
   "metadata": {},
   "outputs": [
    {
     "data": {
      "text/plain": [
       "['klei_CONSTANT',\n",
       " 'klei_population',\n",
       " 'klei_groundwater depth',\n",
       " 'klei_elevation',\n",
       " 'klei_precipitation',\n",
       " 'klei_temperature',\n",
       " 'klei_n deposition',\n",
       " 'klei_organicmattercontent_1',\n",
       " 'klei_density_1',\n",
       " 'klei_acidity_1',\n",
       " 'zand_CONSTANT',\n",
       " 'zand_population',\n",
       " 'zand_groundwater depth',\n",
       " 'zand_elevation',\n",
       " 'zand_precipitation',\n",
       " 'zand_temperature',\n",
       " 'zand_n deposition',\n",
       " 'zand_organicmattercontent_1',\n",
       " 'zand_density_1',\n",
       " 'zand_acidity_1']"
      ]
     },
     "execution_count": 34,
     "metadata": {},
     "output_type": "execute_result"
    }
   ],
   "source": [
    "m5.name_x"
   ]
  },
  {
   "cell_type": "code",
   "execution_count": 35,
   "metadata": {},
   "outputs": [
    {
     "name": "stdout",
     "output_type": "stream",
     "text": [
      "REGRESSION RESULTS\n",
      "------------------\n",
      "\n",
      "SUMMARY OF OUTPUT: ORDINARY LEAST SQUARES - REGIMES\n",
      "---------------------------------------------------\n",
      "Data set            :     unknown\n",
      "Weights matrix      :        None\n",
      "Dependent Variable  :     nitrate                Number of Observations:         152\n",
      "Mean dependent var  :      0.9918                Number of Variables   :          20\n",
      "S.D. dependent var  :      1.0168                Degrees of Freedom    :         132\n",
      "R-squared           :      0.5888\n",
      "Adjusted R-squared  :      0.5296\n",
      "Sum squared residual:     64.1928                F-statistic           :      9.9487\n",
      "Sigma-square        :       0.486                Prob(F-statistic)     :   1.798e-17\n",
      "S.E. of regression  :       0.697                Log likelihood        :    -150.168\n",
      "Sigma-square ML     :       0.422                Akaike info criterion :     340.335\n",
      "S.E of regression ML:      0.6499                Schwarz criterion     :     400.813\n",
      "\n",
      "------------------------------------------------------------------------------------\n",
      "            Variable     Coefficient       Std.Error     t-Statistic     Probability\n",
      "------------------------------------------------------------------------------------\n",
      "       klei_CONSTANT         1.43670         0.25753         5.57880         0.00000\n",
      "     klei_population         1.64836         1.10653         1.48967         0.13870\n",
      "klei_groundwater depth         0.15284         0.38576         0.39621         0.69259\n",
      "      klei_elevation         0.55085         0.93371         0.58996         0.55623\n",
      "  klei_precipitation        -0.03714         0.08937        -0.41559         0.67838\n",
      "    klei_temperature        -0.03507         0.10720        -0.32715         0.74407\n",
      "   klei_n deposition         0.02334         0.22464         0.10391         0.91740\n",
      "klei_organicmattercontent_1        -0.04923         0.49235        -0.09999         0.92050\n",
      "      klei_density_1         0.24736         0.25729         0.96143         0.33810\n",
      "      klei_acidity_1        -0.24368         0.20477        -1.19001         0.23618\n",
      "       zand_CONSTANT         1.50830         0.19124         7.88703         0.00000\n",
      "     zand_population         0.06448         0.06691         0.96362         0.33700\n",
      "zand_groundwater depth         0.21299         0.09355         2.27669         0.02441\n",
      "      zand_elevation         0.01669         0.07907         0.21112         0.83312\n",
      "  zand_precipitation        -0.09997         0.08363        -1.19536         0.23409\n",
      "    zand_temperature        -0.19151         0.07305        -2.62154         0.00978\n",
      "   zand_n deposition        -0.22552         0.08141        -2.77037         0.00641\n",
      "zand_organicmattercontent_1        -1.64471         0.42447        -3.87469         0.00017\n",
      "      zand_density_1        -1.76325         0.53064        -3.32290         0.00115\n",
      "      zand_acidity_1        -0.58257         0.12336        -4.72272         0.00001\n",
      "------------------------------------------------------------------------------------\n",
      "Regimes variable: unknown\n",
      "\n",
      "REGIMES DIAGNOSTICS\n",
      "Overall SSR         :         64.19\n",
      "Number of clusters  :             2\n",
      "\n",
      "- CHOW TEST -\n",
      "                 VARIABLE        DF        VALUE           PROB\n",
      "            CONSTANT              1          0.050           0.8234\n",
      "          population              1          2.041           0.1531\n",
      "   groundwater depth              1          0.023           0.8796\n",
      "           elevation              1          0.325           0.5686\n",
      "       precipitation              1          0.263           0.6078\n",
      "         temperature              1          1.454           0.2279\n",
      "        n deposition              1          1.085           0.2976\n",
      "organicmattercontent_1              1          6.024           0.0141\n",
      "           density_1              1         11.624           0.0007\n",
      "           acidity_1              1          2.010           0.1563\n",
      "         Global test             10         22.942           0.0110\n",
      "\n",
      "REGRESSION DIAGNOSTICS\n",
      "MULTICOLLINEARITY CONDITION NUMBER          23.880\n",
      "\n",
      "TEST ON NORMALITY OF ERRORS\n",
      "TEST                             DF        VALUE           PROB\n",
      "Jarque-Bera                       2          4.947           0.0843\n",
      "\n",
      "DIAGNOSTICS FOR HETEROSKEDASTICITY\n",
      "RANDOM COEFFICIENTS\n",
      "TEST                             DF        VALUE           PROB\n",
      "Breusch-Pagan test               19         40.583           0.0027\n",
      "Koenker-Bassett test             19         42.298           0.0016\n",
      "================================ END OF REPORT =====================================\n"
     ]
    }
   ],
   "source": [
    "print(m5.summary)"
   ]
  },
  {
   "cell_type": "code",
   "execution_count": 36,
   "metadata": {},
   "outputs": [
    {
     "data": {
      "text/html": [
       "<div>\n",
       "<style scoped>\n",
       "    .dataframe tbody tr th:only-of-type {\n",
       "        vertical-align: middle;\n",
       "    }\n",
       "\n",
       "    .dataframe tbody tr th {\n",
       "        vertical-align: top;\n",
       "    }\n",
       "\n",
       "    .dataframe thead tr th {\n",
       "        text-align: left;\n",
       "    }\n",
       "</style>\n",
       "<table border=\"1\" class=\"dataframe\">\n",
       "  <thead>\n",
       "    <tr>\n",
       "      <th></th>\n",
       "      <th colspan=\"3\" halign=\"left\">zand</th>\n",
       "      <th colspan=\"3\" halign=\"left\">klei</th>\n",
       "    </tr>\n",
       "    <tr>\n",
       "      <th></th>\n",
       "      <th>Coeff.</th>\n",
       "      <th>Std. Error</th>\n",
       "      <th>P-Value</th>\n",
       "      <th>Coeff.</th>\n",
       "      <th>Std. Error</th>\n",
       "      <th>P-Value</th>\n",
       "    </tr>\n",
       "  </thead>\n",
       "  <tbody>\n",
       "    <tr>\n",
       "      <th>CONSTANT</th>\n",
       "      <td>1.508297</td>\n",
       "      <td>0.191237</td>\n",
       "      <td>1.032915e-12</td>\n",
       "      <td>1.436699</td>\n",
       "      <td>0.257529</td>\n",
       "      <td>1.317100e-07</td>\n",
       "    </tr>\n",
       "    <tr>\n",
       "      <th>population</th>\n",
       "      <td>0.064480</td>\n",
       "      <td>0.066915</td>\n",
       "      <td>3.369987e-01</td>\n",
       "      <td>1.648361</td>\n",
       "      <td>1.106526</td>\n",
       "      <td>1.386958e-01</td>\n",
       "    </tr>\n",
       "    <tr>\n",
       "      <th>groundwater depth</th>\n",
       "      <td>0.212985</td>\n",
       "      <td>0.093550</td>\n",
       "      <td>2.441413e-02</td>\n",
       "      <td>0.152842</td>\n",
       "      <td>0.385764</td>\n",
       "      <td>6.925930e-01</td>\n",
       "    </tr>\n",
       "    <tr>\n",
       "      <th>elevation</th>\n",
       "      <td>0.016693</td>\n",
       "      <td>0.079069</td>\n",
       "      <td>8.331182e-01</td>\n",
       "      <td>0.550849</td>\n",
       "      <td>0.933706</td>\n",
       "      <td>5.562263e-01</td>\n",
       "    </tr>\n",
       "    <tr>\n",
       "      <th>precipitation</th>\n",
       "      <td>-0.099966</td>\n",
       "      <td>0.083628</td>\n",
       "      <td>2.340899e-01</td>\n",
       "      <td>-0.037143</td>\n",
       "      <td>0.089374</td>\n",
       "      <td>6.783845e-01</td>\n",
       "    </tr>\n",
       "    <tr>\n",
       "      <th>temperature</th>\n",
       "      <td>-0.191505</td>\n",
       "      <td>0.073051</td>\n",
       "      <td>9.781179e-03</td>\n",
       "      <td>-0.035071</td>\n",
       "      <td>0.107202</td>\n",
       "      <td>7.440732e-01</td>\n",
       "    </tr>\n",
       "    <tr>\n",
       "      <th>n deposition</th>\n",
       "      <td>-0.225525</td>\n",
       "      <td>0.081406</td>\n",
       "      <td>6.407193e-03</td>\n",
       "      <td>0.023343</td>\n",
       "      <td>0.224644</td>\n",
       "      <td>9.173980e-01</td>\n",
       "    </tr>\n",
       "    <tr>\n",
       "      <th>organicmattercontent_1</th>\n",
       "      <td>-1.644705</td>\n",
       "      <td>0.424474</td>\n",
       "      <td>1.673836e-04</td>\n",
       "      <td>-0.049233</td>\n",
       "      <td>0.492355</td>\n",
       "      <td>9.205007e-01</td>\n",
       "    </tr>\n",
       "    <tr>\n",
       "      <th>density_1</th>\n",
       "      <td>-1.763250</td>\n",
       "      <td>0.530636</td>\n",
       "      <td>1.152961e-03</td>\n",
       "      <td>0.247361</td>\n",
       "      <td>0.257286</td>\n",
       "      <td>3.380959e-01</td>\n",
       "    </tr>\n",
       "    <tr>\n",
       "      <th>acidity_1</th>\n",
       "      <td>-0.582573</td>\n",
       "      <td>0.123355</td>\n",
       "      <td>5.866189e-06</td>\n",
       "      <td>-0.243682</td>\n",
       "      <td>0.204772</td>\n",
       "      <td>2.361766e-01</td>\n",
       "    </tr>\n",
       "  </tbody>\n",
       "</table>\n",
       "</div>"
      ],
      "text/plain": [
       "                            zand                               klei  \\\n",
       "                          Coeff. Std. Error       P-Value    Coeff.   \n",
       "CONSTANT                1.508297   0.191237  1.032915e-12  1.436699   \n",
       "population              0.064480   0.066915  3.369987e-01  1.648361   \n",
       "groundwater depth       0.212985   0.093550  2.441413e-02  0.152842   \n",
       "elevation               0.016693   0.079069  8.331182e-01  0.550849   \n",
       "precipitation          -0.099966   0.083628  2.340899e-01 -0.037143   \n",
       "temperature            -0.191505   0.073051  9.781179e-03 -0.035071   \n",
       "n deposition           -0.225525   0.081406  6.407193e-03  0.023343   \n",
       "organicmattercontent_1 -1.644705   0.424474  1.673836e-04 -0.049233   \n",
       "density_1              -1.763250   0.530636  1.152961e-03  0.247361   \n",
       "acidity_1              -0.582573   0.123355  5.866189e-06 -0.243682   \n",
       "\n",
       "                                                 \n",
       "                       Std. Error       P-Value  \n",
       "CONSTANT                 0.257529  1.317100e-07  \n",
       "population               1.106526  1.386958e-01  \n",
       "groundwater depth        0.385764  6.925930e-01  \n",
       "elevation                0.933706  5.562263e-01  \n",
       "precipitation            0.089374  6.783845e-01  \n",
       "temperature              0.107202  7.440732e-01  \n",
       "n deposition             0.224644  9.173980e-01  \n",
       "organicmattercontent_1   0.492355  9.205007e-01  \n",
       "density_1                0.257286  3.380959e-01  \n",
       "acidity_1                0.204772  2.361766e-01  "
      ]
     },
     "execution_count": 36,
     "metadata": {},
     "output_type": "execute_result"
    }
   ],
   "source": [
    "res = pd.DataFrame({\n",
    "    \"Coeff.\": m5.betas.flatten(),\n",
    "    \"Std. Error\": m5.std_err.flatten(),\n",
    "    \"P-Value\": [i[1] for i in m5.t_stat],\n",
    "}, index=m5.name_x)\n",
    "\n",
    "soil_types = df[\"soil region\"].unique()\n",
    "\n",
    "regime_tables = []\n",
    "for soil in soil_types:\n",
    "    matching_rows = [i for i in res.index if i.startswith(f\"{soil}_\")]\n",
    "    regime_res = res.loc[matching_rows].rename(lambda i: i.replace(f\"{soil}_\", \"\"))\n",
    "    regime_res.columns = pd.MultiIndex.from_product([[soil], regime_res.columns])\n",
    "    regime_tables.append(regime_res)\n",
    "\n",
    "comparison_table = pd.concat(regime_tables, axis=1)\n",
    "\n",
    "comparison_table"
   ]
  },
  {
   "cell_type": "markdown",
   "metadata": {},
   "source": [
    "CHOW test check if coefficients for each predictor is statistically different across the groups (klei vs zand)"
   ]
  },
  {
   "cell_type": "code",
   "execution_count": 37,
   "metadata": {},
   "outputs": [],
   "source": [
    "# ‣ 1. Flatten the coefficient vector from the fitted model\n",
    "beta_vec = m5.betas.flatten()  \n",
    "#    shape = (R*(1 + len(variable_names)),)  \n",
    "\n",
    "# ‣ 2. Recover the exact “regime order” that PySAL used internally.\n",
    "#    m5.name_x is a list like [\"clay_CONSTANT\", \"clay_population\", …, \"sand_CONSTANT\", …, …].\n",
    "regime_order = []\n",
    "for nm in m5.name_x:\n",
    "    soil = nm.split(\"_\")[0]\n",
    "    if soil not in regime_order:\n",
    "        regime_order.append(soil)\n",
    "#    Now regime_order = [ \"clay\", \"sand\", \"peaty\", … ] in the precise sequence PySAL stacked them.\n",
    "\n",
    "R = len(regime_order)\n",
    "K = len(variable_names)\n",
    "n_test = X_test.shape[0]\n",
    "\n",
    "# ‣ 3. Build the “extended” test‐matrix of size (n_test, R*(1+K)).\n",
    "#    Column‐block layout: for regime i = 0..R−1,\n",
    "#      column  i*(K+1)   = intercept_dummy_i  = (soil_region == regime_i ? 1 : 0)\n",
    "#      columns i*(K+1)+1 ... i*(K+1)+K =  (soil_region == regime_i) *  X_test[var_k]\n",
    "X_test_ext = np.zeros((n_test, R * (K + 1)))\n",
    "\n",
    "for i, regime in enumerate(regime_order):\n",
    "    # Boolean mask of shape (n_test,): 1 if this test‐row belongs to `regime`, else 0\n",
    "    mask = (X_test[\"soil region\"] == regime).astype(int).values\n",
    "\n",
    "    # intercept dummy for regime i\n",
    "    X_test_ext[:, i * (K + 1)] = mask\n",
    "\n",
    "    # for each covariate k, multiply mask * X_test[var_k]\n",
    "    for j, var in enumerate(variable_names):\n",
    "        X_test_ext[:, i * (K + 1) + 1 + j] = mask * X_test[var].values"
   ]
  },
  {
   "cell_type": "code",
   "execution_count": 38,
   "metadata": {},
   "outputs": [
    {
     "name": "stdout",
     "output_type": "stream",
     "text": [
      "Test RMSE (log1p‐nitrate): 0.6729\n",
      "Test RMSE (original‐nitrate): 3.3080\n",
      "Test  R² (log1p‐nitrate): 0.3924\n",
      "Test  R² (original‐nitrate): 0.4080\n"
     ]
    }
   ],
   "source": [
    "# ‣ 4. Form y_test as a 1D array of the log1p(nitrate) target\n",
    "y_test_log = y_test[\"nitrate\"].values.flatten()\n",
    "\n",
    "# ‣ 5. Compute predicted log1p(nitrate) on the test set\n",
    "y_pred_log = X_test_ext.dot(beta_vec)\n",
    "\n",
    "# ‣ 6. Evaluate in log‐space (for example, RMSE in log1p scale)\n",
    "mse_log = mean_squared_error(y_test_log, y_pred_log)\n",
    "rmse_log = np.sqrt(mse_log)\n",
    "print(f\"Test RMSE (log1p‐nitrate): {rmse_log:.4f}\")\n",
    "\n",
    "# ‣ 7. If you also want an “original‐scale” error, back‐transform both sides:\n",
    "y_test_orig = np.expm1(y_test_log)     # invert log1p\n",
    "y_pred_orig = np.expm1(y_pred_log)\n",
    "\n",
    "mse_orig = mean_squared_error(y_test_orig, y_pred_orig)\n",
    "rmse_orig = np.sqrt(mse_orig)\n",
    "print(f\"Test RMSE (original‐nitrate): {rmse_orig:.4f}\")\n",
    "\n",
    "r2_log = r2_score(y_test_log, y_pred_log)\n",
    "print(f\"Test  R² (log1p‐nitrate): {r2_log:.4f}\")\n",
    "\n",
    "# 2) R² on the original‐nitrate scale\n",
    "r2_orig = r2_score(y_test_orig, y_pred_orig)\n",
    "print(f\"Test  R² (original‐nitrate): {r2_orig:.4f}\")"
   ]
  },
  {
   "cell_type": "code",
   "execution_count": 39,
   "metadata": {},
   "outputs": [
    {
     "data": {
      "text/plain": [
       "(22.941621365924235, 0.010964126795725757)"
      ]
     },
     "execution_count": 39,
     "metadata": {},
     "output_type": "execute_result"
    }
   ],
   "source": [
    "m5.chow.joint"
   ]
  },
  {
   "cell_type": "code",
   "execution_count": 40,
   "metadata": {},
   "outputs": [
    {
     "data": {
      "text/html": [
       "<div>\n",
       "<style scoped>\n",
       "    .dataframe tbody tr th:only-of-type {\n",
       "        vertical-align: middle;\n",
       "    }\n",
       "\n",
       "    .dataframe tbody tr th {\n",
       "        vertical-align: top;\n",
       "    }\n",
       "\n",
       "    .dataframe thead th {\n",
       "        text-align: right;\n",
       "    }\n",
       "</style>\n",
       "<table border=\"1\" class=\"dataframe\">\n",
       "  <thead>\n",
       "    <tr style=\"text-align: right;\">\n",
       "      <th></th>\n",
       "      <th>Statistic</th>\n",
       "      <th>P-value</th>\n",
       "    </tr>\n",
       "  </thead>\n",
       "  <tbody>\n",
       "    <tr>\n",
       "      <th>CONSTANT</th>\n",
       "      <td>0.049820</td>\n",
       "      <td>0.823376</td>\n",
       "    </tr>\n",
       "    <tr>\n",
       "      <th>population</th>\n",
       "      <td>2.041441</td>\n",
       "      <td>0.153065</td>\n",
       "    </tr>\n",
       "    <tr>\n",
       "      <th>groundwater depth</th>\n",
       "      <td>0.022957</td>\n",
       "      <td>0.879569</td>\n",
       "    </tr>\n",
       "    <tr>\n",
       "      <th>elevation</th>\n",
       "      <td>0.324947</td>\n",
       "      <td>0.568650</td>\n",
       "    </tr>\n",
       "    <tr>\n",
       "      <th>precipitation</th>\n",
       "      <td>0.263440</td>\n",
       "      <td>0.607767</td>\n",
       "    </tr>\n",
       "    <tr>\n",
       "      <th>temperature</th>\n",
       "      <td>1.454171</td>\n",
       "      <td>0.227860</td>\n",
       "    </tr>\n",
       "    <tr>\n",
       "      <th>n deposition</th>\n",
       "      <td>1.084834</td>\n",
       "      <td>0.297619</td>\n",
       "    </tr>\n",
       "    <tr>\n",
       "      <th>organicmattercontent_1</th>\n",
       "      <td>6.023624</td>\n",
       "      <td>0.014116</td>\n",
       "    </tr>\n",
       "    <tr>\n",
       "      <th>density_1</th>\n",
       "      <td>11.624191</td>\n",
       "      <td>0.000651</td>\n",
       "    </tr>\n",
       "    <tr>\n",
       "      <th>acidity_1</th>\n",
       "      <td>2.009625</td>\n",
       "      <td>0.156304</td>\n",
       "    </tr>\n",
       "  </tbody>\n",
       "</table>\n",
       "</div>"
      ],
      "text/plain": [
       "                        Statistic   P-value\n",
       "CONSTANT                 0.049820  0.823376\n",
       "population               2.041441  0.153065\n",
       "groundwater depth        0.022957  0.879569\n",
       "elevation                0.324947  0.568650\n",
       "precipitation            0.263440  0.607767\n",
       "temperature              1.454171  0.227860\n",
       "n deposition             1.084834  0.297619\n",
       "organicmattercontent_1   6.023624  0.014116\n",
       "density_1               11.624191  0.000651\n",
       "acidity_1                2.009625  0.156304"
      ]
     },
     "execution_count": 40,
     "metadata": {},
     "output_type": "execute_result"
    }
   ],
   "source": [
    "pd.DataFrame(\n",
    "    # Chow results by variable\n",
    "    m5.chow.regi,\n",
    "    # Name of variables\n",
    "    index=m5.name_x_r,\n",
    "    # Column names\n",
    "    columns=[\"Statistic\", \"P-value\"],\n",
    ")"
   ]
  }
 ],
 "metadata": {
  "kernelspec": {
   "display_name": "spatial_env",
   "language": "python",
   "name": "python3"
  },
  "language_info": {
   "codemirror_mode": {
    "name": "ipython",
    "version": 3
   },
   "file_extension": ".py",
   "mimetype": "text/x-python",
   "name": "python",
   "nbconvert_exporter": "python",
   "pygments_lexer": "ipython3",
   "version": "3.9.6"
  }
 },
 "nbformat": 4,
 "nbformat_minor": 2
}
