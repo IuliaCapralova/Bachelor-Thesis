{
 "cells": [
  {
   "cell_type": "code",
   "execution_count": 460,
   "metadata": {},
   "outputs": [],
   "source": [
    "import os\n",
    "import re\n",
    "from math import sqrt\n",
    "import pandas as pd\n",
    "import numpy as np\n",
    "import geopandas as gpd\n",
    "from shapely import wkt\n",
    "from pysal.lib import weights\n",
    "from pysal.explore import esda\n",
    "import matplotlib.pyplot as plt\n",
    "import seaborn as sns\n",
    "import contextily\n",
    "from spreg import OLS_Regimes\n",
    "from pysal.model import spreg\n",
    "import statsmodels.formula.api as smf\n",
    "import contextily as ctx\n",
    "from libpysal.weights import KNN\n",
    "from spreg import OLS\n",
    "from libpysal.weights import lag_spatial\n",
    "from spreg import GM_Lag\n",
    "from libpysal.weights import Kernel\n",
    "from sklearn.compose import ColumnTransformer\n",
    "from sklearn.model_selection import RandomizedSearchCV, TimeSeriesSplit\n",
    "from sklearn.preprocessing import StandardScaler, OneHotEncoder\n",
    "from sklearn.metrics import mean_squared_error, r2_score, mean_absolute_error"
   ]
  },
  {
   "cell_type": "markdown",
   "metadata": {},
   "source": [
    "# Spacial Regression\n",
    "\n",
    "--> Embed location through the model"
   ]
  },
  {
   "cell_type": "markdown",
   "metadata": {},
   "source": [
    "## Load data"
   ]
  },
  {
   "cell_type": "code",
   "execution_count": 461,
   "metadata": {},
   "outputs": [
    {
     "data": {
      "text/plain": [
       "192"
      ]
     },
     "execution_count": 461,
     "metadata": {},
     "output_type": "execute_result"
    }
   ],
   "source": [
    "well_filter = 1\n",
    "\n",
    "current_dir = os.getcwd()\n",
    "path = os.path.join(current_dir, '../../data/aligned', f\"merged_dataset_{well_filter}.csv\")\n",
    "df = pd.read_csv(path)\n",
    "len(df)"
   ]
  },
  {
   "cell_type": "code",
   "execution_count": 462,
   "metadata": {},
   "outputs": [
    {
     "data": {
      "text/plain": [
       "175"
      ]
     },
     "execution_count": 462,
     "metadata": {},
     "output_type": "execute_result"
    }
   ],
   "source": [
    "df = df[df[\"soil region\"] != \"veen\"]\n",
    "len(df)"
   ]
  },
  {
   "cell_type": "markdown",
   "metadata": {},
   "source": [
    "## Sort by date"
   ]
  },
  {
   "cell_type": "code",
   "execution_count": 463,
   "metadata": {},
   "outputs": [],
   "source": [
    "# sort by date\n",
    "df[\"date\"] = pd.to_datetime(df[\"date\"])\n",
    "df = df.sort_values(\"date\").reset_index(drop=True)"
   ]
  },
  {
   "cell_type": "code",
   "execution_count": 464,
   "metadata": {},
   "outputs": [
    {
     "name": "stdout",
     "output_type": "stream",
     "text": [
      "year_month\n",
      "2012-02     7\n",
      "2012-03    23\n",
      "2012-04     4\n",
      "2012-06     7\n",
      "2012-10     2\n",
      "2013-10     8\n",
      "2014-09     6\n",
      "2015-06    37\n",
      "2015-07     1\n",
      "2015-08     1\n",
      "2015-09     1\n",
      "2016-09     6\n",
      "2017-08     2\n",
      "2017-12     6\n",
      "2018-05    40\n",
      "2018-06     4\n",
      "2018-08     6\n",
      "2019-07     8\n",
      "2020-05     2\n",
      "2020-07     4\n",
      "Freq: M, Name: count, dtype: int64\n"
     ]
    },
    {
     "name": "stderr",
     "output_type": "stream",
     "text": [
      "/var/folders/fr/h0n611t55y51b_mts5q50l540000gn/T/ipykernel_29030/2666782288.py:1: UserWarning: Converting to PeriodArray/Index representation will drop timezone information.\n",
      "  df['year_month'] = df['date'].dt.to_period('M')  # year + month (e.g., 2012-03)\n"
     ]
    }
   ],
   "source": [
    "df['year_month'] = df['date'].dt.to_period('M')  # year + month (e.g., 2012-03)\n",
    "\n",
    "# Count number of data points per year-month\n",
    "counts = df['year_month'].value_counts().sort_index()\n",
    "print(counts)"
   ]
  },
  {
   "cell_type": "markdown",
   "metadata": {},
   "source": [
    "## Remove outlier based on \"Soil region\""
   ]
  },
  {
   "cell_type": "code",
   "execution_count": 465,
   "metadata": {},
   "outputs": [
    {
     "name": "stdout",
     "output_type": "stream",
     "text": [
      "soil region\n",
      "zand    132\n",
      "klei     43\n",
      "Name: count, dtype: int64\n"
     ]
    }
   ],
   "source": [
    "print(df[\"soil region\"].value_counts())"
   ]
  },
  {
   "cell_type": "markdown",
   "metadata": {},
   "source": [
    "## Add month and year as features"
   ]
  },
  {
   "cell_type": "code",
   "execution_count": 466,
   "metadata": {},
   "outputs": [],
   "source": [
    "# df[\"month\"] = df[\"date\"].dt.month\n",
    "df[\"year\"] = df[\"date\"].dt.year"
   ]
  },
  {
   "cell_type": "markdown",
   "metadata": {},
   "source": [
    "## Log transform"
   ]
  },
  {
   "cell_type": "code",
   "execution_count": 467,
   "metadata": {},
   "outputs": [],
   "source": [
    "df[\"nitrate\"] = np.log1p(df[\"nitrate\"])"
   ]
  },
  {
   "cell_type": "markdown",
   "metadata": {},
   "source": [
    "## Remove columns"
   ]
  },
  {
   "cell_type": "code",
   "execution_count": 468,
   "metadata": {},
   "outputs": [
    {
     "name": "stdout",
     "output_type": "stream",
     "text": [
      "Index(['nitrate', 'geometry', 'soil region', 'landuse code', 'population',\n",
      "       'groundwater depth', 'elevation', 'precipitation', 'temperature',\n",
      "       'n deposition', 'mainsoilclassification_1', 'organicmattercontent_1',\n",
      "       'density_1', 'acidity_1', 'year_month', 'year'],\n",
      "      dtype='object')\n"
     ]
    },
    {
     "data": {
      "text/plain": [
       "175"
      ]
     },
     "execution_count": 468,
     "metadata": {},
     "output_type": "execute_result"
    }
   ],
   "source": [
    "df = df.drop(columns=[\"date\", 'bro-id', 'lon', 'lat'])\n",
    "print(df.columns)\n",
    "len(df)"
   ]
  },
  {
   "cell_type": "markdown",
   "metadata": {},
   "source": [
    "## Change column type"
   ]
  },
  {
   "cell_type": "code",
   "execution_count": 469,
   "metadata": {},
   "outputs": [],
   "source": [
    "# convert to categorical\n",
    "predefined_categories = {\n",
    "    \"soil region\": None,\n",
    "    \"landuse code\": None,\n",
    "    \"mainsoilclassification_1\": None \n",
    "}\n",
    "\n",
    "\n",
    "for col, fixed_categories in predefined_categories.items():\n",
    "    if col in df.columns:\n",
    "        categories = sorted(df[col].dropna().unique().tolist())\n",
    "        \n",
    "        df[col] = pd.Categorical(df[col], categories=categories)"
   ]
  },
  {
   "cell_type": "code",
   "execution_count": 470,
   "metadata": {},
   "outputs": [
    {
     "data": {
      "text/plain": [
       "nitrate                       float64\n",
       "geometry                       object\n",
       "soil region                  category\n",
       "landuse code                 category\n",
       "population                    float64\n",
       "groundwater depth             float64\n",
       "elevation                     float64\n",
       "precipitation                 float64\n",
       "temperature                   float64\n",
       "n deposition                  float64\n",
       "mainsoilclassification_1     category\n",
       "organicmattercontent_1        float64\n",
       "density_1                     float64\n",
       "acidity_1                     float64\n",
       "year_month                  period[M]\n",
       "year                            int32\n",
       "dtype: object"
      ]
     },
     "execution_count": 470,
     "metadata": {},
     "output_type": "execute_result"
    }
   ],
   "source": [
    "df.dtypes"
   ]
  },
  {
   "cell_type": "markdown",
   "metadata": {},
   "source": [
    "## Remove spatial outlier"
   ]
  },
  {
   "cell_type": "code",
   "execution_count": 471,
   "metadata": {},
   "outputs": [],
   "source": [
    "# GMW000000024093\n",
    "\n",
    "# target_well = ['GAR000000000307', 'GAR000000000308', 'GAR000000000309']\n",
    "# df = df.drop(df[df[\"bro-id\"].isin(target_well)].index)\n",
    "# len(df)"
   ]
  },
  {
   "cell_type": "markdown",
   "metadata": {},
   "source": [
    "## Preprocess (alternative)"
   ]
  },
  {
   "cell_type": "code",
   "execution_count": 472,
   "metadata": {},
   "outputs": [],
   "source": [
    "def split_and_preprocess(df, cols_to_drop, holdout_cols = None):\n",
    "    if holdout_cols is None:\n",
    "        holdout_cols = []\n",
    "\n",
    "    df = df.drop(columns=cols_to_drop)\n",
    "    df = df.dropna()\n",
    "    len(df)\n",
    "\n",
    "    n = len(df)\n",
    "    train_size = int(n * 0.7)\n",
    "\n",
    "    train_df = df.iloc[:train_size]\n",
    "    test_df = df.iloc[train_size:]\n",
    "\n",
    "    print(f\"Train: {len(train_df)}\")\n",
    "    print(f\"Test: {len(test_df)}\")\n",
    "\n",
    "    holdout_train = train_df[holdout_cols].copy()\n",
    "    holdout_test = test_df[holdout_cols].copy()\n",
    "\n",
    "    X_train_raw = train_df.drop(columns=[\"nitrate\", \"year\"] + holdout_cols).copy()\n",
    "    y_train = train_df[\"nitrate\"].values.reshape(-1, 1)\n",
    "\n",
    "    X_test_raw = test_df.drop(columns=[\"nitrate\", \"year\"] + holdout_cols).copy()\n",
    "    y_test = test_df[\"nitrate\"].values.reshape(-1, 1)\n",
    "\n",
    "    categorical_cols = X_train_raw.select_dtypes(include=\"category\").columns.tolist()\n",
    "    numerical_cols = X_train_raw.select_dtypes(include=[\"float64\", \"int64\"]).columns.tolist()\n",
    "\n",
    "    # construct a transformer\n",
    "    transformers = []\n",
    "\n",
    "    if categorical_cols:\n",
    "        transformers.append(\n",
    "            (\"cat_ohe\", OneHotEncoder(handle_unknown=\"ignore\", drop='first', sparse_output=False), categorical_cols)\n",
    "        )\n",
    "\n",
    "    if numerical_cols:\n",
    "        transformers.append(\n",
    "            (\"num_scaler\", StandardScaler(), numerical_cols)\n",
    "        )\n",
    "\n",
    "    preprocessor = ColumnTransformer(transformers)\n",
    "\n",
    "    print(X_train_raw)\n",
    "    X_train = preprocessor.fit_transform(X_train_raw)\n",
    "    X_test = preprocessor.transform(X_test_raw)\n",
    "\n",
    "    # extract feature names\n",
    "    if categorical_cols:\n",
    "        cat_ohe = preprocessor.named_transformers_[\"cat_ohe\"]\n",
    "        ohe_feature_names = cat_ohe.get_feature_names_out(categorical_cols).tolist()\n",
    "    else:\n",
    "        ohe_feature_names = []\n",
    "\n",
    "    if numerical_cols:\n",
    "        num_feature_names = numerical_cols.copy()\n",
    "    else:\n",
    "        numerical_cols = []\n",
    "    \n",
    "    feature_names = ohe_feature_names + num_feature_names\n",
    "    print(feature_names)\n",
    "\n",
    "    # convert back to pd Dataframe\n",
    "    X_train = pd.DataFrame(X_train, columns=feature_names, index=X_train_raw.index)\n",
    "    X_test = pd.DataFrame(X_test, columns=feature_names, index=X_test_raw.index)\n",
    "    y_train = pd.DataFrame(y_train, columns=[\"nitrate\"], index=X_train_raw.index)\n",
    "    y_test = pd.DataFrame(y_test, columns=[\"nitrate\"], index=X_test_raw.index)\n",
    "\n",
    "    print(X_train.shape)\n",
    "\n",
    "    X_train = pd.concat([X_train, holdout_train], axis=1)\n",
    "    X_test = pd.concat([X_test, holdout_test], axis=1)\n",
    "\n",
    "    return X_train, y_train, X_test, y_test, feature_names, preprocessor"
   ]
  },
  {
   "cell_type": "markdown",
   "metadata": {},
   "source": [
    "## Simple OLS regression"
   ]
  },
  {
   "cell_type": "code",
   "execution_count": 473,
   "metadata": {},
   "outputs": [
    {
     "name": "stdout",
     "output_type": "stream",
     "text": [
      "Train: 82\n",
      "Test: 36\n",
      "                             geometry  population  groundwater depth  \\\n",
      "0    POINT (5.600793941 51.962453539)        40.0           6.838178   \n",
      "1    POINT (5.601761312 51.976104861)        30.0           6.838178   \n",
      "3    POINT (5.206717551 52.113087483)         0.0           3.067872   \n",
      "4    POINT (5.187673269 52.052827185)        15.0           0.842530   \n",
      "7    POINT (5.273031977 52.149856205)         0.0           3.071355   \n",
      "..                                ...         ...                ...   \n",
      "114  POINT (5.299047893 52.146637386)        40.0           3.058056   \n",
      "115  POINT (5.273031977 52.149856205)         0.0           3.058056   \n",
      "116  POINT (5.189137388 52.107199019)      1345.0           0.707292   \n",
      "118  POINT (5.221186316 52.116677057)         0.0           3.057153   \n",
      "120  POINT (5.249927484 52.073041222)       100.0           0.705625   \n",
      "\n",
      "     elevation  precipitation  temperature  n deposition  \\\n",
      "0    12.048532           8.75    29.466667     27.383685   \n",
      "1     7.951430           8.75    29.466667     24.876432   \n",
      "3     4.656710           1.00    28.900000     26.599293   \n",
      "4     4.336389           1.00    28.900000     28.378182   \n",
      "7     7.010535           1.25    28.650000     27.677832   \n",
      "..         ...            ...          ...           ...   \n",
      "114  11.650369           0.00   100.633333     18.629310   \n",
      "115   7.010535           0.00   100.633333     27.649818   \n",
      "116   4.297389           0.00   100.633333     28.644315   \n",
      "118   6.558257           6.00   108.866667     29.876931   \n",
      "120   6.492316           6.00   108.866667     20.996493   \n",
      "\n",
      "    mainsoilclassification_1  organicmattercontent_1  density_1  acidity_1  \\\n",
      "0          Dikke eerdgronden                     2.0      1.425        4.5   \n",
      "1            Moerige gronden                    25.0      0.597        4.8   \n",
      "3       Kalkloze zandgronden                     3.0      1.473        3.4   \n",
      "4          Rivierkleigronden                     4.0      1.220        5.5   \n",
      "7       Kalkloze zandgronden                     3.0      1.473        3.4   \n",
      "..                       ...                     ...        ...        ...   \n",
      "114            Podzolgronden                     4.6      1.408        3.4   \n",
      "115     Kalkloze zandgronden                     3.0      1.473        3.4   \n",
      "116        Dikke eerdgronden                     5.5      1.372        5.0   \n",
      "118     Kalkloze zandgronden                     3.0      1.473        3.4   \n",
      "120        Dikke eerdgronden                     4.8      1.395        4.4   \n",
      "\n",
      "    year_month  \n",
      "0      2012-02  \n",
      "1      2012-02  \n",
      "3      2012-02  \n",
      "4      2012-02  \n",
      "7      2012-03  \n",
      "..         ...  \n",
      "114    2018-05  \n",
      "115    2018-05  \n",
      "116    2018-05  \n",
      "118    2018-05  \n",
      "120    2018-05  \n",
      "\n",
      "[82 rows x 12 columns]\n",
      "['mainsoilclassification_1_Kalkloze zandgronden', 'mainsoilclassification_1_Moerige gronden', 'mainsoilclassification_1_Podzolgronden', 'mainsoilclassification_1_Rivierkleigronden', 'population', 'groundwater depth', 'elevation', 'precipitation', 'temperature', 'n deposition', 'organicmattercontent_1', 'density_1', 'acidity_1']\n",
      "(82, 13)\n"
     ]
    }
   ],
   "source": [
    "cols_to_drop_1 = ['landuse code', 'soil region']\n",
    "X_train, y_train, X_test, y_test, feature_names, preprocessor = split_and_preprocess(df, cols_to_drop_1)"
   ]
  },
  {
   "cell_type": "code",
   "execution_count": 474,
   "metadata": {},
   "outputs": [
    {
     "name": "stdout",
     "output_type": "stream",
     "text": [
      "['mainsoilclassification_1_Kalkloze zandgronden', 'mainsoilclassification_1_Moerige gronden', 'mainsoilclassification_1_Podzolgronden', 'mainsoilclassification_1_Rivierkleigronden', 'population', 'groundwater depth', 'elevation', 'precipitation', 'temperature', 'n deposition', 'organicmattercontent_1', 'density_1', 'acidity_1']\n",
      "REGRESSION RESULTS\n",
      "------------------\n",
      "\n",
      "SUMMARY OF OUTPUT: ORDINARY LEAST SQUARES\n",
      "-----------------------------------------\n",
      "Data set            :     unknown\n",
      "Weights matrix      :        None\n",
      "Dependent Variable  :     nitrate                Number of Observations:          82\n",
      "Mean dependent var  :      1.0552                Number of Variables   :          14\n",
      "S.D. dependent var  :      1.0128                Degrees of Freedom    :          68\n",
      "R-squared           :      0.7292\n",
      "Adjusted R-squared  :      0.6774\n",
      "Sum squared residual:     22.5001                F-statistic           :     14.0864\n",
      "Sigma-square        :       0.331                Prob(F-statistic)     :   1.447e-14\n",
      "S.E. of regression  :       0.575                Log likelihood        :     -63.332\n",
      "Sigma-square ML     :       0.274                Akaike info criterion :     154.664\n",
      "S.E of regression ML:      0.5238                Schwarz criterion     :     188.358\n",
      "\n",
      "------------------------------------------------------------------------------------\n",
      "            Variable     Coefficient       Std.Error     t-Statistic     Probability\n",
      "------------------------------------------------------------------------------------\n",
      "            CONSTANT         1.62165         0.18235         8.89304         0.00000\n",
      "mainsoilclassification_1_Kalkloze zandgronden        -1.05645         0.23255        -4.54289         0.00002\n",
      "mainsoilclassification_1_Moerige gronden         1.78358         1.79709         0.99249         0.32448\n",
      "mainsoilclassification_1_Podzolgronden        -0.78815         0.30534        -2.58120         0.01201\n",
      "mainsoilclassification_1_Rivierkleigronden        -0.38997         0.41289        -0.94448         0.34827\n",
      "          population        -0.04373         0.09110        -0.48004         0.63274\n",
      "   groundwater depth         0.39567         0.08794         4.49916         0.00003\n",
      "           elevation         0.04197         0.08103         0.51788         0.60622\n",
      "       precipitation        -0.03806         0.06930        -0.54916         0.58470\n",
      "         temperature        -0.11908         0.06966        -1.70935         0.09195\n",
      "        n deposition        -0.06161         0.11984        -0.51407         0.60887\n",
      "organicmattercontent_1        -0.39841         0.45455        -0.87648         0.38386\n",
      "           density_1         0.32891         0.33286         0.98813         0.32659\n",
      "           acidity_1        -0.45131         0.13114        -3.44132         0.00099\n",
      "------------------------------------------------------------------------------------\n",
      "\n",
      "REGRESSION DIAGNOSTICS\n",
      "MULTICOLLINEARITY CONDITION NUMBER          17.266\n",
      "\n",
      "TEST ON NORMALITY OF ERRORS\n",
      "TEST                             DF        VALUE           PROB\n",
      "Jarque-Bera                       2          2.109           0.3483\n",
      "\n",
      "DIAGNOSTICS FOR HETEROSKEDASTICITY\n",
      "RANDOM COEFFICIENTS\n",
      "TEST                             DF        VALUE           PROB\n",
      "Breusch-Pagan test               13         17.161           0.1920\n",
      "Koenker-Bassett test             13         22.138           0.0533\n",
      "================================ END OF REPORT =====================================\n"
     ]
    }
   ],
   "source": [
    "print(feature_names)\n",
    "\n",
    "ols_model = spreg.OLS(y_train, X_train, name_y='nitrate', name_x=feature_names)\n",
    "print(ols_model.summary)"
   ]
  },
  {
   "cell_type": "code",
   "execution_count": 475,
   "metadata": {},
   "outputs": [
    {
     "name": "stdout",
     "output_type": "stream",
     "text": [
      "Test R2: 0.8305987289082357\n",
      "Test MAE: 1.2536285248504342\n",
      "Test RMSE: 1.7301847938141008\n"
     ]
    }
   ],
   "source": [
    "beta = ols_model.betas.flatten()\n",
    "\n",
    "X_test_with_const = np.hstack([np.ones((X_test.shape[0], 1)), X_test])\n",
    "\n",
    "y_pred = X_test_with_const @ beta\n",
    "\n",
    "print(\"Test R2:\", r2_score(np.expm1(y_test),  np.expm1(y_pred)))\n",
    "print(\"Test MAE:\",mean_absolute_error(np.expm1(y_test), np.expm1(y_pred)))\n",
    "print(\"Test RMSE:\", sqrt(mean_squared_error(np.expm1(y_test), np.expm1(y_pred))))"
   ]
  },
  {
   "cell_type": "markdown",
   "metadata": {},
   "source": [
    "## Learning Curve"
   ]
  },
  {
   "cell_type": "code",
   "execution_count": 476,
   "metadata": {},
   "outputs": [],
   "source": [
    "def learning_curve(X_train, y_train):\n",
    "    print(\"Creating learning curve...\")\n",
    "\n",
    "    n = len(X_train)\n",
    "\n",
    "    train_errors = []\n",
    "    val_errors = []\n",
    "\n",
    "    train_sizes = np.linspace(0.1, 1.0, 10)\n",
    "\n",
    "    for frac in train_sizes:\n",
    "        split_idx = int(n * frac)\n",
    "\n",
    "        X_subset = X_train.iloc[:split_idx]\n",
    "        y_subset = y_train.iloc[:split_idx]\n",
    "\n",
    "        tscv = TimeSeriesSplit(n_splits=7)\n",
    "        fold_train_scores = []\n",
    "        fold_val_scores = []\n",
    "\n",
    "        for train_idx, val_idx in tscv.split(X_subset):\n",
    "            X_tr, X_val = X_subset.iloc[train_idx], X_subset.iloc[val_idx]\n",
    "            y_tr, y_val = y_subset.iloc[train_idx], y_subset.iloc[val_idx]\n",
    "\n",
    "            X_tr = preprocessor.fit_transform(X_tr)\n",
    "            X_val = preprocessor.transform(X_val)\n",
    "\n",
    "            y_tr = y_tr.values.reshape(-1, 1)\n",
    "            y_val = y_val.values.reshape(-1, 1)\n",
    "            \n",
    "            # create fresh model\n",
    "            curr_model = OLS(y_tr, X_tr, name_y='nitrate', name_x=feature_names)\n",
    "\n",
    "            beta = curr_model.betas.flatten()\n",
    "            X_train_with_const = np.hstack([np.ones((X_tr.shape[0], 1)), X_tr])\n",
    "            X_val_with_const = np.hstack([np.ones((X_val.shape[0], 1)), X_val])\n",
    "\n",
    "            y_tr_pred = X_train_with_const @ beta\n",
    "            y_val_pred = X_val_with_const @ beta\n",
    "            \n",
    "            fold_train_scores.append(mean_absolute_error(np.expm1(y_tr), np.expm1(y_tr_pred)))\n",
    "            fold_val_scores.append(mean_absolute_error(np.expm1(y_val), np.expm1(y_val_pred)))\n",
    "\n",
    "        train_errors.append(np.mean(fold_train_scores))\n",
    "        val_errors.append(np.mean(fold_val_scores))\n",
    "\n",
    "    plt.plot(train_sizes * len(X_train), train_errors, label=\"Train MAE\")\n",
    "    plt.plot(train_sizes * len(X_train), val_errors, label=\"Validation MAE\")\n",
    "    plt.xlabel(\"Training Set Size\")\n",
    "    plt.ylabel(\"Train MAE\")\n",
    "    plt.title(\"learning curve\")\n",
    "    plt.legend()\n",
    "    plt.grid(True)\n",
    "    plt.show()\n",
    "\n",
    "# def get_feature_names():\n",
    "#     ohe = preprocessor.named_transformers_[\"cat_ohe\"]\n",
    "#     cat_features = ohe.get_feature_names_out()\n",
    "#     return list(cat_features) + preprocessor.transformers_[1][2]  # numerical feature names"
   ]
  },
  {
   "cell_type": "code",
   "execution_count": 477,
   "metadata": {},
   "outputs": [
    {
     "data": {
      "text/plain": [
       "['mainsoilclassification_1_Kalkloze zandgronden',\n",
       " 'mainsoilclassification_1_Moerige gronden',\n",
       " 'mainsoilclassification_1_Podzolgronden',\n",
       " 'mainsoilclassification_1_Rivierkleigronden',\n",
       " 'population',\n",
       " 'groundwater depth',\n",
       " 'elevation',\n",
       " 'precipitation',\n",
       " 'temperature',\n",
       " 'n deposition',\n",
       " 'organicmattercontent_1',\n",
       " 'density_1',\n",
       " 'acidity_1']"
      ]
     },
     "execution_count": 477,
     "metadata": {},
     "output_type": "execute_result"
    }
   ],
   "source": [
    "feature_names"
   ]
  },
  {
   "cell_type": "code",
   "execution_count": 478,
   "metadata": {},
   "outputs": [
    {
     "name": "stdout",
     "output_type": "stream",
     "text": [
      "Creating learning curve...\n"
     ]
    },
    {
     "ename": "ValueError",
     "evalue": "A given column is not a column of the dataframe",
     "output_type": "error",
     "traceback": [
      "\u001b[0;31m---------------------------------------------------------------------------\u001b[0m",
      "\u001b[0;31mKeyError\u001b[0m                                  Traceback (most recent call last)",
      "File \u001b[0;32m~/Documents/University/Year 3/2b/Thesis/Bachelor-Thesis/spatial_env/lib/python3.9/site-packages/pandas/core/indexes/base.py:3805\u001b[0m, in \u001b[0;36mIndex.get_loc\u001b[0;34m(self, key)\u001b[0m\n\u001b[1;32m   3804\u001b[0m \u001b[38;5;28;01mtry\u001b[39;00m:\n\u001b[0;32m-> 3805\u001b[0m     \u001b[38;5;28;01mreturn\u001b[39;00m \u001b[38;5;28;43mself\u001b[39;49m\u001b[38;5;241;43m.\u001b[39;49m\u001b[43m_engine\u001b[49m\u001b[38;5;241;43m.\u001b[39;49m\u001b[43mget_loc\u001b[49m\u001b[43m(\u001b[49m\u001b[43mcasted_key\u001b[49m\u001b[43m)\u001b[49m\n\u001b[1;32m   3806\u001b[0m \u001b[38;5;28;01mexcept\u001b[39;00m \u001b[38;5;167;01mKeyError\u001b[39;00m \u001b[38;5;28;01mas\u001b[39;00m err:\n",
      "File \u001b[0;32mindex.pyx:167\u001b[0m, in \u001b[0;36mpandas._libs.index.IndexEngine.get_loc\u001b[0;34m()\u001b[0m\n",
      "File \u001b[0;32mindex.pyx:196\u001b[0m, in \u001b[0;36mpandas._libs.index.IndexEngine.get_loc\u001b[0;34m()\u001b[0m\n",
      "File \u001b[0;32mpandas/_libs/hashtable_class_helper.pxi:7081\u001b[0m, in \u001b[0;36mpandas._libs.hashtable.PyObjectHashTable.get_item\u001b[0;34m()\u001b[0m\n",
      "File \u001b[0;32mpandas/_libs/hashtable_class_helper.pxi:7089\u001b[0m, in \u001b[0;36mpandas._libs.hashtable.PyObjectHashTable.get_item\u001b[0;34m()\u001b[0m\n",
      "\u001b[0;31mKeyError\u001b[0m: 'mainsoilclassification_1'",
      "\nThe above exception was the direct cause of the following exception:\n",
      "\u001b[0;31mKeyError\u001b[0m                                  Traceback (most recent call last)",
      "File \u001b[0;32m~/Documents/University/Year 3/2b/Thesis/Bachelor-Thesis/spatial_env/lib/python3.9/site-packages/sklearn/utils/_indexing.py:364\u001b[0m, in \u001b[0;36m_get_column_indices\u001b[0;34m(X, key)\u001b[0m\n\u001b[1;32m    363\u001b[0m \u001b[38;5;28;01mfor\u001b[39;00m col \u001b[38;5;129;01min\u001b[39;00m columns:\n\u001b[0;32m--> 364\u001b[0m     col_idx \u001b[38;5;241m=\u001b[39m \u001b[43mall_columns\u001b[49m\u001b[38;5;241;43m.\u001b[39;49m\u001b[43mget_loc\u001b[49m\u001b[43m(\u001b[49m\u001b[43mcol\u001b[49m\u001b[43m)\u001b[49m\n\u001b[1;32m    365\u001b[0m     \u001b[38;5;28;01mif\u001b[39;00m \u001b[38;5;129;01mnot\u001b[39;00m \u001b[38;5;28misinstance\u001b[39m(col_idx, numbers\u001b[38;5;241m.\u001b[39mIntegral):\n",
      "File \u001b[0;32m~/Documents/University/Year 3/2b/Thesis/Bachelor-Thesis/spatial_env/lib/python3.9/site-packages/pandas/core/indexes/base.py:3812\u001b[0m, in \u001b[0;36mIndex.get_loc\u001b[0;34m(self, key)\u001b[0m\n\u001b[1;32m   3811\u001b[0m         \u001b[38;5;28;01mraise\u001b[39;00m InvalidIndexError(key)\n\u001b[0;32m-> 3812\u001b[0m     \u001b[38;5;28;01mraise\u001b[39;00m \u001b[38;5;167;01mKeyError\u001b[39;00m(key) \u001b[38;5;28;01mfrom\u001b[39;00m\u001b[38;5;250m \u001b[39m\u001b[38;5;21;01merr\u001b[39;00m\n\u001b[1;32m   3813\u001b[0m \u001b[38;5;28;01mexcept\u001b[39;00m \u001b[38;5;167;01mTypeError\u001b[39;00m:\n\u001b[1;32m   3814\u001b[0m     \u001b[38;5;66;03m# If we have a listlike key, _check_indexing_error will raise\u001b[39;00m\n\u001b[1;32m   3815\u001b[0m     \u001b[38;5;66;03m#  InvalidIndexError. Otherwise we fall through and re-raise\u001b[39;00m\n\u001b[1;32m   3816\u001b[0m     \u001b[38;5;66;03m#  the TypeError.\u001b[39;00m\n",
      "\u001b[0;31mKeyError\u001b[0m: 'mainsoilclassification_1'",
      "\nThe above exception was the direct cause of the following exception:\n",
      "\u001b[0;31mValueError\u001b[0m                                Traceback (most recent call last)",
      "Cell \u001b[0;32mIn[478], line 1\u001b[0m\n\u001b[0;32m----> 1\u001b[0m \u001b[43mlearning_curve\u001b[49m\u001b[43m(\u001b[49m\u001b[43mX_train\u001b[49m\u001b[43m,\u001b[49m\u001b[43m \u001b[49m\u001b[43my_train\u001b[49m\u001b[43m)\u001b[49m\n",
      "Cell \u001b[0;32mIn[476], line 25\u001b[0m, in \u001b[0;36mlearning_curve\u001b[0;34m(X_train, y_train)\u001b[0m\n\u001b[1;32m     22\u001b[0m X_tr, X_val \u001b[38;5;241m=\u001b[39m X_subset\u001b[38;5;241m.\u001b[39miloc[train_idx], X_subset\u001b[38;5;241m.\u001b[39miloc[val_idx]\n\u001b[1;32m     23\u001b[0m y_tr, y_val \u001b[38;5;241m=\u001b[39m y_subset\u001b[38;5;241m.\u001b[39miloc[train_idx], y_subset\u001b[38;5;241m.\u001b[39miloc[val_idx]\n\u001b[0;32m---> 25\u001b[0m X_tr \u001b[38;5;241m=\u001b[39m \u001b[43mpreprocessor\u001b[49m\u001b[38;5;241;43m.\u001b[39;49m\u001b[43mfit_transform\u001b[49m\u001b[43m(\u001b[49m\u001b[43mX_tr\u001b[49m\u001b[43m)\u001b[49m\n\u001b[1;32m     26\u001b[0m X_val \u001b[38;5;241m=\u001b[39m preprocessor\u001b[38;5;241m.\u001b[39mtransform(X_val)\n\u001b[1;32m     28\u001b[0m y_tr \u001b[38;5;241m=\u001b[39m y_tr\u001b[38;5;241m.\u001b[39mvalues\u001b[38;5;241m.\u001b[39mreshape(\u001b[38;5;241m-\u001b[39m\u001b[38;5;241m1\u001b[39m, \u001b[38;5;241m1\u001b[39m)\n",
      "File \u001b[0;32m~/Documents/University/Year 3/2b/Thesis/Bachelor-Thesis/spatial_env/lib/python3.9/site-packages/sklearn/utils/_set_output.py:319\u001b[0m, in \u001b[0;36m_wrap_method_output.<locals>.wrapped\u001b[0;34m(self, X, *args, **kwargs)\u001b[0m\n\u001b[1;32m    317\u001b[0m \u001b[38;5;129m@wraps\u001b[39m(f)\n\u001b[1;32m    318\u001b[0m \u001b[38;5;28;01mdef\u001b[39;00m\u001b[38;5;250m \u001b[39m\u001b[38;5;21mwrapped\u001b[39m(\u001b[38;5;28mself\u001b[39m, X, \u001b[38;5;241m*\u001b[39margs, \u001b[38;5;241m*\u001b[39m\u001b[38;5;241m*\u001b[39mkwargs):\n\u001b[0;32m--> 319\u001b[0m     data_to_wrap \u001b[38;5;241m=\u001b[39m \u001b[43mf\u001b[49m\u001b[43m(\u001b[49m\u001b[38;5;28;43mself\u001b[39;49m\u001b[43m,\u001b[49m\u001b[43m \u001b[49m\u001b[43mX\u001b[49m\u001b[43m,\u001b[49m\u001b[43m \u001b[49m\u001b[38;5;241;43m*\u001b[39;49m\u001b[43margs\u001b[49m\u001b[43m,\u001b[49m\u001b[43m \u001b[49m\u001b[38;5;241;43m*\u001b[39;49m\u001b[38;5;241;43m*\u001b[39;49m\u001b[43mkwargs\u001b[49m\u001b[43m)\u001b[49m\n\u001b[1;32m    320\u001b[0m     \u001b[38;5;28;01mif\u001b[39;00m \u001b[38;5;28misinstance\u001b[39m(data_to_wrap, \u001b[38;5;28mtuple\u001b[39m):\n\u001b[1;32m    321\u001b[0m         \u001b[38;5;66;03m# only wrap the first output for cross decomposition\u001b[39;00m\n\u001b[1;32m    322\u001b[0m         return_tuple \u001b[38;5;241m=\u001b[39m (\n\u001b[1;32m    323\u001b[0m             _wrap_data_with_container(method, data_to_wrap[\u001b[38;5;241m0\u001b[39m], X, \u001b[38;5;28mself\u001b[39m),\n\u001b[1;32m    324\u001b[0m             \u001b[38;5;241m*\u001b[39mdata_to_wrap[\u001b[38;5;241m1\u001b[39m:],\n\u001b[1;32m    325\u001b[0m         )\n",
      "File \u001b[0;32m~/Documents/University/Year 3/2b/Thesis/Bachelor-Thesis/spatial_env/lib/python3.9/site-packages/sklearn/base.py:1389\u001b[0m, in \u001b[0;36m_fit_context.<locals>.decorator.<locals>.wrapper\u001b[0;34m(estimator, *args, **kwargs)\u001b[0m\n\u001b[1;32m   1382\u001b[0m     estimator\u001b[38;5;241m.\u001b[39m_validate_params()\n\u001b[1;32m   1384\u001b[0m \u001b[38;5;28;01mwith\u001b[39;00m config_context(\n\u001b[1;32m   1385\u001b[0m     skip_parameter_validation\u001b[38;5;241m=\u001b[39m(\n\u001b[1;32m   1386\u001b[0m         prefer_skip_nested_validation \u001b[38;5;129;01mor\u001b[39;00m global_skip_validation\n\u001b[1;32m   1387\u001b[0m     )\n\u001b[1;32m   1388\u001b[0m ):\n\u001b[0;32m-> 1389\u001b[0m     \u001b[38;5;28;01mreturn\u001b[39;00m \u001b[43mfit_method\u001b[49m\u001b[43m(\u001b[49m\u001b[43mestimator\u001b[49m\u001b[43m,\u001b[49m\u001b[43m \u001b[49m\u001b[38;5;241;43m*\u001b[39;49m\u001b[43margs\u001b[49m\u001b[43m,\u001b[49m\u001b[43m \u001b[49m\u001b[38;5;241;43m*\u001b[39;49m\u001b[38;5;241;43m*\u001b[39;49m\u001b[43mkwargs\u001b[49m\u001b[43m)\u001b[49m\n",
      "File \u001b[0;32m~/Documents/University/Year 3/2b/Thesis/Bachelor-Thesis/spatial_env/lib/python3.9/site-packages/sklearn/compose/_column_transformer.py:993\u001b[0m, in \u001b[0;36mColumnTransformer.fit_transform\u001b[0;34m(self, X, y, **params)\u001b[0m\n\u001b[1;32m    990\u001b[0m \u001b[38;5;28mself\u001b[39m\u001b[38;5;241m.\u001b[39m_validate_transformers()\n\u001b[1;32m    991\u001b[0m n_samples \u001b[38;5;241m=\u001b[39m _num_samples(X)\n\u001b[0;32m--> 993\u001b[0m \u001b[38;5;28;43mself\u001b[39;49m\u001b[38;5;241;43m.\u001b[39;49m\u001b[43m_validate_column_callables\u001b[49m\u001b[43m(\u001b[49m\u001b[43mX\u001b[49m\u001b[43m)\u001b[49m\n\u001b[1;32m    994\u001b[0m \u001b[38;5;28mself\u001b[39m\u001b[38;5;241m.\u001b[39m_validate_remainder(X)\n\u001b[1;32m    996\u001b[0m \u001b[38;5;28;01mif\u001b[39;00m _routing_enabled():\n",
      "File \u001b[0;32m~/Documents/University/Year 3/2b/Thesis/Bachelor-Thesis/spatial_env/lib/python3.9/site-packages/sklearn/compose/_column_transformer.py:552\u001b[0m, in \u001b[0;36mColumnTransformer._validate_column_callables\u001b[0;34m(self, X)\u001b[0m\n\u001b[1;32m    550\u001b[0m         columns \u001b[38;5;241m=\u001b[39m columns(X)\n\u001b[1;32m    551\u001b[0m     all_columns\u001b[38;5;241m.\u001b[39mappend(columns)\n\u001b[0;32m--> 552\u001b[0m     transformer_to_input_indices[name] \u001b[38;5;241m=\u001b[39m \u001b[43m_get_column_indices\u001b[49m\u001b[43m(\u001b[49m\u001b[43mX\u001b[49m\u001b[43m,\u001b[49m\u001b[43m \u001b[49m\u001b[43mcolumns\u001b[49m\u001b[43m)\u001b[49m\n\u001b[1;32m    554\u001b[0m \u001b[38;5;28mself\u001b[39m\u001b[38;5;241m.\u001b[39m_columns \u001b[38;5;241m=\u001b[39m all_columns\n\u001b[1;32m    555\u001b[0m \u001b[38;5;28mself\u001b[39m\u001b[38;5;241m.\u001b[39m_transformer_to_input_indices \u001b[38;5;241m=\u001b[39m transformer_to_input_indices\n",
      "File \u001b[0;32m~/Documents/University/Year 3/2b/Thesis/Bachelor-Thesis/spatial_env/lib/python3.9/site-packages/sklearn/utils/_indexing.py:372\u001b[0m, in \u001b[0;36m_get_column_indices\u001b[0;34m(X, key)\u001b[0m\n\u001b[1;32m    369\u001b[0m         column_indices\u001b[38;5;241m.\u001b[39mappend(col_idx)\n\u001b[1;32m    371\u001b[0m \u001b[38;5;28;01mexcept\u001b[39;00m \u001b[38;5;167;01mKeyError\u001b[39;00m \u001b[38;5;28;01mas\u001b[39;00m e:\n\u001b[0;32m--> 372\u001b[0m     \u001b[38;5;28;01mraise\u001b[39;00m \u001b[38;5;167;01mValueError\u001b[39;00m(\u001b[38;5;124m\"\u001b[39m\u001b[38;5;124mA given column is not a column of the dataframe\u001b[39m\u001b[38;5;124m\"\u001b[39m) \u001b[38;5;28;01mfrom\u001b[39;00m\u001b[38;5;250m \u001b[39m\u001b[38;5;21;01me\u001b[39;00m\n\u001b[1;32m    374\u001b[0m \u001b[38;5;28;01mreturn\u001b[39;00m column_indices\n",
      "\u001b[0;31mValueError\u001b[0m: A given column is not a column of the dataframe"
     ]
    }
   ],
   "source": [
    "learning_curve(X_train, y_train)"
   ]
  },
  {
   "cell_type": "markdown",
   "metadata": {},
   "source": [
    "## Spatial fixed effects"
   ]
  },
  {
   "cell_type": "markdown",
   "metadata": {},
   "source": [
    "--> We influence constant term\n",
    "\n",
    "--> Instead of assuming the dependent variable behaves uniformly over space, there are systematic effects following a geographical pattern\n",
    "\n",
    "--> Constant term to vary geographically\n",
    "\n",
    "--> **Other** elements of the regression are left untouched and hence apply **uniformly** across space\n",
    "\n",
    "--> Each region gets its own intercept\n",
    "\n",
    "--> Control for spatial heterogeneity"
   ]
  },
  {
   "cell_type": "code",
   "execution_count": 20,
   "metadata": {},
   "outputs": [
    {
     "name": "stdout",
     "output_type": "stream",
     "text": [
      "Train: 82\n",
      "Test: 36\n",
      "     population  groundwater depth  elevation  precipitation  temperature  \\\n",
      "0     -0.160085           1.477253   0.428715      -0.363449    -1.487296   \n",
      "1     -0.199804           1.477253  -0.062626      -0.363449    -1.487296   \n",
      "3     -0.318960          -0.181306  -0.457742      -0.497288    -1.498585   \n",
      "4     -0.259382          -1.160235  -0.496156      -0.497288    -1.498585   \n",
      "7     -0.318960          -0.179774  -0.175461      -0.492970    -1.503565   \n",
      "..          ...                ...        ...            ...          ...   \n",
      "114   -0.160085          -0.185624   0.380966      -0.514557    -0.069533   \n",
      "115   -0.318960          -0.185624  -0.175461      -0.514557    -0.069533   \n",
      "116    5.023197          -1.219726  -0.500833      -0.514557    -0.069533   \n",
      "118   -0.318960          -0.186021  -0.229700      -0.410940     0.094489   \n",
      "120    0.078226          -1.220459  -0.237608      -0.410940     0.094489   \n",
      "\n",
      "     n deposition  organicmattercontent_1  density_1  acidity_1 soil region  \n",
      "0        0.831923               -0.841600   0.497004   0.028917        zand  \n",
      "1        0.044830                5.833159  -4.679342   0.367658        zand  \n",
      "3        0.585681               -0.551393   0.797082  -1.213134        zand  \n",
      "4        1.144122               -0.261186  -0.784579   1.158054        klei  \n",
      "7        0.924263               -0.551393   0.797082  -1.213134        zand  \n",
      "..            ...                     ...        ...        ...         ...  \n",
      "114     -1.916308               -0.087062   0.390727  -1.213134        zand  \n",
      "115      0.915469               -0.551393   0.797082  -1.213134        zand  \n",
      "116      1.227668                0.174124   0.165668   0.593485        zand  \n",
      "118      1.614619               -0.551393   0.797082  -1.213134        zand  \n",
      "120     -1.173186               -0.029021   0.309455  -0.083997        klei  \n",
      "\n",
      "[82 rows x 10 columns]\n"
     ]
    }
   ],
   "source": [
    "cols_to_drop_2 = ['landuse code']\n",
    "holdout_cols = [\"soil region\"]\n",
    "\n",
    "X_train, y_train, X_test, y_test, feature_names = split_and_preprocess(df, cols_to_drop_2, holdout_cols)"
   ]
  },
  {
   "cell_type": "code",
   "execution_count": 21,
   "metadata": {},
   "outputs": [],
   "source": [
    "train_df_for_formula = X_train.copy()\n",
    "train_df_for_formula['nitrate'] = y_train\n",
    "\n",
    "test_df_for_formula = X_test.copy()\n",
    "test_df_for_formula['nitrate'] = y_test"
   ]
  },
  {
   "cell_type": "code",
   "execution_count": 22,
   "metadata": {},
   "outputs": [],
   "source": [
    "variable_names = ['population',\n",
    "'groundwater depth',\n",
    "'elevation',\n",
    "'precipitation',\n",
    "'temperature',\n",
    "'n deposition',\n",
    "'organicmattercontent_1',\n",
    "'density_1',\n",
    "'acidity_1']\n",
    "\n",
    "\n",
    "formula = \"nitrate ~ \" + \" + \".join([f\"Q('{col}')\" for col in variable_names]) + \" + C(Q('soil region')) - 1\""
   ]
  },
  {
   "cell_type": "code",
   "execution_count": 23,
   "metadata": {},
   "outputs": [],
   "source": [
    "model_2 = smf.ols(formula, data=train_df_for_formula).fit()"
   ]
  },
  {
   "cell_type": "code",
   "execution_count": 24,
   "metadata": {},
   "outputs": [
    {
     "name": "stdout",
     "output_type": "stream",
     "text": [
      "                            OLS Regression Results                            \n",
      "==============================================================================\n",
      "Dep. Variable:                nitrate   R-squared:                       0.599\n",
      "Model:                            OLS   Adj. R-squared:                  0.543\n",
      "Method:                 Least Squares   F-statistic:                     10.62\n",
      "Date:                Mon, 09 Jun 2025   Prob (F-statistic):           9.62e-11\n",
      "Time:                        10:47:46   Log-Likelihood:                -79.405\n",
      "No. Observations:                  82   AIC:                             180.8\n",
      "Df Residuals:                      71   BIC:                             207.3\n",
      "Df Model:                          10                                         \n",
      "Covariance Type:            nonrobust                                         \n",
      "===============================================================================================\n",
      "                                  coef    std err          t      P>|t|      [0.025      0.975]\n",
      "-----------------------------------------------------------------------------------------------\n",
      "C(Q('soil region'))[klei]       1.1184      0.207      5.410      0.000       0.706       1.531\n",
      "C(Q('soil region'))[zand]       1.0206      0.130      7.874      0.000       0.762       1.279\n",
      "Q('population')                 0.0780      0.088      0.885      0.379      -0.098       0.254\n",
      "Q('groundwater depth')          0.4400      0.099      4.438      0.000       0.242       0.638\n",
      "Q('elevation')                  0.0633      0.090      0.704      0.484      -0.116       0.243\n",
      "Q('precipitation')             -0.0663      0.079     -0.842      0.403      -0.223       0.091\n",
      "Q('temperature')               -0.1558      0.079     -1.979      0.052      -0.313       0.001\n",
      "Q('n deposition')              -0.0493      0.100     -0.492      0.624      -0.249       0.150\n",
      "Q('organicmattercontent_1')    -0.1543      0.236     -0.655      0.515      -0.624       0.316\n",
      "Q('density_1')                  0.2166      0.266      0.813      0.419      -0.315       0.748\n",
      "Q('acidity_1')                 -0.3557      0.123     -2.898      0.005      -0.600      -0.111\n",
      "==============================================================================\n",
      "Omnibus:                       11.942   Durbin-Watson:                   1.916\n",
      "Prob(Omnibus):                  0.003   Jarque-Bera (JB):                3.694\n",
      "Skew:                           0.088   Prob(JB):                        0.158\n",
      "Kurtosis:                       1.975   Cond. No.                         8.40\n",
      "==============================================================================\n",
      "\n",
      "Notes:\n",
      "[1] Standard Errors assume that the covariance matrix of the errors is correctly specified.\n"
     ]
    }
   ],
   "source": [
    "print(model_2.summary())"
   ]
  },
  {
   "cell_type": "markdown",
   "metadata": {},
   "source": [
    "#### Wells on **zand** soils have significantly **higher nitrate** concentrations, even when controlling for depth, population, temperature"
   ]
  },
  {
   "cell_type": "markdown",
   "metadata": {},
   "source": [
    "--> The log nitrate concentration is, on average, 0.7 units lower in klei (clay) regions"
   ]
  },
  {
   "cell_type": "code",
   "execution_count": 25,
   "metadata": {},
   "outputs": [
    {
     "data": {
      "text/html": [
       "<div>\n",
       "<style scoped>\n",
       "    .dataframe tbody tr th:only-of-type {\n",
       "        vertical-align: middle;\n",
       "    }\n",
       "\n",
       "    .dataframe tbody tr th {\n",
       "        vertical-align: top;\n",
       "    }\n",
       "\n",
       "    .dataframe thead th {\n",
       "        text-align: right;\n",
       "    }\n",
       "</style>\n",
       "<table border=\"1\" class=\"dataframe\">\n",
       "  <thead>\n",
       "    <tr style=\"text-align: right;\">\n",
       "      <th></th>\n",
       "      <th>soil_region</th>\n",
       "      <th>Coef.</th>\n",
       "      <th>Std. Error</th>\n",
       "      <th>P-Value</th>\n",
       "    </tr>\n",
       "  </thead>\n",
       "  <tbody>\n",
       "    <tr>\n",
       "      <th>C(Q('soil region'))[klei]</th>\n",
       "      <td>C(Q('soil region'))[klei]</td>\n",
       "      <td>1.118401</td>\n",
       "      <td>0.206734</td>\n",
       "      <td>8.079357e-07</td>\n",
       "    </tr>\n",
       "    <tr>\n",
       "      <th>C(Q('soil region'))[zand]</th>\n",
       "      <td>C(Q('soil region'))[zand]</td>\n",
       "      <td>1.020628</td>\n",
       "      <td>0.129626</td>\n",
       "      <td>2.868208e-11</td>\n",
       "    </tr>\n",
       "  </tbody>\n",
       "</table>\n",
       "</div>"
      ],
      "text/plain": [
       "                                         soil_region     Coef.  Std. Error  \\\n",
       "C(Q('soil region'))[klei]  C(Q('soil region'))[klei]  1.118401    0.206734   \n",
       "C(Q('soil region'))[zand]  C(Q('soil region'))[zand]  1.020628    0.129626   \n",
       "\n",
       "                                P-Value  \n",
       "C(Q('soil region'))[klei]  8.079357e-07  \n",
       "C(Q('soil region'))[zand]  2.868208e-11  "
      ]
     },
     "execution_count": 25,
     "metadata": {},
     "output_type": "execute_result"
    }
   ],
   "source": [
    "# Step 1: Extract fixed effect names\n",
    "sfe_names = [i for i in model_2.params.index if \"C(Q('soil region'))\" in i]\n",
    "\n",
    "# Step 2: Extract soil region names using regex\n",
    "soil_region_labels = []\n",
    "for name in sfe_names:\n",
    "    match = re.search(r\"\\[T\\.(.*)\\]\", name)\n",
    "    if match:\n",
    "        soil_region_labels.append(match.group(1))\n",
    "    else:\n",
    "        # If no match, fallback to raw name (for safety)\n",
    "        soil_region_labels.append(name)\n",
    "\n",
    "# Step 3: Create DataFrame\n",
    "soil_fixed_effects = pd.DataFrame({\n",
    "    \"soil_region\": soil_region_labels,\n",
    "    \"Coef.\": model_2.params[sfe_names],\n",
    "    \"Std. Error\": model_2.bse[sfe_names],\n",
    "    \"P-Value\": model_2.pvalues[sfe_names],\n",
    "})\n",
    "\n",
    "soil_fixed_effects"
   ]
  },
  {
   "cell_type": "code",
   "execution_count": 26,
   "metadata": {},
   "outputs": [],
   "source": [
    "y_pred = model_2.predict(test_df_for_formula)"
   ]
  },
  {
   "cell_type": "code",
   "execution_count": 27,
   "metadata": {},
   "outputs": [
    {
     "name": "stdout",
     "output_type": "stream",
     "text": [
      "Test R2: 0.4689043397499747\n",
      "Test MAE: 0.638099480301184\n",
      "Test RMSE: 3.0635186938003383\n"
     ]
    }
   ],
   "source": [
    "print(\"Test R2:\", r2_score(np.expm1(y_test),  np.expm1(y_pred)))\n",
    "print(\"Test MAE:\",mean_absolute_error(y_test, y_pred))\n",
    "print(\"Test RMSE:\", sqrt(mean_squared_error(np.expm1(y_test), np.expm1(y_pred))))"
   ]
  },
  {
   "cell_type": "markdown",
   "metadata": {},
   "source": [
    "## Spatial Regimes"
   ]
  },
  {
   "cell_type": "markdown",
   "metadata": {},
   "source": [
    "--> We modify set of coeficients depending on the location\n",
    "\n",
    "--> Spatial regimes (SRs) is to generalize the spatial FE approach to allow not only the constant term to vary but also any other explanatory variable\n",
    "\n",
    "--> We want the whole model — intercept and slopes — to vary between geographic groups"
   ]
  },
  {
   "cell_type": "code",
   "execution_count": 28,
   "metadata": {},
   "outputs": [
    {
     "name": "stdout",
     "output_type": "stream",
     "text": [
      "Train: 82\n",
      "Test: 36\n",
      "     population  groundwater depth  elevation  precipitation  temperature  \\\n",
      "0     -0.160085           1.477253   0.428715      -0.363449    -1.487296   \n",
      "1     -0.199804           1.477253  -0.062626      -0.363449    -1.487296   \n",
      "3     -0.318960          -0.181306  -0.457742      -0.497288    -1.498585   \n",
      "4     -0.259382          -1.160235  -0.496156      -0.497288    -1.498585   \n",
      "7     -0.318960          -0.179774  -0.175461      -0.492970    -1.503565   \n",
      "..          ...                ...        ...            ...          ...   \n",
      "114   -0.160085          -0.185624   0.380966      -0.514557    -0.069533   \n",
      "115   -0.318960          -0.185624  -0.175461      -0.514557    -0.069533   \n",
      "116    5.023197          -1.219726  -0.500833      -0.514557    -0.069533   \n",
      "118   -0.318960          -0.186021  -0.229700      -0.410940     0.094489   \n",
      "120    0.078226          -1.220459  -0.237608      -0.410940     0.094489   \n",
      "\n",
      "     n deposition  organicmattercontent_1  density_1  acidity_1 soil region  \n",
      "0        0.831923               -0.841600   0.497004   0.028917        zand  \n",
      "1        0.044830                5.833159  -4.679342   0.367658        zand  \n",
      "3        0.585681               -0.551393   0.797082  -1.213134        zand  \n",
      "4        1.144122               -0.261186  -0.784579   1.158054        klei  \n",
      "7        0.924263               -0.551393   0.797082  -1.213134        zand  \n",
      "..            ...                     ...        ...        ...         ...  \n",
      "114     -1.916308               -0.087062   0.390727  -1.213134        zand  \n",
      "115      0.915469               -0.551393   0.797082  -1.213134        zand  \n",
      "116      1.227668                0.174124   0.165668   0.593485        zand  \n",
      "118      1.614619               -0.551393   0.797082  -1.213134        zand  \n",
      "120     -1.173186               -0.029021   0.309455  -0.083997        klei  \n",
      "\n",
      "[82 rows x 10 columns]\n"
     ]
    }
   ],
   "source": [
    "cols_to_drop_3 = ['landuse code']\n",
    "holdout_cols = ['soil region']\n",
    "\n",
    "X_train, y_train, X_test, y_test, feature_names = split_and_preprocess(df, cols_to_drop_3, holdout_cols)"
   ]
  },
  {
   "cell_type": "code",
   "execution_count": 29,
   "metadata": {},
   "outputs": [],
   "source": [
    "variable_names = ['population',\n",
    "'groundwater depth',\n",
    "'elevation',\n",
    "'precipitation',\n",
    "'temperature',\n",
    "'n deposition',\n",
    "'organicmattercontent_1',\n",
    "'density_1',\n",
    "'acidity_1']"
   ]
  },
  {
   "cell_type": "code",
   "execution_count": 30,
   "metadata": {},
   "outputs": [],
   "source": [
    "m5 = spreg.OLS_Regimes(\n",
    "    # Dependent variable\n",
    "    y_train.values,\n",
    "    # Independent variables\n",
    "    X_train[variable_names].values,\n",
    "    # Variable specifying neighborhood membership\n",
    "    X_train[\"soil region\"].tolist(),\n",
    "    # Allow the constant term to vary by group/regime\n",
    "    constant_regi=\"many\",\n",
    "    # Allow separate sigma coefficients to be estimated\n",
    "    # by regime (False so a single sigma)\n",
    "    regime_err_sep=False,\n",
    "    # Dependent variable name\n",
    "    name_y=\"nitrate\",\n",
    "    # Independent variables names\n",
    "    name_x=variable_names\n",
    ")"
   ]
  },
  {
   "cell_type": "code",
   "execution_count": 31,
   "metadata": {},
   "outputs": [
    {
     "data": {
      "text/plain": [
       "['klei_CONSTANT',\n",
       " 'klei_population',\n",
       " 'klei_groundwater depth',\n",
       " 'klei_elevation',\n",
       " 'klei_precipitation',\n",
       " 'klei_temperature',\n",
       " 'klei_n deposition',\n",
       " 'klei_organicmattercontent_1',\n",
       " 'klei_density_1',\n",
       " 'klei_acidity_1',\n",
       " 'zand_CONSTANT',\n",
       " 'zand_population',\n",
       " 'zand_groundwater depth',\n",
       " 'zand_elevation',\n",
       " 'zand_precipitation',\n",
       " 'zand_temperature',\n",
       " 'zand_n deposition',\n",
       " 'zand_organicmattercontent_1',\n",
       " 'zand_density_1',\n",
       " 'zand_acidity_1']"
      ]
     },
     "execution_count": 31,
     "metadata": {},
     "output_type": "execute_result"
    }
   ],
   "source": [
    "m5.name_x"
   ]
  },
  {
   "cell_type": "code",
   "execution_count": 32,
   "metadata": {},
   "outputs": [
    {
     "name": "stdout",
     "output_type": "stream",
     "text": [
      "REGRESSION RESULTS\n",
      "------------------\n",
      "\n",
      "SUMMARY OF OUTPUT: ORDINARY LEAST SQUARES - REGIMES\n",
      "---------------------------------------------------\n",
      "Data set            :     unknown\n",
      "Weights matrix      :        None\n",
      "Dependent Variable  :     nitrate                Number of Observations:          82\n",
      "Mean dependent var  :      1.0552                Number of Variables   :          20\n",
      "S.D. dependent var  :      1.0128                Degrees of Freedom    :          62\n",
      "R-squared           :      0.7338\n",
      "Adjusted R-squared  :      0.6522\n",
      "Sum squared residual:     22.1203                F-statistic           :      8.9946\n",
      "Sigma-square        :       0.357                Prob(F-statistic)     :   1.586e-11\n",
      "S.E. of regression  :       0.597                Log likelihood        :     -62.634\n",
      "Sigma-square ML     :       0.270                Akaike info criterion :     165.267\n",
      "S.E of regression ML:      0.5194                Schwarz criterion     :     213.402\n",
      "\n",
      "------------------------------------------------------------------------------------\n",
      "            Variable     Coefficient       Std.Error     t-Statistic     Probability\n",
      "------------------------------------------------------------------------------------\n",
      "       klei_CONSTANT         1.18011         0.37425         3.15330         0.00249\n",
      "     klei_population         0.53753         1.34014         0.40110         0.68972\n",
      "klei_groundwater depth        -0.24339         0.30771        -0.79097         0.43198\n",
      "      klei_elevation         1.46505         1.01638         1.44145         0.15449\n",
      "  klei_precipitation        -0.08303         0.11457        -0.72475         0.47133\n",
      "    klei_temperature        -0.11069         0.12764        -0.86716         0.38920\n",
      "   klei_n deposition        -0.20181         0.38302        -0.52690         0.60015\n",
      "klei_organicmattercontent_1         0.01772         0.77235         0.02294         0.98177\n",
      "      klei_density_1         0.19790         0.34892         0.56717         0.57264\n",
      "      klei_acidity_1        -0.21852         0.22153        -0.98643         0.32775\n",
      "       zand_CONSTANT         1.13641         0.23821         4.77066         0.00001\n",
      "     zand_population         0.22791         0.08981         2.53772         0.01369\n",
      "zand_groundwater depth         0.68246         0.13537         5.04130         0.00000\n",
      "      zand_elevation        -0.04584         0.08123        -0.56425         0.57462\n",
      "  zand_precipitation        -0.18851         0.09923        -1.89963         0.06214\n",
      "    zand_temperature        -0.21285         0.08903        -2.39069         0.01987\n",
      "   zand_n deposition        -0.15154         0.10268        -1.47591         0.14503\n",
      "zand_organicmattercontent_1        -1.19104         0.57595        -2.06795         0.04282\n",
      "      zand_density_1        -1.06401         0.69922        -1.52171         0.13317\n",
      "      zand_acidity_1        -0.73536         0.15919        -4.61935         0.00002\n",
      "------------------------------------------------------------------------------------\n",
      "Regimes variable: unknown\n",
      "\n",
      "REGIMES DIAGNOSTICS\n",
      "Overall SSR         :         22.12\n",
      "Number of clusters  :             2\n",
      "\n",
      "- CHOW TEST -\n",
      "                 VARIABLE        DF        VALUE           PROB\n",
      "            CONSTANT              1          0.010           0.9215\n",
      "          population              1          0.053           0.8177\n",
      "   groundwater depth              1          7.585           0.0059\n",
      "           elevation              1          2.196           0.1384\n",
      "       precipitation              1          0.484           0.4865\n",
      "         temperature              1          0.431           0.5115\n",
      "        n deposition              1          0.016           0.8991\n",
      "organicmattercontent_1              1          1.574           0.2096\n",
      "           density_1              1          2.608           0.1063\n",
      "           acidity_1              1          3.590           0.0581\n",
      "         Global test             10         31.476           0.0005\n",
      "\n",
      "REGRESSION DIAGNOSTICS\n",
      "MULTICOLLINEARITY CONDITION NUMBER          28.051\n",
      "\n",
      "TEST ON NORMALITY OF ERRORS\n",
      "TEST                             DF        VALUE           PROB\n",
      "Jarque-Bera                       2          3.659           0.1605\n",
      "\n",
      "DIAGNOSTICS FOR HETEROSKEDASTICITY\n",
      "RANDOM COEFFICIENTS\n",
      "TEST                             DF        VALUE           PROB\n",
      "Breusch-Pagan test               19         26.088           0.1277\n",
      "Koenker-Bassett test             19         29.648           0.0565\n",
      "================================ END OF REPORT =====================================\n"
     ]
    }
   ],
   "source": [
    "print(m5.summary)"
   ]
  },
  {
   "cell_type": "code",
   "execution_count": 33,
   "metadata": {},
   "outputs": [
    {
     "data": {
      "text/html": [
       "<div>\n",
       "<style scoped>\n",
       "    .dataframe tbody tr th:only-of-type {\n",
       "        vertical-align: middle;\n",
       "    }\n",
       "\n",
       "    .dataframe tbody tr th {\n",
       "        vertical-align: top;\n",
       "    }\n",
       "\n",
       "    .dataframe thead tr th {\n",
       "        text-align: left;\n",
       "    }\n",
       "</style>\n",
       "<table border=\"1\" class=\"dataframe\">\n",
       "  <thead>\n",
       "    <tr>\n",
       "      <th></th>\n",
       "      <th colspan=\"3\" halign=\"left\">zand</th>\n",
       "      <th colspan=\"3\" halign=\"left\">klei</th>\n",
       "    </tr>\n",
       "    <tr>\n",
       "      <th></th>\n",
       "      <th>Coeff.</th>\n",
       "      <th>Std. Error</th>\n",
       "      <th>P-Value</th>\n",
       "      <th>Coeff.</th>\n",
       "      <th>Std. Error</th>\n",
       "      <th>P-Value</th>\n",
       "    </tr>\n",
       "  </thead>\n",
       "  <tbody>\n",
       "    <tr>\n",
       "      <th>CONSTANT</th>\n",
       "      <td>1.136407</td>\n",
       "      <td>0.238208</td>\n",
       "      <td>0.000012</td>\n",
       "      <td>1.180115</td>\n",
       "      <td>0.374247</td>\n",
       "      <td>0.002489</td>\n",
       "    </tr>\n",
       "    <tr>\n",
       "      <th>population</th>\n",
       "      <td>0.227914</td>\n",
       "      <td>0.089811</td>\n",
       "      <td>0.013686</td>\n",
       "      <td>0.537535</td>\n",
       "      <td>1.340136</td>\n",
       "      <td>0.689722</td>\n",
       "    </tr>\n",
       "    <tr>\n",
       "      <th>groundwater depth</th>\n",
       "      <td>0.682457</td>\n",
       "      <td>0.135373</td>\n",
       "      <td>0.000004</td>\n",
       "      <td>-0.243392</td>\n",
       "      <td>0.307713</td>\n",
       "      <td>0.431977</td>\n",
       "    </tr>\n",
       "    <tr>\n",
       "      <th>elevation</th>\n",
       "      <td>-0.045837</td>\n",
       "      <td>0.081234</td>\n",
       "      <td>0.574617</td>\n",
       "      <td>1.465052</td>\n",
       "      <td>1.016377</td>\n",
       "      <td>0.154491</td>\n",
       "    </tr>\n",
       "    <tr>\n",
       "      <th>precipitation</th>\n",
       "      <td>-0.188506</td>\n",
       "      <td>0.099233</td>\n",
       "      <td>0.062135</td>\n",
       "      <td>-0.083031</td>\n",
       "      <td>0.114566</td>\n",
       "      <td>0.471334</td>\n",
       "    </tr>\n",
       "    <tr>\n",
       "      <th>temperature</th>\n",
       "      <td>-0.212850</td>\n",
       "      <td>0.089033</td>\n",
       "      <td>0.019867</td>\n",
       "      <td>-0.110685</td>\n",
       "      <td>0.127641</td>\n",
       "      <td>0.389196</td>\n",
       "    </tr>\n",
       "    <tr>\n",
       "      <th>n deposition</th>\n",
       "      <td>-0.151544</td>\n",
       "      <td>0.102678</td>\n",
       "      <td>0.145029</td>\n",
       "      <td>-0.201811</td>\n",
       "      <td>0.383018</td>\n",
       "      <td>0.600146</td>\n",
       "    </tr>\n",
       "    <tr>\n",
       "      <th>organicmattercontent_1</th>\n",
       "      <td>-1.191040</td>\n",
       "      <td>0.575951</td>\n",
       "      <td>0.042823</td>\n",
       "      <td>0.017716</td>\n",
       "      <td>0.772354</td>\n",
       "      <td>0.981773</td>\n",
       "    </tr>\n",
       "    <tr>\n",
       "      <th>density_1</th>\n",
       "      <td>-1.064009</td>\n",
       "      <td>0.699219</td>\n",
       "      <td>0.133166</td>\n",
       "      <td>0.197899</td>\n",
       "      <td>0.348921</td>\n",
       "      <td>0.572644</td>\n",
       "    </tr>\n",
       "    <tr>\n",
       "      <th>acidity_1</th>\n",
       "      <td>-0.735358</td>\n",
       "      <td>0.159191</td>\n",
       "      <td>0.000020</td>\n",
       "      <td>-0.218520</td>\n",
       "      <td>0.221525</td>\n",
       "      <td>0.327754</td>\n",
       "    </tr>\n",
       "  </tbody>\n",
       "</table>\n",
       "</div>"
      ],
      "text/plain": [
       "                            zand                           klei             \\\n",
       "                          Coeff. Std. Error   P-Value    Coeff. Std. Error   \n",
       "CONSTANT                1.136407   0.238208  0.000012  1.180115   0.374247   \n",
       "population              0.227914   0.089811  0.013686  0.537535   1.340136   \n",
       "groundwater depth       0.682457   0.135373  0.000004 -0.243392   0.307713   \n",
       "elevation              -0.045837   0.081234  0.574617  1.465052   1.016377   \n",
       "precipitation          -0.188506   0.099233  0.062135 -0.083031   0.114566   \n",
       "temperature            -0.212850   0.089033  0.019867 -0.110685   0.127641   \n",
       "n deposition           -0.151544   0.102678  0.145029 -0.201811   0.383018   \n",
       "organicmattercontent_1 -1.191040   0.575951  0.042823  0.017716   0.772354   \n",
       "density_1              -1.064009   0.699219  0.133166  0.197899   0.348921   \n",
       "acidity_1              -0.735358   0.159191  0.000020 -0.218520   0.221525   \n",
       "\n",
       "                                  \n",
       "                         P-Value  \n",
       "CONSTANT                0.002489  \n",
       "population              0.689722  \n",
       "groundwater depth       0.431977  \n",
       "elevation               0.154491  \n",
       "precipitation           0.471334  \n",
       "temperature             0.389196  \n",
       "n deposition            0.600146  \n",
       "organicmattercontent_1  0.981773  \n",
       "density_1               0.572644  \n",
       "acidity_1               0.327754  "
      ]
     },
     "execution_count": 33,
     "metadata": {},
     "output_type": "execute_result"
    }
   ],
   "source": [
    "res = pd.DataFrame({\n",
    "    \"Coeff.\": m5.betas.flatten(),\n",
    "    \"Std. Error\": m5.std_err.flatten(),\n",
    "    \"P-Value\": [i[1] for i in m5.t_stat],\n",
    "}, index=m5.name_x)\n",
    "\n",
    "soil_types = df[\"soil region\"].unique()\n",
    "\n",
    "regime_tables = []\n",
    "for soil in soil_types:\n",
    "    matching_rows = [i for i in res.index if i.startswith(f\"{soil}_\")]\n",
    "    regime_res = res.loc[matching_rows].rename(lambda i: i.replace(f\"{soil}_\", \"\"))\n",
    "    regime_res.columns = pd.MultiIndex.from_product([[soil], regime_res.columns])\n",
    "    regime_tables.append(regime_res)\n",
    "\n",
    "comparison_table = pd.concat(regime_tables, axis=1)\n",
    "\n",
    "comparison_table"
   ]
  },
  {
   "cell_type": "markdown",
   "metadata": {},
   "source": [
    "CHOW test check if coefficients for each predictor is statistically different across the groups (klei vs zand)"
   ]
  },
  {
   "cell_type": "code",
   "execution_count": 34,
   "metadata": {},
   "outputs": [],
   "source": [
    "# ‣ 1. Flatten the coefficient vector from the fitted model\n",
    "beta_vec = m5.betas.flatten()  \n",
    "#    shape = (R*(1 + len(variable_names)),)  \n",
    "\n",
    "# ‣ 2. Recover the exact “regime order” that PySAL used internally.\n",
    "#    m5.name_x is a list like [\"clay_CONSTANT\", \"clay_population\", …, \"sand_CONSTANT\", …, …].\n",
    "regime_order = []\n",
    "for nm in m5.name_x:\n",
    "    soil = nm.split(\"_\")[0]\n",
    "    if soil not in regime_order:\n",
    "        regime_order.append(soil)\n",
    "#    Now regime_order = [ \"clay\", \"sand\", \"peaty\", … ] in the precise sequence PySAL stacked them.\n",
    "\n",
    "R = len(regime_order)\n",
    "K = len(variable_names)\n",
    "n_test = X_test.shape[0]\n",
    "\n",
    "# ‣ 3. Build the “extended” test‐matrix of size (n_test, R*(1+K)).\n",
    "#    Column‐block layout: for regime i = 0..R−1,\n",
    "#      column  i*(K+1)   = intercept_dummy_i  = (soil_region == regime_i ? 1 : 0)\n",
    "#      columns i*(K+1)+1 ... i*(K+1)+K =  (soil_region == regime_i) *  X_test[var_k]\n",
    "X_test_ext = np.zeros((n_test, R * (K + 1)))\n",
    "\n",
    "for i, regime in enumerate(regime_order):\n",
    "    # Boolean mask of shape (n_test,): 1 if this test‐row belongs to `regime`, else 0\n",
    "    mask = (X_test[\"soil region\"] == regime).astype(int).values\n",
    "\n",
    "    # intercept dummy for regime i\n",
    "    X_test_ext[:, i * (K + 1)] = mask\n",
    "\n",
    "    # for each covariate k, multiply mask * X_test[var_k]\n",
    "    for j, var in enumerate(variable_names):\n",
    "        X_test_ext[:, i * (K + 1) + 1 + j] = mask * X_test[var].values"
   ]
  },
  {
   "cell_type": "code",
   "execution_count": 35,
   "metadata": {},
   "outputs": [
    {
     "name": "stdout",
     "output_type": "stream",
     "text": [
      "Test RMSE (log1p‐nitrate): 0.5832\n",
      "Test RMSE (original‐nitrate): 2.2610\n",
      "Test  R² (log1p‐nitrate): 0.5693\n",
      "Test  R² (original‐nitrate): 0.7107\n"
     ]
    }
   ],
   "source": [
    "# ‣ 4. Form y_test as a 1D array of the log1p(nitrate) target\n",
    "y_test_log = y_test[\"nitrate\"].values.flatten()\n",
    "\n",
    "# ‣ 5. Compute predicted log1p(nitrate) on the test set\n",
    "y_pred_log = X_test_ext.dot(beta_vec)\n",
    "\n",
    "# ‣ 6. Evaluate in log‐space (for example, RMSE in log1p scale)\n",
    "mse_log = mean_squared_error(y_test_log, y_pred_log)\n",
    "rmse_log = np.sqrt(mse_log)\n",
    "print(f\"Test RMSE (log1p‐nitrate): {rmse_log:.4f}\")\n",
    "\n",
    "# ‣ 7. If you also want an “original‐scale” error, back‐transform both sides:\n",
    "y_test_orig = np.expm1(y_test_log)     # invert log1p\n",
    "y_pred_orig = np.expm1(y_pred_log)\n",
    "\n",
    "mse_orig = mean_squared_error(y_test_orig, y_pred_orig)\n",
    "rmse_orig = np.sqrt(mse_orig)\n",
    "print(f\"Test RMSE (original‐nitrate): {rmse_orig:.4f}\")\n",
    "\n",
    "r2_log = r2_score(y_test_log, y_pred_log)\n",
    "print(f\"Test  R² (log1p‐nitrate): {r2_log:.4f}\")\n",
    "\n",
    "# 2) R² on the original‐nitrate scale\n",
    "r2_orig = r2_score(y_test_orig, y_pred_orig)\n",
    "print(f\"Test  R² (original‐nitrate): {r2_orig:.4f}\")"
   ]
  },
  {
   "cell_type": "code",
   "execution_count": 36,
   "metadata": {},
   "outputs": [
    {
     "data": {
      "text/plain": [
       "(31.476053838398492, 0.0004893772098237195)"
      ]
     },
     "execution_count": 36,
     "metadata": {},
     "output_type": "execute_result"
    }
   ],
   "source": [
    "m5.chow.joint"
   ]
  },
  {
   "cell_type": "code",
   "execution_count": 37,
   "metadata": {},
   "outputs": [
    {
     "data": {
      "text/html": [
       "<div>\n",
       "<style scoped>\n",
       "    .dataframe tbody tr th:only-of-type {\n",
       "        vertical-align: middle;\n",
       "    }\n",
       "\n",
       "    .dataframe tbody tr th {\n",
       "        vertical-align: top;\n",
       "    }\n",
       "\n",
       "    .dataframe thead th {\n",
       "        text-align: right;\n",
       "    }\n",
       "</style>\n",
       "<table border=\"1\" class=\"dataframe\">\n",
       "  <thead>\n",
       "    <tr style=\"text-align: right;\">\n",
       "      <th></th>\n",
       "      <th>Statistic</th>\n",
       "      <th>P-value</th>\n",
       "    </tr>\n",
       "  </thead>\n",
       "  <tbody>\n",
       "    <tr>\n",
       "      <th>CONSTANT</th>\n",
       "      <td>0.009707</td>\n",
       "      <td>0.921516</td>\n",
       "    </tr>\n",
       "    <tr>\n",
       "      <th>population</th>\n",
       "      <td>0.053139</td>\n",
       "      <td>0.817688</td>\n",
       "    </tr>\n",
       "    <tr>\n",
       "      <th>groundwater depth</th>\n",
       "      <td>7.584910</td>\n",
       "      <td>0.005886</td>\n",
       "    </tr>\n",
       "    <tr>\n",
       "      <th>elevation</th>\n",
       "      <td>2.195787</td>\n",
       "      <td>0.138389</td>\n",
       "    </tr>\n",
       "    <tr>\n",
       "      <th>precipitation</th>\n",
       "      <td>0.484275</td>\n",
       "      <td>0.486492</td>\n",
       "    </tr>\n",
       "    <tr>\n",
       "      <th>temperature</th>\n",
       "      <td>0.430966</td>\n",
       "      <td>0.511515</td>\n",
       "    </tr>\n",
       "    <tr>\n",
       "      <th>n deposition</th>\n",
       "      <td>0.016069</td>\n",
       "      <td>0.899129</td>\n",
       "    </tr>\n",
       "    <tr>\n",
       "      <th>organicmattercontent_1</th>\n",
       "      <td>1.574028</td>\n",
       "      <td>0.209623</td>\n",
       "    </tr>\n",
       "    <tr>\n",
       "      <th>density_1</th>\n",
       "      <td>2.607721</td>\n",
       "      <td>0.106345</td>\n",
       "    </tr>\n",
       "    <tr>\n",
       "      <th>acidity_1</th>\n",
       "      <td>3.589612</td>\n",
       "      <td>0.058142</td>\n",
       "    </tr>\n",
       "  </tbody>\n",
       "</table>\n",
       "</div>"
      ],
      "text/plain": [
       "                        Statistic   P-value\n",
       "CONSTANT                 0.009707  0.921516\n",
       "population               0.053139  0.817688\n",
       "groundwater depth        7.584910  0.005886\n",
       "elevation                2.195787  0.138389\n",
       "precipitation            0.484275  0.486492\n",
       "temperature              0.430966  0.511515\n",
       "n deposition             0.016069  0.899129\n",
       "organicmattercontent_1   1.574028  0.209623\n",
       "density_1                2.607721  0.106345\n",
       "acidity_1                3.589612  0.058142"
      ]
     },
     "execution_count": 37,
     "metadata": {},
     "output_type": "execute_result"
    }
   ],
   "source": [
    "pd.DataFrame(\n",
    "    # Chow results by variable\n",
    "    m5.chow.regi,\n",
    "    # Name of variables\n",
    "    index=m5.name_x_r,\n",
    "    # Column names\n",
    "    columns=[\"Statistic\", \"P-value\"],\n",
    ")"
   ]
  }
 ],
 "metadata": {
  "kernelspec": {
   "display_name": "spatial_env",
   "language": "python",
   "name": "python3"
  },
  "language_info": {
   "codemirror_mode": {
    "name": "ipython",
    "version": 3
   },
   "file_extension": ".py",
   "mimetype": "text/x-python",
   "name": "python",
   "nbconvert_exporter": "python",
   "pygments_lexer": "ipython3",
   "version": "3.9.6"
  }
 },
 "nbformat": 4,
 "nbformat_minor": 2
}
