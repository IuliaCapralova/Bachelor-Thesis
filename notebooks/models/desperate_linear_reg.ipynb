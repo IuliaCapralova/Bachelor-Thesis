{
 "cells": [
  {
   "cell_type": "code",
   "execution_count": 9,
   "metadata": {},
   "outputs": [],
   "source": [
    "import os\n",
    "import pandas as pd\n",
    "import numpy as np\n",
    "from sklearn.preprocessing import StandardScaler\n",
    "import spreg\n",
    "import statsmodels.api as sm\n",
    "from sklearn.metrics import mean_squared_error, mean_absolute_error, r2_score\n",
    "import statsmodels.formula.api as smf\n",
    "from spreg import OLS"
   ]
  },
  {
   "cell_type": "code",
   "execution_count": 61,
   "metadata": {},
   "outputs": [],
   "source": [
    "well_filter = 1\n",
    "current_dir = os.getcwd()\n",
    "path = os.path.join(current_dir, '../../data/clean/aligned_data', f\"merged_dataset_{well_filter}.csv\")\n",
    "df = pd.read_csv(path)"
   ]
  },
  {
   "cell_type": "code",
   "execution_count": 62,
   "metadata": {},
   "outputs": [],
   "source": [
    "df[\"date\"] = pd.to_datetime(df[\"date\"])\n",
    "df = df.sort_values(\"date\").reset_index(drop=True)"
   ]
  },
  {
   "cell_type": "code",
   "execution_count": 63,
   "metadata": {},
   "outputs": [],
   "source": [
    "df[\"year\"] = df[\"date\"].dt.year\n",
    "df[\"nitrate\"] = np.log1p(df[\"nitrate\"])"
   ]
  },
  {
   "cell_type": "code",
   "execution_count": 65,
   "metadata": {},
   "outputs": [
    {
     "name": "stdout",
     "output_type": "stream",
     "text": [
      "Index(['nitrate', 'geometry', 'date', 'population', 'groundwater depth',\n",
      "       'elevation', 'precipitation', 'temperature', 'n deposition',\n",
      "       'mainsoilclassification_1', 'organicmattercontent_1', 'density_1',\n",
      "       'acidity_1', 'year'],\n",
      "      dtype='object')\n"
     ]
    },
    {
     "data": {
      "text/plain": [
       "132"
      ]
     },
     "execution_count": 65,
     "metadata": {},
     "output_type": "execute_result"
    }
   ],
   "source": [
    "df_1 = df.drop(columns=['landuse code', 'soil region', 'bro-id', 'lon', 'lat'])\n",
    "print(df_1.columns)\n",
    "df_1 = df_1.dropna()\n",
    "len(df_1)"
   ]
  },
  {
   "cell_type": "code",
   "execution_count": 14,
   "metadata": {},
   "outputs": [],
   "source": [
    "predefined_categories = {\n",
    "    \"soil region\": None,\n",
    "    \"landuse code\": None,\n",
    "    \"mainsoilclassification_1\": None\n",
    "}\n",
    "for col, _ in predefined_categories.items():\n",
    "    if col in df_1.columns:\n",
    "        cats = sorted(df_1[col].dropna().unique().tolist())\n",
    "        df_1[col] = pd.Categorical(df_1[col], categories=cats)"
   ]
  },
  {
   "cell_type": "code",
   "execution_count": 15,
   "metadata": {},
   "outputs": [],
   "source": [
    "categorical_cols = df.select_dtypes(include=\"category\").columns.tolist()\n",
    "numerical_cols = df.select_dtypes(include=[\"float64\", \"int64\", \"int32\"]).columns.tolist()"
   ]
  },
  {
   "cell_type": "code",
   "execution_count": 16,
   "metadata": {},
   "outputs": [],
   "source": [
    "df_cat = pd.get_dummies(df[categorical_cols], drop_first=True)\n",
    "# df_cat = pd.get_dummies(df[categorical_cols], prefix='sc')\n",
    "numerical_cols = df.select_dtypes(include=[\"float64\", \"int64\", \"int32\"]).columns.tolist()\n",
    "\n",
    "df_num = df[numerical_cols]"
   ]
  },
  {
   "cell_type": "code",
   "execution_count": 17,
   "metadata": {},
   "outputs": [],
   "source": [
    "df_all = pd.concat([df_num, df_cat], axis=1).astype(float)"
   ]
  },
  {
   "cell_type": "code",
   "execution_count": 18,
   "metadata": {},
   "outputs": [],
   "source": [
    "train_years = [2012, 2013, 2014, 2015, 2016, 2017]\n",
    "test_years  = [2018, 2019, 2020]"
   ]
  },
  {
   "cell_type": "code",
   "execution_count": 19,
   "metadata": {},
   "outputs": [],
   "source": [
    "train_df = df_all[df_all[\"year\"].isin(train_years)].copy()\n",
    "test_df  = df_all[df_all[\"year\"].isin(test_years)].copy()"
   ]
  },
  {
   "cell_type": "code",
   "execution_count": 20,
   "metadata": {},
   "outputs": [],
   "source": [
    "vars_to_keep = train_df.columns[train_df.nunique() > 1]\n",
    "train_df = train_df[vars_to_keep]"
   ]
  },
  {
   "cell_type": "code",
   "execution_count": 21,
   "metadata": {},
   "outputs": [],
   "source": [
    "common_cols = vars_to_keep.intersection(test_df.columns)\n",
    "test_df = test_df[common_cols]"
   ]
  },
  {
   "cell_type": "code",
   "execution_count": 23,
   "metadata": {},
   "outputs": [
    {
     "name": "stdout",
     "output_type": "stream",
     "text": [
      "84\n",
      "48\n"
     ]
    }
   ],
   "source": [
    "y_train = train_df[\"nitrate\"]\n",
    "X_train = train_df.drop(columns=[\"nitrate\", \"year\"], errors='ignore').copy()\n",
    "print(len(X_train))\n",
    "\n",
    "y_test = test_df[\"nitrate\"]\n",
    "X_test = test_df.drop(columns=[\"nitrate\", \"year\"], errors='ignore').copy()\n",
    "print(len(X_test))"
   ]
  },
  {
   "cell_type": "code",
   "execution_count": 24,
   "metadata": {},
   "outputs": [],
   "source": [
    "numerical_cols = [\n",
    " 'population',\n",
    " 'groundwater depth',\n",
    " 'elevation',\n",
    " 'precipitation',\n",
    " 'temperature',\n",
    " 'n deposition',\n",
    " 'organicmattercontent_1',\n",
    " 'density_1',\n",
    " 'acidity_1']"
   ]
  },
  {
   "cell_type": "code",
   "execution_count": 25,
   "metadata": {},
   "outputs": [],
   "source": [
    "scaler = StandardScaler()\n",
    "X_train_num_scaled = scaler.fit_transform(X_train[numerical_cols])\n",
    "X_test_num_scaled  = scaler.transform(X_test[numerical_cols])"
   ]
  },
  {
   "cell_type": "code",
   "execution_count": 26,
   "metadata": {},
   "outputs": [],
   "source": [
    "X_train_num_scaled = pd.DataFrame(X_train_num_scaled, columns=X_train[numerical_cols].columns, index=X_train[numerical_cols].index)\n",
    "X_test_num_scaled  = pd.DataFrame(X_test_num_scaled,  columns=X_test[numerical_cols].columns, index=X_test[numerical_cols].index)"
   ]
  },
  {
   "cell_type": "code",
   "execution_count": 27,
   "metadata": {},
   "outputs": [
    {
     "data": {
      "text/html": [
       "<div>\n",
       "<style scoped>\n",
       "    .dataframe tbody tr th:only-of-type {\n",
       "        vertical-align: middle;\n",
       "    }\n",
       "\n",
       "    .dataframe tbody tr th {\n",
       "        vertical-align: top;\n",
       "    }\n",
       "\n",
       "    .dataframe thead th {\n",
       "        text-align: right;\n",
       "    }\n",
       "</style>\n",
       "<table border=\"1\" class=\"dataframe\">\n",
       "  <thead>\n",
       "    <tr style=\"text-align: right;\">\n",
       "      <th></th>\n",
       "      <th>population</th>\n",
       "      <th>groundwater depth</th>\n",
       "      <th>elevation</th>\n",
       "      <th>precipitation</th>\n",
       "      <th>temperature</th>\n",
       "      <th>n deposition</th>\n",
       "      <th>organicmattercontent_1</th>\n",
       "      <th>density_1</th>\n",
       "      <th>acidity_1</th>\n",
       "    </tr>\n",
       "  </thead>\n",
       "  <tbody>\n",
       "    <tr>\n",
       "      <th>0</th>\n",
       "      <td>-0.148449</td>\n",
       "      <td>1.469004</td>\n",
       "      <td>0.017696</td>\n",
       "      <td>-0.365835</td>\n",
       "      <td>-1.446659</td>\n",
       "      <td>0.186508</td>\n",
       "      <td>5.394886</td>\n",
       "      <td>-4.309724</td>\n",
       "      <td>0.286364</td>\n",
       "    </tr>\n",
       "    <tr>\n",
       "      <th>1</th>\n",
       "      <td>-0.100116</td>\n",
       "      <td>1.469004</td>\n",
       "      <td>0.496345</td>\n",
       "      <td>-0.365835</td>\n",
       "      <td>-1.446659</td>\n",
       "      <td>0.965924</td>\n",
       "      <td>-0.937001</td>\n",
       "      <td>0.587270</td>\n",
       "      <td>-0.069122</td>\n",
       "    </tr>\n",
       "    <tr>\n",
       "      <th>3</th>\n",
       "      <td>-0.293445</td>\n",
       "      <td>-0.065068</td>\n",
       "      <td>-0.367215</td>\n",
       "      <td>-0.504541</td>\n",
       "      <td>-1.457449</td>\n",
       "      <td>0.722084</td>\n",
       "      <td>-0.661702</td>\n",
       "      <td>0.871154</td>\n",
       "      <td>-1.372571</td>\n",
       "    </tr>\n",
       "    <tr>\n",
       "      <th>4</th>\n",
       "      <td>-0.220947</td>\n",
       "      <td>-0.970522</td>\n",
       "      <td>-0.404636</td>\n",
       "      <td>-0.504541</td>\n",
       "      <td>-1.457449</td>\n",
       "      <td>1.275078</td>\n",
       "      <td>-0.386402</td>\n",
       "      <td>-0.625150</td>\n",
       "      <td>1.115831</td>\n",
       "    </tr>\n",
       "    <tr>\n",
       "      <th>6</th>\n",
       "      <td>-0.293445</td>\n",
       "      <td>-1.542684</td>\n",
       "      <td>-0.928101</td>\n",
       "      <td>-0.500066</td>\n",
       "      <td>-1.453958</td>\n",
       "      <td>-1.498597</td>\n",
       "      <td>1.815993</td>\n",
       "      <td>-2.482223</td>\n",
       "      <td>0.641850</td>\n",
       "    </tr>\n",
       "    <tr>\n",
       "      <th>...</th>\n",
       "      <td>...</td>\n",
       "      <td>...</td>\n",
       "      <td>...</td>\n",
       "      <td>...</td>\n",
       "      <td>...</td>\n",
       "      <td>...</td>\n",
       "      <td>...</td>\n",
       "      <td>...</td>\n",
       "      <td>...</td>\n",
       "    </tr>\n",
       "    <tr>\n",
       "      <th>114</th>\n",
       "      <td>-0.148449</td>\n",
       "      <td>-1.086806</td>\n",
       "      <td>-0.404636</td>\n",
       "      <td>-0.151064</td>\n",
       "      <td>1.439568</td>\n",
       "      <td>0.273594</td>\n",
       "      <td>-0.386402</td>\n",
       "      <td>-0.625150</td>\n",
       "      <td>1.115831</td>\n",
       "    </tr>\n",
       "    <tr>\n",
       "      <th>115</th>\n",
       "      <td>-0.293445</td>\n",
       "      <td>-1.026085</td>\n",
       "      <td>-0.816965</td>\n",
       "      <td>0.229259</td>\n",
       "      <td>-0.048449</td>\n",
       "      <td>-1.002210</td>\n",
       "      <td>0.714795</td>\n",
       "      <td>-0.211153</td>\n",
       "      <td>0.404859</td>\n",
       "    </tr>\n",
       "    <tr>\n",
       "      <th>116</th>\n",
       "      <td>-0.293445</td>\n",
       "      <td>0.319448</td>\n",
       "      <td>-0.093457</td>\n",
       "      <td>1.737129</td>\n",
       "      <td>-0.363780</td>\n",
       "      <td>-0.880290</td>\n",
       "      <td>0.026547</td>\n",
       "      <td>0.279730</td>\n",
       "      <td>0.286364</td>\n",
       "    </tr>\n",
       "    <tr>\n",
       "      <th>120</th>\n",
       "      <td>-0.124282</td>\n",
       "      <td>-0.150241</td>\n",
       "      <td>0.009693</td>\n",
       "      <td>1.070445</td>\n",
       "      <td>-0.407347</td>\n",
       "      <td>1.375226</td>\n",
       "      <td>-0.661702</td>\n",
       "      <td>0.871154</td>\n",
       "      <td>-1.372571</td>\n",
       "    </tr>\n",
       "    <tr>\n",
       "      <th>121</th>\n",
       "      <td>-0.293445</td>\n",
       "      <td>-0.313955</td>\n",
       "      <td>-0.092226</td>\n",
       "      <td>1.070445</td>\n",
       "      <td>-0.407347</td>\n",
       "      <td>0.600165</td>\n",
       "      <td>-0.661702</td>\n",
       "      <td>0.871154</td>\n",
       "      <td>-1.372571</td>\n",
       "    </tr>\n",
       "  </tbody>\n",
       "</table>\n",
       "<p>84 rows × 9 columns</p>\n",
       "</div>"
      ],
      "text/plain": [
       "     population  groundwater depth  elevation  precipitation  temperature  \\\n",
       "0     -0.148449           1.469004   0.017696      -0.365835    -1.446659   \n",
       "1     -0.100116           1.469004   0.496345      -0.365835    -1.446659   \n",
       "3     -0.293445          -0.065068  -0.367215      -0.504541    -1.457449   \n",
       "4     -0.220947          -0.970522  -0.404636      -0.504541    -1.457449   \n",
       "6     -0.293445          -1.542684  -0.928101      -0.500066    -1.453958   \n",
       "..          ...                ...        ...            ...          ...   \n",
       "114   -0.148449          -1.086806  -0.404636      -0.151064     1.439568   \n",
       "115   -0.293445          -1.026085  -0.816965       0.229259    -0.048449   \n",
       "116   -0.293445           0.319448  -0.093457       1.737129    -0.363780   \n",
       "120   -0.124282          -0.150241   0.009693       1.070445    -0.407347   \n",
       "121   -0.293445          -0.313955  -0.092226       1.070445    -0.407347   \n",
       "\n",
       "     n deposition  organicmattercontent_1  density_1  acidity_1  \n",
       "0        0.186508                5.394886  -4.309724   0.286364  \n",
       "1        0.965924               -0.937001   0.587270  -0.069122  \n",
       "3        0.722084               -0.661702   0.871154  -1.372571  \n",
       "4        1.275078               -0.386402  -0.625150   1.115831  \n",
       "6       -1.498597                1.815993  -2.482223   0.641850  \n",
       "..            ...                     ...        ...        ...  \n",
       "114      0.273594               -0.386402  -0.625150   1.115831  \n",
       "115     -1.002210                0.714795  -0.211153   0.404859  \n",
       "116     -0.880290                0.026547   0.279730   0.286364  \n",
       "120      1.375226               -0.661702   0.871154  -1.372571  \n",
       "121      0.600165               -0.661702   0.871154  -1.372571  \n",
       "\n",
       "[84 rows x 9 columns]"
      ]
     },
     "execution_count": 27,
     "metadata": {},
     "output_type": "execute_result"
    }
   ],
   "source": [
    "X_train_num_scaled"
   ]
  },
  {
   "cell_type": "code",
   "execution_count": 28,
   "metadata": {},
   "outputs": [],
   "source": [
    "X_train_cat = X_train.drop(columns=numerical_cols)\n",
    "X_test_cat = X_test.drop(columns=numerical_cols)"
   ]
  },
  {
   "cell_type": "code",
   "execution_count": 29,
   "metadata": {},
   "outputs": [],
   "source": [
    "X_train_df = pd.concat([X_train_num_scaled, X_train_cat], axis=1)\n",
    "X_test_df = pd.concat([X_test_num_scaled, X_test_cat], axis=1)"
   ]
  },
  {
   "cell_type": "markdown",
   "metadata": {},
   "source": [
    "## Statsmodel OLS"
   ]
  },
  {
   "cell_type": "code",
   "execution_count": 30,
   "metadata": {},
   "outputs": [],
   "source": [
    "X_train_sm = sm.add_constant(X_train_df)\n",
    "X_test_sm  = sm.add_constant(X_test_df)"
   ]
  },
  {
   "cell_type": "code",
   "execution_count": 31,
   "metadata": {},
   "outputs": [],
   "source": [
    "model = sm.OLS(y_train, X_train_sm).fit()"
   ]
  },
  {
   "cell_type": "code",
   "execution_count": 32,
   "metadata": {},
   "outputs": [
    {
     "name": "stdout",
     "output_type": "stream",
     "text": [
      "Train shape: (84, 16)\n",
      "Test shape: (48, 16)\n",
      "\n",
      "OLS Regression Results:\n",
      "\n",
      "                            OLS Regression Results                            \n",
      "==============================================================================\n",
      "Dep. Variable:                nitrate   R-squared:                       0.762\n",
      "Model:                            OLS   Adj. R-squared:                  0.710\n",
      "Method:                 Least Squares   F-statistic:                     14.55\n",
      "Date:                Fri, 06 Jun 2025   Prob (F-statistic):           1.03e-15\n",
      "Time:                        13:26:46   Log-Likelihood:                -60.110\n",
      "No. Observations:                  84   AIC:                             152.2\n",
      "Df Residuals:                      68   BIC:                             191.1\n",
      "Df Model:                          15                                         \n",
      "Covariance Type:            nonrobust                                         \n",
      "=================================================================================================================\n",
      "                                                    coef    std err          t      P>|t|      [0.025      0.975]\n",
      "-----------------------------------------------------------------------------------------------------------------\n",
      "const                                             1.4425      0.200      7.196      0.000       1.042       1.843\n",
      "population                                       -0.0314      0.080     -0.393      0.695      -0.191       0.128\n",
      "groundwater depth                                 0.4485      0.095      4.727      0.000       0.259       0.638\n",
      "elevation                                         0.0230      0.081      0.285      0.777      -0.138       0.184\n",
      "precipitation                                    -0.0378      0.065     -0.577      0.566      -0.168       0.093\n",
      "temperature                                      -0.1181      0.067     -1.773      0.081      -0.251       0.015\n",
      "n deposition                                      0.0034      0.123      0.027      0.978      -0.242       0.249\n",
      "organicmattercontent_1                           -0.3486      0.475     -0.734      0.466      -1.297       0.599\n",
      "density_1                                         0.3736      0.347      1.076      0.286      -0.319       1.066\n",
      "acidity_1                                        -0.4197      0.122     -3.441      0.001      -0.663      -0.176\n",
      "mainsoilclassification_1_Kalkloze zandgronden    -1.0349      0.226     -4.575      0.000      -1.486      -0.583\n",
      "mainsoilclassification_1_Moerige gronden          1.4933      1.758      0.849      0.399      -2.016       5.002\n",
      "mainsoilclassification_1_Podzolgronden           -0.8985      0.305     -2.941      0.004      -1.508      -0.289\n",
      "mainsoilclassification_1_Rivierkleigronden       -0.3609      0.406     -0.889      0.377      -1.171       0.449\n",
      "mainsoilclassification_1_Veengronden             -0.2800      0.418     -0.670      0.505      -1.114       0.554\n",
      "mainsoilclassification_1_Zeekleigronden           1.0811      0.776      1.393      0.168      -0.468       2.630\n",
      "==============================================================================\n",
      "Omnibus:                        1.586   Durbin-Watson:                   2.086\n",
      "Prob(Omnibus):                  0.453   Jarque-Bera (JB):                1.602\n",
      "Skew:                           0.268   Prob(JB):                        0.449\n",
      "Kurtosis:                       2.586   Cond. No.                         53.8\n",
      "==============================================================================\n",
      "\n",
      "Notes:\n",
      "[1] Standard Errors assume that the covariance matrix of the errors is correctly specified.\n"
     ]
    }
   ],
   "source": [
    "print(\"Train shape:\", X_train_sm.shape)\n",
    "print(\"Test shape:\", X_test_sm.shape)\n",
    "print(\"\\nOLS Regression Results:\\n\")\n",
    "print(model.summary())"
   ]
  },
  {
   "cell_type": "code",
   "execution_count": 33,
   "metadata": {},
   "outputs": [],
   "source": [
    "y_pred_log = model.predict(X_test_sm)"
   ]
  },
  {
   "cell_type": "code",
   "execution_count": 34,
   "metadata": {},
   "outputs": [],
   "source": [
    "y_pred_original = np.expm1(y_pred_log)\n",
    "y_test_original = np.expm1(y_test)"
   ]
  },
  {
   "cell_type": "code",
   "execution_count": 35,
   "metadata": {},
   "outputs": [],
   "source": [
    "r2_log = r2_score(y_test, y_pred_log)"
   ]
  },
  {
   "cell_type": "code",
   "execution_count": 36,
   "metadata": {},
   "outputs": [],
   "source": [
    "rmse = np.sqrt(mean_squared_error(y_test_original, y_pred_original))\n",
    "mae = mean_absolute_error(y_test_original, y_pred_original)\n",
    "r2_orig = r2_score(y_test_original, y_pred_original)"
   ]
  },
  {
   "cell_type": "code",
   "execution_count": 37,
   "metadata": {},
   "outputs": [
    {
     "data": {
      "text/html": [
       "<div>\n",
       "<style scoped>\n",
       "    .dataframe tbody tr th:only-of-type {\n",
       "        vertical-align: middle;\n",
       "    }\n",
       "\n",
       "    .dataframe tbody tr th {\n",
       "        vertical-align: top;\n",
       "    }\n",
       "\n",
       "    .dataframe thead th {\n",
       "        text-align: right;\n",
       "    }\n",
       "</style>\n",
       "<table border=\"1\" class=\"dataframe\">\n",
       "  <thead>\n",
       "    <tr style=\"text-align: right;\">\n",
       "      <th></th>\n",
       "      <th>Metric</th>\n",
       "      <th>Value</th>\n",
       "    </tr>\n",
       "  </thead>\n",
       "  <tbody>\n",
       "    <tr>\n",
       "      <th>0</th>\n",
       "      <td>RMSE (original scale)</td>\n",
       "      <td>1.978890</td>\n",
       "    </tr>\n",
       "    <tr>\n",
       "      <th>1</th>\n",
       "      <td>MAE (original scale)</td>\n",
       "      <td>1.264080</td>\n",
       "    </tr>\n",
       "    <tr>\n",
       "      <th>2</th>\n",
       "      <td>R² (original scale)</td>\n",
       "      <td>0.750577</td>\n",
       "    </tr>\n",
       "    <tr>\n",
       "      <th>3</th>\n",
       "      <td>R² (log scale)</td>\n",
       "      <td>0.676143</td>\n",
       "    </tr>\n",
       "  </tbody>\n",
       "</table>\n",
       "</div>"
      ],
      "text/plain": [
       "                  Metric     Value\n",
       "0  RMSE (original scale)  1.978890\n",
       "1   MAE (original scale)  1.264080\n",
       "2    R² (original scale)  0.750577\n",
       "3         R² (log scale)  0.676143"
      ]
     },
     "execution_count": 37,
     "metadata": {},
     "output_type": "execute_result"
    }
   ],
   "source": [
    "metrics = {\n",
    "    \"Metric\": [\n",
    "        \"RMSE (original scale)\", \n",
    "        \"MAE (original scale)\", \n",
    "        \"R² (original scale)\", \n",
    "        \"R² (log scale)\"\n",
    "    ],\n",
    "    \"Value\": [rmse, mae, r2_orig, r2_log]\n",
    "}\n",
    "\n",
    "metrics_df = pd.DataFrame(metrics)\n",
    "metrics_df"
   ]
  },
  {
   "cell_type": "markdown",
   "metadata": {},
   "source": [
    "## Spreg OLS"
   ]
  },
  {
   "cell_type": "code",
   "execution_count": 38,
   "metadata": {},
   "outputs": [],
   "source": [
    "X_train_const = X_train_df.copy()\n",
    "X_test_const = X_test_df.copy()"
   ]
  },
  {
   "cell_type": "code",
   "execution_count": 39,
   "metadata": {},
   "outputs": [],
   "source": [
    "X_train_ols = X_train_const.values\n",
    "y_train_ols = y_train.values.reshape(-1, 1)\n",
    "\n",
    "X_test_ols = X_test_const.values\n",
    "y_test_ols = y_test.values.reshape(-1, 1)"
   ]
  },
  {
   "cell_type": "code",
   "execution_count": 40,
   "metadata": {},
   "outputs": [
    {
     "data": {
      "text/html": [
       "<div>\n",
       "<style scoped>\n",
       "    .dataframe tbody tr th:only-of-type {\n",
       "        vertical-align: middle;\n",
       "    }\n",
       "\n",
       "    .dataframe tbody tr th {\n",
       "        vertical-align: top;\n",
       "    }\n",
       "\n",
       "    .dataframe thead th {\n",
       "        text-align: right;\n",
       "    }\n",
       "</style>\n",
       "<table border=\"1\" class=\"dataframe\">\n",
       "  <thead>\n",
       "    <tr style=\"text-align: right;\">\n",
       "      <th></th>\n",
       "      <th>population</th>\n",
       "      <th>groundwater depth</th>\n",
       "      <th>elevation</th>\n",
       "      <th>precipitation</th>\n",
       "      <th>temperature</th>\n",
       "      <th>n deposition</th>\n",
       "      <th>organicmattercontent_1</th>\n",
       "      <th>density_1</th>\n",
       "      <th>acidity_1</th>\n",
       "      <th>mainsoilclassification_1_Kalkloze zandgronden</th>\n",
       "      <th>mainsoilclassification_1_Moerige gronden</th>\n",
       "      <th>mainsoilclassification_1_Podzolgronden</th>\n",
       "      <th>mainsoilclassification_1_Rivierkleigronden</th>\n",
       "      <th>mainsoilclassification_1_Veengronden</th>\n",
       "      <th>mainsoilclassification_1_Zeekleigronden</th>\n",
       "    </tr>\n",
       "  </thead>\n",
       "  <tbody>\n",
       "    <tr>\n",
       "      <th>0</th>\n",
       "      <td>-0.148449</td>\n",
       "      <td>1.469004</td>\n",
       "      <td>0.017696</td>\n",
       "      <td>-0.365835</td>\n",
       "      <td>-1.446659</td>\n",
       "      <td>0.186508</td>\n",
       "      <td>5.394886</td>\n",
       "      <td>-4.309724</td>\n",
       "      <td>0.286364</td>\n",
       "      <td>0.0</td>\n",
       "      <td>1.0</td>\n",
       "      <td>0.0</td>\n",
       "      <td>0.0</td>\n",
       "      <td>0.0</td>\n",
       "      <td>0.0</td>\n",
       "    </tr>\n",
       "    <tr>\n",
       "      <th>1</th>\n",
       "      <td>-0.100116</td>\n",
       "      <td>1.469004</td>\n",
       "      <td>0.496345</td>\n",
       "      <td>-0.365835</td>\n",
       "      <td>-1.446659</td>\n",
       "      <td>0.965924</td>\n",
       "      <td>-0.937001</td>\n",
       "      <td>0.587270</td>\n",
       "      <td>-0.069122</td>\n",
       "      <td>0.0</td>\n",
       "      <td>0.0</td>\n",
       "      <td>0.0</td>\n",
       "      <td>0.0</td>\n",
       "      <td>0.0</td>\n",
       "      <td>0.0</td>\n",
       "    </tr>\n",
       "    <tr>\n",
       "      <th>3</th>\n",
       "      <td>-0.293445</td>\n",
       "      <td>-0.065068</td>\n",
       "      <td>-0.367215</td>\n",
       "      <td>-0.504541</td>\n",
       "      <td>-1.457449</td>\n",
       "      <td>0.722084</td>\n",
       "      <td>-0.661702</td>\n",
       "      <td>0.871154</td>\n",
       "      <td>-1.372571</td>\n",
       "      <td>1.0</td>\n",
       "      <td>0.0</td>\n",
       "      <td>0.0</td>\n",
       "      <td>0.0</td>\n",
       "      <td>0.0</td>\n",
       "      <td>0.0</td>\n",
       "    </tr>\n",
       "    <tr>\n",
       "      <th>4</th>\n",
       "      <td>-0.220947</td>\n",
       "      <td>-0.970522</td>\n",
       "      <td>-0.404636</td>\n",
       "      <td>-0.504541</td>\n",
       "      <td>-1.457449</td>\n",
       "      <td>1.275078</td>\n",
       "      <td>-0.386402</td>\n",
       "      <td>-0.625150</td>\n",
       "      <td>1.115831</td>\n",
       "      <td>0.0</td>\n",
       "      <td>0.0</td>\n",
       "      <td>0.0</td>\n",
       "      <td>1.0</td>\n",
       "      <td>0.0</td>\n",
       "      <td>0.0</td>\n",
       "    </tr>\n",
       "    <tr>\n",
       "      <th>6</th>\n",
       "      <td>-0.293445</td>\n",
       "      <td>-1.542684</td>\n",
       "      <td>-0.928101</td>\n",
       "      <td>-0.500066</td>\n",
       "      <td>-1.453958</td>\n",
       "      <td>-1.498597</td>\n",
       "      <td>1.815993</td>\n",
       "      <td>-2.482223</td>\n",
       "      <td>0.641850</td>\n",
       "      <td>0.0</td>\n",
       "      <td>0.0</td>\n",
       "      <td>0.0</td>\n",
       "      <td>0.0</td>\n",
       "      <td>0.0</td>\n",
       "      <td>1.0</td>\n",
       "    </tr>\n",
       "    <tr>\n",
       "      <th>...</th>\n",
       "      <td>...</td>\n",
       "      <td>...</td>\n",
       "      <td>...</td>\n",
       "      <td>...</td>\n",
       "      <td>...</td>\n",
       "      <td>...</td>\n",
       "      <td>...</td>\n",
       "      <td>...</td>\n",
       "      <td>...</td>\n",
       "      <td>...</td>\n",
       "      <td>...</td>\n",
       "      <td>...</td>\n",
       "      <td>...</td>\n",
       "      <td>...</td>\n",
       "      <td>...</td>\n",
       "    </tr>\n",
       "    <tr>\n",
       "      <th>114</th>\n",
       "      <td>-0.148449</td>\n",
       "      <td>-1.086806</td>\n",
       "      <td>-0.404636</td>\n",
       "      <td>-0.151064</td>\n",
       "      <td>1.439568</td>\n",
       "      <td>0.273594</td>\n",
       "      <td>-0.386402</td>\n",
       "      <td>-0.625150</td>\n",
       "      <td>1.115831</td>\n",
       "      <td>0.0</td>\n",
       "      <td>0.0</td>\n",
       "      <td>0.0</td>\n",
       "      <td>1.0</td>\n",
       "      <td>0.0</td>\n",
       "      <td>0.0</td>\n",
       "    </tr>\n",
       "    <tr>\n",
       "      <th>115</th>\n",
       "      <td>-0.293445</td>\n",
       "      <td>-1.026085</td>\n",
       "      <td>-0.816965</td>\n",
       "      <td>0.229259</td>\n",
       "      <td>-0.048449</td>\n",
       "      <td>-1.002210</td>\n",
       "      <td>0.714795</td>\n",
       "      <td>-0.211153</td>\n",
       "      <td>0.404859</td>\n",
       "      <td>0.0</td>\n",
       "      <td>0.0</td>\n",
       "      <td>0.0</td>\n",
       "      <td>0.0</td>\n",
       "      <td>1.0</td>\n",
       "      <td>0.0</td>\n",
       "    </tr>\n",
       "    <tr>\n",
       "      <th>116</th>\n",
       "      <td>-0.293445</td>\n",
       "      <td>0.319448</td>\n",
       "      <td>-0.093457</td>\n",
       "      <td>1.737129</td>\n",
       "      <td>-0.363780</td>\n",
       "      <td>-0.880290</td>\n",
       "      <td>0.026547</td>\n",
       "      <td>0.279730</td>\n",
       "      <td>0.286364</td>\n",
       "      <td>1.0</td>\n",
       "      <td>0.0</td>\n",
       "      <td>0.0</td>\n",
       "      <td>0.0</td>\n",
       "      <td>0.0</td>\n",
       "      <td>0.0</td>\n",
       "    </tr>\n",
       "    <tr>\n",
       "      <th>120</th>\n",
       "      <td>-0.124282</td>\n",
       "      <td>-0.150241</td>\n",
       "      <td>0.009693</td>\n",
       "      <td>1.070445</td>\n",
       "      <td>-0.407347</td>\n",
       "      <td>1.375226</td>\n",
       "      <td>-0.661702</td>\n",
       "      <td>0.871154</td>\n",
       "      <td>-1.372571</td>\n",
       "      <td>1.0</td>\n",
       "      <td>0.0</td>\n",
       "      <td>0.0</td>\n",
       "      <td>0.0</td>\n",
       "      <td>0.0</td>\n",
       "      <td>0.0</td>\n",
       "    </tr>\n",
       "    <tr>\n",
       "      <th>121</th>\n",
       "      <td>-0.293445</td>\n",
       "      <td>-0.313955</td>\n",
       "      <td>-0.092226</td>\n",
       "      <td>1.070445</td>\n",
       "      <td>-0.407347</td>\n",
       "      <td>0.600165</td>\n",
       "      <td>-0.661702</td>\n",
       "      <td>0.871154</td>\n",
       "      <td>-1.372571</td>\n",
       "      <td>1.0</td>\n",
       "      <td>0.0</td>\n",
       "      <td>0.0</td>\n",
       "      <td>0.0</td>\n",
       "      <td>0.0</td>\n",
       "      <td>0.0</td>\n",
       "    </tr>\n",
       "  </tbody>\n",
       "</table>\n",
       "<p>84 rows × 15 columns</p>\n",
       "</div>"
      ],
      "text/plain": [
       "     population  groundwater depth  elevation  precipitation  temperature  \\\n",
       "0     -0.148449           1.469004   0.017696      -0.365835    -1.446659   \n",
       "1     -0.100116           1.469004   0.496345      -0.365835    -1.446659   \n",
       "3     -0.293445          -0.065068  -0.367215      -0.504541    -1.457449   \n",
       "4     -0.220947          -0.970522  -0.404636      -0.504541    -1.457449   \n",
       "6     -0.293445          -1.542684  -0.928101      -0.500066    -1.453958   \n",
       "..          ...                ...        ...            ...          ...   \n",
       "114   -0.148449          -1.086806  -0.404636      -0.151064     1.439568   \n",
       "115   -0.293445          -1.026085  -0.816965       0.229259    -0.048449   \n",
       "116   -0.293445           0.319448  -0.093457       1.737129    -0.363780   \n",
       "120   -0.124282          -0.150241   0.009693       1.070445    -0.407347   \n",
       "121   -0.293445          -0.313955  -0.092226       1.070445    -0.407347   \n",
       "\n",
       "     n deposition  organicmattercontent_1  density_1  acidity_1  \\\n",
       "0        0.186508                5.394886  -4.309724   0.286364   \n",
       "1        0.965924               -0.937001   0.587270  -0.069122   \n",
       "3        0.722084               -0.661702   0.871154  -1.372571   \n",
       "4        1.275078               -0.386402  -0.625150   1.115831   \n",
       "6       -1.498597                1.815993  -2.482223   0.641850   \n",
       "..            ...                     ...        ...        ...   \n",
       "114      0.273594               -0.386402  -0.625150   1.115831   \n",
       "115     -1.002210                0.714795  -0.211153   0.404859   \n",
       "116     -0.880290                0.026547   0.279730   0.286364   \n",
       "120      1.375226               -0.661702   0.871154  -1.372571   \n",
       "121      0.600165               -0.661702   0.871154  -1.372571   \n",
       "\n",
       "     mainsoilclassification_1_Kalkloze zandgronden  \\\n",
       "0                                              0.0   \n",
       "1                                              0.0   \n",
       "3                                              1.0   \n",
       "4                                              0.0   \n",
       "6                                              0.0   \n",
       "..                                             ...   \n",
       "114                                            0.0   \n",
       "115                                            0.0   \n",
       "116                                            1.0   \n",
       "120                                            1.0   \n",
       "121                                            1.0   \n",
       "\n",
       "     mainsoilclassification_1_Moerige gronden  \\\n",
       "0                                         1.0   \n",
       "1                                         0.0   \n",
       "3                                         0.0   \n",
       "4                                         0.0   \n",
       "6                                         0.0   \n",
       "..                                        ...   \n",
       "114                                       0.0   \n",
       "115                                       0.0   \n",
       "116                                       0.0   \n",
       "120                                       0.0   \n",
       "121                                       0.0   \n",
       "\n",
       "     mainsoilclassification_1_Podzolgronden  \\\n",
       "0                                       0.0   \n",
       "1                                       0.0   \n",
       "3                                       0.0   \n",
       "4                                       0.0   \n",
       "6                                       0.0   \n",
       "..                                      ...   \n",
       "114                                     0.0   \n",
       "115                                     0.0   \n",
       "116                                     0.0   \n",
       "120                                     0.0   \n",
       "121                                     0.0   \n",
       "\n",
       "     mainsoilclassification_1_Rivierkleigronden  \\\n",
       "0                                           0.0   \n",
       "1                                           0.0   \n",
       "3                                           0.0   \n",
       "4                                           1.0   \n",
       "6                                           0.0   \n",
       "..                                          ...   \n",
       "114                                         1.0   \n",
       "115                                         0.0   \n",
       "116                                         0.0   \n",
       "120                                         0.0   \n",
       "121                                         0.0   \n",
       "\n",
       "     mainsoilclassification_1_Veengronden  \\\n",
       "0                                     0.0   \n",
       "1                                     0.0   \n",
       "3                                     0.0   \n",
       "4                                     0.0   \n",
       "6                                     0.0   \n",
       "..                                    ...   \n",
       "114                                   0.0   \n",
       "115                                   1.0   \n",
       "116                                   0.0   \n",
       "120                                   0.0   \n",
       "121                                   0.0   \n",
       "\n",
       "     mainsoilclassification_1_Zeekleigronden  \n",
       "0                                        0.0  \n",
       "1                                        0.0  \n",
       "3                                        0.0  \n",
       "4                                        0.0  \n",
       "6                                        1.0  \n",
       "..                                       ...  \n",
       "114                                      0.0  \n",
       "115                                      0.0  \n",
       "116                                      0.0  \n",
       "120                                      0.0  \n",
       "121                                      0.0  \n",
       "\n",
       "[84 rows x 15 columns]"
      ]
     },
     "execution_count": 40,
     "metadata": {},
     "output_type": "execute_result"
    }
   ],
   "source": [
    "X_train_df"
   ]
  },
  {
   "cell_type": "code",
   "execution_count": 44,
   "metadata": {},
   "outputs": [
    {
     "name": "stdout",
     "output_type": "stream",
     "text": [
      "REGRESSION RESULTS\n",
      "------------------\n",
      "\n",
      "SUMMARY OF OUTPUT: ORDINARY LEAST SQUARES\n",
      "-----------------------------------------\n",
      "Data set            :     unknown\n",
      "Weights matrix      :        None\n",
      "Dependent Variable  :     nitrate                Number of Observations:          84\n",
      "Mean dependent var  :      0.9442                Number of Variables   :          16\n",
      "S.D. dependent var  :      1.0215                Degrees of Freedom    :          68\n",
      "R-squared           :      0.7624\n",
      "Adjusted R-squared  :      0.7100\n",
      "Sum squared residual:     20.5761                F-statistic           :     14.5483\n",
      "Sigma-square        :       0.303                Prob(F-statistic)     :   1.027e-15\n",
      "S.E. of regression  :       0.550                Log likelihood        :     -60.110\n",
      "Sigma-square ML     :       0.245                Akaike info criterion :     152.220\n",
      "S.E of regression ML:      0.4949                Schwarz criterion     :     191.113\n",
      "\n",
      "------------------------------------------------------------------------------------\n",
      "            Variable     Coefficient       Std.Error     t-Statistic     Probability\n",
      "------------------------------------------------------------------------------------\n",
      "            CONSTANT         1.44250         0.20046         7.19599         0.00000\n",
      "          population        -0.03145         0.07999        -0.39317         0.69542\n",
      "   groundwater depth         0.44848         0.09488         4.72675         0.00001\n",
      "           elevation         0.02300         0.08076         0.28476         0.77669\n",
      "       precipitation        -0.03778         0.06543        -0.57743         0.56556\n",
      "         temperature        -0.11815         0.06662        -1.77344         0.08063\n",
      "        n deposition         0.00335         0.12320         0.02719         0.97839\n",
      "organicmattercontent_1        -0.34862         0.47510        -0.73378         0.46561\n",
      "           density_1         0.37359         0.34708         1.07639         0.28555\n",
      "           acidity_1        -0.41975         0.12197        -3.44149         0.00099\n",
      "mainsoilclassification_1_Kalkloze zandgronden        -1.03486         0.22621        -4.57480         0.00002\n",
      "mainsoilclassification_1_Moerige gronden         1.49330         1.75843         0.84922         0.39874\n",
      "mainsoilclassification_1_Podzolgronden        -0.89851         0.30549        -2.94124         0.00447\n",
      "mainsoilclassification_1_Rivierkleigronden        -0.36087         0.40580        -0.88927         0.37699\n",
      "mainsoilclassification_1_Veengronden        -0.27998         0.41782        -0.67009         0.50507\n",
      "mainsoilclassification_1_Zeekleigronden         1.08109         0.77635         1.39253         0.16830\n",
      "------------------------------------------------------------------------------------\n",
      "\n",
      "REGRESSION DIAGNOSTICS\n",
      "MULTICOLLINEARITY CONDITION NUMBER          19.733\n",
      "\n",
      "TEST ON NORMALITY OF ERRORS\n",
      "TEST                             DF        VALUE           PROB\n",
      "Jarque-Bera                       2          1.602           0.4489\n",
      "\n",
      "DIAGNOSTICS FOR HETEROSKEDASTICITY\n",
      "RANDOM COEFFICIENTS\n",
      "TEST                             DF        VALUE           PROB\n",
      "Breusch-Pagan test               15         22.135           0.1043\n",
      "Koenker-Bassett test             15         27.912           0.0221\n",
      "================================ END OF REPORT =====================================\n"
     ]
    }
   ],
   "source": [
    "model_1 = spreg.OLS(y_train_ols, X_train_ols, name_y='nitrate', name_x=feature_names)\n",
    "print(model_1.summary)"
   ]
  },
  {
   "cell_type": "markdown",
   "metadata": {},
   "source": [
    "## Spatial fixed effects"
   ]
  },
  {
   "cell_type": "code",
   "execution_count": 57,
   "metadata": {},
   "outputs": [
    {
     "data": {
      "text/plain": [
       "132"
      ]
     },
     "execution_count": 57,
     "metadata": {},
     "output_type": "execute_result"
    }
   ],
   "source": [
    "df_2 = df.drop(columns=['landuse code', 'bro-id', 'lon', 'lat'])\n",
    "df_2 = df_2.dropna()\n",
    "len(df_2)"
   ]
  },
  {
   "cell_type": "code",
   "execution_count": 58,
   "metadata": {},
   "outputs": [
    {
     "data": {
      "text/plain": [
       "Index(['nitrate', 'geometry', 'date', 'soil region', 'population',\n",
       "       'groundwater depth', 'elevation', 'precipitation', 'temperature',\n",
       "       'n deposition', 'mainsoilclassification_1', 'organicmattercontent_1',\n",
       "       'density_1', 'acidity_1', 'year'],\n",
       "      dtype='object')"
      ]
     },
     "execution_count": 58,
     "metadata": {},
     "output_type": "execute_result"
    }
   ],
   "source": [
    "df_2.columns"
   ]
  },
  {
   "cell_type": "code",
   "execution_count": 48,
   "metadata": {},
   "outputs": [
    {
     "data": {
      "text/plain": [
       "Index(['population', 'groundwater depth', 'elevation', 'precipitation',\n",
       "       'temperature', 'n deposition', 'organicmattercontent_1', 'density_1',\n",
       "       'acidity_1', 'mainsoilclassification_1_Kalkloze zandgronden',\n",
       "       'mainsoilclassification_1_Moerige gronden',\n",
       "       'mainsoilclassification_1_Podzolgronden',\n",
       "       'mainsoilclassification_1_Rivierkleigronden',\n",
       "       'mainsoilclassification_1_Veengronden',\n",
       "       'mainsoilclassification_1_Zeekleigronden'],\n",
       "      dtype='object')"
      ]
     },
     "execution_count": 48,
     "metadata": {},
     "output_type": "execute_result"
    }
   ],
   "source": [
    "all_columns = X_train_df.columns\n",
    "all_columns"
   ]
  },
  {
   "cell_type": "code",
   "execution_count": 46,
   "metadata": {},
   "outputs": [],
   "source": [
    "formula = \"nitrate ~ \" + \" + \".join([f\"Q('{col}')\" for col in all_columns]) + \" + C(Q('soil region')) - 1\""
   ]
  },
  {
   "cell_type": "code",
   "execution_count": 47,
   "metadata": {},
   "outputs": [
    {
     "ename": "PatsyError",
     "evalue": "Error evaluating factor: NameError: no data named 'soil region' found\n    nitrate ~ Q('population') + Q('groundwater depth') + Q('elevation') + Q('precipitation') + Q('temperature') + Q('n deposition') + Q('organicmattercontent_1') + Q('density_1') + Q('acidity_1') + Q('mainsoilclassification_1_Kalkloze zandgronden') + Q('mainsoilclassification_1_Moerige gronden') + Q('mainsoilclassification_1_Podzolgronden') + Q('mainsoilclassification_1_Rivierkleigronden') + Q('mainsoilclassification_1_Veengronden') + Q('mainsoilclassification_1_Zeekleigronden') + C(Q('soil region')) - 1\n                                                                                                                                                                                                                                                                                                                                                                                                                                                                                                      ^^^^^^^^^^^^^^^^^^^",
     "output_type": "error",
     "traceback": [
      "\u001b[0;31m---------------------------------------------------------------------------\u001b[0m",
      "\u001b[0;31mKeyError\u001b[0m                                  Traceback (most recent call last)",
      "File \u001b[0;32m~/Documents/University/Year 3/2b/Thesis/Bachelor-Thesis/spatial_env/lib/python3.9/site-packages/patsy/builtins.py:96\u001b[0m, in \u001b[0;36mQ\u001b[0;34m(name)\u001b[0m\n\u001b[1;32m     95\u001b[0m \u001b[38;5;28;01mtry\u001b[39;00m:\n\u001b[0;32m---> 96\u001b[0m     \u001b[38;5;28;01mreturn\u001b[39;00m \u001b[43menv\u001b[49m\u001b[38;5;241;43m.\u001b[39;49m\u001b[43mnamespace\u001b[49m\u001b[43m[\u001b[49m\u001b[43mname\u001b[49m\u001b[43m]\u001b[49m\n\u001b[1;32m     97\u001b[0m \u001b[38;5;28;01mexcept\u001b[39;00m \u001b[38;5;167;01mKeyError\u001b[39;00m:\n",
      "File \u001b[0;32m~/Documents/University/Year 3/2b/Thesis/Bachelor-Thesis/spatial_env/lib/python3.9/site-packages/patsy/eval.py:56\u001b[0m, in \u001b[0;36mVarLookupDict.__getitem__\u001b[0;34m(self, key)\u001b[0m\n\u001b[1;32m     55\u001b[0m         \u001b[38;5;28;01mpass\u001b[39;00m\n\u001b[0;32m---> 56\u001b[0m \u001b[38;5;28;01mraise\u001b[39;00m \u001b[38;5;167;01mKeyError\u001b[39;00m(key)\n",
      "\u001b[0;31mKeyError\u001b[0m: 'soil region'",
      "\nDuring handling of the above exception, another exception occurred:\n",
      "\u001b[0;31mNameError\u001b[0m                                 Traceback (most recent call last)",
      "File \u001b[0;32m~/Documents/University/Year 3/2b/Thesis/Bachelor-Thesis/spatial_env/lib/python3.9/site-packages/patsy/compat.py:40\u001b[0m, in \u001b[0;36mcall_and_wrap_exc\u001b[0;34m(msg, origin, f, *args, **kwargs)\u001b[0m\n\u001b[1;32m     39\u001b[0m \u001b[38;5;28;01mtry\u001b[39;00m:\n\u001b[0;32m---> 40\u001b[0m     \u001b[38;5;28;01mreturn\u001b[39;00m \u001b[43mf\u001b[49m\u001b[43m(\u001b[49m\u001b[38;5;241;43m*\u001b[39;49m\u001b[43margs\u001b[49m\u001b[43m,\u001b[49m\u001b[43m \u001b[49m\u001b[38;5;241;43m*\u001b[39;49m\u001b[38;5;241;43m*\u001b[39;49m\u001b[43mkwargs\u001b[49m\u001b[43m)\u001b[49m\n\u001b[1;32m     41\u001b[0m \u001b[38;5;28;01mexcept\u001b[39;00m \u001b[38;5;167;01mException\u001b[39;00m \u001b[38;5;28;01mas\u001b[39;00m e:\n",
      "File \u001b[0;32m~/Documents/University/Year 3/2b/Thesis/Bachelor-Thesis/spatial_env/lib/python3.9/site-packages/patsy/eval.py:179\u001b[0m, in \u001b[0;36mEvalEnvironment.eval\u001b[0;34m(self, expr, source_name, inner_namespace)\u001b[0m\n\u001b[1;32m    178\u001b[0m code \u001b[38;5;241m=\u001b[39m \u001b[38;5;28mcompile\u001b[39m(expr, source_name, \u001b[38;5;124m\"\u001b[39m\u001b[38;5;124meval\u001b[39m\u001b[38;5;124m\"\u001b[39m, \u001b[38;5;28mself\u001b[39m\u001b[38;5;241m.\u001b[39mflags, \u001b[38;5;28;01mFalse\u001b[39;00m)\n\u001b[0;32m--> 179\u001b[0m \u001b[38;5;28;01mreturn\u001b[39;00m \u001b[38;5;28;43meval\u001b[39;49m\u001b[43m(\u001b[49m\u001b[43mcode\u001b[49m\u001b[43m,\u001b[49m\u001b[43m \u001b[49m\u001b[43m{\u001b[49m\u001b[43m}\u001b[49m\u001b[43m,\u001b[49m\u001b[43m \u001b[49m\u001b[43mVarLookupDict\u001b[49m\u001b[43m(\u001b[49m\u001b[43m[\u001b[49m\u001b[43minner_namespace\u001b[49m\u001b[43m]\u001b[49m\u001b[43m \u001b[49m\u001b[38;5;241;43m+\u001b[39;49m\u001b[43m \u001b[49m\u001b[38;5;28;43mself\u001b[39;49m\u001b[38;5;241;43m.\u001b[39;49m\u001b[43m_namespaces\u001b[49m\u001b[43m)\u001b[49m\u001b[43m)\u001b[49m\n",
      "File \u001b[0;32m<string>:1\u001b[0m\n",
      "File \u001b[0;32m~/Documents/University/Year 3/2b/Thesis/Bachelor-Thesis/spatial_env/lib/python3.9/site-packages/patsy/builtins.py:98\u001b[0m, in \u001b[0;36mQ\u001b[0;34m(name)\u001b[0m\n\u001b[1;32m     97\u001b[0m \u001b[38;5;28;01mexcept\u001b[39;00m \u001b[38;5;167;01mKeyError\u001b[39;00m:\n\u001b[0;32m---> 98\u001b[0m     \u001b[38;5;28;01mraise\u001b[39;00m \u001b[38;5;167;01mNameError\u001b[39;00m(\u001b[38;5;124m\"\u001b[39m\u001b[38;5;124mno data named \u001b[39m\u001b[38;5;132;01m%r\u001b[39;00m\u001b[38;5;124m found\u001b[39m\u001b[38;5;124m\"\u001b[39m \u001b[38;5;241m%\u001b[39m (name,))\n",
      "\u001b[0;31mNameError\u001b[0m: no data named 'soil region' found",
      "\nThe above exception was the direct cause of the following exception:\n",
      "\u001b[0;31mPatsyError\u001b[0m                                Traceback (most recent call last)",
      "Cell \u001b[0;32mIn[47], line 1\u001b[0m\n\u001b[0;32m----> 1\u001b[0m model \u001b[38;5;241m=\u001b[39m \u001b[43msmf\u001b[49m\u001b[38;5;241;43m.\u001b[39;49m\u001b[43mols\u001b[49m\u001b[43m(\u001b[49m\u001b[43mformula\u001b[49m\u001b[43m,\u001b[49m\u001b[43m \u001b[49m\u001b[43mdata\u001b[49m\u001b[38;5;241;43m=\u001b[39;49m\u001b[43mX_train_sm\u001b[49m\u001b[43m)\u001b[49m\u001b[38;5;241m.\u001b[39mfit()\n",
      "File \u001b[0;32m~/Documents/University/Year 3/2b/Thesis/Bachelor-Thesis/spatial_env/lib/python3.9/site-packages/statsmodels/base/model.py:203\u001b[0m, in \u001b[0;36mModel.from_formula\u001b[0;34m(cls, formula, data, subset, drop_cols, *args, **kwargs)\u001b[0m\n\u001b[1;32m    200\u001b[0m \u001b[38;5;28;01mif\u001b[39;00m missing \u001b[38;5;241m==\u001b[39m \u001b[38;5;124m'\u001b[39m\u001b[38;5;124mnone\u001b[39m\u001b[38;5;124m'\u001b[39m:  \u001b[38;5;66;03m# with patsy it's drop or raise. let's raise.\u001b[39;00m\n\u001b[1;32m    201\u001b[0m     missing \u001b[38;5;241m=\u001b[39m \u001b[38;5;124m'\u001b[39m\u001b[38;5;124mraise\u001b[39m\u001b[38;5;124m'\u001b[39m\n\u001b[0;32m--> 203\u001b[0m tmp \u001b[38;5;241m=\u001b[39m \u001b[43mhandle_formula_data\u001b[49m\u001b[43m(\u001b[49m\u001b[43mdata\u001b[49m\u001b[43m,\u001b[49m\u001b[43m \u001b[49m\u001b[38;5;28;43;01mNone\u001b[39;49;00m\u001b[43m,\u001b[49m\u001b[43m \u001b[49m\u001b[43mformula\u001b[49m\u001b[43m,\u001b[49m\u001b[43m \u001b[49m\u001b[43mdepth\u001b[49m\u001b[38;5;241;43m=\u001b[39;49m\u001b[43meval_env\u001b[49m\u001b[43m,\u001b[49m\n\u001b[1;32m    204\u001b[0m \u001b[43m                          \u001b[49m\u001b[43mmissing\u001b[49m\u001b[38;5;241;43m=\u001b[39;49m\u001b[43mmissing\u001b[49m\u001b[43m)\u001b[49m\n\u001b[1;32m    205\u001b[0m ((endog, exog), missing_idx, design_info) \u001b[38;5;241m=\u001b[39m tmp\n\u001b[1;32m    206\u001b[0m max_endog \u001b[38;5;241m=\u001b[39m \u001b[38;5;28mcls\u001b[39m\u001b[38;5;241m.\u001b[39m_formula_max_endog\n",
      "File \u001b[0;32m~/Documents/University/Year 3/2b/Thesis/Bachelor-Thesis/spatial_env/lib/python3.9/site-packages/statsmodels/formula/formulatools.py:63\u001b[0m, in \u001b[0;36mhandle_formula_data\u001b[0;34m(Y, X, formula, depth, missing)\u001b[0m\n\u001b[1;32m     61\u001b[0m \u001b[38;5;28;01melse\u001b[39;00m:\n\u001b[1;32m     62\u001b[0m     \u001b[38;5;28;01mif\u001b[39;00m data_util\u001b[38;5;241m.\u001b[39m_is_using_pandas(Y, \u001b[38;5;28;01mNone\u001b[39;00m):\n\u001b[0;32m---> 63\u001b[0m         result \u001b[38;5;241m=\u001b[39m \u001b[43mdmatrices\u001b[49m\u001b[43m(\u001b[49m\u001b[43mformula\u001b[49m\u001b[43m,\u001b[49m\u001b[43m \u001b[49m\u001b[43mY\u001b[49m\u001b[43m,\u001b[49m\u001b[43m \u001b[49m\u001b[43mdepth\u001b[49m\u001b[43m,\u001b[49m\u001b[43m \u001b[49m\u001b[43mreturn_type\u001b[49m\u001b[38;5;241;43m=\u001b[39;49m\u001b[38;5;124;43m'\u001b[39;49m\u001b[38;5;124;43mdataframe\u001b[39;49m\u001b[38;5;124;43m'\u001b[39;49m\u001b[43m,\u001b[49m\n\u001b[1;32m     64\u001b[0m \u001b[43m                           \u001b[49m\u001b[43mNA_action\u001b[49m\u001b[38;5;241;43m=\u001b[39;49m\u001b[43mna_action\u001b[49m\u001b[43m)\u001b[49m\n\u001b[1;32m     65\u001b[0m     \u001b[38;5;28;01melse\u001b[39;00m:\n\u001b[1;32m     66\u001b[0m         result \u001b[38;5;241m=\u001b[39m dmatrices(formula, Y, depth, return_type\u001b[38;5;241m=\u001b[39m\u001b[38;5;124m'\u001b[39m\u001b[38;5;124mdataframe\u001b[39m\u001b[38;5;124m'\u001b[39m,\n\u001b[1;32m     67\u001b[0m                            NA_action\u001b[38;5;241m=\u001b[39mna_action)\n",
      "File \u001b[0;32m~/Documents/University/Year 3/2b/Thesis/Bachelor-Thesis/spatial_env/lib/python3.9/site-packages/patsy/highlevel.py:319\u001b[0m, in \u001b[0;36mdmatrices\u001b[0;34m(formula_like, data, eval_env, NA_action, return_type)\u001b[0m\n\u001b[1;32m    309\u001b[0m \u001b[38;5;250m\u001b[39m\u001b[38;5;124;03m\"\"\"Construct two design matrices given a formula_like and data.\u001b[39;00m\n\u001b[1;32m    310\u001b[0m \n\u001b[1;32m    311\u001b[0m \u001b[38;5;124;03mThis function is identical to :func:`dmatrix`, except that it requires\u001b[39;00m\n\u001b[0;32m   (...)\u001b[0m\n\u001b[1;32m    316\u001b[0m \u001b[38;5;124;03mSee :func:`dmatrix` for details.\u001b[39;00m\n\u001b[1;32m    317\u001b[0m \u001b[38;5;124;03m\"\"\"\u001b[39;00m\n\u001b[1;32m    318\u001b[0m eval_env \u001b[38;5;241m=\u001b[39m EvalEnvironment\u001b[38;5;241m.\u001b[39mcapture(eval_env, reference\u001b[38;5;241m=\u001b[39m\u001b[38;5;241m1\u001b[39m)\n\u001b[0;32m--> 319\u001b[0m (lhs, rhs) \u001b[38;5;241m=\u001b[39m \u001b[43m_do_highlevel_design\u001b[49m\u001b[43m(\u001b[49m\n\u001b[1;32m    320\u001b[0m \u001b[43m    \u001b[49m\u001b[43mformula_like\u001b[49m\u001b[43m,\u001b[49m\u001b[43m \u001b[49m\u001b[43mdata\u001b[49m\u001b[43m,\u001b[49m\u001b[43m \u001b[49m\u001b[43meval_env\u001b[49m\u001b[43m,\u001b[49m\u001b[43m \u001b[49m\u001b[43mNA_action\u001b[49m\u001b[43m,\u001b[49m\u001b[43m \u001b[49m\u001b[43mreturn_type\u001b[49m\n\u001b[1;32m    321\u001b[0m \u001b[43m\u001b[49m\u001b[43m)\u001b[49m\n\u001b[1;32m    322\u001b[0m \u001b[38;5;28;01mif\u001b[39;00m lhs\u001b[38;5;241m.\u001b[39mshape[\u001b[38;5;241m1\u001b[39m] \u001b[38;5;241m==\u001b[39m \u001b[38;5;241m0\u001b[39m:\n\u001b[1;32m    323\u001b[0m     \u001b[38;5;28;01mraise\u001b[39;00m PatsyError(\u001b[38;5;124m\"\u001b[39m\u001b[38;5;124mmodel is missing required outcome variables\u001b[39m\u001b[38;5;124m\"\u001b[39m)\n",
      "File \u001b[0;32m~/Documents/University/Year 3/2b/Thesis/Bachelor-Thesis/spatial_env/lib/python3.9/site-packages/patsy/highlevel.py:164\u001b[0m, in \u001b[0;36m_do_highlevel_design\u001b[0;34m(formula_like, data, eval_env, NA_action, return_type)\u001b[0m\n\u001b[1;32m    161\u001b[0m \u001b[38;5;28;01mdef\u001b[39;00m\u001b[38;5;250m \u001b[39m\u001b[38;5;21mdata_iter_maker\u001b[39m():\n\u001b[1;32m    162\u001b[0m     \u001b[38;5;28;01mreturn\u001b[39;00m \u001b[38;5;28miter\u001b[39m([data])\n\u001b[0;32m--> 164\u001b[0m design_infos \u001b[38;5;241m=\u001b[39m \u001b[43m_try_incr_builders\u001b[49m\u001b[43m(\u001b[49m\n\u001b[1;32m    165\u001b[0m \u001b[43m    \u001b[49m\u001b[43mformula_like\u001b[49m\u001b[43m,\u001b[49m\u001b[43m \u001b[49m\u001b[43mdata_iter_maker\u001b[49m\u001b[43m,\u001b[49m\u001b[43m \u001b[49m\u001b[43meval_env\u001b[49m\u001b[43m,\u001b[49m\u001b[43m \u001b[49m\u001b[43mNA_action\u001b[49m\n\u001b[1;32m    166\u001b[0m \u001b[43m\u001b[49m\u001b[43m)\u001b[49m\n\u001b[1;32m    167\u001b[0m \u001b[38;5;28;01mif\u001b[39;00m design_infos \u001b[38;5;129;01mis\u001b[39;00m \u001b[38;5;129;01mnot\u001b[39;00m \u001b[38;5;28;01mNone\u001b[39;00m:\n\u001b[1;32m    168\u001b[0m     \u001b[38;5;28;01mreturn\u001b[39;00m build_design_matrices(\n\u001b[1;32m    169\u001b[0m         design_infos, data, NA_action\u001b[38;5;241m=\u001b[39mNA_action, return_type\u001b[38;5;241m=\u001b[39mreturn_type\n\u001b[1;32m    170\u001b[0m     )\n",
      "File \u001b[0;32m~/Documents/University/Year 3/2b/Thesis/Bachelor-Thesis/spatial_env/lib/python3.9/site-packages/patsy/highlevel.py:56\u001b[0m, in \u001b[0;36m_try_incr_builders\u001b[0;34m(formula_like, data_iter_maker, eval_env, NA_action)\u001b[0m\n\u001b[1;32m     54\u001b[0m \u001b[38;5;28;01mif\u001b[39;00m \u001b[38;5;28misinstance\u001b[39m(formula_like, ModelDesc):\n\u001b[1;32m     55\u001b[0m     \u001b[38;5;28;01massert\u001b[39;00m \u001b[38;5;28misinstance\u001b[39m(eval_env, EvalEnvironment)\n\u001b[0;32m---> 56\u001b[0m     \u001b[38;5;28;01mreturn\u001b[39;00m \u001b[43mdesign_matrix_builders\u001b[49m\u001b[43m(\u001b[49m\n\u001b[1;32m     57\u001b[0m \u001b[43m        \u001b[49m\u001b[43m[\u001b[49m\u001b[43mformula_like\u001b[49m\u001b[38;5;241;43m.\u001b[39;49m\u001b[43mlhs_termlist\u001b[49m\u001b[43m,\u001b[49m\u001b[43m \u001b[49m\u001b[43mformula_like\u001b[49m\u001b[38;5;241;43m.\u001b[39;49m\u001b[43mrhs_termlist\u001b[49m\u001b[43m]\u001b[49m\u001b[43m,\u001b[49m\n\u001b[1;32m     58\u001b[0m \u001b[43m        \u001b[49m\u001b[43mdata_iter_maker\u001b[49m\u001b[43m,\u001b[49m\n\u001b[1;32m     59\u001b[0m \u001b[43m        \u001b[49m\u001b[43meval_env\u001b[49m\u001b[43m,\u001b[49m\n\u001b[1;32m     60\u001b[0m \u001b[43m        \u001b[49m\u001b[43mNA_action\u001b[49m\u001b[43m,\u001b[49m\n\u001b[1;32m     61\u001b[0m \u001b[43m    \u001b[49m\u001b[43m)\u001b[49m\n\u001b[1;32m     62\u001b[0m \u001b[38;5;28;01melse\u001b[39;00m:\n\u001b[1;32m     63\u001b[0m     \u001b[38;5;28;01mreturn\u001b[39;00m \u001b[38;5;28;01mNone\u001b[39;00m\n",
      "File \u001b[0;32m~/Documents/University/Year 3/2b/Thesis/Bachelor-Thesis/spatial_env/lib/python3.9/site-packages/patsy/build.py:746\u001b[0m, in \u001b[0;36mdesign_matrix_builders\u001b[0;34m(termlists, data_iter_maker, eval_env, NA_action)\u001b[0m\n\u001b[1;32m    743\u001b[0m factor_states \u001b[38;5;241m=\u001b[39m _factors_memorize(all_factors, data_iter_maker, eval_env)\n\u001b[1;32m    744\u001b[0m \u001b[38;5;66;03m# Now all the factors have working eval methods, so we can evaluate them\u001b[39;00m\n\u001b[1;32m    745\u001b[0m \u001b[38;5;66;03m# on some data to find out what type of data they return.\u001b[39;00m\n\u001b[0;32m--> 746\u001b[0m (num_column_counts, cat_levels_contrasts) \u001b[38;5;241m=\u001b[39m \u001b[43m_examine_factor_types\u001b[49m\u001b[43m(\u001b[49m\n\u001b[1;32m    747\u001b[0m \u001b[43m    \u001b[49m\u001b[43mall_factors\u001b[49m\u001b[43m,\u001b[49m\u001b[43m \u001b[49m\u001b[43mfactor_states\u001b[49m\u001b[43m,\u001b[49m\u001b[43m \u001b[49m\u001b[43mdata_iter_maker\u001b[49m\u001b[43m,\u001b[49m\u001b[43m \u001b[49m\u001b[43mNA_action\u001b[49m\n\u001b[1;32m    748\u001b[0m \u001b[43m\u001b[49m\u001b[43m)\u001b[49m\n\u001b[1;32m    749\u001b[0m \u001b[38;5;66;03m# Now we need the factor infos, which encapsulate the knowledge of\u001b[39;00m\n\u001b[1;32m    750\u001b[0m \u001b[38;5;66;03m# how to turn any given factor into a chunk of data:\u001b[39;00m\n\u001b[1;32m    751\u001b[0m factor_infos \u001b[38;5;241m=\u001b[39m {}\n",
      "File \u001b[0;32m~/Documents/University/Year 3/2b/Thesis/Bachelor-Thesis/spatial_env/lib/python3.9/site-packages/patsy/build.py:491\u001b[0m, in \u001b[0;36m_examine_factor_types\u001b[0;34m(factors, factor_states, data_iter_maker, NA_action)\u001b[0m\n\u001b[1;32m    489\u001b[0m \u001b[38;5;28;01mfor\u001b[39;00m data \u001b[38;5;129;01min\u001b[39;00m data_iter_maker():\n\u001b[1;32m    490\u001b[0m     \u001b[38;5;28;01mfor\u001b[39;00m factor \u001b[38;5;129;01min\u001b[39;00m \u001b[38;5;28mlist\u001b[39m(examine_needed):\n\u001b[0;32m--> 491\u001b[0m         value \u001b[38;5;241m=\u001b[39m \u001b[43mfactor\u001b[49m\u001b[38;5;241;43m.\u001b[39;49m\u001b[43meval\u001b[49m\u001b[43m(\u001b[49m\u001b[43mfactor_states\u001b[49m\u001b[43m[\u001b[49m\u001b[43mfactor\u001b[49m\u001b[43m]\u001b[49m\u001b[43m,\u001b[49m\u001b[43m \u001b[49m\u001b[43mdata\u001b[49m\u001b[43m)\u001b[49m\n\u001b[1;32m    492\u001b[0m         \u001b[38;5;28;01mif\u001b[39;00m factor \u001b[38;5;129;01min\u001b[39;00m cat_sniffers \u001b[38;5;129;01mor\u001b[39;00m guess_categorical(value):\n\u001b[1;32m    493\u001b[0m             \u001b[38;5;28;01mif\u001b[39;00m factor \u001b[38;5;129;01mnot\u001b[39;00m \u001b[38;5;129;01min\u001b[39;00m cat_sniffers:\n",
      "File \u001b[0;32m~/Documents/University/Year 3/2b/Thesis/Bachelor-Thesis/spatial_env/lib/python3.9/site-packages/patsy/eval.py:599\u001b[0m, in \u001b[0;36mEvalFactor.eval\u001b[0;34m(self, memorize_state, data)\u001b[0m\n\u001b[1;32m    598\u001b[0m \u001b[38;5;28;01mdef\u001b[39;00m\u001b[38;5;250m \u001b[39m\u001b[38;5;21meval\u001b[39m(\u001b[38;5;28mself\u001b[39m, memorize_state, data):\n\u001b[0;32m--> 599\u001b[0m     \u001b[38;5;28;01mreturn\u001b[39;00m \u001b[38;5;28;43mself\u001b[39;49m\u001b[38;5;241;43m.\u001b[39;49m\u001b[43m_eval\u001b[49m\u001b[43m(\u001b[49m\u001b[43mmemorize_state\u001b[49m\u001b[43m[\u001b[49m\u001b[38;5;124;43m\"\u001b[39;49m\u001b[38;5;124;43meval_code\u001b[39;49m\u001b[38;5;124;43m\"\u001b[39;49m\u001b[43m]\u001b[49m\u001b[43m,\u001b[49m\u001b[43m \u001b[49m\u001b[43mmemorize_state\u001b[49m\u001b[43m,\u001b[49m\u001b[43m \u001b[49m\u001b[43mdata\u001b[49m\u001b[43m)\u001b[49m\n",
      "File \u001b[0;32m~/Documents/University/Year 3/2b/Thesis/Bachelor-Thesis/spatial_env/lib/python3.9/site-packages/patsy/eval.py:582\u001b[0m, in \u001b[0;36mEvalFactor._eval\u001b[0;34m(self, code, memorize_state, data)\u001b[0m\n\u001b[1;32m    580\u001b[0m \u001b[38;5;28;01mdef\u001b[39;00m\u001b[38;5;250m \u001b[39m\u001b[38;5;21m_eval\u001b[39m(\u001b[38;5;28mself\u001b[39m, code, memorize_state, data):\n\u001b[1;32m    581\u001b[0m     inner_namespace \u001b[38;5;241m=\u001b[39m VarLookupDict([data, memorize_state[\u001b[38;5;124m\"\u001b[39m\u001b[38;5;124mtransforms\u001b[39m\u001b[38;5;124m\"\u001b[39m]])\n\u001b[0;32m--> 582\u001b[0m     \u001b[38;5;28;01mreturn\u001b[39;00m \u001b[43mcall_and_wrap_exc\u001b[49m\u001b[43m(\u001b[49m\n\u001b[1;32m    583\u001b[0m \u001b[43m        \u001b[49m\u001b[38;5;124;43m\"\u001b[39;49m\u001b[38;5;124;43mError evaluating factor\u001b[39;49m\u001b[38;5;124;43m\"\u001b[39;49m\u001b[43m,\u001b[49m\n\u001b[1;32m    584\u001b[0m \u001b[43m        \u001b[49m\u001b[38;5;28;43mself\u001b[39;49m\u001b[43m,\u001b[49m\n\u001b[1;32m    585\u001b[0m \u001b[43m        \u001b[49m\u001b[43mmemorize_state\u001b[49m\u001b[43m[\u001b[49m\u001b[38;5;124;43m\"\u001b[39;49m\u001b[38;5;124;43meval_env\u001b[39;49m\u001b[38;5;124;43m\"\u001b[39;49m\u001b[43m]\u001b[49m\u001b[38;5;241;43m.\u001b[39;49m\u001b[43meval\u001b[49m\u001b[43m,\u001b[49m\n\u001b[1;32m    586\u001b[0m \u001b[43m        \u001b[49m\u001b[43mcode\u001b[49m\u001b[43m,\u001b[49m\n\u001b[1;32m    587\u001b[0m \u001b[43m        \u001b[49m\u001b[43minner_namespace\u001b[49m\u001b[38;5;241;43m=\u001b[39;49m\u001b[43minner_namespace\u001b[49m\u001b[43m,\u001b[49m\n\u001b[1;32m    588\u001b[0m \u001b[43m    \u001b[49m\u001b[43m)\u001b[49m\n",
      "File \u001b[0;32m~/Documents/University/Year 3/2b/Thesis/Bachelor-Thesis/spatial_env/lib/python3.9/site-packages/patsy/compat.py:43\u001b[0m, in \u001b[0;36mcall_and_wrap_exc\u001b[0;34m(msg, origin, f, *args, **kwargs)\u001b[0m\n\u001b[1;32m     41\u001b[0m \u001b[38;5;28;01mexcept\u001b[39;00m \u001b[38;5;167;01mException\u001b[39;00m \u001b[38;5;28;01mas\u001b[39;00m e:\n\u001b[1;32m     42\u001b[0m     new_exc \u001b[38;5;241m=\u001b[39m PatsyError(\u001b[38;5;124m\"\u001b[39m\u001b[38;5;132;01m%s\u001b[39;00m\u001b[38;5;124m: \u001b[39m\u001b[38;5;132;01m%s\u001b[39;00m\u001b[38;5;124m: \u001b[39m\u001b[38;5;132;01m%s\u001b[39;00m\u001b[38;5;124m\"\u001b[39m \u001b[38;5;241m%\u001b[39m (msg, e\u001b[38;5;241m.\u001b[39m\u001b[38;5;18m__class__\u001b[39m\u001b[38;5;241m.\u001b[39m\u001b[38;5;18m__name__\u001b[39m, e), origin)\n\u001b[0;32m---> 43\u001b[0m     \u001b[38;5;28;01mraise\u001b[39;00m new_exc \u001b[38;5;28;01mfrom\u001b[39;00m\u001b[38;5;250m \u001b[39m\u001b[38;5;21;01me\u001b[39;00m\n",
      "\u001b[0;31mPatsyError\u001b[0m: Error evaluating factor: NameError: no data named 'soil region' found\n    nitrate ~ Q('population') + Q('groundwater depth') + Q('elevation') + Q('precipitation') + Q('temperature') + Q('n deposition') + Q('organicmattercontent_1') + Q('density_1') + Q('acidity_1') + Q('mainsoilclassification_1_Kalkloze zandgronden') + Q('mainsoilclassification_1_Moerige gronden') + Q('mainsoilclassification_1_Podzolgronden') + Q('mainsoilclassification_1_Rivierkleigronden') + Q('mainsoilclassification_1_Veengronden') + Q('mainsoilclassification_1_Zeekleigronden') + C(Q('soil region')) - 1\n                                                                                                                                                                                                                                                                                                                                                                                                                                                                                                      ^^^^^^^^^^^^^^^^^^^"
     ]
    }
   ],
   "source": [
    "model_2 = smf.ols(formula, data=X_train_sm).fit()"
   ]
  },
  {
   "cell_type": "code",
   "execution_count": null,
   "metadata": {},
   "outputs": [],
   "source": [
    "print(model.summary())"
   ]
  }
 ],
 "metadata": {
  "kernelspec": {
   "display_name": "spatial_env",
   "language": "python",
   "name": "python3"
  },
  "language_info": {
   "codemirror_mode": {
    "name": "ipython",
    "version": 3
   },
   "file_extension": ".py",
   "mimetype": "text/x-python",
   "name": "python",
   "nbconvert_exporter": "python",
   "pygments_lexer": "ipython3",
   "version": "3.9.6"
  }
 },
 "nbformat": 4,
 "nbformat_minor": 2
}
